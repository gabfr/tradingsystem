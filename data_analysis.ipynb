{
 "cells": [
  {
   "cell_type": "markdown",
   "source": [
    "# Analise Exploratória de Dados"
   ],
   "metadata": {
    "collapsed": false
   }
  },
  {
   "cell_type": "code",
   "execution_count": 23,
   "outputs": [
    {
     "data": {
      "text/plain": "{'10M': ['./data\\\\WIN$N_10M_2013.11.08_2021.01.22_.csv'],\n '15M': ['./data\\\\WIN$N_15M_2012.04.20_2021.01.22_.csv'],\n '1M': ['./data\\\\WIN$N_1M_2015.08.12_2015.12.30_.csv',\n  './data\\\\WIN$N_1M_2016.08.02_2016.11.18_.csv',\n  './data\\\\WIN$N_1M_2019.11.21_2021.01.20_.csv'],\n '30M': ['./data\\\\WIN$N_30M_2015.08.12_2021.01.22_.csv'],\n '3M': ['./data\\\\WIN$N_3M_2018.05.25_2021.01.22_.csv'],\n '5M': ['./data\\\\WIN$N_5M_2015.05.22_2021.01.22_.csv']}"
     },
     "execution_count": 23,
     "metadata": {},
     "output_type": "execute_result"
    }
   ],
   "source": [
    "import os\n",
    "import sys\n",
    "import pandas\n",
    "\n",
    "from src import data_analysis as da\n",
    "\n",
    "# get data files:\n",
    "files = da.list_data_files()\n",
    "print(files)"
   ],
   "metadata": {
    "collapsed": false,
    "pycharm": {
     "name": "#%%\n"
    }
   }
  },
  {
   "cell_type": "markdown",
   "source": [
    "## Leitura de dados\n",
    "\n",
    "- functions:\n",
    "    - list_data_files:\n",
    "        Listar arquivos disponíveis e agrupar de acordo com a granularidade do dado.\n",
    "        \n",
    "    - filter_overlapping_files:\n",
    "        Filtrar combinaçoes de arquivos com sobreposição de datas.\n",
    "        associated functions:\n",
    "            - filter_overlapping_dates:\n",
    "                Filtrar dados que possuem datas sobrepostas.       \n",
    "\n",
    "    - filter_date_df:\n",
    "        Filtrar dataframe para uma dada lista de datas.\n",
    "        associated functions:\n",
    "            - format_hour:\n",
    "                Ajuste do formato da hora.\n",
    "\n",
    "    - filter_overlapping_files_df\n",
    "        Filtrar sobreposição entre dois arquivos.\n",
    "        associated functions:\n",
    "            - filter_overlapping_dates\n",
    "            - filter_date_df\n",
    "\n",
    "    - filter_time_match\n",
    "        Criar correspondencia de indices para os arquivos indicados.\n",
    "        associated functions:\n",
    "            - filter_overlapping_files_dfs\n",
    "\n",
    "    - compare_candles_frequencies\n",
    "        Comparar arquivos sobrepostos de frequencias diferentes.\n",
    "        associated functions:\n",
    "            - filter_overlapping_files_dfs\n",
    "            - filter_time_match\n",
    "\n",
    "    - format_df_candles\n",
    "        Formatar dataframe com informações complementares."
   ],
   "metadata": {
    "collapsed": false
   }
  },
  {
   "cell_type": "markdown",
   "source": [
    "## Hipótese da ordem de execução no *Candle*\n",
    "\n",
    "Comparar com:\n",
    "- Series de 1M com serie de 3M\n",
    "- Series de 1M com serie de 5M\n",
    "- Series de 1M com serie de 10M\n",
    "- Series de 1M com serie de 15M\n",
    "- Series de 1M com serie de 30M\n",
    "\n",
    "Filter overlapping series:\n",
    "- function:"
   ],
   "metadata": {
    "collapsed": false,
    "pycharm": {
     "name": "#%% md\n"
    }
   }
  },
  {
   "cell_type": "code",
   "execution_count": 9,
   "outputs": [],
   "source": [
    "# import plotly.graph_objects as go\n",
    "# fig = go.Figure(data=go.Bar(y=[2, 3, 1]))\n",
    "# # fig.write_html('first_figure.html', auto_open=True)\n",
    "# fig.show()\n",
    "#\n",
    "# fig = go.FigureWidget(data=go.Bar(y=[2, 3, 1]))\n",
    "# fig"
   ],
   "metadata": {
    "collapsed": false,
    "pycharm": {
     "name": "#%%\n"
    }
   }
  },
  {
   "cell_type": "code",
   "execution_count": 10,
   "outputs": [
    {
     "data": {
      "application/vnd.plotly.v1+json": {
       "config": {
        "plotlyServerURL": "https://plot.ly"
       },
       "data": [
        {
         "hovertemplate": "year=%{x}<br>lifeExp=%{y}<extra></extra>",
         "legendgroup": "",
         "line": {
          "color": "#636efa",
          "dash": "solid"
         },
         "mode": "lines",
         "name": "",
         "orientation": "v",
         "showlegend": false,
         "type": "scatter",
         "x": [
          1952,
          1957,
          1962,
          1967,
          1972,
          1977,
          1982,
          1987,
          1992,
          1997,
          2002,
          2007
         ],
         "xaxis": "x",
         "y": [
          68.75,
          69.96,
          71.3,
          72.13,
          72.88,
          74.21,
          75.76,
          76.86,
          77.95,
          78.61,
          79.77,
          80.653
         ],
         "yaxis": "y"
        }
       ],
       "layout": {
        "legend": {
         "tracegroupgap": 0
        },
        "template": {
         "data": {
          "bar": [
           {
            "error_x": {
             "color": "#2a3f5f"
            },
            "error_y": {
             "color": "#2a3f5f"
            },
            "marker": {
             "line": {
              "color": "#E5ECF6",
              "width": 0.5
             }
            },
            "type": "bar"
           }
          ],
          "barpolar": [
           {
            "marker": {
             "line": {
              "color": "#E5ECF6",
              "width": 0.5
             }
            },
            "type": "barpolar"
           }
          ],
          "carpet": [
           {
            "aaxis": {
             "endlinecolor": "#2a3f5f",
             "gridcolor": "white",
             "linecolor": "white",
             "minorgridcolor": "white",
             "startlinecolor": "#2a3f5f"
            },
            "baxis": {
             "endlinecolor": "#2a3f5f",
             "gridcolor": "white",
             "linecolor": "white",
             "minorgridcolor": "white",
             "startlinecolor": "#2a3f5f"
            },
            "type": "carpet"
           }
          ],
          "choropleth": [
           {
            "colorbar": {
             "outlinewidth": 0,
             "ticks": ""
            },
            "type": "choropleth"
           }
          ],
          "contour": [
           {
            "colorbar": {
             "outlinewidth": 0,
             "ticks": ""
            },
            "colorscale": [
             [
              0.0,
              "#0d0887"
             ],
             [
              0.1111111111111111,
              "#46039f"
             ],
             [
              0.2222222222222222,
              "#7201a8"
             ],
             [
              0.3333333333333333,
              "#9c179e"
             ],
             [
              0.4444444444444444,
              "#bd3786"
             ],
             [
              0.5555555555555556,
              "#d8576b"
             ],
             [
              0.6666666666666666,
              "#ed7953"
             ],
             [
              0.7777777777777778,
              "#fb9f3a"
             ],
             [
              0.8888888888888888,
              "#fdca26"
             ],
             [
              1.0,
              "#f0f921"
             ]
            ],
            "type": "contour"
           }
          ],
          "contourcarpet": [
           {
            "colorbar": {
             "outlinewidth": 0,
             "ticks": ""
            },
            "type": "contourcarpet"
           }
          ],
          "heatmap": [
           {
            "colorbar": {
             "outlinewidth": 0,
             "ticks": ""
            },
            "colorscale": [
             [
              0.0,
              "#0d0887"
             ],
             [
              0.1111111111111111,
              "#46039f"
             ],
             [
              0.2222222222222222,
              "#7201a8"
             ],
             [
              0.3333333333333333,
              "#9c179e"
             ],
             [
              0.4444444444444444,
              "#bd3786"
             ],
             [
              0.5555555555555556,
              "#d8576b"
             ],
             [
              0.6666666666666666,
              "#ed7953"
             ],
             [
              0.7777777777777778,
              "#fb9f3a"
             ],
             [
              0.8888888888888888,
              "#fdca26"
             ],
             [
              1.0,
              "#f0f921"
             ]
            ],
            "type": "heatmap"
           }
          ],
          "heatmapgl": [
           {
            "colorbar": {
             "outlinewidth": 0,
             "ticks": ""
            },
            "colorscale": [
             [
              0.0,
              "#0d0887"
             ],
             [
              0.1111111111111111,
              "#46039f"
             ],
             [
              0.2222222222222222,
              "#7201a8"
             ],
             [
              0.3333333333333333,
              "#9c179e"
             ],
             [
              0.4444444444444444,
              "#bd3786"
             ],
             [
              0.5555555555555556,
              "#d8576b"
             ],
             [
              0.6666666666666666,
              "#ed7953"
             ],
             [
              0.7777777777777778,
              "#fb9f3a"
             ],
             [
              0.8888888888888888,
              "#fdca26"
             ],
             [
              1.0,
              "#f0f921"
             ]
            ],
            "type": "heatmapgl"
           }
          ],
          "histogram": [
           {
            "marker": {
             "colorbar": {
              "outlinewidth": 0,
              "ticks": ""
             }
            },
            "type": "histogram"
           }
          ],
          "histogram2d": [
           {
            "colorbar": {
             "outlinewidth": 0,
             "ticks": ""
            },
            "colorscale": [
             [
              0.0,
              "#0d0887"
             ],
             [
              0.1111111111111111,
              "#46039f"
             ],
             [
              0.2222222222222222,
              "#7201a8"
             ],
             [
              0.3333333333333333,
              "#9c179e"
             ],
             [
              0.4444444444444444,
              "#bd3786"
             ],
             [
              0.5555555555555556,
              "#d8576b"
             ],
             [
              0.6666666666666666,
              "#ed7953"
             ],
             [
              0.7777777777777778,
              "#fb9f3a"
             ],
             [
              0.8888888888888888,
              "#fdca26"
             ],
             [
              1.0,
              "#f0f921"
             ]
            ],
            "type": "histogram2d"
           }
          ],
          "histogram2dcontour": [
           {
            "colorbar": {
             "outlinewidth": 0,
             "ticks": ""
            },
            "colorscale": [
             [
              0.0,
              "#0d0887"
             ],
             [
              0.1111111111111111,
              "#46039f"
             ],
             [
              0.2222222222222222,
              "#7201a8"
             ],
             [
              0.3333333333333333,
              "#9c179e"
             ],
             [
              0.4444444444444444,
              "#bd3786"
             ],
             [
              0.5555555555555556,
              "#d8576b"
             ],
             [
              0.6666666666666666,
              "#ed7953"
             ],
             [
              0.7777777777777778,
              "#fb9f3a"
             ],
             [
              0.8888888888888888,
              "#fdca26"
             ],
             [
              1.0,
              "#f0f921"
             ]
            ],
            "type": "histogram2dcontour"
           }
          ],
          "mesh3d": [
           {
            "colorbar": {
             "outlinewidth": 0,
             "ticks": ""
            },
            "type": "mesh3d"
           }
          ],
          "parcoords": [
           {
            "line": {
             "colorbar": {
              "outlinewidth": 0,
              "ticks": ""
             }
            },
            "type": "parcoords"
           }
          ],
          "pie": [
           {
            "automargin": true,
            "type": "pie"
           }
          ],
          "scatter": [
           {
            "marker": {
             "colorbar": {
              "outlinewidth": 0,
              "ticks": ""
             }
            },
            "type": "scatter"
           }
          ],
          "scatter3d": [
           {
            "line": {
             "colorbar": {
              "outlinewidth": 0,
              "ticks": ""
             }
            },
            "marker": {
             "colorbar": {
              "outlinewidth": 0,
              "ticks": ""
             }
            },
            "type": "scatter3d"
           }
          ],
          "scattercarpet": [
           {
            "marker": {
             "colorbar": {
              "outlinewidth": 0,
              "ticks": ""
             }
            },
            "type": "scattercarpet"
           }
          ],
          "scattergeo": [
           {
            "marker": {
             "colorbar": {
              "outlinewidth": 0,
              "ticks": ""
             }
            },
            "type": "scattergeo"
           }
          ],
          "scattergl": [
           {
            "marker": {
             "colorbar": {
              "outlinewidth": 0,
              "ticks": ""
             }
            },
            "type": "scattergl"
           }
          ],
          "scattermapbox": [
           {
            "marker": {
             "colorbar": {
              "outlinewidth": 0,
              "ticks": ""
             }
            },
            "type": "scattermapbox"
           }
          ],
          "scatterpolar": [
           {
            "marker": {
             "colorbar": {
              "outlinewidth": 0,
              "ticks": ""
             }
            },
            "type": "scatterpolar"
           }
          ],
          "scatterpolargl": [
           {
            "marker": {
             "colorbar": {
              "outlinewidth": 0,
              "ticks": ""
             }
            },
            "type": "scatterpolargl"
           }
          ],
          "scatterternary": [
           {
            "marker": {
             "colorbar": {
              "outlinewidth": 0,
              "ticks": ""
             }
            },
            "type": "scatterternary"
           }
          ],
          "surface": [
           {
            "colorbar": {
             "outlinewidth": 0,
             "ticks": ""
            },
            "colorscale": [
             [
              0.0,
              "#0d0887"
             ],
             [
              0.1111111111111111,
              "#46039f"
             ],
             [
              0.2222222222222222,
              "#7201a8"
             ],
             [
              0.3333333333333333,
              "#9c179e"
             ],
             [
              0.4444444444444444,
              "#bd3786"
             ],
             [
              0.5555555555555556,
              "#d8576b"
             ],
             [
              0.6666666666666666,
              "#ed7953"
             ],
             [
              0.7777777777777778,
              "#fb9f3a"
             ],
             [
              0.8888888888888888,
              "#fdca26"
             ],
             [
              1.0,
              "#f0f921"
             ]
            ],
            "type": "surface"
           }
          ],
          "table": [
           {
            "cells": {
             "fill": {
              "color": "#EBF0F8"
             },
             "line": {
              "color": "white"
             }
            },
            "header": {
             "fill": {
              "color": "#C8D4E3"
             },
             "line": {
              "color": "white"
             }
            },
            "type": "table"
           }
          ]
         },
         "layout": {
          "annotationdefaults": {
           "arrowcolor": "#2a3f5f",
           "arrowhead": 0,
           "arrowwidth": 1
          },
          "autotypenumbers": "strict",
          "coloraxis": {
           "colorbar": {
            "outlinewidth": 0,
            "ticks": ""
           }
          },
          "colorscale": {
           "diverging": [
            [
             0,
             "#8e0152"
            ],
            [
             0.1,
             "#c51b7d"
            ],
            [
             0.2,
             "#de77ae"
            ],
            [
             0.3,
             "#f1b6da"
            ],
            [
             0.4,
             "#fde0ef"
            ],
            [
             0.5,
             "#f7f7f7"
            ],
            [
             0.6,
             "#e6f5d0"
            ],
            [
             0.7,
             "#b8e186"
            ],
            [
             0.8,
             "#7fbc41"
            ],
            [
             0.9,
             "#4d9221"
            ],
            [
             1,
             "#276419"
            ]
           ],
           "sequential": [
            [
             0.0,
             "#0d0887"
            ],
            [
             0.1111111111111111,
             "#46039f"
            ],
            [
             0.2222222222222222,
             "#7201a8"
            ],
            [
             0.3333333333333333,
             "#9c179e"
            ],
            [
             0.4444444444444444,
             "#bd3786"
            ],
            [
             0.5555555555555556,
             "#d8576b"
            ],
            [
             0.6666666666666666,
             "#ed7953"
            ],
            [
             0.7777777777777778,
             "#fb9f3a"
            ],
            [
             0.8888888888888888,
             "#fdca26"
            ],
            [
             1.0,
             "#f0f921"
            ]
           ],
           "sequentialminus": [
            [
             0.0,
             "#0d0887"
            ],
            [
             0.1111111111111111,
             "#46039f"
            ],
            [
             0.2222222222222222,
             "#7201a8"
            ],
            [
             0.3333333333333333,
             "#9c179e"
            ],
            [
             0.4444444444444444,
             "#bd3786"
            ],
            [
             0.5555555555555556,
             "#d8576b"
            ],
            [
             0.6666666666666666,
             "#ed7953"
            ],
            [
             0.7777777777777778,
             "#fb9f3a"
            ],
            [
             0.8888888888888888,
             "#fdca26"
            ],
            [
             1.0,
             "#f0f921"
            ]
           ]
          },
          "colorway": [
           "#636efa",
           "#EF553B",
           "#00cc96",
           "#ab63fa",
           "#FFA15A",
           "#19d3f3",
           "#FF6692",
           "#B6E880",
           "#FF97FF",
           "#FECB52"
          ],
          "font": {
           "color": "#2a3f5f"
          },
          "geo": {
           "bgcolor": "white",
           "lakecolor": "white",
           "landcolor": "#E5ECF6",
           "showlakes": true,
           "showland": true,
           "subunitcolor": "white"
          },
          "hoverlabel": {
           "align": "left"
          },
          "hovermode": "closest",
          "mapbox": {
           "style": "light"
          },
          "paper_bgcolor": "white",
          "plot_bgcolor": "#E5ECF6",
          "polar": {
           "angularaxis": {
            "gridcolor": "white",
            "linecolor": "white",
            "ticks": ""
           },
           "bgcolor": "#E5ECF6",
           "radialaxis": {
            "gridcolor": "white",
            "linecolor": "white",
            "ticks": ""
           }
          },
          "scene": {
           "xaxis": {
            "backgroundcolor": "#E5ECF6",
            "gridcolor": "white",
            "gridwidth": 2,
            "linecolor": "white",
            "showbackground": true,
            "ticks": "",
            "zerolinecolor": "white"
           },
           "yaxis": {
            "backgroundcolor": "#E5ECF6",
            "gridcolor": "white",
            "gridwidth": 2,
            "linecolor": "white",
            "showbackground": true,
            "ticks": "",
            "zerolinecolor": "white"
           },
           "zaxis": {
            "backgroundcolor": "#E5ECF6",
            "gridcolor": "white",
            "gridwidth": 2,
            "linecolor": "white",
            "showbackground": true,
            "ticks": "",
            "zerolinecolor": "white"
           }
          },
          "shapedefaults": {
           "line": {
            "color": "#2a3f5f"
           }
          },
          "ternary": {
           "aaxis": {
            "gridcolor": "white",
            "linecolor": "white",
            "ticks": ""
           },
           "baxis": {
            "gridcolor": "white",
            "linecolor": "white",
            "ticks": ""
           },
           "bgcolor": "#E5ECF6",
           "caxis": {
            "gridcolor": "white",
            "linecolor": "white",
            "ticks": ""
           }
          },
          "title": {
           "x": 0.05
          },
          "xaxis": {
           "automargin": true,
           "gridcolor": "white",
           "linecolor": "white",
           "ticks": "",
           "title": {
            "standoff": 15
           },
           "zerolinecolor": "white",
           "zerolinewidth": 2
          },
          "yaxis": {
           "automargin": true,
           "gridcolor": "white",
           "linecolor": "white",
           "ticks": "",
           "title": {
            "standoff": 15
           },
           "zerolinecolor": "white",
           "zerolinewidth": 2
          }
         }
        },
        "title": {
         "text": "Life expectancy in Canada"
        },
        "xaxis": {
         "anchor": "y",
         "domain": [
          0.0,
          1.0
         ],
         "title": {
          "text": "year"
         }
        },
        "yaxis": {
         "anchor": "x",
         "domain": [
          0.0,
          1.0
         ],
         "title": {
          "text": "lifeExp"
         }
        }
       }
      },
      "text/html": "<div>                            <div id=\"1eb48d96-74c0-4996-a80c-a2b9838b1b9b\" class=\"plotly-graph-div\" style=\"height:525px; width:100%;\"></div>            <script type=\"text/javascript\">                require([\"plotly\"], function(Plotly) {                    window.PLOTLYENV=window.PLOTLYENV || {};                                    if (document.getElementById(\"1eb48d96-74c0-4996-a80c-a2b9838b1b9b\")) {                    Plotly.newPlot(                        \"1eb48d96-74c0-4996-a80c-a2b9838b1b9b\",                        [{\"hovertemplate\": \"year=%{x}<br>lifeExp=%{y}<extra></extra>\", \"legendgroup\": \"\", \"line\": {\"color\": \"#636efa\", \"dash\": \"solid\"}, \"mode\": \"lines\", \"name\": \"\", \"orientation\": \"v\", \"showlegend\": false, \"type\": \"scatter\", \"x\": [1952, 1957, 1962, 1967, 1972, 1977, 1982, 1987, 1992, 1997, 2002, 2007], \"xaxis\": \"x\", \"y\": [68.75, 69.96, 71.3, 72.13, 72.88, 74.21, 75.76, 76.86, 77.95, 78.61, 79.77, 80.653], \"yaxis\": \"y\"}],                        {\"legend\": {\"tracegroupgap\": 0}, \"template\": {\"data\": {\"bar\": [{\"error_x\": {\"color\": \"#2a3f5f\"}, \"error_y\": {\"color\": \"#2a3f5f\"}, \"marker\": {\"line\": {\"color\": \"#E5ECF6\", \"width\": 0.5}}, \"type\": \"bar\"}], \"barpolar\": [{\"marker\": {\"line\": {\"color\": \"#E5ECF6\", \"width\": 0.5}}, \"type\": \"barpolar\"}], \"carpet\": [{\"aaxis\": {\"endlinecolor\": \"#2a3f5f\", \"gridcolor\": \"white\", \"linecolor\": \"white\", \"minorgridcolor\": \"white\", \"startlinecolor\": \"#2a3f5f\"}, \"baxis\": {\"endlinecolor\": \"#2a3f5f\", \"gridcolor\": \"white\", \"linecolor\": \"white\", \"minorgridcolor\": \"white\", \"startlinecolor\": \"#2a3f5f\"}, \"type\": \"carpet\"}], \"choropleth\": [{\"colorbar\": {\"outlinewidth\": 0, \"ticks\": \"\"}, \"type\": \"choropleth\"}], \"contour\": [{\"colorbar\": {\"outlinewidth\": 0, \"ticks\": \"\"}, \"colorscale\": [[0.0, \"#0d0887\"], [0.1111111111111111, \"#46039f\"], [0.2222222222222222, \"#7201a8\"], [0.3333333333333333, \"#9c179e\"], [0.4444444444444444, \"#bd3786\"], [0.5555555555555556, \"#d8576b\"], [0.6666666666666666, \"#ed7953\"], [0.7777777777777778, \"#fb9f3a\"], [0.8888888888888888, \"#fdca26\"], [1.0, \"#f0f921\"]], \"type\": \"contour\"}], \"contourcarpet\": [{\"colorbar\": {\"outlinewidth\": 0, \"ticks\": \"\"}, \"type\": \"contourcarpet\"}], \"heatmap\": [{\"colorbar\": {\"outlinewidth\": 0, \"ticks\": \"\"}, \"colorscale\": [[0.0, \"#0d0887\"], [0.1111111111111111, \"#46039f\"], [0.2222222222222222, \"#7201a8\"], [0.3333333333333333, \"#9c179e\"], [0.4444444444444444, \"#bd3786\"], [0.5555555555555556, \"#d8576b\"], [0.6666666666666666, \"#ed7953\"], [0.7777777777777778, \"#fb9f3a\"], [0.8888888888888888, \"#fdca26\"], [1.0, \"#f0f921\"]], \"type\": \"heatmap\"}], \"heatmapgl\": [{\"colorbar\": {\"outlinewidth\": 0, \"ticks\": \"\"}, \"colorscale\": [[0.0, \"#0d0887\"], [0.1111111111111111, \"#46039f\"], [0.2222222222222222, \"#7201a8\"], [0.3333333333333333, \"#9c179e\"], [0.4444444444444444, \"#bd3786\"], [0.5555555555555556, \"#d8576b\"], [0.6666666666666666, \"#ed7953\"], [0.7777777777777778, \"#fb9f3a\"], [0.8888888888888888, \"#fdca26\"], [1.0, \"#f0f921\"]], \"type\": \"heatmapgl\"}], \"histogram\": [{\"marker\": {\"colorbar\": {\"outlinewidth\": 0, \"ticks\": \"\"}}, \"type\": \"histogram\"}], \"histogram2d\": [{\"colorbar\": {\"outlinewidth\": 0, \"ticks\": \"\"}, \"colorscale\": [[0.0, \"#0d0887\"], [0.1111111111111111, \"#46039f\"], [0.2222222222222222, \"#7201a8\"], [0.3333333333333333, \"#9c179e\"], [0.4444444444444444, \"#bd3786\"], [0.5555555555555556, \"#d8576b\"], [0.6666666666666666, \"#ed7953\"], [0.7777777777777778, \"#fb9f3a\"], [0.8888888888888888, \"#fdca26\"], [1.0, \"#f0f921\"]], \"type\": \"histogram2d\"}], \"histogram2dcontour\": [{\"colorbar\": {\"outlinewidth\": 0, \"ticks\": \"\"}, \"colorscale\": [[0.0, \"#0d0887\"], [0.1111111111111111, \"#46039f\"], [0.2222222222222222, \"#7201a8\"], [0.3333333333333333, \"#9c179e\"], [0.4444444444444444, \"#bd3786\"], [0.5555555555555556, \"#d8576b\"], [0.6666666666666666, \"#ed7953\"], [0.7777777777777778, \"#fb9f3a\"], [0.8888888888888888, \"#fdca26\"], [1.0, \"#f0f921\"]], \"type\": \"histogram2dcontour\"}], \"mesh3d\": [{\"colorbar\": {\"outlinewidth\": 0, \"ticks\": \"\"}, \"type\": \"mesh3d\"}], \"parcoords\": [{\"line\": {\"colorbar\": {\"outlinewidth\": 0, \"ticks\": \"\"}}, \"type\": \"parcoords\"}], \"pie\": [{\"automargin\": true, \"type\": \"pie\"}], \"scatter\": [{\"marker\": {\"colorbar\": {\"outlinewidth\": 0, \"ticks\": \"\"}}, \"type\": \"scatter\"}], \"scatter3d\": [{\"line\": {\"colorbar\": {\"outlinewidth\": 0, \"ticks\": \"\"}}, \"marker\": {\"colorbar\": {\"outlinewidth\": 0, \"ticks\": \"\"}}, \"type\": \"scatter3d\"}], \"scattercarpet\": [{\"marker\": {\"colorbar\": {\"outlinewidth\": 0, \"ticks\": \"\"}}, \"type\": \"scattercarpet\"}], \"scattergeo\": [{\"marker\": {\"colorbar\": {\"outlinewidth\": 0, \"ticks\": \"\"}}, \"type\": \"scattergeo\"}], \"scattergl\": [{\"marker\": {\"colorbar\": {\"outlinewidth\": 0, \"ticks\": \"\"}}, \"type\": \"scattergl\"}], \"scattermapbox\": [{\"marker\": {\"colorbar\": {\"outlinewidth\": 0, \"ticks\": \"\"}}, \"type\": \"scattermapbox\"}], \"scatterpolar\": [{\"marker\": {\"colorbar\": {\"outlinewidth\": 0, \"ticks\": \"\"}}, \"type\": \"scatterpolar\"}], \"scatterpolargl\": [{\"marker\": {\"colorbar\": {\"outlinewidth\": 0, \"ticks\": \"\"}}, \"type\": \"scatterpolargl\"}], \"scatterternary\": [{\"marker\": {\"colorbar\": {\"outlinewidth\": 0, \"ticks\": \"\"}}, \"type\": \"scatterternary\"}], \"surface\": [{\"colorbar\": {\"outlinewidth\": 0, \"ticks\": \"\"}, \"colorscale\": [[0.0, \"#0d0887\"], [0.1111111111111111, \"#46039f\"], [0.2222222222222222, \"#7201a8\"], [0.3333333333333333, \"#9c179e\"], [0.4444444444444444, \"#bd3786\"], [0.5555555555555556, \"#d8576b\"], [0.6666666666666666, \"#ed7953\"], [0.7777777777777778, \"#fb9f3a\"], [0.8888888888888888, \"#fdca26\"], [1.0, \"#f0f921\"]], \"type\": \"surface\"}], \"table\": [{\"cells\": {\"fill\": {\"color\": \"#EBF0F8\"}, \"line\": {\"color\": \"white\"}}, \"header\": {\"fill\": {\"color\": \"#C8D4E3\"}, \"line\": {\"color\": \"white\"}}, \"type\": \"table\"}]}, \"layout\": {\"annotationdefaults\": {\"arrowcolor\": \"#2a3f5f\", \"arrowhead\": 0, \"arrowwidth\": 1}, \"autotypenumbers\": \"strict\", \"coloraxis\": {\"colorbar\": {\"outlinewidth\": 0, \"ticks\": \"\"}}, \"colorscale\": {\"diverging\": [[0, \"#8e0152\"], [0.1, \"#c51b7d\"], [0.2, \"#de77ae\"], [0.3, \"#f1b6da\"], [0.4, \"#fde0ef\"], [0.5, \"#f7f7f7\"], [0.6, \"#e6f5d0\"], [0.7, \"#b8e186\"], [0.8, \"#7fbc41\"], [0.9, \"#4d9221\"], [1, \"#276419\"]], \"sequential\": [[0.0, \"#0d0887\"], [0.1111111111111111, \"#46039f\"], [0.2222222222222222, \"#7201a8\"], [0.3333333333333333, \"#9c179e\"], [0.4444444444444444, \"#bd3786\"], [0.5555555555555556, \"#d8576b\"], [0.6666666666666666, \"#ed7953\"], [0.7777777777777778, \"#fb9f3a\"], [0.8888888888888888, \"#fdca26\"], [1.0, \"#f0f921\"]], \"sequentialminus\": [[0.0, \"#0d0887\"], [0.1111111111111111, \"#46039f\"], [0.2222222222222222, \"#7201a8\"], [0.3333333333333333, \"#9c179e\"], [0.4444444444444444, \"#bd3786\"], [0.5555555555555556, \"#d8576b\"], [0.6666666666666666, \"#ed7953\"], [0.7777777777777778, \"#fb9f3a\"], [0.8888888888888888, \"#fdca26\"], [1.0, \"#f0f921\"]]}, \"colorway\": [\"#636efa\", \"#EF553B\", \"#00cc96\", \"#ab63fa\", \"#FFA15A\", \"#19d3f3\", \"#FF6692\", \"#B6E880\", \"#FF97FF\", \"#FECB52\"], \"font\": {\"color\": \"#2a3f5f\"}, \"geo\": {\"bgcolor\": \"white\", \"lakecolor\": \"white\", \"landcolor\": \"#E5ECF6\", \"showlakes\": true, \"showland\": true, \"subunitcolor\": \"white\"}, \"hoverlabel\": {\"align\": \"left\"}, \"hovermode\": \"closest\", \"mapbox\": {\"style\": \"light\"}, \"paper_bgcolor\": \"white\", \"plot_bgcolor\": \"#E5ECF6\", \"polar\": {\"angularaxis\": {\"gridcolor\": \"white\", \"linecolor\": \"white\", \"ticks\": \"\"}, \"bgcolor\": \"#E5ECF6\", \"radialaxis\": {\"gridcolor\": \"white\", \"linecolor\": \"white\", \"ticks\": \"\"}}, \"scene\": {\"xaxis\": {\"backgroundcolor\": \"#E5ECF6\", \"gridcolor\": \"white\", \"gridwidth\": 2, \"linecolor\": \"white\", \"showbackground\": true, \"ticks\": \"\", \"zerolinecolor\": \"white\"}, \"yaxis\": {\"backgroundcolor\": \"#E5ECF6\", \"gridcolor\": \"white\", \"gridwidth\": 2, \"linecolor\": \"white\", \"showbackground\": true, \"ticks\": \"\", \"zerolinecolor\": \"white\"}, \"zaxis\": {\"backgroundcolor\": \"#E5ECF6\", \"gridcolor\": \"white\", \"gridwidth\": 2, \"linecolor\": \"white\", \"showbackground\": true, \"ticks\": \"\", \"zerolinecolor\": \"white\"}}, \"shapedefaults\": {\"line\": {\"color\": \"#2a3f5f\"}}, \"ternary\": {\"aaxis\": {\"gridcolor\": \"white\", \"linecolor\": \"white\", \"ticks\": \"\"}, \"baxis\": {\"gridcolor\": \"white\", \"linecolor\": \"white\", \"ticks\": \"\"}, \"bgcolor\": \"#E5ECF6\", \"caxis\": {\"gridcolor\": \"white\", \"linecolor\": \"white\", \"ticks\": \"\"}}, \"title\": {\"x\": 0.05}, \"xaxis\": {\"automargin\": true, \"gridcolor\": \"white\", \"linecolor\": \"white\", \"ticks\": \"\", \"title\": {\"standoff\": 15}, \"zerolinecolor\": \"white\", \"zerolinewidth\": 2}, \"yaxis\": {\"automargin\": true, \"gridcolor\": \"white\", \"linecolor\": \"white\", \"ticks\": \"\", \"title\": {\"standoff\": 15}, \"zerolinecolor\": \"white\", \"zerolinewidth\": 2}}}, \"title\": {\"text\": \"Life expectancy in Canada\"}, \"xaxis\": {\"anchor\": \"y\", \"domain\": [0.0, 1.0], \"title\": {\"text\": \"year\"}}, \"yaxis\": {\"anchor\": \"x\", \"domain\": [0.0, 1.0], \"title\": {\"text\": \"lifeExp\"}}},                        {\"responsive\": true}                    ).then(function(){\n                            \nvar gd = document.getElementById('1eb48d96-74c0-4996-a80c-a2b9838b1b9b');\nvar x = new MutationObserver(function (mutations, observer) {{\n        var display = window.getComputedStyle(gd).display;\n        if (!display || display === 'none') {{\n            console.log([gd, 'removed!']);\n            Plotly.purge(gd);\n            observer.disconnect();\n        }}\n}});\n\n// Listen for the removal of the full notebook cells\nvar notebookContainer = gd.closest('#notebook-container');\nif (notebookContainer) {{\n    x.observe(notebookContainer, {childList: true});\n}}\n\n// Listen for the clearing of the current output cell\nvar outputEl = gd.closest('.output');\nif (outputEl) {{\n    x.observe(outputEl, {childList: true});\n}}\n\n                        })                };                });            </script>        </div>"
     },
     "metadata": {},
     "output_type": "display_data"
    }
   ],
   "source": [
    "import plotly.express as px\n",
    "df = px.data.gapminder().query(\"country=='Canada'\")\n",
    "fig = px.line(df, x=\"year\", y=\"lifeExp\", title='Life expectancy in Canada')\n",
    "fig.show()"
   ],
   "metadata": {
    "collapsed": false,
    "pycharm": {
     "name": "#%%\n"
    }
   }
  },
  {
   "cell_type": "code",
   "execution_count": 5,
   "outputs": [
    {
     "data": {
      "application/vnd.plotly.v1+json": {
       "config": {
        "plotlyServerURL": "https://plot.ly"
       },
       "data": [
        {
         "hovertemplate": "country=Australia<br>year=%{x}<br>lifeExp=%{y}<extra></extra>",
         "legendgroup": "Australia",
         "line": {
          "color": "#636efa",
          "dash": "solid"
         },
         "mode": "lines",
         "name": "Australia",
         "orientation": "v",
         "showlegend": true,
         "type": "scatter",
         "x": [
          1952,
          1957,
          1962,
          1967,
          1972,
          1977,
          1982,
          1987,
          1992,
          1997,
          2002,
          2007
         ],
         "xaxis": "x",
         "y": [
          69.12,
          70.33,
          70.93,
          71.1,
          71.93,
          73.49,
          74.74,
          76.32,
          77.56,
          78.83,
          80.37,
          81.235
         ],
         "yaxis": "y"
        },
        {
         "hovertemplate": "country=New Zealand<br>year=%{x}<br>lifeExp=%{y}<extra></extra>",
         "legendgroup": "New Zealand",
         "line": {
          "color": "#EF553B",
          "dash": "solid"
         },
         "mode": "lines",
         "name": "New Zealand",
         "orientation": "v",
         "showlegend": true,
         "type": "scatter",
         "x": [
          1952,
          1957,
          1962,
          1967,
          1972,
          1977,
          1982,
          1987,
          1992,
          1997,
          2002,
          2007
         ],
         "xaxis": "x",
         "y": [
          69.39,
          70.26,
          71.24,
          71.52,
          71.89,
          72.22,
          73.84,
          74.32,
          76.33,
          77.55,
          79.11,
          80.204
         ],
         "yaxis": "y"
        }
       ],
       "layout": {
        "legend": {
         "title": {
          "text": "country"
         },
         "tracegroupgap": 0
        },
        "margin": {
         "t": 60
        },
        "template": {
         "data": {
          "bar": [
           {
            "error_x": {
             "color": "#2a3f5f"
            },
            "error_y": {
             "color": "#2a3f5f"
            },
            "marker": {
             "line": {
              "color": "#E5ECF6",
              "width": 0.5
             }
            },
            "type": "bar"
           }
          ],
          "barpolar": [
           {
            "marker": {
             "line": {
              "color": "#E5ECF6",
              "width": 0.5
             }
            },
            "type": "barpolar"
           }
          ],
          "carpet": [
           {
            "aaxis": {
             "endlinecolor": "#2a3f5f",
             "gridcolor": "white",
             "linecolor": "white",
             "minorgridcolor": "white",
             "startlinecolor": "#2a3f5f"
            },
            "baxis": {
             "endlinecolor": "#2a3f5f",
             "gridcolor": "white",
             "linecolor": "white",
             "minorgridcolor": "white",
             "startlinecolor": "#2a3f5f"
            },
            "type": "carpet"
           }
          ],
          "choropleth": [
           {
            "colorbar": {
             "outlinewidth": 0,
             "ticks": ""
            },
            "type": "choropleth"
           }
          ],
          "contour": [
           {
            "colorbar": {
             "outlinewidth": 0,
             "ticks": ""
            },
            "colorscale": [
             [
              0.0,
              "#0d0887"
             ],
             [
              0.1111111111111111,
              "#46039f"
             ],
             [
              0.2222222222222222,
              "#7201a8"
             ],
             [
              0.3333333333333333,
              "#9c179e"
             ],
             [
              0.4444444444444444,
              "#bd3786"
             ],
             [
              0.5555555555555556,
              "#d8576b"
             ],
             [
              0.6666666666666666,
              "#ed7953"
             ],
             [
              0.7777777777777778,
              "#fb9f3a"
             ],
             [
              0.8888888888888888,
              "#fdca26"
             ],
             [
              1.0,
              "#f0f921"
             ]
            ],
            "type": "contour"
           }
          ],
          "contourcarpet": [
           {
            "colorbar": {
             "outlinewidth": 0,
             "ticks": ""
            },
            "type": "contourcarpet"
           }
          ],
          "heatmap": [
           {
            "colorbar": {
             "outlinewidth": 0,
             "ticks": ""
            },
            "colorscale": [
             [
              0.0,
              "#0d0887"
             ],
             [
              0.1111111111111111,
              "#46039f"
             ],
             [
              0.2222222222222222,
              "#7201a8"
             ],
             [
              0.3333333333333333,
              "#9c179e"
             ],
             [
              0.4444444444444444,
              "#bd3786"
             ],
             [
              0.5555555555555556,
              "#d8576b"
             ],
             [
              0.6666666666666666,
              "#ed7953"
             ],
             [
              0.7777777777777778,
              "#fb9f3a"
             ],
             [
              0.8888888888888888,
              "#fdca26"
             ],
             [
              1.0,
              "#f0f921"
             ]
            ],
            "type": "heatmap"
           }
          ],
          "heatmapgl": [
           {
            "colorbar": {
             "outlinewidth": 0,
             "ticks": ""
            },
            "colorscale": [
             [
              0.0,
              "#0d0887"
             ],
             [
              0.1111111111111111,
              "#46039f"
             ],
             [
              0.2222222222222222,
              "#7201a8"
             ],
             [
              0.3333333333333333,
              "#9c179e"
             ],
             [
              0.4444444444444444,
              "#bd3786"
             ],
             [
              0.5555555555555556,
              "#d8576b"
             ],
             [
              0.6666666666666666,
              "#ed7953"
             ],
             [
              0.7777777777777778,
              "#fb9f3a"
             ],
             [
              0.8888888888888888,
              "#fdca26"
             ],
             [
              1.0,
              "#f0f921"
             ]
            ],
            "type": "heatmapgl"
           }
          ],
          "histogram": [
           {
            "marker": {
             "colorbar": {
              "outlinewidth": 0,
              "ticks": ""
             }
            },
            "type": "histogram"
           }
          ],
          "histogram2d": [
           {
            "colorbar": {
             "outlinewidth": 0,
             "ticks": ""
            },
            "colorscale": [
             [
              0.0,
              "#0d0887"
             ],
             [
              0.1111111111111111,
              "#46039f"
             ],
             [
              0.2222222222222222,
              "#7201a8"
             ],
             [
              0.3333333333333333,
              "#9c179e"
             ],
             [
              0.4444444444444444,
              "#bd3786"
             ],
             [
              0.5555555555555556,
              "#d8576b"
             ],
             [
              0.6666666666666666,
              "#ed7953"
             ],
             [
              0.7777777777777778,
              "#fb9f3a"
             ],
             [
              0.8888888888888888,
              "#fdca26"
             ],
             [
              1.0,
              "#f0f921"
             ]
            ],
            "type": "histogram2d"
           }
          ],
          "histogram2dcontour": [
           {
            "colorbar": {
             "outlinewidth": 0,
             "ticks": ""
            },
            "colorscale": [
             [
              0.0,
              "#0d0887"
             ],
             [
              0.1111111111111111,
              "#46039f"
             ],
             [
              0.2222222222222222,
              "#7201a8"
             ],
             [
              0.3333333333333333,
              "#9c179e"
             ],
             [
              0.4444444444444444,
              "#bd3786"
             ],
             [
              0.5555555555555556,
              "#d8576b"
             ],
             [
              0.6666666666666666,
              "#ed7953"
             ],
             [
              0.7777777777777778,
              "#fb9f3a"
             ],
             [
              0.8888888888888888,
              "#fdca26"
             ],
             [
              1.0,
              "#f0f921"
             ]
            ],
            "type": "histogram2dcontour"
           }
          ],
          "mesh3d": [
           {
            "colorbar": {
             "outlinewidth": 0,
             "ticks": ""
            },
            "type": "mesh3d"
           }
          ],
          "parcoords": [
           {
            "line": {
             "colorbar": {
              "outlinewidth": 0,
              "ticks": ""
             }
            },
            "type": "parcoords"
           }
          ],
          "pie": [
           {
            "automargin": true,
            "type": "pie"
           }
          ],
          "scatter": [
           {
            "marker": {
             "colorbar": {
              "outlinewidth": 0,
              "ticks": ""
             }
            },
            "type": "scatter"
           }
          ],
          "scatter3d": [
           {
            "line": {
             "colorbar": {
              "outlinewidth": 0,
              "ticks": ""
             }
            },
            "marker": {
             "colorbar": {
              "outlinewidth": 0,
              "ticks": ""
             }
            },
            "type": "scatter3d"
           }
          ],
          "scattercarpet": [
           {
            "marker": {
             "colorbar": {
              "outlinewidth": 0,
              "ticks": ""
             }
            },
            "type": "scattercarpet"
           }
          ],
          "scattergeo": [
           {
            "marker": {
             "colorbar": {
              "outlinewidth": 0,
              "ticks": ""
             }
            },
            "type": "scattergeo"
           }
          ],
          "scattergl": [
           {
            "marker": {
             "colorbar": {
              "outlinewidth": 0,
              "ticks": ""
             }
            },
            "type": "scattergl"
           }
          ],
          "scattermapbox": [
           {
            "marker": {
             "colorbar": {
              "outlinewidth": 0,
              "ticks": ""
             }
            },
            "type": "scattermapbox"
           }
          ],
          "scatterpolar": [
           {
            "marker": {
             "colorbar": {
              "outlinewidth": 0,
              "ticks": ""
             }
            },
            "type": "scatterpolar"
           }
          ],
          "scatterpolargl": [
           {
            "marker": {
             "colorbar": {
              "outlinewidth": 0,
              "ticks": ""
             }
            },
            "type": "scatterpolargl"
           }
          ],
          "scatterternary": [
           {
            "marker": {
             "colorbar": {
              "outlinewidth": 0,
              "ticks": ""
             }
            },
            "type": "scatterternary"
           }
          ],
          "surface": [
           {
            "colorbar": {
             "outlinewidth": 0,
             "ticks": ""
            },
            "colorscale": [
             [
              0.0,
              "#0d0887"
             ],
             [
              0.1111111111111111,
              "#46039f"
             ],
             [
              0.2222222222222222,
              "#7201a8"
             ],
             [
              0.3333333333333333,
              "#9c179e"
             ],
             [
              0.4444444444444444,
              "#bd3786"
             ],
             [
              0.5555555555555556,
              "#d8576b"
             ],
             [
              0.6666666666666666,
              "#ed7953"
             ],
             [
              0.7777777777777778,
              "#fb9f3a"
             ],
             [
              0.8888888888888888,
              "#fdca26"
             ],
             [
              1.0,
              "#f0f921"
             ]
            ],
            "type": "surface"
           }
          ],
          "table": [
           {
            "cells": {
             "fill": {
              "color": "#EBF0F8"
             },
             "line": {
              "color": "white"
             }
            },
            "header": {
             "fill": {
              "color": "#C8D4E3"
             },
             "line": {
              "color": "white"
             }
            },
            "type": "table"
           }
          ]
         },
         "layout": {
          "annotationdefaults": {
           "arrowcolor": "#2a3f5f",
           "arrowhead": 0,
           "arrowwidth": 1
          },
          "autotypenumbers": "strict",
          "coloraxis": {
           "colorbar": {
            "outlinewidth": 0,
            "ticks": ""
           }
          },
          "colorscale": {
           "diverging": [
            [
             0,
             "#8e0152"
            ],
            [
             0.1,
             "#c51b7d"
            ],
            [
             0.2,
             "#de77ae"
            ],
            [
             0.3,
             "#f1b6da"
            ],
            [
             0.4,
             "#fde0ef"
            ],
            [
             0.5,
             "#f7f7f7"
            ],
            [
             0.6,
             "#e6f5d0"
            ],
            [
             0.7,
             "#b8e186"
            ],
            [
             0.8,
             "#7fbc41"
            ],
            [
             0.9,
             "#4d9221"
            ],
            [
             1,
             "#276419"
            ]
           ],
           "sequential": [
            [
             0.0,
             "#0d0887"
            ],
            [
             0.1111111111111111,
             "#46039f"
            ],
            [
             0.2222222222222222,
             "#7201a8"
            ],
            [
             0.3333333333333333,
             "#9c179e"
            ],
            [
             0.4444444444444444,
             "#bd3786"
            ],
            [
             0.5555555555555556,
             "#d8576b"
            ],
            [
             0.6666666666666666,
             "#ed7953"
            ],
            [
             0.7777777777777778,
             "#fb9f3a"
            ],
            [
             0.8888888888888888,
             "#fdca26"
            ],
            [
             1.0,
             "#f0f921"
            ]
           ],
           "sequentialminus": [
            [
             0.0,
             "#0d0887"
            ],
            [
             0.1111111111111111,
             "#46039f"
            ],
            [
             0.2222222222222222,
             "#7201a8"
            ],
            [
             0.3333333333333333,
             "#9c179e"
            ],
            [
             0.4444444444444444,
             "#bd3786"
            ],
            [
             0.5555555555555556,
             "#d8576b"
            ],
            [
             0.6666666666666666,
             "#ed7953"
            ],
            [
             0.7777777777777778,
             "#fb9f3a"
            ],
            [
             0.8888888888888888,
             "#fdca26"
            ],
            [
             1.0,
             "#f0f921"
            ]
           ]
          },
          "colorway": [
           "#636efa",
           "#EF553B",
           "#00cc96",
           "#ab63fa",
           "#FFA15A",
           "#19d3f3",
           "#FF6692",
           "#B6E880",
           "#FF97FF",
           "#FECB52"
          ],
          "font": {
           "color": "#2a3f5f"
          },
          "geo": {
           "bgcolor": "white",
           "lakecolor": "white",
           "landcolor": "#E5ECF6",
           "showlakes": true,
           "showland": true,
           "subunitcolor": "white"
          },
          "hoverlabel": {
           "align": "left"
          },
          "hovermode": "closest",
          "mapbox": {
           "style": "light"
          },
          "paper_bgcolor": "white",
          "plot_bgcolor": "#E5ECF6",
          "polar": {
           "angularaxis": {
            "gridcolor": "white",
            "linecolor": "white",
            "ticks": ""
           },
           "bgcolor": "#E5ECF6",
           "radialaxis": {
            "gridcolor": "white",
            "linecolor": "white",
            "ticks": ""
           }
          },
          "scene": {
           "xaxis": {
            "backgroundcolor": "#E5ECF6",
            "gridcolor": "white",
            "gridwidth": 2,
            "linecolor": "white",
            "showbackground": true,
            "ticks": "",
            "zerolinecolor": "white"
           },
           "yaxis": {
            "backgroundcolor": "#E5ECF6",
            "gridcolor": "white",
            "gridwidth": 2,
            "linecolor": "white",
            "showbackground": true,
            "ticks": "",
            "zerolinecolor": "white"
           },
           "zaxis": {
            "backgroundcolor": "#E5ECF6",
            "gridcolor": "white",
            "gridwidth": 2,
            "linecolor": "white",
            "showbackground": true,
            "ticks": "",
            "zerolinecolor": "white"
           }
          },
          "shapedefaults": {
           "line": {
            "color": "#2a3f5f"
           }
          },
          "ternary": {
           "aaxis": {
            "gridcolor": "white",
            "linecolor": "white",
            "ticks": ""
           },
           "baxis": {
            "gridcolor": "white",
            "linecolor": "white",
            "ticks": ""
           },
           "bgcolor": "#E5ECF6",
           "caxis": {
            "gridcolor": "white",
            "linecolor": "white",
            "ticks": ""
           }
          },
          "title": {
           "x": 0.05
          },
          "xaxis": {
           "automargin": true,
           "gridcolor": "white",
           "linecolor": "white",
           "ticks": "",
           "title": {
            "standoff": 15
           },
           "zerolinecolor": "white",
           "zerolinewidth": 2
          },
          "yaxis": {
           "automargin": true,
           "gridcolor": "white",
           "linecolor": "white",
           "ticks": "",
           "title": {
            "standoff": 15
           },
           "zerolinecolor": "white",
           "zerolinewidth": 2
          }
         }
        },
        "xaxis": {
         "anchor": "y",
         "domain": [
          0.0,
          1.0
         ],
         "title": {
          "text": "year"
         }
        },
        "yaxis": {
         "anchor": "x",
         "domain": [
          0.0,
          1.0
         ],
         "title": {
          "text": "lifeExp"
         }
        }
       }
      },
      "text/html": "<div>                            <div id=\"5e24a0a0-7018-4c42-87d8-548e1376df2e\" class=\"plotly-graph-div\" style=\"height:525px; width:100%;\"></div>            <script type=\"text/javascript\">                require([\"plotly\"], function(Plotly) {                    window.PLOTLYENV=window.PLOTLYENV || {};                                    if (document.getElementById(\"5e24a0a0-7018-4c42-87d8-548e1376df2e\")) {                    Plotly.newPlot(                        \"5e24a0a0-7018-4c42-87d8-548e1376df2e\",                        [{\"hovertemplate\": \"country=Australia<br>year=%{x}<br>lifeExp=%{y}<extra></extra>\", \"legendgroup\": \"Australia\", \"line\": {\"color\": \"#636efa\", \"dash\": \"solid\"}, \"mode\": \"lines\", \"name\": \"Australia\", \"orientation\": \"v\", \"showlegend\": true, \"type\": \"scatter\", \"x\": [1952, 1957, 1962, 1967, 1972, 1977, 1982, 1987, 1992, 1997, 2002, 2007], \"xaxis\": \"x\", \"y\": [69.12, 70.33, 70.93, 71.1, 71.93, 73.49, 74.74, 76.32, 77.56, 78.83, 80.37, 81.235], \"yaxis\": \"y\"}, {\"hovertemplate\": \"country=New Zealand<br>year=%{x}<br>lifeExp=%{y}<extra></extra>\", \"legendgroup\": \"New Zealand\", \"line\": {\"color\": \"#EF553B\", \"dash\": \"solid\"}, \"mode\": \"lines\", \"name\": \"New Zealand\", \"orientation\": \"v\", \"showlegend\": true, \"type\": \"scatter\", \"x\": [1952, 1957, 1962, 1967, 1972, 1977, 1982, 1987, 1992, 1997, 2002, 2007], \"xaxis\": \"x\", \"y\": [69.39, 70.26, 71.24, 71.52, 71.89, 72.22, 73.84, 74.32, 76.33, 77.55, 79.11, 80.204], \"yaxis\": \"y\"}],                        {\"legend\": {\"title\": {\"text\": \"country\"}, \"tracegroupgap\": 0}, \"margin\": {\"t\": 60}, \"template\": {\"data\": {\"bar\": [{\"error_x\": {\"color\": \"#2a3f5f\"}, \"error_y\": {\"color\": \"#2a3f5f\"}, \"marker\": {\"line\": {\"color\": \"#E5ECF6\", \"width\": 0.5}}, \"type\": \"bar\"}], \"barpolar\": [{\"marker\": {\"line\": {\"color\": \"#E5ECF6\", \"width\": 0.5}}, \"type\": \"barpolar\"}], \"carpet\": [{\"aaxis\": {\"endlinecolor\": \"#2a3f5f\", \"gridcolor\": \"white\", \"linecolor\": \"white\", \"minorgridcolor\": \"white\", \"startlinecolor\": \"#2a3f5f\"}, \"baxis\": {\"endlinecolor\": \"#2a3f5f\", \"gridcolor\": \"white\", \"linecolor\": \"white\", \"minorgridcolor\": \"white\", \"startlinecolor\": \"#2a3f5f\"}, \"type\": \"carpet\"}], \"choropleth\": [{\"colorbar\": {\"outlinewidth\": 0, \"ticks\": \"\"}, \"type\": \"choropleth\"}], \"contour\": [{\"colorbar\": {\"outlinewidth\": 0, \"ticks\": \"\"}, \"colorscale\": [[0.0, \"#0d0887\"], [0.1111111111111111, \"#46039f\"], [0.2222222222222222, \"#7201a8\"], [0.3333333333333333, \"#9c179e\"], [0.4444444444444444, \"#bd3786\"], [0.5555555555555556, \"#d8576b\"], [0.6666666666666666, \"#ed7953\"], [0.7777777777777778, \"#fb9f3a\"], [0.8888888888888888, \"#fdca26\"], [1.0, \"#f0f921\"]], \"type\": \"contour\"}], \"contourcarpet\": [{\"colorbar\": {\"outlinewidth\": 0, \"ticks\": \"\"}, \"type\": \"contourcarpet\"}], \"heatmap\": [{\"colorbar\": {\"outlinewidth\": 0, \"ticks\": \"\"}, \"colorscale\": [[0.0, \"#0d0887\"], [0.1111111111111111, \"#46039f\"], [0.2222222222222222, \"#7201a8\"], [0.3333333333333333, \"#9c179e\"], [0.4444444444444444, \"#bd3786\"], [0.5555555555555556, \"#d8576b\"], [0.6666666666666666, \"#ed7953\"], [0.7777777777777778, \"#fb9f3a\"], [0.8888888888888888, \"#fdca26\"], [1.0, \"#f0f921\"]], \"type\": \"heatmap\"}], \"heatmapgl\": [{\"colorbar\": {\"outlinewidth\": 0, \"ticks\": \"\"}, \"colorscale\": [[0.0, \"#0d0887\"], [0.1111111111111111, \"#46039f\"], [0.2222222222222222, \"#7201a8\"], [0.3333333333333333, \"#9c179e\"], [0.4444444444444444, \"#bd3786\"], [0.5555555555555556, \"#d8576b\"], [0.6666666666666666, \"#ed7953\"], [0.7777777777777778, \"#fb9f3a\"], [0.8888888888888888, \"#fdca26\"], [1.0, \"#f0f921\"]], \"type\": \"heatmapgl\"}], \"histogram\": [{\"marker\": {\"colorbar\": {\"outlinewidth\": 0, \"ticks\": \"\"}}, \"type\": \"histogram\"}], \"histogram2d\": [{\"colorbar\": {\"outlinewidth\": 0, \"ticks\": \"\"}, \"colorscale\": [[0.0, \"#0d0887\"], [0.1111111111111111, \"#46039f\"], [0.2222222222222222, \"#7201a8\"], [0.3333333333333333, \"#9c179e\"], [0.4444444444444444, \"#bd3786\"], [0.5555555555555556, \"#d8576b\"], [0.6666666666666666, \"#ed7953\"], [0.7777777777777778, \"#fb9f3a\"], [0.8888888888888888, \"#fdca26\"], [1.0, \"#f0f921\"]], \"type\": \"histogram2d\"}], \"histogram2dcontour\": [{\"colorbar\": {\"outlinewidth\": 0, \"ticks\": \"\"}, \"colorscale\": [[0.0, \"#0d0887\"], [0.1111111111111111, \"#46039f\"], [0.2222222222222222, \"#7201a8\"], [0.3333333333333333, \"#9c179e\"], [0.4444444444444444, \"#bd3786\"], [0.5555555555555556, \"#d8576b\"], [0.6666666666666666, \"#ed7953\"], [0.7777777777777778, \"#fb9f3a\"], [0.8888888888888888, \"#fdca26\"], [1.0, \"#f0f921\"]], \"type\": \"histogram2dcontour\"}], \"mesh3d\": [{\"colorbar\": {\"outlinewidth\": 0, \"ticks\": \"\"}, \"type\": \"mesh3d\"}], \"parcoords\": [{\"line\": {\"colorbar\": {\"outlinewidth\": 0, \"ticks\": \"\"}}, \"type\": \"parcoords\"}], \"pie\": [{\"automargin\": true, \"type\": \"pie\"}], \"scatter\": [{\"marker\": {\"colorbar\": {\"outlinewidth\": 0, \"ticks\": \"\"}}, \"type\": \"scatter\"}], \"scatter3d\": [{\"line\": {\"colorbar\": {\"outlinewidth\": 0, \"ticks\": \"\"}}, \"marker\": {\"colorbar\": {\"outlinewidth\": 0, \"ticks\": \"\"}}, \"type\": \"scatter3d\"}], \"scattercarpet\": [{\"marker\": {\"colorbar\": {\"outlinewidth\": 0, \"ticks\": \"\"}}, \"type\": \"scattercarpet\"}], \"scattergeo\": [{\"marker\": {\"colorbar\": {\"outlinewidth\": 0, \"ticks\": \"\"}}, \"type\": \"scattergeo\"}], \"scattergl\": [{\"marker\": {\"colorbar\": {\"outlinewidth\": 0, \"ticks\": \"\"}}, \"type\": \"scattergl\"}], \"scattermapbox\": [{\"marker\": {\"colorbar\": {\"outlinewidth\": 0, \"ticks\": \"\"}}, \"type\": \"scattermapbox\"}], \"scatterpolar\": [{\"marker\": {\"colorbar\": {\"outlinewidth\": 0, \"ticks\": \"\"}}, \"type\": \"scatterpolar\"}], \"scatterpolargl\": [{\"marker\": {\"colorbar\": {\"outlinewidth\": 0, \"ticks\": \"\"}}, \"type\": \"scatterpolargl\"}], \"scatterternary\": [{\"marker\": {\"colorbar\": {\"outlinewidth\": 0, \"ticks\": \"\"}}, \"type\": \"scatterternary\"}], \"surface\": [{\"colorbar\": {\"outlinewidth\": 0, \"ticks\": \"\"}, \"colorscale\": [[0.0, \"#0d0887\"], [0.1111111111111111, \"#46039f\"], [0.2222222222222222, \"#7201a8\"], [0.3333333333333333, \"#9c179e\"], [0.4444444444444444, \"#bd3786\"], [0.5555555555555556, \"#d8576b\"], [0.6666666666666666, \"#ed7953\"], [0.7777777777777778, \"#fb9f3a\"], [0.8888888888888888, \"#fdca26\"], [1.0, \"#f0f921\"]], \"type\": \"surface\"}], \"table\": [{\"cells\": {\"fill\": {\"color\": \"#EBF0F8\"}, \"line\": {\"color\": \"white\"}}, \"header\": {\"fill\": {\"color\": \"#C8D4E3\"}, \"line\": {\"color\": \"white\"}}, \"type\": \"table\"}]}, \"layout\": {\"annotationdefaults\": {\"arrowcolor\": \"#2a3f5f\", \"arrowhead\": 0, \"arrowwidth\": 1}, \"autotypenumbers\": \"strict\", \"coloraxis\": {\"colorbar\": {\"outlinewidth\": 0, \"ticks\": \"\"}}, \"colorscale\": {\"diverging\": [[0, \"#8e0152\"], [0.1, \"#c51b7d\"], [0.2, \"#de77ae\"], [0.3, \"#f1b6da\"], [0.4, \"#fde0ef\"], [0.5, \"#f7f7f7\"], [0.6, \"#e6f5d0\"], [0.7, \"#b8e186\"], [0.8, \"#7fbc41\"], [0.9, \"#4d9221\"], [1, \"#276419\"]], \"sequential\": [[0.0, \"#0d0887\"], [0.1111111111111111, \"#46039f\"], [0.2222222222222222, \"#7201a8\"], [0.3333333333333333, \"#9c179e\"], [0.4444444444444444, \"#bd3786\"], [0.5555555555555556, \"#d8576b\"], [0.6666666666666666, \"#ed7953\"], [0.7777777777777778, \"#fb9f3a\"], [0.8888888888888888, \"#fdca26\"], [1.0, \"#f0f921\"]], \"sequentialminus\": [[0.0, \"#0d0887\"], [0.1111111111111111, \"#46039f\"], [0.2222222222222222, \"#7201a8\"], [0.3333333333333333, \"#9c179e\"], [0.4444444444444444, \"#bd3786\"], [0.5555555555555556, \"#d8576b\"], [0.6666666666666666, \"#ed7953\"], [0.7777777777777778, \"#fb9f3a\"], [0.8888888888888888, \"#fdca26\"], [1.0, \"#f0f921\"]]}, \"colorway\": [\"#636efa\", \"#EF553B\", \"#00cc96\", \"#ab63fa\", \"#FFA15A\", \"#19d3f3\", \"#FF6692\", \"#B6E880\", \"#FF97FF\", \"#FECB52\"], \"font\": {\"color\": \"#2a3f5f\"}, \"geo\": {\"bgcolor\": \"white\", \"lakecolor\": \"white\", \"landcolor\": \"#E5ECF6\", \"showlakes\": true, \"showland\": true, \"subunitcolor\": \"white\"}, \"hoverlabel\": {\"align\": \"left\"}, \"hovermode\": \"closest\", \"mapbox\": {\"style\": \"light\"}, \"paper_bgcolor\": \"white\", \"plot_bgcolor\": \"#E5ECF6\", \"polar\": {\"angularaxis\": {\"gridcolor\": \"white\", \"linecolor\": \"white\", \"ticks\": \"\"}, \"bgcolor\": \"#E5ECF6\", \"radialaxis\": {\"gridcolor\": \"white\", \"linecolor\": \"white\", \"ticks\": \"\"}}, \"scene\": {\"xaxis\": {\"backgroundcolor\": \"#E5ECF6\", \"gridcolor\": \"white\", \"gridwidth\": 2, \"linecolor\": \"white\", \"showbackground\": true, \"ticks\": \"\", \"zerolinecolor\": \"white\"}, \"yaxis\": {\"backgroundcolor\": \"#E5ECF6\", \"gridcolor\": \"white\", \"gridwidth\": 2, \"linecolor\": \"white\", \"showbackground\": true, \"ticks\": \"\", \"zerolinecolor\": \"white\"}, \"zaxis\": {\"backgroundcolor\": \"#E5ECF6\", \"gridcolor\": \"white\", \"gridwidth\": 2, \"linecolor\": \"white\", \"showbackground\": true, \"ticks\": \"\", \"zerolinecolor\": \"white\"}}, \"shapedefaults\": {\"line\": {\"color\": \"#2a3f5f\"}}, \"ternary\": {\"aaxis\": {\"gridcolor\": \"white\", \"linecolor\": \"white\", \"ticks\": \"\"}, \"baxis\": {\"gridcolor\": \"white\", \"linecolor\": \"white\", \"ticks\": \"\"}, \"bgcolor\": \"#E5ECF6\", \"caxis\": {\"gridcolor\": \"white\", \"linecolor\": \"white\", \"ticks\": \"\"}}, \"title\": {\"x\": 0.05}, \"xaxis\": {\"automargin\": true, \"gridcolor\": \"white\", \"linecolor\": \"white\", \"ticks\": \"\", \"title\": {\"standoff\": 15}, \"zerolinecolor\": \"white\", \"zerolinewidth\": 2}, \"yaxis\": {\"automargin\": true, \"gridcolor\": \"white\", \"linecolor\": \"white\", \"ticks\": \"\", \"title\": {\"standoff\": 15}, \"zerolinecolor\": \"white\", \"zerolinewidth\": 2}}}, \"xaxis\": {\"anchor\": \"y\", \"domain\": [0.0, 1.0], \"title\": {\"text\": \"year\"}}, \"yaxis\": {\"anchor\": \"x\", \"domain\": [0.0, 1.0], \"title\": {\"text\": \"lifeExp\"}}},                        {\"responsive\": true}                    ).then(function(){\n                            \nvar gd = document.getElementById('5e24a0a0-7018-4c42-87d8-548e1376df2e');\nvar x = new MutationObserver(function (mutations, observer) {{\n        var display = window.getComputedStyle(gd).display;\n        if (!display || display === 'none') {{\n            console.log([gd, 'removed!']);\n            Plotly.purge(gd);\n            observer.disconnect();\n        }}\n}});\n\n// Listen for the removal of the full notebook cells\nvar notebookContainer = gd.closest('#notebook-container');\nif (notebookContainer) {{\n    x.observe(notebookContainer, {childList: true});\n}}\n\n// Listen for the clearing of the current output cell\nvar outputEl = gd.closest('.output');\nif (outputEl) {{\n    x.observe(outputEl, {childList: true});\n}}\n\n                        })                };                });            </script>        </div>"
     },
     "metadata": {},
     "output_type": "display_data"
    }
   ],
   "source": [
    "import plotly.express as px\n",
    "\n",
    "df = px.data.gapminder().query(\"continent=='Oceania'\")\n",
    "fig = px.line(df, x=\"year\", y=\"lifeExp\", color='country')\n",
    "fig.show()"
   ],
   "metadata": {
    "collapsed": false,
    "pycharm": {
     "name": "#%%\n"
    }
   }
  },
  {
   "cell_type": "code",
   "execution_count": 6,
   "outputs": [
    {
     "data": {
      "application/vnd.plotly.v1+json": {
       "config": {
        "plotlyServerURL": "https://plot.ly"
       },
       "data": [
        {
         "hovertemplate": "<b>%{hovertext}</b><br><br>continent=Europe<br>country=Albania<br>year=%{x}<br>lifeExp=%{y}<extra></extra>",
         "hovertext": [
          "Albania",
          "Albania",
          "Albania",
          "Albania",
          "Albania",
          "Albania",
          "Albania",
          "Albania",
          "Albania",
          "Albania",
          "Albania",
          "Albania"
         ],
         "legendgroup": "Europe",
         "line": {
          "color": "#636efa",
          "dash": "solid"
         },
         "mode": "lines",
         "name": "Europe",
         "showlegend": true,
         "type": "scattergl",
         "x": [
          1952,
          1957,
          1962,
          1967,
          1972,
          1977,
          1982,
          1987,
          1992,
          1997,
          2002,
          2007
         ],
         "xaxis": "x",
         "y": [
          55.23,
          59.28,
          64.82,
          66.22,
          67.69,
          68.93,
          70.42,
          72.0,
          71.581,
          72.95,
          75.651,
          76.423
         ],
         "yaxis": "y"
        },
        {
         "hovertemplate": "<b>%{hovertext}</b><br><br>continent=Europe<br>country=Austria<br>year=%{x}<br>lifeExp=%{y}<extra></extra>",
         "hovertext": [
          "Austria",
          "Austria",
          "Austria",
          "Austria",
          "Austria",
          "Austria",
          "Austria",
          "Austria",
          "Austria",
          "Austria",
          "Austria",
          "Austria"
         ],
         "legendgroup": "Europe",
         "line": {
          "color": "#636efa",
          "dash": "solid"
         },
         "mode": "lines",
         "name": "Europe",
         "showlegend": false,
         "type": "scattergl",
         "x": [
          1952,
          1957,
          1962,
          1967,
          1972,
          1977,
          1982,
          1987,
          1992,
          1997,
          2002,
          2007
         ],
         "xaxis": "x",
         "y": [
          66.8,
          67.48,
          69.54,
          70.14,
          70.63,
          72.17,
          73.18,
          74.94,
          76.04,
          77.51,
          78.98,
          79.829
         ],
         "yaxis": "y"
        },
        {
         "hovertemplate": "<b>%{hovertext}</b><br><br>continent=Europe<br>country=Belgium<br>year=%{x}<br>lifeExp=%{y}<extra></extra>",
         "hovertext": [
          "Belgium",
          "Belgium",
          "Belgium",
          "Belgium",
          "Belgium",
          "Belgium",
          "Belgium",
          "Belgium",
          "Belgium",
          "Belgium",
          "Belgium",
          "Belgium"
         ],
         "legendgroup": "Europe",
         "line": {
          "color": "#636efa",
          "dash": "solid"
         },
         "mode": "lines",
         "name": "Europe",
         "showlegend": false,
         "type": "scattergl",
         "x": [
          1952,
          1957,
          1962,
          1967,
          1972,
          1977,
          1982,
          1987,
          1992,
          1997,
          2002,
          2007
         ],
         "xaxis": "x",
         "y": [
          68.0,
          69.24,
          70.25,
          70.94,
          71.44,
          72.8,
          73.93,
          75.35,
          76.46,
          77.53,
          78.32,
          79.441
         ],
         "yaxis": "y"
        },
        {
         "hovertemplate": "<b>%{hovertext}</b><br><br>continent=Europe<br>country=Bosnia and Herzegovina<br>year=%{x}<br>lifeExp=%{y}<extra></extra>",
         "hovertext": [
          "Bosnia and Herzegovina",
          "Bosnia and Herzegovina",
          "Bosnia and Herzegovina",
          "Bosnia and Herzegovina",
          "Bosnia and Herzegovina",
          "Bosnia and Herzegovina",
          "Bosnia and Herzegovina",
          "Bosnia and Herzegovina",
          "Bosnia and Herzegovina",
          "Bosnia and Herzegovina",
          "Bosnia and Herzegovina",
          "Bosnia and Herzegovina"
         ],
         "legendgroup": "Europe",
         "line": {
          "color": "#636efa",
          "dash": "solid"
         },
         "mode": "lines",
         "name": "Europe",
         "showlegend": false,
         "type": "scattergl",
         "x": [
          1952,
          1957,
          1962,
          1967,
          1972,
          1977,
          1982,
          1987,
          1992,
          1997,
          2002,
          2007
         ],
         "xaxis": "x",
         "y": [
          53.82,
          58.45,
          61.93,
          64.79,
          67.45,
          69.86,
          70.69,
          71.14,
          72.178,
          73.244,
          74.09,
          74.852
         ],
         "yaxis": "y"
        },
        {
         "hovertemplate": "<b>%{hovertext}</b><br><br>continent=Europe<br>country=Bulgaria<br>year=%{x}<br>lifeExp=%{y}<extra></extra>",
         "hovertext": [
          "Bulgaria",
          "Bulgaria",
          "Bulgaria",
          "Bulgaria",
          "Bulgaria",
          "Bulgaria",
          "Bulgaria",
          "Bulgaria",
          "Bulgaria",
          "Bulgaria",
          "Bulgaria",
          "Bulgaria"
         ],
         "legendgroup": "Europe",
         "line": {
          "color": "#636efa",
          "dash": "solid"
         },
         "mode": "lines",
         "name": "Europe",
         "showlegend": false,
         "type": "scattergl",
         "x": [
          1952,
          1957,
          1962,
          1967,
          1972,
          1977,
          1982,
          1987,
          1992,
          1997,
          2002,
          2007
         ],
         "xaxis": "x",
         "y": [
          59.6,
          66.61,
          69.51,
          70.42,
          70.9,
          70.81,
          71.08,
          71.34,
          71.19,
          70.32,
          72.14,
          73.005
         ],
         "yaxis": "y"
        },
        {
         "hovertemplate": "<b>%{hovertext}</b><br><br>continent=Europe<br>country=Croatia<br>year=%{x}<br>lifeExp=%{y}<extra></extra>",
         "hovertext": [
          "Croatia",
          "Croatia",
          "Croatia",
          "Croatia",
          "Croatia",
          "Croatia",
          "Croatia",
          "Croatia",
          "Croatia",
          "Croatia",
          "Croatia",
          "Croatia"
         ],
         "legendgroup": "Europe",
         "line": {
          "color": "#636efa",
          "dash": "solid"
         },
         "mode": "lines",
         "name": "Europe",
         "showlegend": false,
         "type": "scattergl",
         "x": [
          1952,
          1957,
          1962,
          1967,
          1972,
          1977,
          1982,
          1987,
          1992,
          1997,
          2002,
          2007
         ],
         "xaxis": "x",
         "y": [
          61.21,
          64.77,
          67.13,
          68.5,
          69.61,
          70.64,
          70.46,
          71.52,
          72.527,
          73.68,
          74.876,
          75.748
         ],
         "yaxis": "y"
        },
        {
         "hovertemplate": "<b>%{hovertext}</b><br><br>continent=Europe<br>country=Czech Republic<br>year=%{x}<br>lifeExp=%{y}<extra></extra>",
         "hovertext": [
          "Czech Republic",
          "Czech Republic",
          "Czech Republic",
          "Czech Republic",
          "Czech Republic",
          "Czech Republic",
          "Czech Republic",
          "Czech Republic",
          "Czech Republic",
          "Czech Republic",
          "Czech Republic",
          "Czech Republic"
         ],
         "legendgroup": "Europe",
         "line": {
          "color": "#636efa",
          "dash": "solid"
         },
         "mode": "lines",
         "name": "Europe",
         "showlegend": false,
         "type": "scattergl",
         "x": [
          1952,
          1957,
          1962,
          1967,
          1972,
          1977,
          1982,
          1987,
          1992,
          1997,
          2002,
          2007
         ],
         "xaxis": "x",
         "y": [
          66.87,
          69.03,
          69.9,
          70.38,
          70.29,
          70.71,
          70.96,
          71.58,
          72.4,
          74.01,
          75.51,
          76.486
         ],
         "yaxis": "y"
        },
        {
         "hovertemplate": "<b>%{hovertext}</b><br><br>continent=Europe<br>country=Denmark<br>year=%{x}<br>lifeExp=%{y}<extra></extra>",
         "hovertext": [
          "Denmark",
          "Denmark",
          "Denmark",
          "Denmark",
          "Denmark",
          "Denmark",
          "Denmark",
          "Denmark",
          "Denmark",
          "Denmark",
          "Denmark",
          "Denmark"
         ],
         "legendgroup": "Europe",
         "line": {
          "color": "#636efa",
          "dash": "solid"
         },
         "mode": "lines",
         "name": "Europe",
         "showlegend": false,
         "type": "scattergl",
         "x": [
          1952,
          1957,
          1962,
          1967,
          1972,
          1977,
          1982,
          1987,
          1992,
          1997,
          2002,
          2007
         ],
         "xaxis": "x",
         "y": [
          70.78,
          71.81,
          72.35,
          72.96,
          73.47,
          74.69,
          74.63,
          74.8,
          75.33,
          76.11,
          77.18,
          78.332
         ],
         "yaxis": "y"
        },
        {
         "hovertemplate": "<b>%{hovertext}</b><br><br>continent=Europe<br>country=Finland<br>year=%{x}<br>lifeExp=%{y}<extra></extra>",
         "hovertext": [
          "Finland",
          "Finland",
          "Finland",
          "Finland",
          "Finland",
          "Finland",
          "Finland",
          "Finland",
          "Finland",
          "Finland",
          "Finland",
          "Finland"
         ],
         "legendgroup": "Europe",
         "line": {
          "color": "#636efa",
          "dash": "solid"
         },
         "mode": "lines",
         "name": "Europe",
         "showlegend": false,
         "type": "scattergl",
         "x": [
          1952,
          1957,
          1962,
          1967,
          1972,
          1977,
          1982,
          1987,
          1992,
          1997,
          2002,
          2007
         ],
         "xaxis": "x",
         "y": [
          66.55,
          67.49,
          68.75,
          69.83,
          70.87,
          72.52,
          74.55,
          74.83,
          75.7,
          77.13,
          78.37,
          79.313
         ],
         "yaxis": "y"
        },
        {
         "hovertemplate": "<b>%{hovertext}</b><br><br>continent=Europe<br>country=France<br>year=%{x}<br>lifeExp=%{y}<extra></extra>",
         "hovertext": [
          "France",
          "France",
          "France",
          "France",
          "France",
          "France",
          "France",
          "France",
          "France",
          "France",
          "France",
          "France"
         ],
         "legendgroup": "Europe",
         "line": {
          "color": "#636efa",
          "dash": "solid"
         },
         "mode": "lines",
         "name": "Europe",
         "showlegend": false,
         "type": "scattergl",
         "x": [
          1952,
          1957,
          1962,
          1967,
          1972,
          1977,
          1982,
          1987,
          1992,
          1997,
          2002,
          2007
         ],
         "xaxis": "x",
         "y": [
          67.41,
          68.93,
          70.51,
          71.55,
          72.38,
          73.83,
          74.89,
          76.34,
          77.46,
          78.64,
          79.59,
          80.657
         ],
         "yaxis": "y"
        },
        {
         "hovertemplate": "<b>%{hovertext}</b><br><br>continent=Europe<br>country=Germany<br>year=%{x}<br>lifeExp=%{y}<extra></extra>",
         "hovertext": [
          "Germany",
          "Germany",
          "Germany",
          "Germany",
          "Germany",
          "Germany",
          "Germany",
          "Germany",
          "Germany",
          "Germany",
          "Germany",
          "Germany"
         ],
         "legendgroup": "Europe",
         "line": {
          "color": "#636efa",
          "dash": "solid"
         },
         "mode": "lines",
         "name": "Europe",
         "showlegend": false,
         "type": "scattergl",
         "x": [
          1952,
          1957,
          1962,
          1967,
          1972,
          1977,
          1982,
          1987,
          1992,
          1997,
          2002,
          2007
         ],
         "xaxis": "x",
         "y": [
          67.5,
          69.1,
          70.3,
          70.8,
          71.0,
          72.5,
          73.8,
          74.847,
          76.07,
          77.34,
          78.67,
          79.406
         ],
         "yaxis": "y"
        },
        {
         "hovertemplate": "<b>%{hovertext}</b><br><br>continent=Europe<br>country=Greece<br>year=%{x}<br>lifeExp=%{y}<extra></extra>",
         "hovertext": [
          "Greece",
          "Greece",
          "Greece",
          "Greece",
          "Greece",
          "Greece",
          "Greece",
          "Greece",
          "Greece",
          "Greece",
          "Greece",
          "Greece"
         ],
         "legendgroup": "Europe",
         "line": {
          "color": "#636efa",
          "dash": "solid"
         },
         "mode": "lines",
         "name": "Europe",
         "showlegend": false,
         "type": "scattergl",
         "x": [
          1952,
          1957,
          1962,
          1967,
          1972,
          1977,
          1982,
          1987,
          1992,
          1997,
          2002,
          2007
         ],
         "xaxis": "x",
         "y": [
          65.86,
          67.86,
          69.51,
          71.0,
          72.34,
          73.68,
          75.24,
          76.67,
          77.03,
          77.869,
          78.256,
          79.483
         ],
         "yaxis": "y"
        },
        {
         "hovertemplate": "<b>%{hovertext}</b><br><br>continent=Europe<br>country=Hungary<br>year=%{x}<br>lifeExp=%{y}<extra></extra>",
         "hovertext": [
          "Hungary",
          "Hungary",
          "Hungary",
          "Hungary",
          "Hungary",
          "Hungary",
          "Hungary",
          "Hungary",
          "Hungary",
          "Hungary",
          "Hungary",
          "Hungary"
         ],
         "legendgroup": "Europe",
         "line": {
          "color": "#636efa",
          "dash": "solid"
         },
         "mode": "lines",
         "name": "Europe",
         "showlegend": false,
         "type": "scattergl",
         "x": [
          1952,
          1957,
          1962,
          1967,
          1972,
          1977,
          1982,
          1987,
          1992,
          1997,
          2002,
          2007
         ],
         "xaxis": "x",
         "y": [
          64.03,
          66.41,
          67.96,
          69.5,
          69.76,
          69.95,
          69.39,
          69.58,
          69.17,
          71.04,
          72.59,
          73.338
         ],
         "yaxis": "y"
        },
        {
         "hovertemplate": "<b>%{hovertext}</b><br><br>continent=Europe<br>country=Iceland<br>year=%{x}<br>lifeExp=%{y}<extra></extra>",
         "hovertext": [
          "Iceland",
          "Iceland",
          "Iceland",
          "Iceland",
          "Iceland",
          "Iceland",
          "Iceland",
          "Iceland",
          "Iceland",
          "Iceland",
          "Iceland",
          "Iceland"
         ],
         "legendgroup": "Europe",
         "line": {
          "color": "#636efa",
          "dash": "solid"
         },
         "mode": "lines",
         "name": "Europe",
         "showlegend": false,
         "type": "scattergl",
         "x": [
          1952,
          1957,
          1962,
          1967,
          1972,
          1977,
          1982,
          1987,
          1992,
          1997,
          2002,
          2007
         ],
         "xaxis": "x",
         "y": [
          72.49,
          73.47,
          73.68,
          73.73,
          74.46,
          76.11,
          76.99,
          77.23,
          78.77,
          78.95,
          80.5,
          81.757
         ],
         "yaxis": "y"
        },
        {
         "hovertemplate": "<b>%{hovertext}</b><br><br>continent=Europe<br>country=Ireland<br>year=%{x}<br>lifeExp=%{y}<extra></extra>",
         "hovertext": [
          "Ireland",
          "Ireland",
          "Ireland",
          "Ireland",
          "Ireland",
          "Ireland",
          "Ireland",
          "Ireland",
          "Ireland",
          "Ireland",
          "Ireland",
          "Ireland"
         ],
         "legendgroup": "Europe",
         "line": {
          "color": "#636efa",
          "dash": "solid"
         },
         "mode": "lines",
         "name": "Europe",
         "showlegend": false,
         "type": "scattergl",
         "x": [
          1952,
          1957,
          1962,
          1967,
          1972,
          1977,
          1982,
          1987,
          1992,
          1997,
          2002,
          2007
         ],
         "xaxis": "x",
         "y": [
          66.91,
          68.9,
          70.29,
          71.08,
          71.28,
          72.03,
          73.1,
          74.36,
          75.467,
          76.122,
          77.783,
          78.885
         ],
         "yaxis": "y"
        },
        {
         "hovertemplate": "<b>%{hovertext}</b><br><br>continent=Europe<br>country=Italy<br>year=%{x}<br>lifeExp=%{y}<extra></extra>",
         "hovertext": [
          "Italy",
          "Italy",
          "Italy",
          "Italy",
          "Italy",
          "Italy",
          "Italy",
          "Italy",
          "Italy",
          "Italy",
          "Italy",
          "Italy"
         ],
         "legendgroup": "Europe",
         "line": {
          "color": "#636efa",
          "dash": "solid"
         },
         "mode": "lines",
         "name": "Europe",
         "showlegend": false,
         "type": "scattergl",
         "x": [
          1952,
          1957,
          1962,
          1967,
          1972,
          1977,
          1982,
          1987,
          1992,
          1997,
          2002,
          2007
         ],
         "xaxis": "x",
         "y": [
          65.94,
          67.81,
          69.24,
          71.06,
          72.19,
          73.48,
          74.98,
          76.42,
          77.44,
          78.82,
          80.24,
          80.546
         ],
         "yaxis": "y"
        },
        {
         "hovertemplate": "<b>%{hovertext}</b><br><br>continent=Europe<br>country=Montenegro<br>year=%{x}<br>lifeExp=%{y}<extra></extra>",
         "hovertext": [
          "Montenegro",
          "Montenegro",
          "Montenegro",
          "Montenegro",
          "Montenegro",
          "Montenegro",
          "Montenegro",
          "Montenegro",
          "Montenegro",
          "Montenegro",
          "Montenegro",
          "Montenegro"
         ],
         "legendgroup": "Europe",
         "line": {
          "color": "#636efa",
          "dash": "solid"
         },
         "mode": "lines",
         "name": "Europe",
         "showlegend": false,
         "type": "scattergl",
         "x": [
          1952,
          1957,
          1962,
          1967,
          1972,
          1977,
          1982,
          1987,
          1992,
          1997,
          2002,
          2007
         ],
         "xaxis": "x",
         "y": [
          59.164,
          61.448,
          63.728,
          67.178,
          70.636,
          73.066,
          74.101,
          74.865,
          75.435,
          75.445,
          73.981,
          74.543
         ],
         "yaxis": "y"
        },
        {
         "hovertemplate": "<b>%{hovertext}</b><br><br>continent=Europe<br>country=Netherlands<br>year=%{x}<br>lifeExp=%{y}<extra></extra>",
         "hovertext": [
          "Netherlands",
          "Netherlands",
          "Netherlands",
          "Netherlands",
          "Netherlands",
          "Netherlands",
          "Netherlands",
          "Netherlands",
          "Netherlands",
          "Netherlands",
          "Netherlands",
          "Netherlands"
         ],
         "legendgroup": "Europe",
         "line": {
          "color": "#636efa",
          "dash": "solid"
         },
         "mode": "lines",
         "name": "Europe",
         "showlegend": false,
         "type": "scattergl",
         "x": [
          1952,
          1957,
          1962,
          1967,
          1972,
          1977,
          1982,
          1987,
          1992,
          1997,
          2002,
          2007
         ],
         "xaxis": "x",
         "y": [
          72.13,
          72.99,
          73.23,
          73.82,
          73.75,
          75.24,
          76.05,
          76.83,
          77.42,
          78.03,
          78.53,
          79.762
         ],
         "yaxis": "y"
        },
        {
         "hovertemplate": "<b>%{hovertext}</b><br><br>continent=Europe<br>country=Norway<br>year=%{x}<br>lifeExp=%{y}<extra></extra>",
         "hovertext": [
          "Norway",
          "Norway",
          "Norway",
          "Norway",
          "Norway",
          "Norway",
          "Norway",
          "Norway",
          "Norway",
          "Norway",
          "Norway",
          "Norway"
         ],
         "legendgroup": "Europe",
         "line": {
          "color": "#636efa",
          "dash": "solid"
         },
         "mode": "lines",
         "name": "Europe",
         "showlegend": false,
         "type": "scattergl",
         "x": [
          1952,
          1957,
          1962,
          1967,
          1972,
          1977,
          1982,
          1987,
          1992,
          1997,
          2002,
          2007
         ],
         "xaxis": "x",
         "y": [
          72.67,
          73.44,
          73.47,
          74.08,
          74.34,
          75.37,
          75.97,
          75.89,
          77.32,
          78.32,
          79.05,
          80.196
         ],
         "yaxis": "y"
        },
        {
         "hovertemplate": "<b>%{hovertext}</b><br><br>continent=Europe<br>country=Poland<br>year=%{x}<br>lifeExp=%{y}<extra></extra>",
         "hovertext": [
          "Poland",
          "Poland",
          "Poland",
          "Poland",
          "Poland",
          "Poland",
          "Poland",
          "Poland",
          "Poland",
          "Poland",
          "Poland",
          "Poland"
         ],
         "legendgroup": "Europe",
         "line": {
          "color": "#636efa",
          "dash": "solid"
         },
         "mode": "lines",
         "name": "Europe",
         "showlegend": false,
         "type": "scattergl",
         "x": [
          1952,
          1957,
          1962,
          1967,
          1972,
          1977,
          1982,
          1987,
          1992,
          1997,
          2002,
          2007
         ],
         "xaxis": "x",
         "y": [
          61.31,
          65.77,
          67.64,
          69.61,
          70.85,
          70.67,
          71.32,
          70.98,
          70.99,
          72.75,
          74.67,
          75.563
         ],
         "yaxis": "y"
        },
        {
         "hovertemplate": "<b>%{hovertext}</b><br><br>continent=Europe<br>country=Portugal<br>year=%{x}<br>lifeExp=%{y}<extra></extra>",
         "hovertext": [
          "Portugal",
          "Portugal",
          "Portugal",
          "Portugal",
          "Portugal",
          "Portugal",
          "Portugal",
          "Portugal",
          "Portugal",
          "Portugal",
          "Portugal",
          "Portugal"
         ],
         "legendgroup": "Europe",
         "line": {
          "color": "#636efa",
          "dash": "solid"
         },
         "mode": "lines",
         "name": "Europe",
         "showlegend": false,
         "type": "scattergl",
         "x": [
          1952,
          1957,
          1962,
          1967,
          1972,
          1977,
          1982,
          1987,
          1992,
          1997,
          2002,
          2007
         ],
         "xaxis": "x",
         "y": [
          59.82,
          61.51,
          64.39,
          66.6,
          69.26,
          70.41,
          72.77,
          74.06,
          74.86,
          75.97,
          77.29,
          78.098
         ],
         "yaxis": "y"
        },
        {
         "hovertemplate": "<b>%{hovertext}</b><br><br>continent=Europe<br>country=Romania<br>year=%{x}<br>lifeExp=%{y}<extra></extra>",
         "hovertext": [
          "Romania",
          "Romania",
          "Romania",
          "Romania",
          "Romania",
          "Romania",
          "Romania",
          "Romania",
          "Romania",
          "Romania",
          "Romania",
          "Romania"
         ],
         "legendgroup": "Europe",
         "line": {
          "color": "#636efa",
          "dash": "solid"
         },
         "mode": "lines",
         "name": "Europe",
         "showlegend": false,
         "type": "scattergl",
         "x": [
          1952,
          1957,
          1962,
          1967,
          1972,
          1977,
          1982,
          1987,
          1992,
          1997,
          2002,
          2007
         ],
         "xaxis": "x",
         "y": [
          61.05,
          64.1,
          66.8,
          66.8,
          69.21,
          69.46,
          69.66,
          69.53,
          69.36,
          69.72,
          71.322,
          72.476
         ],
         "yaxis": "y"
        },
        {
         "hovertemplate": "<b>%{hovertext}</b><br><br>continent=Europe<br>country=Serbia<br>year=%{x}<br>lifeExp=%{y}<extra></extra>",
         "hovertext": [
          "Serbia",
          "Serbia",
          "Serbia",
          "Serbia",
          "Serbia",
          "Serbia",
          "Serbia",
          "Serbia",
          "Serbia",
          "Serbia",
          "Serbia",
          "Serbia"
         ],
         "legendgroup": "Europe",
         "line": {
          "color": "#636efa",
          "dash": "solid"
         },
         "mode": "lines",
         "name": "Europe",
         "showlegend": false,
         "type": "scattergl",
         "x": [
          1952,
          1957,
          1962,
          1967,
          1972,
          1977,
          1982,
          1987,
          1992,
          1997,
          2002,
          2007
         ],
         "xaxis": "x",
         "y": [
          57.996,
          61.685,
          64.531,
          66.914,
          68.7,
          70.3,
          70.162,
          71.218,
          71.659,
          72.232,
          73.213,
          74.002
         ],
         "yaxis": "y"
        },
        {
         "hovertemplate": "<b>%{hovertext}</b><br><br>continent=Europe<br>country=Slovak Republic<br>year=%{x}<br>lifeExp=%{y}<extra></extra>",
         "hovertext": [
          "Slovak Republic",
          "Slovak Republic",
          "Slovak Republic",
          "Slovak Republic",
          "Slovak Republic",
          "Slovak Republic",
          "Slovak Republic",
          "Slovak Republic",
          "Slovak Republic",
          "Slovak Republic",
          "Slovak Republic",
          "Slovak Republic"
         ],
         "legendgroup": "Europe",
         "line": {
          "color": "#636efa",
          "dash": "solid"
         },
         "mode": "lines",
         "name": "Europe",
         "showlegend": false,
         "type": "scattergl",
         "x": [
          1952,
          1957,
          1962,
          1967,
          1972,
          1977,
          1982,
          1987,
          1992,
          1997,
          2002,
          2007
         ],
         "xaxis": "x",
         "y": [
          64.36,
          67.45,
          70.33,
          70.98,
          70.35,
          70.45,
          70.8,
          71.08,
          71.38,
          72.71,
          73.8,
          74.663
         ],
         "yaxis": "y"
        },
        {
         "hovertemplate": "<b>%{hovertext}</b><br><br>continent=Europe<br>country=Slovenia<br>year=%{x}<br>lifeExp=%{y}<extra></extra>",
         "hovertext": [
          "Slovenia",
          "Slovenia",
          "Slovenia",
          "Slovenia",
          "Slovenia",
          "Slovenia",
          "Slovenia",
          "Slovenia",
          "Slovenia",
          "Slovenia",
          "Slovenia",
          "Slovenia"
         ],
         "legendgroup": "Europe",
         "line": {
          "color": "#636efa",
          "dash": "solid"
         },
         "mode": "lines",
         "name": "Europe",
         "showlegend": false,
         "type": "scattergl",
         "x": [
          1952,
          1957,
          1962,
          1967,
          1972,
          1977,
          1982,
          1987,
          1992,
          1997,
          2002,
          2007
         ],
         "xaxis": "x",
         "y": [
          65.57,
          67.85,
          69.15,
          69.18,
          69.82,
          70.97,
          71.063,
          72.25,
          73.64,
          75.13,
          76.66,
          77.926
         ],
         "yaxis": "y"
        },
        {
         "hovertemplate": "<b>%{hovertext}</b><br><br>continent=Europe<br>country=Spain<br>year=%{x}<br>lifeExp=%{y}<extra></extra>",
         "hovertext": [
          "Spain",
          "Spain",
          "Spain",
          "Spain",
          "Spain",
          "Spain",
          "Spain",
          "Spain",
          "Spain",
          "Spain",
          "Spain",
          "Spain"
         ],
         "legendgroup": "Europe",
         "line": {
          "color": "#636efa",
          "dash": "solid"
         },
         "mode": "lines",
         "name": "Europe",
         "showlegend": false,
         "type": "scattergl",
         "x": [
          1952,
          1957,
          1962,
          1967,
          1972,
          1977,
          1982,
          1987,
          1992,
          1997,
          2002,
          2007
         ],
         "xaxis": "x",
         "y": [
          64.94,
          66.66,
          69.69,
          71.44,
          73.06,
          74.39,
          76.3,
          76.9,
          77.57,
          78.77,
          79.78,
          80.941
         ],
         "yaxis": "y"
        },
        {
         "hovertemplate": "<b>%{hovertext}</b><br><br>continent=Europe<br>country=Sweden<br>year=%{x}<br>lifeExp=%{y}<extra></extra>",
         "hovertext": [
          "Sweden",
          "Sweden",
          "Sweden",
          "Sweden",
          "Sweden",
          "Sweden",
          "Sweden",
          "Sweden",
          "Sweden",
          "Sweden",
          "Sweden",
          "Sweden"
         ],
         "legendgroup": "Europe",
         "line": {
          "color": "#636efa",
          "dash": "solid"
         },
         "mode": "lines",
         "name": "Europe",
         "showlegend": false,
         "type": "scattergl",
         "x": [
          1952,
          1957,
          1962,
          1967,
          1972,
          1977,
          1982,
          1987,
          1992,
          1997,
          2002,
          2007
         ],
         "xaxis": "x",
         "y": [
          71.86,
          72.49,
          73.37,
          74.16,
          74.72,
          75.44,
          76.42,
          77.19,
          78.16,
          79.39,
          80.04,
          80.884
         ],
         "yaxis": "y"
        },
        {
         "hovertemplate": "<b>%{hovertext}</b><br><br>continent=Europe<br>country=Switzerland<br>year=%{x}<br>lifeExp=%{y}<extra></extra>",
         "hovertext": [
          "Switzerland",
          "Switzerland",
          "Switzerland",
          "Switzerland",
          "Switzerland",
          "Switzerland",
          "Switzerland",
          "Switzerland",
          "Switzerland",
          "Switzerland",
          "Switzerland",
          "Switzerland"
         ],
         "legendgroup": "Europe",
         "line": {
          "color": "#636efa",
          "dash": "solid"
         },
         "mode": "lines",
         "name": "Europe",
         "showlegend": false,
         "type": "scattergl",
         "x": [
          1952,
          1957,
          1962,
          1967,
          1972,
          1977,
          1982,
          1987,
          1992,
          1997,
          2002,
          2007
         ],
         "xaxis": "x",
         "y": [
          69.62,
          70.56,
          71.32,
          72.77,
          73.78,
          75.39,
          76.21,
          77.41,
          78.03,
          79.37,
          80.62,
          81.701
         ],
         "yaxis": "y"
        },
        {
         "hovertemplate": "<b>%{hovertext}</b><br><br>continent=Europe<br>country=Turkey<br>year=%{x}<br>lifeExp=%{y}<extra></extra>",
         "hovertext": [
          "Turkey",
          "Turkey",
          "Turkey",
          "Turkey",
          "Turkey",
          "Turkey",
          "Turkey",
          "Turkey",
          "Turkey",
          "Turkey",
          "Turkey",
          "Turkey"
         ],
         "legendgroup": "Europe",
         "line": {
          "color": "#636efa",
          "dash": "solid"
         },
         "mode": "lines",
         "name": "Europe",
         "showlegend": false,
         "type": "scattergl",
         "x": [
          1952,
          1957,
          1962,
          1967,
          1972,
          1977,
          1982,
          1987,
          1992,
          1997,
          2002,
          2007
         ],
         "xaxis": "x",
         "y": [
          43.585,
          48.079,
          52.098,
          54.336,
          57.005,
          59.507,
          61.036,
          63.108,
          66.146,
          68.835,
          70.845,
          71.777
         ],
         "yaxis": "y"
        },
        {
         "hovertemplate": "<b>%{hovertext}</b><br><br>continent=Europe<br>country=United Kingdom<br>year=%{x}<br>lifeExp=%{y}<extra></extra>",
         "hovertext": [
          "United Kingdom",
          "United Kingdom",
          "United Kingdom",
          "United Kingdom",
          "United Kingdom",
          "United Kingdom",
          "United Kingdom",
          "United Kingdom",
          "United Kingdom",
          "United Kingdom",
          "United Kingdom",
          "United Kingdom"
         ],
         "legendgroup": "Europe",
         "line": {
          "color": "#636efa",
          "dash": "solid"
         },
         "mode": "lines",
         "name": "Europe",
         "showlegend": false,
         "type": "scattergl",
         "x": [
          1952,
          1957,
          1962,
          1967,
          1972,
          1977,
          1982,
          1987,
          1992,
          1997,
          2002,
          2007
         ],
         "xaxis": "x",
         "y": [
          69.18,
          70.42,
          70.76,
          71.36,
          72.01,
          72.76,
          74.04,
          75.007,
          76.42,
          77.218,
          78.471,
          79.425
         ],
         "yaxis": "y"
        },
        {
         "hovertemplate": "<b>%{hovertext}</b><br><br>continent=Africa<br>country=Algeria<br>year=%{x}<br>lifeExp=%{y}<extra></extra>",
         "hovertext": [
          "Algeria",
          "Algeria",
          "Algeria",
          "Algeria",
          "Algeria",
          "Algeria",
          "Algeria",
          "Algeria",
          "Algeria",
          "Algeria",
          "Algeria",
          "Algeria"
         ],
         "legendgroup": "Africa",
         "line": {
          "color": "#EF553B",
          "dash": "solid"
         },
         "mode": "lines",
         "name": "Africa",
         "showlegend": true,
         "type": "scattergl",
         "x": [
          1952,
          1957,
          1962,
          1967,
          1972,
          1977,
          1982,
          1987,
          1992,
          1997,
          2002,
          2007
         ],
         "xaxis": "x",
         "y": [
          43.077,
          45.685,
          48.303,
          51.407,
          54.518,
          58.014,
          61.368,
          65.799,
          67.744,
          69.152,
          70.994,
          72.301
         ],
         "yaxis": "y"
        },
        {
         "hovertemplate": "<b>%{hovertext}</b><br><br>continent=Africa<br>country=Angola<br>year=%{x}<br>lifeExp=%{y}<extra></extra>",
         "hovertext": [
          "Angola",
          "Angola",
          "Angola",
          "Angola",
          "Angola",
          "Angola",
          "Angola",
          "Angola",
          "Angola",
          "Angola",
          "Angola",
          "Angola"
         ],
         "legendgroup": "Africa",
         "line": {
          "color": "#EF553B",
          "dash": "solid"
         },
         "mode": "lines",
         "name": "Africa",
         "showlegend": false,
         "type": "scattergl",
         "x": [
          1952,
          1957,
          1962,
          1967,
          1972,
          1977,
          1982,
          1987,
          1992,
          1997,
          2002,
          2007
         ],
         "xaxis": "x",
         "y": [
          30.015,
          31.999,
          34.0,
          35.985,
          37.928,
          39.483,
          39.942,
          39.906,
          40.647,
          40.963,
          41.003,
          42.731
         ],
         "yaxis": "y"
        },
        {
         "hovertemplate": "<b>%{hovertext}</b><br><br>continent=Africa<br>country=Benin<br>year=%{x}<br>lifeExp=%{y}<extra></extra>",
         "hovertext": [
          "Benin",
          "Benin",
          "Benin",
          "Benin",
          "Benin",
          "Benin",
          "Benin",
          "Benin",
          "Benin",
          "Benin",
          "Benin",
          "Benin"
         ],
         "legendgroup": "Africa",
         "line": {
          "color": "#EF553B",
          "dash": "solid"
         },
         "mode": "lines",
         "name": "Africa",
         "showlegend": false,
         "type": "scattergl",
         "x": [
          1952,
          1957,
          1962,
          1967,
          1972,
          1977,
          1982,
          1987,
          1992,
          1997,
          2002,
          2007
         ],
         "xaxis": "x",
         "y": [
          38.223,
          40.358,
          42.618,
          44.885,
          47.014,
          49.19,
          50.904,
          52.337,
          53.919,
          54.777,
          54.406,
          56.728
         ],
         "yaxis": "y"
        },
        {
         "hovertemplate": "<b>%{hovertext}</b><br><br>continent=Africa<br>country=Botswana<br>year=%{x}<br>lifeExp=%{y}<extra></extra>",
         "hovertext": [
          "Botswana",
          "Botswana",
          "Botswana",
          "Botswana",
          "Botswana",
          "Botswana",
          "Botswana",
          "Botswana",
          "Botswana",
          "Botswana",
          "Botswana",
          "Botswana"
         ],
         "legendgroup": "Africa",
         "line": {
          "color": "#EF553B",
          "dash": "solid"
         },
         "mode": "lines",
         "name": "Africa",
         "showlegend": false,
         "type": "scattergl",
         "x": [
          1952,
          1957,
          1962,
          1967,
          1972,
          1977,
          1982,
          1987,
          1992,
          1997,
          2002,
          2007
         ],
         "xaxis": "x",
         "y": [
          47.622,
          49.618,
          51.52,
          53.298,
          56.024,
          59.319,
          61.484,
          63.622,
          62.745,
          52.556,
          46.634,
          50.728
         ],
         "yaxis": "y"
        },
        {
         "hovertemplate": "<b>%{hovertext}</b><br><br>continent=Africa<br>country=Burkina Faso<br>year=%{x}<br>lifeExp=%{y}<extra></extra>",
         "hovertext": [
          "Burkina Faso",
          "Burkina Faso",
          "Burkina Faso",
          "Burkina Faso",
          "Burkina Faso",
          "Burkina Faso",
          "Burkina Faso",
          "Burkina Faso",
          "Burkina Faso",
          "Burkina Faso",
          "Burkina Faso",
          "Burkina Faso"
         ],
         "legendgroup": "Africa",
         "line": {
          "color": "#EF553B",
          "dash": "solid"
         },
         "mode": "lines",
         "name": "Africa",
         "showlegend": false,
         "type": "scattergl",
         "x": [
          1952,
          1957,
          1962,
          1967,
          1972,
          1977,
          1982,
          1987,
          1992,
          1997,
          2002,
          2007
         ],
         "xaxis": "x",
         "y": [
          31.975,
          34.906,
          37.814,
          40.697,
          43.591,
          46.137,
          48.122,
          49.557,
          50.26,
          50.324,
          50.65,
          52.295
         ],
         "yaxis": "y"
        },
        {
         "hovertemplate": "<b>%{hovertext}</b><br><br>continent=Africa<br>country=Burundi<br>year=%{x}<br>lifeExp=%{y}<extra></extra>",
         "hovertext": [
          "Burundi",
          "Burundi",
          "Burundi",
          "Burundi",
          "Burundi",
          "Burundi",
          "Burundi",
          "Burundi",
          "Burundi",
          "Burundi",
          "Burundi",
          "Burundi"
         ],
         "legendgroup": "Africa",
         "line": {
          "color": "#EF553B",
          "dash": "solid"
         },
         "mode": "lines",
         "name": "Africa",
         "showlegend": false,
         "type": "scattergl",
         "x": [
          1952,
          1957,
          1962,
          1967,
          1972,
          1977,
          1982,
          1987,
          1992,
          1997,
          2002,
          2007
         ],
         "xaxis": "x",
         "y": [
          39.031,
          40.533,
          42.045,
          43.548,
          44.057,
          45.91,
          47.471,
          48.211,
          44.736,
          45.326,
          47.36,
          49.58
         ],
         "yaxis": "y"
        },
        {
         "hovertemplate": "<b>%{hovertext}</b><br><br>continent=Africa<br>country=Cameroon<br>year=%{x}<br>lifeExp=%{y}<extra></extra>",
         "hovertext": [
          "Cameroon",
          "Cameroon",
          "Cameroon",
          "Cameroon",
          "Cameroon",
          "Cameroon",
          "Cameroon",
          "Cameroon",
          "Cameroon",
          "Cameroon",
          "Cameroon",
          "Cameroon"
         ],
         "legendgroup": "Africa",
         "line": {
          "color": "#EF553B",
          "dash": "solid"
         },
         "mode": "lines",
         "name": "Africa",
         "showlegend": false,
         "type": "scattergl",
         "x": [
          1952,
          1957,
          1962,
          1967,
          1972,
          1977,
          1982,
          1987,
          1992,
          1997,
          2002,
          2007
         ],
         "xaxis": "x",
         "y": [
          38.523,
          40.428,
          42.643,
          44.799,
          47.049,
          49.355,
          52.961,
          54.985,
          54.314,
          52.199,
          49.856,
          50.43
         ],
         "yaxis": "y"
        },
        {
         "hovertemplate": "<b>%{hovertext}</b><br><br>continent=Africa<br>country=Central African Republic<br>year=%{x}<br>lifeExp=%{y}<extra></extra>",
         "hovertext": [
          "Central African Republic",
          "Central African Republic",
          "Central African Republic",
          "Central African Republic",
          "Central African Republic",
          "Central African Republic",
          "Central African Republic",
          "Central African Republic",
          "Central African Republic",
          "Central African Republic",
          "Central African Republic",
          "Central African Republic"
         ],
         "legendgroup": "Africa",
         "line": {
          "color": "#EF553B",
          "dash": "solid"
         },
         "mode": "lines",
         "name": "Africa",
         "showlegend": false,
         "type": "scattergl",
         "x": [
          1952,
          1957,
          1962,
          1967,
          1972,
          1977,
          1982,
          1987,
          1992,
          1997,
          2002,
          2007
         ],
         "xaxis": "x",
         "y": [
          35.463,
          37.464,
          39.475,
          41.478,
          43.457,
          46.775,
          48.295,
          50.485,
          49.396,
          46.066,
          43.308,
          44.741
         ],
         "yaxis": "y"
        },
        {
         "hovertemplate": "<b>%{hovertext}</b><br><br>continent=Africa<br>country=Chad<br>year=%{x}<br>lifeExp=%{y}<extra></extra>",
         "hovertext": [
          "Chad",
          "Chad",
          "Chad",
          "Chad",
          "Chad",
          "Chad",
          "Chad",
          "Chad",
          "Chad",
          "Chad",
          "Chad",
          "Chad"
         ],
         "legendgroup": "Africa",
         "line": {
          "color": "#EF553B",
          "dash": "solid"
         },
         "mode": "lines",
         "name": "Africa",
         "showlegend": false,
         "type": "scattergl",
         "x": [
          1952,
          1957,
          1962,
          1967,
          1972,
          1977,
          1982,
          1987,
          1992,
          1997,
          2002,
          2007
         ],
         "xaxis": "x",
         "y": [
          38.092,
          39.881,
          41.716,
          43.601,
          45.569,
          47.383,
          49.517,
          51.051,
          51.724,
          51.573,
          50.525,
          50.651
         ],
         "yaxis": "y"
        },
        {
         "hovertemplate": "<b>%{hovertext}</b><br><br>continent=Africa<br>country=Comoros<br>year=%{x}<br>lifeExp=%{y}<extra></extra>",
         "hovertext": [
          "Comoros",
          "Comoros",
          "Comoros",
          "Comoros",
          "Comoros",
          "Comoros",
          "Comoros",
          "Comoros",
          "Comoros",
          "Comoros",
          "Comoros",
          "Comoros"
         ],
         "legendgroup": "Africa",
         "line": {
          "color": "#EF553B",
          "dash": "solid"
         },
         "mode": "lines",
         "name": "Africa",
         "showlegend": false,
         "type": "scattergl",
         "x": [
          1952,
          1957,
          1962,
          1967,
          1972,
          1977,
          1982,
          1987,
          1992,
          1997,
          2002,
          2007
         ],
         "xaxis": "x",
         "y": [
          40.715,
          42.46,
          44.467,
          46.472,
          48.944,
          50.939,
          52.933,
          54.926,
          57.939,
          60.66,
          62.974,
          65.152
         ],
         "yaxis": "y"
        },
        {
         "hovertemplate": "<b>%{hovertext}</b><br><br>continent=Africa<br>country=Congo, Dem. Rep.<br>year=%{x}<br>lifeExp=%{y}<extra></extra>",
         "hovertext": [
          "Congo, Dem. Rep.",
          "Congo, Dem. Rep.",
          "Congo, Dem. Rep.",
          "Congo, Dem. Rep.",
          "Congo, Dem. Rep.",
          "Congo, Dem. Rep.",
          "Congo, Dem. Rep.",
          "Congo, Dem. Rep.",
          "Congo, Dem. Rep.",
          "Congo, Dem. Rep.",
          "Congo, Dem. Rep.",
          "Congo, Dem. Rep."
         ],
         "legendgroup": "Africa",
         "line": {
          "color": "#EF553B",
          "dash": "solid"
         },
         "mode": "lines",
         "name": "Africa",
         "showlegend": false,
         "type": "scattergl",
         "x": [
          1952,
          1957,
          1962,
          1967,
          1972,
          1977,
          1982,
          1987,
          1992,
          1997,
          2002,
          2007
         ],
         "xaxis": "x",
         "y": [
          39.143,
          40.652,
          42.122,
          44.056,
          45.989,
          47.804,
          47.784,
          47.412,
          45.548,
          42.587,
          44.966,
          46.462
         ],
         "yaxis": "y"
        },
        {
         "hovertemplate": "<b>%{hovertext}</b><br><br>continent=Africa<br>country=Congo, Rep.<br>year=%{x}<br>lifeExp=%{y}<extra></extra>",
         "hovertext": [
          "Congo, Rep.",
          "Congo, Rep.",
          "Congo, Rep.",
          "Congo, Rep.",
          "Congo, Rep.",
          "Congo, Rep.",
          "Congo, Rep.",
          "Congo, Rep.",
          "Congo, Rep.",
          "Congo, Rep.",
          "Congo, Rep.",
          "Congo, Rep."
         ],
         "legendgroup": "Africa",
         "line": {
          "color": "#EF553B",
          "dash": "solid"
         },
         "mode": "lines",
         "name": "Africa",
         "showlegend": false,
         "type": "scattergl",
         "x": [
          1952,
          1957,
          1962,
          1967,
          1972,
          1977,
          1982,
          1987,
          1992,
          1997,
          2002,
          2007
         ],
         "xaxis": "x",
         "y": [
          42.111,
          45.053,
          48.435,
          52.04,
          54.907,
          55.625,
          56.695,
          57.47,
          56.433,
          52.962,
          52.97,
          55.322
         ],
         "yaxis": "y"
        },
        {
         "hovertemplate": "<b>%{hovertext}</b><br><br>continent=Africa<br>country=Cote d'Ivoire<br>year=%{x}<br>lifeExp=%{y}<extra></extra>",
         "hovertext": [
          "Cote d'Ivoire",
          "Cote d'Ivoire",
          "Cote d'Ivoire",
          "Cote d'Ivoire",
          "Cote d'Ivoire",
          "Cote d'Ivoire",
          "Cote d'Ivoire",
          "Cote d'Ivoire",
          "Cote d'Ivoire",
          "Cote d'Ivoire",
          "Cote d'Ivoire",
          "Cote d'Ivoire"
         ],
         "legendgroup": "Africa",
         "line": {
          "color": "#EF553B",
          "dash": "solid"
         },
         "mode": "lines",
         "name": "Africa",
         "showlegend": false,
         "type": "scattergl",
         "x": [
          1952,
          1957,
          1962,
          1967,
          1972,
          1977,
          1982,
          1987,
          1992,
          1997,
          2002,
          2007
         ],
         "xaxis": "x",
         "y": [
          40.477,
          42.469,
          44.93,
          47.35,
          49.801,
          52.374,
          53.983,
          54.655,
          52.044,
          47.991,
          46.832,
          48.328
         ],
         "yaxis": "y"
        },
        {
         "hovertemplate": "<b>%{hovertext}</b><br><br>continent=Africa<br>country=Djibouti<br>year=%{x}<br>lifeExp=%{y}<extra></extra>",
         "hovertext": [
          "Djibouti",
          "Djibouti",
          "Djibouti",
          "Djibouti",
          "Djibouti",
          "Djibouti",
          "Djibouti",
          "Djibouti",
          "Djibouti",
          "Djibouti",
          "Djibouti",
          "Djibouti"
         ],
         "legendgroup": "Africa",
         "line": {
          "color": "#EF553B",
          "dash": "solid"
         },
         "mode": "lines",
         "name": "Africa",
         "showlegend": false,
         "type": "scattergl",
         "x": [
          1952,
          1957,
          1962,
          1967,
          1972,
          1977,
          1982,
          1987,
          1992,
          1997,
          2002,
          2007
         ],
         "xaxis": "x",
         "y": [
          34.812,
          37.328,
          39.693,
          42.074,
          44.366,
          46.519,
          48.812,
          50.04,
          51.604,
          53.157,
          53.373,
          54.791
         ],
         "yaxis": "y"
        },
        {
         "hovertemplate": "<b>%{hovertext}</b><br><br>continent=Africa<br>country=Egypt<br>year=%{x}<br>lifeExp=%{y}<extra></extra>",
         "hovertext": [
          "Egypt",
          "Egypt",
          "Egypt",
          "Egypt",
          "Egypt",
          "Egypt",
          "Egypt",
          "Egypt",
          "Egypt",
          "Egypt",
          "Egypt",
          "Egypt"
         ],
         "legendgroup": "Africa",
         "line": {
          "color": "#EF553B",
          "dash": "solid"
         },
         "mode": "lines",
         "name": "Africa",
         "showlegend": false,
         "type": "scattergl",
         "x": [
          1952,
          1957,
          1962,
          1967,
          1972,
          1977,
          1982,
          1987,
          1992,
          1997,
          2002,
          2007
         ],
         "xaxis": "x",
         "y": [
          41.893,
          44.444,
          46.992,
          49.293,
          51.137,
          53.319,
          56.006,
          59.797,
          63.674,
          67.217,
          69.806,
          71.338
         ],
         "yaxis": "y"
        },
        {
         "hovertemplate": "<b>%{hovertext}</b><br><br>continent=Africa<br>country=Equatorial Guinea<br>year=%{x}<br>lifeExp=%{y}<extra></extra>",
         "hovertext": [
          "Equatorial Guinea",
          "Equatorial Guinea",
          "Equatorial Guinea",
          "Equatorial Guinea",
          "Equatorial Guinea",
          "Equatorial Guinea",
          "Equatorial Guinea",
          "Equatorial Guinea",
          "Equatorial Guinea",
          "Equatorial Guinea",
          "Equatorial Guinea",
          "Equatorial Guinea"
         ],
         "legendgroup": "Africa",
         "line": {
          "color": "#EF553B",
          "dash": "solid"
         },
         "mode": "lines",
         "name": "Africa",
         "showlegend": false,
         "type": "scattergl",
         "x": [
          1952,
          1957,
          1962,
          1967,
          1972,
          1977,
          1982,
          1987,
          1992,
          1997,
          2002,
          2007
         ],
         "xaxis": "x",
         "y": [
          34.482,
          35.983,
          37.485,
          38.987,
          40.516,
          42.024,
          43.662,
          45.664,
          47.545,
          48.245,
          49.348,
          51.579
         ],
         "yaxis": "y"
        },
        {
         "hovertemplate": "<b>%{hovertext}</b><br><br>continent=Africa<br>country=Eritrea<br>year=%{x}<br>lifeExp=%{y}<extra></extra>",
         "hovertext": [
          "Eritrea",
          "Eritrea",
          "Eritrea",
          "Eritrea",
          "Eritrea",
          "Eritrea",
          "Eritrea",
          "Eritrea",
          "Eritrea",
          "Eritrea",
          "Eritrea",
          "Eritrea"
         ],
         "legendgroup": "Africa",
         "line": {
          "color": "#EF553B",
          "dash": "solid"
         },
         "mode": "lines",
         "name": "Africa",
         "showlegend": false,
         "type": "scattergl",
         "x": [
          1952,
          1957,
          1962,
          1967,
          1972,
          1977,
          1982,
          1987,
          1992,
          1997,
          2002,
          2007
         ],
         "xaxis": "x",
         "y": [
          35.928,
          38.047,
          40.158,
          42.189,
          44.142,
          44.535,
          43.89,
          46.453,
          49.991,
          53.378,
          55.24,
          58.04
         ],
         "yaxis": "y"
        },
        {
         "hovertemplate": "<b>%{hovertext}</b><br><br>continent=Africa<br>country=Ethiopia<br>year=%{x}<br>lifeExp=%{y}<extra></extra>",
         "hovertext": [
          "Ethiopia",
          "Ethiopia",
          "Ethiopia",
          "Ethiopia",
          "Ethiopia",
          "Ethiopia",
          "Ethiopia",
          "Ethiopia",
          "Ethiopia",
          "Ethiopia",
          "Ethiopia",
          "Ethiopia"
         ],
         "legendgroup": "Africa",
         "line": {
          "color": "#EF553B",
          "dash": "solid"
         },
         "mode": "lines",
         "name": "Africa",
         "showlegend": false,
         "type": "scattergl",
         "x": [
          1952,
          1957,
          1962,
          1967,
          1972,
          1977,
          1982,
          1987,
          1992,
          1997,
          2002,
          2007
         ],
         "xaxis": "x",
         "y": [
          34.078,
          36.667,
          40.059,
          42.115,
          43.515,
          44.51,
          44.916,
          46.684,
          48.091,
          49.402,
          50.725,
          52.947
         ],
         "yaxis": "y"
        },
        {
         "hovertemplate": "<b>%{hovertext}</b><br><br>continent=Africa<br>country=Gabon<br>year=%{x}<br>lifeExp=%{y}<extra></extra>",
         "hovertext": [
          "Gabon",
          "Gabon",
          "Gabon",
          "Gabon",
          "Gabon",
          "Gabon",
          "Gabon",
          "Gabon",
          "Gabon",
          "Gabon",
          "Gabon",
          "Gabon"
         ],
         "legendgroup": "Africa",
         "line": {
          "color": "#EF553B",
          "dash": "solid"
         },
         "mode": "lines",
         "name": "Africa",
         "showlegend": false,
         "type": "scattergl",
         "x": [
          1952,
          1957,
          1962,
          1967,
          1972,
          1977,
          1982,
          1987,
          1992,
          1997,
          2002,
          2007
         ],
         "xaxis": "x",
         "y": [
          37.003,
          38.999,
          40.489,
          44.598,
          48.69,
          52.79,
          56.564,
          60.19,
          61.366,
          60.461,
          56.761,
          56.735
         ],
         "yaxis": "y"
        },
        {
         "hovertemplate": "<b>%{hovertext}</b><br><br>continent=Africa<br>country=Gambia<br>year=%{x}<br>lifeExp=%{y}<extra></extra>",
         "hovertext": [
          "Gambia",
          "Gambia",
          "Gambia",
          "Gambia",
          "Gambia",
          "Gambia",
          "Gambia",
          "Gambia",
          "Gambia",
          "Gambia",
          "Gambia",
          "Gambia"
         ],
         "legendgroup": "Africa",
         "line": {
          "color": "#EF553B",
          "dash": "solid"
         },
         "mode": "lines",
         "name": "Africa",
         "showlegend": false,
         "type": "scattergl",
         "x": [
          1952,
          1957,
          1962,
          1967,
          1972,
          1977,
          1982,
          1987,
          1992,
          1997,
          2002,
          2007
         ],
         "xaxis": "x",
         "y": [
          30.0,
          32.065,
          33.896,
          35.857,
          38.308,
          41.842,
          45.58,
          49.265,
          52.644,
          55.861,
          58.041,
          59.448
         ],
         "yaxis": "y"
        },
        {
         "hovertemplate": "<b>%{hovertext}</b><br><br>continent=Africa<br>country=Ghana<br>year=%{x}<br>lifeExp=%{y}<extra></extra>",
         "hovertext": [
          "Ghana",
          "Ghana",
          "Ghana",
          "Ghana",
          "Ghana",
          "Ghana",
          "Ghana",
          "Ghana",
          "Ghana",
          "Ghana",
          "Ghana",
          "Ghana"
         ],
         "legendgroup": "Africa",
         "line": {
          "color": "#EF553B",
          "dash": "solid"
         },
         "mode": "lines",
         "name": "Africa",
         "showlegend": false,
         "type": "scattergl",
         "x": [
          1952,
          1957,
          1962,
          1967,
          1972,
          1977,
          1982,
          1987,
          1992,
          1997,
          2002,
          2007
         ],
         "xaxis": "x",
         "y": [
          43.149,
          44.779,
          46.452,
          48.072,
          49.875,
          51.756,
          53.744,
          55.729,
          57.501,
          58.556,
          58.453,
          60.022
         ],
         "yaxis": "y"
        },
        {
         "hovertemplate": "<b>%{hovertext}</b><br><br>continent=Africa<br>country=Guinea<br>year=%{x}<br>lifeExp=%{y}<extra></extra>",
         "hovertext": [
          "Guinea",
          "Guinea",
          "Guinea",
          "Guinea",
          "Guinea",
          "Guinea",
          "Guinea",
          "Guinea",
          "Guinea",
          "Guinea",
          "Guinea",
          "Guinea"
         ],
         "legendgroup": "Africa",
         "line": {
          "color": "#EF553B",
          "dash": "solid"
         },
         "mode": "lines",
         "name": "Africa",
         "showlegend": false,
         "type": "scattergl",
         "x": [
          1952,
          1957,
          1962,
          1967,
          1972,
          1977,
          1982,
          1987,
          1992,
          1997,
          2002,
          2007
         ],
         "xaxis": "x",
         "y": [
          33.609,
          34.558,
          35.753,
          37.197,
          38.842,
          40.762,
          42.891,
          45.552,
          48.576,
          51.455,
          53.676,
          56.007
         ],
         "yaxis": "y"
        },
        {
         "hovertemplate": "<b>%{hovertext}</b><br><br>continent=Africa<br>country=Guinea-Bissau<br>year=%{x}<br>lifeExp=%{y}<extra></extra>",
         "hovertext": [
          "Guinea-Bissau",
          "Guinea-Bissau",
          "Guinea-Bissau",
          "Guinea-Bissau",
          "Guinea-Bissau",
          "Guinea-Bissau",
          "Guinea-Bissau",
          "Guinea-Bissau",
          "Guinea-Bissau",
          "Guinea-Bissau",
          "Guinea-Bissau",
          "Guinea-Bissau"
         ],
         "legendgroup": "Africa",
         "line": {
          "color": "#EF553B",
          "dash": "solid"
         },
         "mode": "lines",
         "name": "Africa",
         "showlegend": false,
         "type": "scattergl",
         "x": [
          1952,
          1957,
          1962,
          1967,
          1972,
          1977,
          1982,
          1987,
          1992,
          1997,
          2002,
          2007
         ],
         "xaxis": "x",
         "y": [
          32.5,
          33.489,
          34.488,
          35.492,
          36.486,
          37.465,
          39.327,
          41.245,
          43.266,
          44.873,
          45.504,
          46.388
         ],
         "yaxis": "y"
        },
        {
         "hovertemplate": "<b>%{hovertext}</b><br><br>continent=Africa<br>country=Kenya<br>year=%{x}<br>lifeExp=%{y}<extra></extra>",
         "hovertext": [
          "Kenya",
          "Kenya",
          "Kenya",
          "Kenya",
          "Kenya",
          "Kenya",
          "Kenya",
          "Kenya",
          "Kenya",
          "Kenya",
          "Kenya",
          "Kenya"
         ],
         "legendgroup": "Africa",
         "line": {
          "color": "#EF553B",
          "dash": "solid"
         },
         "mode": "lines",
         "name": "Africa",
         "showlegend": false,
         "type": "scattergl",
         "x": [
          1952,
          1957,
          1962,
          1967,
          1972,
          1977,
          1982,
          1987,
          1992,
          1997,
          2002,
          2007
         ],
         "xaxis": "x",
         "y": [
          42.27,
          44.686,
          47.949,
          50.654,
          53.559,
          56.155,
          58.766,
          59.339,
          59.285,
          54.407,
          50.992,
          54.11
         ],
         "yaxis": "y"
        },
        {
         "hovertemplate": "<b>%{hovertext}</b><br><br>continent=Africa<br>country=Lesotho<br>year=%{x}<br>lifeExp=%{y}<extra></extra>",
         "hovertext": [
          "Lesotho",
          "Lesotho",
          "Lesotho",
          "Lesotho",
          "Lesotho",
          "Lesotho",
          "Lesotho",
          "Lesotho",
          "Lesotho",
          "Lesotho",
          "Lesotho",
          "Lesotho"
         ],
         "legendgroup": "Africa",
         "line": {
          "color": "#EF553B",
          "dash": "solid"
         },
         "mode": "lines",
         "name": "Africa",
         "showlegend": false,
         "type": "scattergl",
         "x": [
          1952,
          1957,
          1962,
          1967,
          1972,
          1977,
          1982,
          1987,
          1992,
          1997,
          2002,
          2007
         ],
         "xaxis": "x",
         "y": [
          42.138,
          45.047,
          47.747,
          48.492,
          49.767,
          52.208,
          55.078,
          57.18,
          59.685,
          55.558,
          44.593,
          42.592
         ],
         "yaxis": "y"
        },
        {
         "hovertemplate": "<b>%{hovertext}</b><br><br>continent=Africa<br>country=Liberia<br>year=%{x}<br>lifeExp=%{y}<extra></extra>",
         "hovertext": [
          "Liberia",
          "Liberia",
          "Liberia",
          "Liberia",
          "Liberia",
          "Liberia",
          "Liberia",
          "Liberia",
          "Liberia",
          "Liberia",
          "Liberia",
          "Liberia"
         ],
         "legendgroup": "Africa",
         "line": {
          "color": "#EF553B",
          "dash": "solid"
         },
         "mode": "lines",
         "name": "Africa",
         "showlegend": false,
         "type": "scattergl",
         "x": [
          1952,
          1957,
          1962,
          1967,
          1972,
          1977,
          1982,
          1987,
          1992,
          1997,
          2002,
          2007
         ],
         "xaxis": "x",
         "y": [
          38.48,
          39.486,
          40.502,
          41.536,
          42.614,
          43.764,
          44.852,
          46.027,
          40.802,
          42.221,
          43.753,
          45.678
         ],
         "yaxis": "y"
        },
        {
         "hovertemplate": "<b>%{hovertext}</b><br><br>continent=Africa<br>country=Libya<br>year=%{x}<br>lifeExp=%{y}<extra></extra>",
         "hovertext": [
          "Libya",
          "Libya",
          "Libya",
          "Libya",
          "Libya",
          "Libya",
          "Libya",
          "Libya",
          "Libya",
          "Libya",
          "Libya",
          "Libya"
         ],
         "legendgroup": "Africa",
         "line": {
          "color": "#EF553B",
          "dash": "solid"
         },
         "mode": "lines",
         "name": "Africa",
         "showlegend": false,
         "type": "scattergl",
         "x": [
          1952,
          1957,
          1962,
          1967,
          1972,
          1977,
          1982,
          1987,
          1992,
          1997,
          2002,
          2007
         ],
         "xaxis": "x",
         "y": [
          42.723,
          45.289,
          47.808,
          50.227,
          52.773,
          57.442,
          62.155,
          66.234,
          68.755,
          71.555,
          72.737,
          73.952
         ],
         "yaxis": "y"
        },
        {
         "hovertemplate": "<b>%{hovertext}</b><br><br>continent=Africa<br>country=Madagascar<br>year=%{x}<br>lifeExp=%{y}<extra></extra>",
         "hovertext": [
          "Madagascar",
          "Madagascar",
          "Madagascar",
          "Madagascar",
          "Madagascar",
          "Madagascar",
          "Madagascar",
          "Madagascar",
          "Madagascar",
          "Madagascar",
          "Madagascar",
          "Madagascar"
         ],
         "legendgroup": "Africa",
         "line": {
          "color": "#EF553B",
          "dash": "solid"
         },
         "mode": "lines",
         "name": "Africa",
         "showlegend": false,
         "type": "scattergl",
         "x": [
          1952,
          1957,
          1962,
          1967,
          1972,
          1977,
          1982,
          1987,
          1992,
          1997,
          2002,
          2007
         ],
         "xaxis": "x",
         "y": [
          36.681,
          38.865,
          40.848,
          42.881,
          44.851,
          46.881,
          48.969,
          49.35,
          52.214,
          54.978,
          57.286,
          59.443
         ],
         "yaxis": "y"
        },
        {
         "hovertemplate": "<b>%{hovertext}</b><br><br>continent=Africa<br>country=Malawi<br>year=%{x}<br>lifeExp=%{y}<extra></extra>",
         "hovertext": [
          "Malawi",
          "Malawi",
          "Malawi",
          "Malawi",
          "Malawi",
          "Malawi",
          "Malawi",
          "Malawi",
          "Malawi",
          "Malawi",
          "Malawi",
          "Malawi"
         ],
         "legendgroup": "Africa",
         "line": {
          "color": "#EF553B",
          "dash": "solid"
         },
         "mode": "lines",
         "name": "Africa",
         "showlegend": false,
         "type": "scattergl",
         "x": [
          1952,
          1957,
          1962,
          1967,
          1972,
          1977,
          1982,
          1987,
          1992,
          1997,
          2002,
          2007
         ],
         "xaxis": "x",
         "y": [
          36.256,
          37.207,
          38.41,
          39.487,
          41.766,
          43.767,
          45.642,
          47.457,
          49.42,
          47.495,
          45.009,
          48.303
         ],
         "yaxis": "y"
        },
        {
         "hovertemplate": "<b>%{hovertext}</b><br><br>continent=Africa<br>country=Mali<br>year=%{x}<br>lifeExp=%{y}<extra></extra>",
         "hovertext": [
          "Mali",
          "Mali",
          "Mali",
          "Mali",
          "Mali",
          "Mali",
          "Mali",
          "Mali",
          "Mali",
          "Mali",
          "Mali",
          "Mali"
         ],
         "legendgroup": "Africa",
         "line": {
          "color": "#EF553B",
          "dash": "solid"
         },
         "mode": "lines",
         "name": "Africa",
         "showlegend": false,
         "type": "scattergl",
         "x": [
          1952,
          1957,
          1962,
          1967,
          1972,
          1977,
          1982,
          1987,
          1992,
          1997,
          2002,
          2007
         ],
         "xaxis": "x",
         "y": [
          33.685,
          35.307,
          36.936,
          38.487,
          39.977,
          41.714,
          43.916,
          46.364,
          48.388,
          49.903,
          51.818,
          54.467
         ],
         "yaxis": "y"
        },
        {
         "hovertemplate": "<b>%{hovertext}</b><br><br>continent=Africa<br>country=Mauritania<br>year=%{x}<br>lifeExp=%{y}<extra></extra>",
         "hovertext": [
          "Mauritania",
          "Mauritania",
          "Mauritania",
          "Mauritania",
          "Mauritania",
          "Mauritania",
          "Mauritania",
          "Mauritania",
          "Mauritania",
          "Mauritania",
          "Mauritania",
          "Mauritania"
         ],
         "legendgroup": "Africa",
         "line": {
          "color": "#EF553B",
          "dash": "solid"
         },
         "mode": "lines",
         "name": "Africa",
         "showlegend": false,
         "type": "scattergl",
         "x": [
          1952,
          1957,
          1962,
          1967,
          1972,
          1977,
          1982,
          1987,
          1992,
          1997,
          2002,
          2007
         ],
         "xaxis": "x",
         "y": [
          40.543,
          42.338,
          44.248,
          46.289,
          48.437,
          50.852,
          53.599,
          56.145,
          58.333,
          60.43,
          62.247,
          64.164
         ],
         "yaxis": "y"
        },
        {
         "hovertemplate": "<b>%{hovertext}</b><br><br>continent=Africa<br>country=Mauritius<br>year=%{x}<br>lifeExp=%{y}<extra></extra>",
         "hovertext": [
          "Mauritius",
          "Mauritius",
          "Mauritius",
          "Mauritius",
          "Mauritius",
          "Mauritius",
          "Mauritius",
          "Mauritius",
          "Mauritius",
          "Mauritius",
          "Mauritius",
          "Mauritius"
         ],
         "legendgroup": "Africa",
         "line": {
          "color": "#EF553B",
          "dash": "solid"
         },
         "mode": "lines",
         "name": "Africa",
         "showlegend": false,
         "type": "scattergl",
         "x": [
          1952,
          1957,
          1962,
          1967,
          1972,
          1977,
          1982,
          1987,
          1992,
          1997,
          2002,
          2007
         ],
         "xaxis": "x",
         "y": [
          50.986,
          58.089,
          60.246,
          61.557,
          62.944,
          64.93,
          66.711,
          68.74,
          69.745,
          70.736,
          71.954,
          72.801
         ],
         "yaxis": "y"
        },
        {
         "hovertemplate": "<b>%{hovertext}</b><br><br>continent=Africa<br>country=Morocco<br>year=%{x}<br>lifeExp=%{y}<extra></extra>",
         "hovertext": [
          "Morocco",
          "Morocco",
          "Morocco",
          "Morocco",
          "Morocco",
          "Morocco",
          "Morocco",
          "Morocco",
          "Morocco",
          "Morocco",
          "Morocco",
          "Morocco"
         ],
         "legendgroup": "Africa",
         "line": {
          "color": "#EF553B",
          "dash": "solid"
         },
         "mode": "lines",
         "name": "Africa",
         "showlegend": false,
         "type": "scattergl",
         "x": [
          1952,
          1957,
          1962,
          1967,
          1972,
          1977,
          1982,
          1987,
          1992,
          1997,
          2002,
          2007
         ],
         "xaxis": "x",
         "y": [
          42.873,
          45.423,
          47.924,
          50.335,
          52.862,
          55.73,
          59.65,
          62.677,
          65.393,
          67.66,
          69.615,
          71.164
         ],
         "yaxis": "y"
        },
        {
         "hovertemplate": "<b>%{hovertext}</b><br><br>continent=Africa<br>country=Mozambique<br>year=%{x}<br>lifeExp=%{y}<extra></extra>",
         "hovertext": [
          "Mozambique",
          "Mozambique",
          "Mozambique",
          "Mozambique",
          "Mozambique",
          "Mozambique",
          "Mozambique",
          "Mozambique",
          "Mozambique",
          "Mozambique",
          "Mozambique",
          "Mozambique"
         ],
         "legendgroup": "Africa",
         "line": {
          "color": "#EF553B",
          "dash": "solid"
         },
         "mode": "lines",
         "name": "Africa",
         "showlegend": false,
         "type": "scattergl",
         "x": [
          1952,
          1957,
          1962,
          1967,
          1972,
          1977,
          1982,
          1987,
          1992,
          1997,
          2002,
          2007
         ],
         "xaxis": "x",
         "y": [
          31.286,
          33.779,
          36.161,
          38.113,
          40.328,
          42.495,
          42.795,
          42.861,
          44.284,
          46.344,
          44.026,
          42.082
         ],
         "yaxis": "y"
        },
        {
         "hovertemplate": "<b>%{hovertext}</b><br><br>continent=Africa<br>country=Namibia<br>year=%{x}<br>lifeExp=%{y}<extra></extra>",
         "hovertext": [
          "Namibia",
          "Namibia",
          "Namibia",
          "Namibia",
          "Namibia",
          "Namibia",
          "Namibia",
          "Namibia",
          "Namibia",
          "Namibia",
          "Namibia",
          "Namibia"
         ],
         "legendgroup": "Africa",
         "line": {
          "color": "#EF553B",
          "dash": "solid"
         },
         "mode": "lines",
         "name": "Africa",
         "showlegend": false,
         "type": "scattergl",
         "x": [
          1952,
          1957,
          1962,
          1967,
          1972,
          1977,
          1982,
          1987,
          1992,
          1997,
          2002,
          2007
         ],
         "xaxis": "x",
         "y": [
          41.725,
          45.226,
          48.386,
          51.159,
          53.867,
          56.437,
          58.968,
          60.835,
          61.999,
          58.909,
          51.479,
          52.906
         ],
         "yaxis": "y"
        },
        {
         "hovertemplate": "<b>%{hovertext}</b><br><br>continent=Africa<br>country=Niger<br>year=%{x}<br>lifeExp=%{y}<extra></extra>",
         "hovertext": [
          "Niger",
          "Niger",
          "Niger",
          "Niger",
          "Niger",
          "Niger",
          "Niger",
          "Niger",
          "Niger",
          "Niger",
          "Niger",
          "Niger"
         ],
         "legendgroup": "Africa",
         "line": {
          "color": "#EF553B",
          "dash": "solid"
         },
         "mode": "lines",
         "name": "Africa",
         "showlegend": false,
         "type": "scattergl",
         "x": [
          1952,
          1957,
          1962,
          1967,
          1972,
          1977,
          1982,
          1987,
          1992,
          1997,
          2002,
          2007
         ],
         "xaxis": "x",
         "y": [
          37.444,
          38.598,
          39.487,
          40.118,
          40.546,
          41.291,
          42.598,
          44.555,
          47.391,
          51.313,
          54.496,
          56.867
         ],
         "yaxis": "y"
        },
        {
         "hovertemplate": "<b>%{hovertext}</b><br><br>continent=Africa<br>country=Nigeria<br>year=%{x}<br>lifeExp=%{y}<extra></extra>",
         "hovertext": [
          "Nigeria",
          "Nigeria",
          "Nigeria",
          "Nigeria",
          "Nigeria",
          "Nigeria",
          "Nigeria",
          "Nigeria",
          "Nigeria",
          "Nigeria",
          "Nigeria",
          "Nigeria"
         ],
         "legendgroup": "Africa",
         "line": {
          "color": "#EF553B",
          "dash": "solid"
         },
         "mode": "lines",
         "name": "Africa",
         "showlegend": false,
         "type": "scattergl",
         "x": [
          1952,
          1957,
          1962,
          1967,
          1972,
          1977,
          1982,
          1987,
          1992,
          1997,
          2002,
          2007
         ],
         "xaxis": "x",
         "y": [
          36.324,
          37.802,
          39.36,
          41.04,
          42.821,
          44.514,
          45.826,
          46.886,
          47.472,
          47.464,
          46.608,
          46.859
         ],
         "yaxis": "y"
        },
        {
         "hovertemplate": "<b>%{hovertext}</b><br><br>continent=Africa<br>country=Reunion<br>year=%{x}<br>lifeExp=%{y}<extra></extra>",
         "hovertext": [
          "Reunion",
          "Reunion",
          "Reunion",
          "Reunion",
          "Reunion",
          "Reunion",
          "Reunion",
          "Reunion",
          "Reunion",
          "Reunion",
          "Reunion",
          "Reunion"
         ],
         "legendgroup": "Africa",
         "line": {
          "color": "#EF553B",
          "dash": "solid"
         },
         "mode": "lines",
         "name": "Africa",
         "showlegend": false,
         "type": "scattergl",
         "x": [
          1952,
          1957,
          1962,
          1967,
          1972,
          1977,
          1982,
          1987,
          1992,
          1997,
          2002,
          2007
         ],
         "xaxis": "x",
         "y": [
          52.724,
          55.09,
          57.666,
          60.542,
          64.274,
          67.064,
          69.885,
          71.913,
          73.615,
          74.772,
          75.744,
          76.442
         ],
         "yaxis": "y"
        },
        {
         "hovertemplate": "<b>%{hovertext}</b><br><br>continent=Africa<br>country=Rwanda<br>year=%{x}<br>lifeExp=%{y}<extra></extra>",
         "hovertext": [
          "Rwanda",
          "Rwanda",
          "Rwanda",
          "Rwanda",
          "Rwanda",
          "Rwanda",
          "Rwanda",
          "Rwanda",
          "Rwanda",
          "Rwanda",
          "Rwanda",
          "Rwanda"
         ],
         "legendgroup": "Africa",
         "line": {
          "color": "#EF553B",
          "dash": "solid"
         },
         "mode": "lines",
         "name": "Africa",
         "showlegend": false,
         "type": "scattergl",
         "x": [
          1952,
          1957,
          1962,
          1967,
          1972,
          1977,
          1982,
          1987,
          1992,
          1997,
          2002,
          2007
         ],
         "xaxis": "x",
         "y": [
          40.0,
          41.5,
          43.0,
          44.1,
          44.6,
          45.0,
          46.218,
          44.02,
          23.599,
          36.087,
          43.413,
          46.242
         ],
         "yaxis": "y"
        },
        {
         "hovertemplate": "<b>%{hovertext}</b><br><br>continent=Africa<br>country=Sao Tome and Principe<br>year=%{x}<br>lifeExp=%{y}<extra></extra>",
         "hovertext": [
          "Sao Tome and Principe",
          "Sao Tome and Principe",
          "Sao Tome and Principe",
          "Sao Tome and Principe",
          "Sao Tome and Principe",
          "Sao Tome and Principe",
          "Sao Tome and Principe",
          "Sao Tome and Principe",
          "Sao Tome and Principe",
          "Sao Tome and Principe",
          "Sao Tome and Principe",
          "Sao Tome and Principe"
         ],
         "legendgroup": "Africa",
         "line": {
          "color": "#EF553B",
          "dash": "solid"
         },
         "mode": "lines",
         "name": "Africa",
         "showlegend": false,
         "type": "scattergl",
         "x": [
          1952,
          1957,
          1962,
          1967,
          1972,
          1977,
          1982,
          1987,
          1992,
          1997,
          2002,
          2007
         ],
         "xaxis": "x",
         "y": [
          46.471,
          48.945,
          51.893,
          54.425,
          56.48,
          58.55,
          60.351,
          61.728,
          62.742,
          63.306,
          64.337,
          65.528
         ],
         "yaxis": "y"
        },
        {
         "hovertemplate": "<b>%{hovertext}</b><br><br>continent=Africa<br>country=Senegal<br>year=%{x}<br>lifeExp=%{y}<extra></extra>",
         "hovertext": [
          "Senegal",
          "Senegal",
          "Senegal",
          "Senegal",
          "Senegal",
          "Senegal",
          "Senegal",
          "Senegal",
          "Senegal",
          "Senegal",
          "Senegal",
          "Senegal"
         ],
         "legendgroup": "Africa",
         "line": {
          "color": "#EF553B",
          "dash": "solid"
         },
         "mode": "lines",
         "name": "Africa",
         "showlegend": false,
         "type": "scattergl",
         "x": [
          1952,
          1957,
          1962,
          1967,
          1972,
          1977,
          1982,
          1987,
          1992,
          1997,
          2002,
          2007
         ],
         "xaxis": "x",
         "y": [
          37.278,
          39.329,
          41.454,
          43.563,
          45.815,
          48.879,
          52.379,
          55.769,
          58.196,
          60.187,
          61.6,
          63.062
         ],
         "yaxis": "y"
        },
        {
         "hovertemplate": "<b>%{hovertext}</b><br><br>continent=Africa<br>country=Sierra Leone<br>year=%{x}<br>lifeExp=%{y}<extra></extra>",
         "hovertext": [
          "Sierra Leone",
          "Sierra Leone",
          "Sierra Leone",
          "Sierra Leone",
          "Sierra Leone",
          "Sierra Leone",
          "Sierra Leone",
          "Sierra Leone",
          "Sierra Leone",
          "Sierra Leone",
          "Sierra Leone",
          "Sierra Leone"
         ],
         "legendgroup": "Africa",
         "line": {
          "color": "#EF553B",
          "dash": "solid"
         },
         "mode": "lines",
         "name": "Africa",
         "showlegend": false,
         "type": "scattergl",
         "x": [
          1952,
          1957,
          1962,
          1967,
          1972,
          1977,
          1982,
          1987,
          1992,
          1997,
          2002,
          2007
         ],
         "xaxis": "x",
         "y": [
          30.331,
          31.57,
          32.767,
          34.113,
          35.4,
          36.788,
          38.445,
          40.006,
          38.333,
          39.897,
          41.012,
          42.568
         ],
         "yaxis": "y"
        },
        {
         "hovertemplate": "<b>%{hovertext}</b><br><br>continent=Africa<br>country=Somalia<br>year=%{x}<br>lifeExp=%{y}<extra></extra>",
         "hovertext": [
          "Somalia",
          "Somalia",
          "Somalia",
          "Somalia",
          "Somalia",
          "Somalia",
          "Somalia",
          "Somalia",
          "Somalia",
          "Somalia",
          "Somalia",
          "Somalia"
         ],
         "legendgroup": "Africa",
         "line": {
          "color": "#EF553B",
          "dash": "solid"
         },
         "mode": "lines",
         "name": "Africa",
         "showlegend": false,
         "type": "scattergl",
         "x": [
          1952,
          1957,
          1962,
          1967,
          1972,
          1977,
          1982,
          1987,
          1992,
          1997,
          2002,
          2007
         ],
         "xaxis": "x",
         "y": [
          32.978,
          34.977,
          36.981,
          38.977,
          40.973,
          41.974,
          42.955,
          44.501,
          39.658,
          43.795,
          45.936,
          48.159
         ],
         "yaxis": "y"
        },
        {
         "hovertemplate": "<b>%{hovertext}</b><br><br>continent=Africa<br>country=South Africa<br>year=%{x}<br>lifeExp=%{y}<extra></extra>",
         "hovertext": [
          "South Africa",
          "South Africa",
          "South Africa",
          "South Africa",
          "South Africa",
          "South Africa",
          "South Africa",
          "South Africa",
          "South Africa",
          "South Africa",
          "South Africa",
          "South Africa"
         ],
         "legendgroup": "Africa",
         "line": {
          "color": "#EF553B",
          "dash": "solid"
         },
         "mode": "lines",
         "name": "Africa",
         "showlegend": false,
         "type": "scattergl",
         "x": [
          1952,
          1957,
          1962,
          1967,
          1972,
          1977,
          1982,
          1987,
          1992,
          1997,
          2002,
          2007
         ],
         "xaxis": "x",
         "y": [
          45.009,
          47.985,
          49.951,
          51.927,
          53.696,
          55.527,
          58.161,
          60.834,
          61.888,
          60.236,
          53.365,
          49.339
         ],
         "yaxis": "y"
        },
        {
         "hovertemplate": "<b>%{hovertext}</b><br><br>continent=Africa<br>country=Sudan<br>year=%{x}<br>lifeExp=%{y}<extra></extra>",
         "hovertext": [
          "Sudan",
          "Sudan",
          "Sudan",
          "Sudan",
          "Sudan",
          "Sudan",
          "Sudan",
          "Sudan",
          "Sudan",
          "Sudan",
          "Sudan",
          "Sudan"
         ],
         "legendgroup": "Africa",
         "line": {
          "color": "#EF553B",
          "dash": "solid"
         },
         "mode": "lines",
         "name": "Africa",
         "showlegend": false,
         "type": "scattergl",
         "x": [
          1952,
          1957,
          1962,
          1967,
          1972,
          1977,
          1982,
          1987,
          1992,
          1997,
          2002,
          2007
         ],
         "xaxis": "x",
         "y": [
          38.635,
          39.624,
          40.87,
          42.858,
          45.083,
          47.8,
          50.338,
          51.744,
          53.556,
          55.373,
          56.369,
          58.556
         ],
         "yaxis": "y"
        },
        {
         "hovertemplate": "<b>%{hovertext}</b><br><br>continent=Africa<br>country=Swaziland<br>year=%{x}<br>lifeExp=%{y}<extra></extra>",
         "hovertext": [
          "Swaziland",
          "Swaziland",
          "Swaziland",
          "Swaziland",
          "Swaziland",
          "Swaziland",
          "Swaziland",
          "Swaziland",
          "Swaziland",
          "Swaziland",
          "Swaziland",
          "Swaziland"
         ],
         "legendgroup": "Africa",
         "line": {
          "color": "#EF553B",
          "dash": "solid"
         },
         "mode": "lines",
         "name": "Africa",
         "showlegend": false,
         "type": "scattergl",
         "x": [
          1952,
          1957,
          1962,
          1967,
          1972,
          1977,
          1982,
          1987,
          1992,
          1997,
          2002,
          2007
         ],
         "xaxis": "x",
         "y": [
          41.407,
          43.424,
          44.992,
          46.633,
          49.552,
          52.537,
          55.561,
          57.678,
          58.474,
          54.289,
          43.869,
          39.613
         ],
         "yaxis": "y"
        },
        {
         "hovertemplate": "<b>%{hovertext}</b><br><br>continent=Africa<br>country=Tanzania<br>year=%{x}<br>lifeExp=%{y}<extra></extra>",
         "hovertext": [
          "Tanzania",
          "Tanzania",
          "Tanzania",
          "Tanzania",
          "Tanzania",
          "Tanzania",
          "Tanzania",
          "Tanzania",
          "Tanzania",
          "Tanzania",
          "Tanzania",
          "Tanzania"
         ],
         "legendgroup": "Africa",
         "line": {
          "color": "#EF553B",
          "dash": "solid"
         },
         "mode": "lines",
         "name": "Africa",
         "showlegend": false,
         "type": "scattergl",
         "x": [
          1952,
          1957,
          1962,
          1967,
          1972,
          1977,
          1982,
          1987,
          1992,
          1997,
          2002,
          2007
         ],
         "xaxis": "x",
         "y": [
          41.215,
          42.974,
          44.246,
          45.757,
          47.62,
          49.919,
          50.608,
          51.535,
          50.44,
          48.466,
          49.651,
          52.517
         ],
         "yaxis": "y"
        },
        {
         "hovertemplate": "<b>%{hovertext}</b><br><br>continent=Africa<br>country=Togo<br>year=%{x}<br>lifeExp=%{y}<extra></extra>",
         "hovertext": [
          "Togo",
          "Togo",
          "Togo",
          "Togo",
          "Togo",
          "Togo",
          "Togo",
          "Togo",
          "Togo",
          "Togo",
          "Togo",
          "Togo"
         ],
         "legendgroup": "Africa",
         "line": {
          "color": "#EF553B",
          "dash": "solid"
         },
         "mode": "lines",
         "name": "Africa",
         "showlegend": false,
         "type": "scattergl",
         "x": [
          1952,
          1957,
          1962,
          1967,
          1972,
          1977,
          1982,
          1987,
          1992,
          1997,
          2002,
          2007
         ],
         "xaxis": "x",
         "y": [
          38.596,
          41.208,
          43.922,
          46.769,
          49.759,
          52.887,
          55.471,
          56.941,
          58.061,
          58.39,
          57.561,
          58.42
         ],
         "yaxis": "y"
        },
        {
         "hovertemplate": "<b>%{hovertext}</b><br><br>continent=Africa<br>country=Tunisia<br>year=%{x}<br>lifeExp=%{y}<extra></extra>",
         "hovertext": [
          "Tunisia",
          "Tunisia",
          "Tunisia",
          "Tunisia",
          "Tunisia",
          "Tunisia",
          "Tunisia",
          "Tunisia",
          "Tunisia",
          "Tunisia",
          "Tunisia",
          "Tunisia"
         ],
         "legendgroup": "Africa",
         "line": {
          "color": "#EF553B",
          "dash": "solid"
         },
         "mode": "lines",
         "name": "Africa",
         "showlegend": false,
         "type": "scattergl",
         "x": [
          1952,
          1957,
          1962,
          1967,
          1972,
          1977,
          1982,
          1987,
          1992,
          1997,
          2002,
          2007
         ],
         "xaxis": "x",
         "y": [
          44.6,
          47.1,
          49.579,
          52.053,
          55.602,
          59.837,
          64.048,
          66.894,
          70.001,
          71.973,
          73.042,
          73.923
         ],
         "yaxis": "y"
        },
        {
         "hovertemplate": "<b>%{hovertext}</b><br><br>continent=Africa<br>country=Uganda<br>year=%{x}<br>lifeExp=%{y}<extra></extra>",
         "hovertext": [
          "Uganda",
          "Uganda",
          "Uganda",
          "Uganda",
          "Uganda",
          "Uganda",
          "Uganda",
          "Uganda",
          "Uganda",
          "Uganda",
          "Uganda",
          "Uganda"
         ],
         "legendgroup": "Africa",
         "line": {
          "color": "#EF553B",
          "dash": "solid"
         },
         "mode": "lines",
         "name": "Africa",
         "showlegend": false,
         "type": "scattergl",
         "x": [
          1952,
          1957,
          1962,
          1967,
          1972,
          1977,
          1982,
          1987,
          1992,
          1997,
          2002,
          2007
         ],
         "xaxis": "x",
         "y": [
          39.978,
          42.571,
          45.344,
          48.051,
          51.016,
          50.35,
          49.849,
          51.509,
          48.825,
          44.578,
          47.813,
          51.542
         ],
         "yaxis": "y"
        },
        {
         "hovertemplate": "<b>%{hovertext}</b><br><br>continent=Africa<br>country=Zambia<br>year=%{x}<br>lifeExp=%{y}<extra></extra>",
         "hovertext": [
          "Zambia",
          "Zambia",
          "Zambia",
          "Zambia",
          "Zambia",
          "Zambia",
          "Zambia",
          "Zambia",
          "Zambia",
          "Zambia",
          "Zambia",
          "Zambia"
         ],
         "legendgroup": "Africa",
         "line": {
          "color": "#EF553B",
          "dash": "solid"
         },
         "mode": "lines",
         "name": "Africa",
         "showlegend": false,
         "type": "scattergl",
         "x": [
          1952,
          1957,
          1962,
          1967,
          1972,
          1977,
          1982,
          1987,
          1992,
          1997,
          2002,
          2007
         ],
         "xaxis": "x",
         "y": [
          42.038,
          44.077,
          46.023,
          47.768,
          50.107,
          51.386,
          51.821,
          50.821,
          46.1,
          40.238,
          39.193,
          42.384
         ],
         "yaxis": "y"
        },
        {
         "hovertemplate": "<b>%{hovertext}</b><br><br>continent=Africa<br>country=Zimbabwe<br>year=%{x}<br>lifeExp=%{y}<extra></extra>",
         "hovertext": [
          "Zimbabwe",
          "Zimbabwe",
          "Zimbabwe",
          "Zimbabwe",
          "Zimbabwe",
          "Zimbabwe",
          "Zimbabwe",
          "Zimbabwe",
          "Zimbabwe",
          "Zimbabwe",
          "Zimbabwe",
          "Zimbabwe"
         ],
         "legendgroup": "Africa",
         "line": {
          "color": "#EF553B",
          "dash": "solid"
         },
         "mode": "lines",
         "name": "Africa",
         "showlegend": false,
         "type": "scattergl",
         "x": [
          1952,
          1957,
          1962,
          1967,
          1972,
          1977,
          1982,
          1987,
          1992,
          1997,
          2002,
          2007
         ],
         "xaxis": "x",
         "y": [
          48.451,
          50.469,
          52.358,
          53.995,
          55.635,
          57.674,
          60.363,
          62.351,
          60.377,
          46.809,
          39.989,
          43.487
         ],
         "yaxis": "y"
        },
        {
         "hovertemplate": "<b>%{hovertext}</b><br><br>continent=Americas<br>country=Argentina<br>year=%{x}<br>lifeExp=%{y}<extra></extra>",
         "hovertext": [
          "Argentina",
          "Argentina",
          "Argentina",
          "Argentina",
          "Argentina",
          "Argentina",
          "Argentina",
          "Argentina",
          "Argentina",
          "Argentina",
          "Argentina",
          "Argentina"
         ],
         "legendgroup": "Americas",
         "line": {
          "color": "#00cc96",
          "dash": "solid"
         },
         "mode": "lines",
         "name": "Americas",
         "showlegend": true,
         "type": "scattergl",
         "x": [
          1952,
          1957,
          1962,
          1967,
          1972,
          1977,
          1982,
          1987,
          1992,
          1997,
          2002,
          2007
         ],
         "xaxis": "x",
         "y": [
          62.485,
          64.399,
          65.142,
          65.634,
          67.065,
          68.481,
          69.942,
          70.774,
          71.868,
          73.275,
          74.34,
          75.32
         ],
         "yaxis": "y"
        },
        {
         "hovertemplate": "<b>%{hovertext}</b><br><br>continent=Americas<br>country=Bolivia<br>year=%{x}<br>lifeExp=%{y}<extra></extra>",
         "hovertext": [
          "Bolivia",
          "Bolivia",
          "Bolivia",
          "Bolivia",
          "Bolivia",
          "Bolivia",
          "Bolivia",
          "Bolivia",
          "Bolivia",
          "Bolivia",
          "Bolivia",
          "Bolivia"
         ],
         "legendgroup": "Americas",
         "line": {
          "color": "#00cc96",
          "dash": "solid"
         },
         "mode": "lines",
         "name": "Americas",
         "showlegend": false,
         "type": "scattergl",
         "x": [
          1952,
          1957,
          1962,
          1967,
          1972,
          1977,
          1982,
          1987,
          1992,
          1997,
          2002,
          2007
         ],
         "xaxis": "x",
         "y": [
          40.414,
          41.89,
          43.428,
          45.032,
          46.714,
          50.023,
          53.859,
          57.251,
          59.957,
          62.05,
          63.883,
          65.554
         ],
         "yaxis": "y"
        },
        {
         "hovertemplate": "<b>%{hovertext}</b><br><br>continent=Americas<br>country=Brazil<br>year=%{x}<br>lifeExp=%{y}<extra></extra>",
         "hovertext": [
          "Brazil",
          "Brazil",
          "Brazil",
          "Brazil",
          "Brazil",
          "Brazil",
          "Brazil",
          "Brazil",
          "Brazil",
          "Brazil",
          "Brazil",
          "Brazil"
         ],
         "legendgroup": "Americas",
         "line": {
          "color": "#00cc96",
          "dash": "solid"
         },
         "mode": "lines",
         "name": "Americas",
         "showlegend": false,
         "type": "scattergl",
         "x": [
          1952,
          1957,
          1962,
          1967,
          1972,
          1977,
          1982,
          1987,
          1992,
          1997,
          2002,
          2007
         ],
         "xaxis": "x",
         "y": [
          50.917,
          53.285,
          55.665,
          57.632,
          59.504,
          61.489,
          63.336,
          65.205,
          67.057,
          69.388,
          71.006,
          72.39
         ],
         "yaxis": "y"
        },
        {
         "hovertemplate": "<b>%{hovertext}</b><br><br>continent=Americas<br>country=Canada<br>year=%{x}<br>lifeExp=%{y}<extra></extra>",
         "hovertext": [
          "Canada",
          "Canada",
          "Canada",
          "Canada",
          "Canada",
          "Canada",
          "Canada",
          "Canada",
          "Canada",
          "Canada",
          "Canada",
          "Canada"
         ],
         "legendgroup": "Americas",
         "line": {
          "color": "#00cc96",
          "dash": "solid"
         },
         "mode": "lines",
         "name": "Americas",
         "showlegend": false,
         "type": "scattergl",
         "x": [
          1952,
          1957,
          1962,
          1967,
          1972,
          1977,
          1982,
          1987,
          1992,
          1997,
          2002,
          2007
         ],
         "xaxis": "x",
         "y": [
          68.75,
          69.96,
          71.3,
          72.13,
          72.88,
          74.21,
          75.76,
          76.86,
          77.95,
          78.61,
          79.77,
          80.653
         ],
         "yaxis": "y"
        },
        {
         "hovertemplate": "<b>%{hovertext}</b><br><br>continent=Americas<br>country=Chile<br>year=%{x}<br>lifeExp=%{y}<extra></extra>",
         "hovertext": [
          "Chile",
          "Chile",
          "Chile",
          "Chile",
          "Chile",
          "Chile",
          "Chile",
          "Chile",
          "Chile",
          "Chile",
          "Chile",
          "Chile"
         ],
         "legendgroup": "Americas",
         "line": {
          "color": "#00cc96",
          "dash": "solid"
         },
         "mode": "lines",
         "name": "Americas",
         "showlegend": false,
         "type": "scattergl",
         "x": [
          1952,
          1957,
          1962,
          1967,
          1972,
          1977,
          1982,
          1987,
          1992,
          1997,
          2002,
          2007
         ],
         "xaxis": "x",
         "y": [
          54.745,
          56.074,
          57.924,
          60.523,
          63.441,
          67.052,
          70.565,
          72.492,
          74.126,
          75.816,
          77.86,
          78.553
         ],
         "yaxis": "y"
        },
        {
         "hovertemplate": "<b>%{hovertext}</b><br><br>continent=Americas<br>country=Colombia<br>year=%{x}<br>lifeExp=%{y}<extra></extra>",
         "hovertext": [
          "Colombia",
          "Colombia",
          "Colombia",
          "Colombia",
          "Colombia",
          "Colombia",
          "Colombia",
          "Colombia",
          "Colombia",
          "Colombia",
          "Colombia",
          "Colombia"
         ],
         "legendgroup": "Americas",
         "line": {
          "color": "#00cc96",
          "dash": "solid"
         },
         "mode": "lines",
         "name": "Americas",
         "showlegend": false,
         "type": "scattergl",
         "x": [
          1952,
          1957,
          1962,
          1967,
          1972,
          1977,
          1982,
          1987,
          1992,
          1997,
          2002,
          2007
         ],
         "xaxis": "x",
         "y": [
          50.643,
          55.118,
          57.863,
          59.963,
          61.623,
          63.837,
          66.653,
          67.768,
          68.421,
          70.313,
          71.682,
          72.889
         ],
         "yaxis": "y"
        },
        {
         "hovertemplate": "<b>%{hovertext}</b><br><br>continent=Americas<br>country=Costa Rica<br>year=%{x}<br>lifeExp=%{y}<extra></extra>",
         "hovertext": [
          "Costa Rica",
          "Costa Rica",
          "Costa Rica",
          "Costa Rica",
          "Costa Rica",
          "Costa Rica",
          "Costa Rica",
          "Costa Rica",
          "Costa Rica",
          "Costa Rica",
          "Costa Rica",
          "Costa Rica"
         ],
         "legendgroup": "Americas",
         "line": {
          "color": "#00cc96",
          "dash": "solid"
         },
         "mode": "lines",
         "name": "Americas",
         "showlegend": false,
         "type": "scattergl",
         "x": [
          1952,
          1957,
          1962,
          1967,
          1972,
          1977,
          1982,
          1987,
          1992,
          1997,
          2002,
          2007
         ],
         "xaxis": "x",
         "y": [
          57.206,
          60.026,
          62.842,
          65.424,
          67.849,
          70.75,
          73.45,
          74.752,
          75.713,
          77.26,
          78.123,
          78.782
         ],
         "yaxis": "y"
        },
        {
         "hovertemplate": "<b>%{hovertext}</b><br><br>continent=Americas<br>country=Cuba<br>year=%{x}<br>lifeExp=%{y}<extra></extra>",
         "hovertext": [
          "Cuba",
          "Cuba",
          "Cuba",
          "Cuba",
          "Cuba",
          "Cuba",
          "Cuba",
          "Cuba",
          "Cuba",
          "Cuba",
          "Cuba",
          "Cuba"
         ],
         "legendgroup": "Americas",
         "line": {
          "color": "#00cc96",
          "dash": "solid"
         },
         "mode": "lines",
         "name": "Americas",
         "showlegend": false,
         "type": "scattergl",
         "x": [
          1952,
          1957,
          1962,
          1967,
          1972,
          1977,
          1982,
          1987,
          1992,
          1997,
          2002,
          2007
         ],
         "xaxis": "x",
         "y": [
          59.421,
          62.325,
          65.246,
          68.29,
          70.723,
          72.649,
          73.717,
          74.174,
          74.414,
          76.151,
          77.158,
          78.273
         ],
         "yaxis": "y"
        },
        {
         "hovertemplate": "<b>%{hovertext}</b><br><br>continent=Americas<br>country=Dominican Republic<br>year=%{x}<br>lifeExp=%{y}<extra></extra>",
         "hovertext": [
          "Dominican Republic",
          "Dominican Republic",
          "Dominican Republic",
          "Dominican Republic",
          "Dominican Republic",
          "Dominican Republic",
          "Dominican Republic",
          "Dominican Republic",
          "Dominican Republic",
          "Dominican Republic",
          "Dominican Republic",
          "Dominican Republic"
         ],
         "legendgroup": "Americas",
         "line": {
          "color": "#00cc96",
          "dash": "solid"
         },
         "mode": "lines",
         "name": "Americas",
         "showlegend": false,
         "type": "scattergl",
         "x": [
          1952,
          1957,
          1962,
          1967,
          1972,
          1977,
          1982,
          1987,
          1992,
          1997,
          2002,
          2007
         ],
         "xaxis": "x",
         "y": [
          45.928,
          49.828,
          53.459,
          56.751,
          59.631,
          61.788,
          63.727,
          66.046,
          68.457,
          69.957,
          70.847,
          72.235
         ],
         "yaxis": "y"
        },
        {
         "hovertemplate": "<b>%{hovertext}</b><br><br>continent=Americas<br>country=Ecuador<br>year=%{x}<br>lifeExp=%{y}<extra></extra>",
         "hovertext": [
          "Ecuador",
          "Ecuador",
          "Ecuador",
          "Ecuador",
          "Ecuador",
          "Ecuador",
          "Ecuador",
          "Ecuador",
          "Ecuador",
          "Ecuador",
          "Ecuador",
          "Ecuador"
         ],
         "legendgroup": "Americas",
         "line": {
          "color": "#00cc96",
          "dash": "solid"
         },
         "mode": "lines",
         "name": "Americas",
         "showlegend": false,
         "type": "scattergl",
         "x": [
          1952,
          1957,
          1962,
          1967,
          1972,
          1977,
          1982,
          1987,
          1992,
          1997,
          2002,
          2007
         ],
         "xaxis": "x",
         "y": [
          48.357,
          51.356,
          54.64,
          56.678,
          58.796,
          61.31,
          64.342,
          67.231,
          69.613,
          72.312,
          74.173,
          74.994
         ],
         "yaxis": "y"
        },
        {
         "hovertemplate": "<b>%{hovertext}</b><br><br>continent=Americas<br>country=El Salvador<br>year=%{x}<br>lifeExp=%{y}<extra></extra>",
         "hovertext": [
          "El Salvador",
          "El Salvador",
          "El Salvador",
          "El Salvador",
          "El Salvador",
          "El Salvador",
          "El Salvador",
          "El Salvador",
          "El Salvador",
          "El Salvador",
          "El Salvador",
          "El Salvador"
         ],
         "legendgroup": "Americas",
         "line": {
          "color": "#00cc96",
          "dash": "solid"
         },
         "mode": "lines",
         "name": "Americas",
         "showlegend": false,
         "type": "scattergl",
         "x": [
          1952,
          1957,
          1962,
          1967,
          1972,
          1977,
          1982,
          1987,
          1992,
          1997,
          2002,
          2007
         ],
         "xaxis": "x",
         "y": [
          45.262,
          48.57,
          52.307,
          55.855,
          58.207,
          56.696,
          56.604,
          63.154,
          66.798,
          69.535,
          70.734,
          71.878
         ],
         "yaxis": "y"
        },
        {
         "hovertemplate": "<b>%{hovertext}</b><br><br>continent=Americas<br>country=Guatemala<br>year=%{x}<br>lifeExp=%{y}<extra></extra>",
         "hovertext": [
          "Guatemala",
          "Guatemala",
          "Guatemala",
          "Guatemala",
          "Guatemala",
          "Guatemala",
          "Guatemala",
          "Guatemala",
          "Guatemala",
          "Guatemala",
          "Guatemala",
          "Guatemala"
         ],
         "legendgroup": "Americas",
         "line": {
          "color": "#00cc96",
          "dash": "solid"
         },
         "mode": "lines",
         "name": "Americas",
         "showlegend": false,
         "type": "scattergl",
         "x": [
          1952,
          1957,
          1962,
          1967,
          1972,
          1977,
          1982,
          1987,
          1992,
          1997,
          2002,
          2007
         ],
         "xaxis": "x",
         "y": [
          42.023,
          44.142,
          46.954,
          50.016,
          53.738,
          56.029,
          58.137,
          60.782,
          63.373,
          66.322,
          68.978,
          70.259
         ],
         "yaxis": "y"
        },
        {
         "hovertemplate": "<b>%{hovertext}</b><br><br>continent=Americas<br>country=Haiti<br>year=%{x}<br>lifeExp=%{y}<extra></extra>",
         "hovertext": [
          "Haiti",
          "Haiti",
          "Haiti",
          "Haiti",
          "Haiti",
          "Haiti",
          "Haiti",
          "Haiti",
          "Haiti",
          "Haiti",
          "Haiti",
          "Haiti"
         ],
         "legendgroup": "Americas",
         "line": {
          "color": "#00cc96",
          "dash": "solid"
         },
         "mode": "lines",
         "name": "Americas",
         "showlegend": false,
         "type": "scattergl",
         "x": [
          1952,
          1957,
          1962,
          1967,
          1972,
          1977,
          1982,
          1987,
          1992,
          1997,
          2002,
          2007
         ],
         "xaxis": "x",
         "y": [
          37.579,
          40.696,
          43.59,
          46.243,
          48.042,
          49.923,
          51.461,
          53.636,
          55.089,
          56.671,
          58.137,
          60.916
         ],
         "yaxis": "y"
        },
        {
         "hovertemplate": "<b>%{hovertext}</b><br><br>continent=Americas<br>country=Honduras<br>year=%{x}<br>lifeExp=%{y}<extra></extra>",
         "hovertext": [
          "Honduras",
          "Honduras",
          "Honduras",
          "Honduras",
          "Honduras",
          "Honduras",
          "Honduras",
          "Honduras",
          "Honduras",
          "Honduras",
          "Honduras",
          "Honduras"
         ],
         "legendgroup": "Americas",
         "line": {
          "color": "#00cc96",
          "dash": "solid"
         },
         "mode": "lines",
         "name": "Americas",
         "showlegend": false,
         "type": "scattergl",
         "x": [
          1952,
          1957,
          1962,
          1967,
          1972,
          1977,
          1982,
          1987,
          1992,
          1997,
          2002,
          2007
         ],
         "xaxis": "x",
         "y": [
          41.912,
          44.665,
          48.041,
          50.924,
          53.884,
          57.402,
          60.909,
          64.492,
          66.399,
          67.659,
          68.565,
          70.198
         ],
         "yaxis": "y"
        },
        {
         "hovertemplate": "<b>%{hovertext}</b><br><br>continent=Americas<br>country=Jamaica<br>year=%{x}<br>lifeExp=%{y}<extra></extra>",
         "hovertext": [
          "Jamaica",
          "Jamaica",
          "Jamaica",
          "Jamaica",
          "Jamaica",
          "Jamaica",
          "Jamaica",
          "Jamaica",
          "Jamaica",
          "Jamaica",
          "Jamaica",
          "Jamaica"
         ],
         "legendgroup": "Americas",
         "line": {
          "color": "#00cc96",
          "dash": "solid"
         },
         "mode": "lines",
         "name": "Americas",
         "showlegend": false,
         "type": "scattergl",
         "x": [
          1952,
          1957,
          1962,
          1967,
          1972,
          1977,
          1982,
          1987,
          1992,
          1997,
          2002,
          2007
         ],
         "xaxis": "x",
         "y": [
          58.53,
          62.61,
          65.61,
          67.51,
          69.0,
          70.11,
          71.21,
          71.77,
          71.766,
          72.262,
          72.047,
          72.567
         ],
         "yaxis": "y"
        },
        {
         "hovertemplate": "<b>%{hovertext}</b><br><br>continent=Americas<br>country=Mexico<br>year=%{x}<br>lifeExp=%{y}<extra></extra>",
         "hovertext": [
          "Mexico",
          "Mexico",
          "Mexico",
          "Mexico",
          "Mexico",
          "Mexico",
          "Mexico",
          "Mexico",
          "Mexico",
          "Mexico",
          "Mexico",
          "Mexico"
         ],
         "legendgroup": "Americas",
         "line": {
          "color": "#00cc96",
          "dash": "solid"
         },
         "mode": "lines",
         "name": "Americas",
         "showlegend": false,
         "type": "scattergl",
         "x": [
          1952,
          1957,
          1962,
          1967,
          1972,
          1977,
          1982,
          1987,
          1992,
          1997,
          2002,
          2007
         ],
         "xaxis": "x",
         "y": [
          50.789,
          55.19,
          58.299,
          60.11,
          62.361,
          65.032,
          67.405,
          69.498,
          71.455,
          73.67,
          74.902,
          76.195
         ],
         "yaxis": "y"
        },
        {
         "hovertemplate": "<b>%{hovertext}</b><br><br>continent=Americas<br>country=Nicaragua<br>year=%{x}<br>lifeExp=%{y}<extra></extra>",
         "hovertext": [
          "Nicaragua",
          "Nicaragua",
          "Nicaragua",
          "Nicaragua",
          "Nicaragua",
          "Nicaragua",
          "Nicaragua",
          "Nicaragua",
          "Nicaragua",
          "Nicaragua",
          "Nicaragua",
          "Nicaragua"
         ],
         "legendgroup": "Americas",
         "line": {
          "color": "#00cc96",
          "dash": "solid"
         },
         "mode": "lines",
         "name": "Americas",
         "showlegend": false,
         "type": "scattergl",
         "x": [
          1952,
          1957,
          1962,
          1967,
          1972,
          1977,
          1982,
          1987,
          1992,
          1997,
          2002,
          2007
         ],
         "xaxis": "x",
         "y": [
          42.314,
          45.432,
          48.632,
          51.884,
          55.151,
          57.47,
          59.298,
          62.008,
          65.843,
          68.426,
          70.836,
          72.899
         ],
         "yaxis": "y"
        },
        {
         "hovertemplate": "<b>%{hovertext}</b><br><br>continent=Americas<br>country=Panama<br>year=%{x}<br>lifeExp=%{y}<extra></extra>",
         "hovertext": [
          "Panama",
          "Panama",
          "Panama",
          "Panama",
          "Panama",
          "Panama",
          "Panama",
          "Panama",
          "Panama",
          "Panama",
          "Panama",
          "Panama"
         ],
         "legendgroup": "Americas",
         "line": {
          "color": "#00cc96",
          "dash": "solid"
         },
         "mode": "lines",
         "name": "Americas",
         "showlegend": false,
         "type": "scattergl",
         "x": [
          1952,
          1957,
          1962,
          1967,
          1972,
          1977,
          1982,
          1987,
          1992,
          1997,
          2002,
          2007
         ],
         "xaxis": "x",
         "y": [
          55.191,
          59.201,
          61.817,
          64.071,
          66.216,
          68.681,
          70.472,
          71.523,
          72.462,
          73.738,
          74.712,
          75.537
         ],
         "yaxis": "y"
        },
        {
         "hovertemplate": "<b>%{hovertext}</b><br><br>continent=Americas<br>country=Paraguay<br>year=%{x}<br>lifeExp=%{y}<extra></extra>",
         "hovertext": [
          "Paraguay",
          "Paraguay",
          "Paraguay",
          "Paraguay",
          "Paraguay",
          "Paraguay",
          "Paraguay",
          "Paraguay",
          "Paraguay",
          "Paraguay",
          "Paraguay",
          "Paraguay"
         ],
         "legendgroup": "Americas",
         "line": {
          "color": "#00cc96",
          "dash": "solid"
         },
         "mode": "lines",
         "name": "Americas",
         "showlegend": false,
         "type": "scattergl",
         "x": [
          1952,
          1957,
          1962,
          1967,
          1972,
          1977,
          1982,
          1987,
          1992,
          1997,
          2002,
          2007
         ],
         "xaxis": "x",
         "y": [
          62.649,
          63.196,
          64.361,
          64.951,
          65.815,
          66.353,
          66.874,
          67.378,
          68.225,
          69.4,
          70.755,
          71.752
         ],
         "yaxis": "y"
        },
        {
         "hovertemplate": "<b>%{hovertext}</b><br><br>continent=Americas<br>country=Peru<br>year=%{x}<br>lifeExp=%{y}<extra></extra>",
         "hovertext": [
          "Peru",
          "Peru",
          "Peru",
          "Peru",
          "Peru",
          "Peru",
          "Peru",
          "Peru",
          "Peru",
          "Peru",
          "Peru",
          "Peru"
         ],
         "legendgroup": "Americas",
         "line": {
          "color": "#00cc96",
          "dash": "solid"
         },
         "mode": "lines",
         "name": "Americas",
         "showlegend": false,
         "type": "scattergl",
         "x": [
          1952,
          1957,
          1962,
          1967,
          1972,
          1977,
          1982,
          1987,
          1992,
          1997,
          2002,
          2007
         ],
         "xaxis": "x",
         "y": [
          43.902,
          46.263,
          49.096,
          51.445,
          55.448,
          58.447,
          61.406,
          64.134,
          66.458,
          68.386,
          69.906,
          71.421
         ],
         "yaxis": "y"
        },
        {
         "hovertemplate": "<b>%{hovertext}</b><br><br>continent=Americas<br>country=Puerto Rico<br>year=%{x}<br>lifeExp=%{y}<extra></extra>",
         "hovertext": [
          "Puerto Rico",
          "Puerto Rico",
          "Puerto Rico",
          "Puerto Rico",
          "Puerto Rico",
          "Puerto Rico",
          "Puerto Rico",
          "Puerto Rico",
          "Puerto Rico",
          "Puerto Rico",
          "Puerto Rico",
          "Puerto Rico"
         ],
         "legendgroup": "Americas",
         "line": {
          "color": "#00cc96",
          "dash": "solid"
         },
         "mode": "lines",
         "name": "Americas",
         "showlegend": false,
         "type": "scattergl",
         "x": [
          1952,
          1957,
          1962,
          1967,
          1972,
          1977,
          1982,
          1987,
          1992,
          1997,
          2002,
          2007
         ],
         "xaxis": "x",
         "y": [
          64.28,
          68.54,
          69.62,
          71.1,
          72.16,
          73.44,
          73.75,
          74.63,
          73.911,
          74.917,
          77.778,
          78.746
         ],
         "yaxis": "y"
        },
        {
         "hovertemplate": "<b>%{hovertext}</b><br><br>continent=Americas<br>country=Trinidad and Tobago<br>year=%{x}<br>lifeExp=%{y}<extra></extra>",
         "hovertext": [
          "Trinidad and Tobago",
          "Trinidad and Tobago",
          "Trinidad and Tobago",
          "Trinidad and Tobago",
          "Trinidad and Tobago",
          "Trinidad and Tobago",
          "Trinidad and Tobago",
          "Trinidad and Tobago",
          "Trinidad and Tobago",
          "Trinidad and Tobago",
          "Trinidad and Tobago",
          "Trinidad and Tobago"
         ],
         "legendgroup": "Americas",
         "line": {
          "color": "#00cc96",
          "dash": "solid"
         },
         "mode": "lines",
         "name": "Americas",
         "showlegend": false,
         "type": "scattergl",
         "x": [
          1952,
          1957,
          1962,
          1967,
          1972,
          1977,
          1982,
          1987,
          1992,
          1997,
          2002,
          2007
         ],
         "xaxis": "x",
         "y": [
          59.1,
          61.8,
          64.9,
          65.4,
          65.9,
          68.3,
          68.832,
          69.582,
          69.862,
          69.465,
          68.976,
          69.819
         ],
         "yaxis": "y"
        },
        {
         "hovertemplate": "<b>%{hovertext}</b><br><br>continent=Americas<br>country=United States<br>year=%{x}<br>lifeExp=%{y}<extra></extra>",
         "hovertext": [
          "United States",
          "United States",
          "United States",
          "United States",
          "United States",
          "United States",
          "United States",
          "United States",
          "United States",
          "United States",
          "United States",
          "United States"
         ],
         "legendgroup": "Americas",
         "line": {
          "color": "#00cc96",
          "dash": "solid"
         },
         "mode": "lines",
         "name": "Americas",
         "showlegend": false,
         "type": "scattergl",
         "x": [
          1952,
          1957,
          1962,
          1967,
          1972,
          1977,
          1982,
          1987,
          1992,
          1997,
          2002,
          2007
         ],
         "xaxis": "x",
         "y": [
          68.44,
          69.49,
          70.21,
          70.76,
          71.34,
          73.38,
          74.65,
          75.02,
          76.09,
          76.81,
          77.31,
          78.242
         ],
         "yaxis": "y"
        },
        {
         "hovertemplate": "<b>%{hovertext}</b><br><br>continent=Americas<br>country=Uruguay<br>year=%{x}<br>lifeExp=%{y}<extra></extra>",
         "hovertext": [
          "Uruguay",
          "Uruguay",
          "Uruguay",
          "Uruguay",
          "Uruguay",
          "Uruguay",
          "Uruguay",
          "Uruguay",
          "Uruguay",
          "Uruguay",
          "Uruguay",
          "Uruguay"
         ],
         "legendgroup": "Americas",
         "line": {
          "color": "#00cc96",
          "dash": "solid"
         },
         "mode": "lines",
         "name": "Americas",
         "showlegend": false,
         "type": "scattergl",
         "x": [
          1952,
          1957,
          1962,
          1967,
          1972,
          1977,
          1982,
          1987,
          1992,
          1997,
          2002,
          2007
         ],
         "xaxis": "x",
         "y": [
          66.071,
          67.044,
          68.253,
          68.468,
          68.673,
          69.481,
          70.805,
          71.918,
          72.752,
          74.223,
          75.307,
          76.384
         ],
         "yaxis": "y"
        },
        {
         "hovertemplate": "<b>%{hovertext}</b><br><br>continent=Americas<br>country=Venezuela<br>year=%{x}<br>lifeExp=%{y}<extra></extra>",
         "hovertext": [
          "Venezuela",
          "Venezuela",
          "Venezuela",
          "Venezuela",
          "Venezuela",
          "Venezuela",
          "Venezuela",
          "Venezuela",
          "Venezuela",
          "Venezuela",
          "Venezuela",
          "Venezuela"
         ],
         "legendgroup": "Americas",
         "line": {
          "color": "#00cc96",
          "dash": "solid"
         },
         "mode": "lines",
         "name": "Americas",
         "showlegend": false,
         "type": "scattergl",
         "x": [
          1952,
          1957,
          1962,
          1967,
          1972,
          1977,
          1982,
          1987,
          1992,
          1997,
          2002,
          2007
         ],
         "xaxis": "x",
         "y": [
          55.088,
          57.907,
          60.77,
          63.479,
          65.712,
          67.456,
          68.557,
          70.19,
          71.15,
          72.146,
          72.766,
          73.747
         ],
         "yaxis": "y"
        },
        {
         "hovertemplate": "<b>%{hovertext}</b><br><br>continent=Oceania<br>country=Australia<br>year=%{x}<br>lifeExp=%{y}<extra></extra>",
         "hovertext": [
          "Australia",
          "Australia",
          "Australia",
          "Australia",
          "Australia",
          "Australia",
          "Australia",
          "Australia",
          "Australia",
          "Australia",
          "Australia",
          "Australia"
         ],
         "legendgroup": "Oceania",
         "line": {
          "color": "#ab63fa",
          "dash": "solid"
         },
         "mode": "lines",
         "name": "Oceania",
         "showlegend": true,
         "type": "scattergl",
         "x": [
          1952,
          1957,
          1962,
          1967,
          1972,
          1977,
          1982,
          1987,
          1992,
          1997,
          2002,
          2007
         ],
         "xaxis": "x",
         "y": [
          69.12,
          70.33,
          70.93,
          71.1,
          71.93,
          73.49,
          74.74,
          76.32,
          77.56,
          78.83,
          80.37,
          81.235
         ],
         "yaxis": "y"
        },
        {
         "hovertemplate": "<b>%{hovertext}</b><br><br>continent=Oceania<br>country=New Zealand<br>year=%{x}<br>lifeExp=%{y}<extra></extra>",
         "hovertext": [
          "New Zealand",
          "New Zealand",
          "New Zealand",
          "New Zealand",
          "New Zealand",
          "New Zealand",
          "New Zealand",
          "New Zealand",
          "New Zealand",
          "New Zealand",
          "New Zealand",
          "New Zealand"
         ],
         "legendgroup": "Oceania",
         "line": {
          "color": "#ab63fa",
          "dash": "solid"
         },
         "mode": "lines",
         "name": "Oceania",
         "showlegend": false,
         "type": "scattergl",
         "x": [
          1952,
          1957,
          1962,
          1967,
          1972,
          1977,
          1982,
          1987,
          1992,
          1997,
          2002,
          2007
         ],
         "xaxis": "x",
         "y": [
          69.39,
          70.26,
          71.24,
          71.52,
          71.89,
          72.22,
          73.84,
          74.32,
          76.33,
          77.55,
          79.11,
          80.204
         ],
         "yaxis": "y"
        }
       ],
       "layout": {
        "legend": {
         "title": {
          "text": "continent"
         },
         "tracegroupgap": 0
        },
        "margin": {
         "t": 60
        },
        "template": {
         "data": {
          "bar": [
           {
            "error_x": {
             "color": "#2a3f5f"
            },
            "error_y": {
             "color": "#2a3f5f"
            },
            "marker": {
             "line": {
              "color": "#E5ECF6",
              "width": 0.5
             }
            },
            "type": "bar"
           }
          ],
          "barpolar": [
           {
            "marker": {
             "line": {
              "color": "#E5ECF6",
              "width": 0.5
             }
            },
            "type": "barpolar"
           }
          ],
          "carpet": [
           {
            "aaxis": {
             "endlinecolor": "#2a3f5f",
             "gridcolor": "white",
             "linecolor": "white",
             "minorgridcolor": "white",
             "startlinecolor": "#2a3f5f"
            },
            "baxis": {
             "endlinecolor": "#2a3f5f",
             "gridcolor": "white",
             "linecolor": "white",
             "minorgridcolor": "white",
             "startlinecolor": "#2a3f5f"
            },
            "type": "carpet"
           }
          ],
          "choropleth": [
           {
            "colorbar": {
             "outlinewidth": 0,
             "ticks": ""
            },
            "type": "choropleth"
           }
          ],
          "contour": [
           {
            "colorbar": {
             "outlinewidth": 0,
             "ticks": ""
            },
            "colorscale": [
             [
              0.0,
              "#0d0887"
             ],
             [
              0.1111111111111111,
              "#46039f"
             ],
             [
              0.2222222222222222,
              "#7201a8"
             ],
             [
              0.3333333333333333,
              "#9c179e"
             ],
             [
              0.4444444444444444,
              "#bd3786"
             ],
             [
              0.5555555555555556,
              "#d8576b"
             ],
             [
              0.6666666666666666,
              "#ed7953"
             ],
             [
              0.7777777777777778,
              "#fb9f3a"
             ],
             [
              0.8888888888888888,
              "#fdca26"
             ],
             [
              1.0,
              "#f0f921"
             ]
            ],
            "type": "contour"
           }
          ],
          "contourcarpet": [
           {
            "colorbar": {
             "outlinewidth": 0,
             "ticks": ""
            },
            "type": "contourcarpet"
           }
          ],
          "heatmap": [
           {
            "colorbar": {
             "outlinewidth": 0,
             "ticks": ""
            },
            "colorscale": [
             [
              0.0,
              "#0d0887"
             ],
             [
              0.1111111111111111,
              "#46039f"
             ],
             [
              0.2222222222222222,
              "#7201a8"
             ],
             [
              0.3333333333333333,
              "#9c179e"
             ],
             [
              0.4444444444444444,
              "#bd3786"
             ],
             [
              0.5555555555555556,
              "#d8576b"
             ],
             [
              0.6666666666666666,
              "#ed7953"
             ],
             [
              0.7777777777777778,
              "#fb9f3a"
             ],
             [
              0.8888888888888888,
              "#fdca26"
             ],
             [
              1.0,
              "#f0f921"
             ]
            ],
            "type": "heatmap"
           }
          ],
          "heatmapgl": [
           {
            "colorbar": {
             "outlinewidth": 0,
             "ticks": ""
            },
            "colorscale": [
             [
              0.0,
              "#0d0887"
             ],
             [
              0.1111111111111111,
              "#46039f"
             ],
             [
              0.2222222222222222,
              "#7201a8"
             ],
             [
              0.3333333333333333,
              "#9c179e"
             ],
             [
              0.4444444444444444,
              "#bd3786"
             ],
             [
              0.5555555555555556,
              "#d8576b"
             ],
             [
              0.6666666666666666,
              "#ed7953"
             ],
             [
              0.7777777777777778,
              "#fb9f3a"
             ],
             [
              0.8888888888888888,
              "#fdca26"
             ],
             [
              1.0,
              "#f0f921"
             ]
            ],
            "type": "heatmapgl"
           }
          ],
          "histogram": [
           {
            "marker": {
             "colorbar": {
              "outlinewidth": 0,
              "ticks": ""
             }
            },
            "type": "histogram"
           }
          ],
          "histogram2d": [
           {
            "colorbar": {
             "outlinewidth": 0,
             "ticks": ""
            },
            "colorscale": [
             [
              0.0,
              "#0d0887"
             ],
             [
              0.1111111111111111,
              "#46039f"
             ],
             [
              0.2222222222222222,
              "#7201a8"
             ],
             [
              0.3333333333333333,
              "#9c179e"
             ],
             [
              0.4444444444444444,
              "#bd3786"
             ],
             [
              0.5555555555555556,
              "#d8576b"
             ],
             [
              0.6666666666666666,
              "#ed7953"
             ],
             [
              0.7777777777777778,
              "#fb9f3a"
             ],
             [
              0.8888888888888888,
              "#fdca26"
             ],
             [
              1.0,
              "#f0f921"
             ]
            ],
            "type": "histogram2d"
           }
          ],
          "histogram2dcontour": [
           {
            "colorbar": {
             "outlinewidth": 0,
             "ticks": ""
            },
            "colorscale": [
             [
              0.0,
              "#0d0887"
             ],
             [
              0.1111111111111111,
              "#46039f"
             ],
             [
              0.2222222222222222,
              "#7201a8"
             ],
             [
              0.3333333333333333,
              "#9c179e"
             ],
             [
              0.4444444444444444,
              "#bd3786"
             ],
             [
              0.5555555555555556,
              "#d8576b"
             ],
             [
              0.6666666666666666,
              "#ed7953"
             ],
             [
              0.7777777777777778,
              "#fb9f3a"
             ],
             [
              0.8888888888888888,
              "#fdca26"
             ],
             [
              1.0,
              "#f0f921"
             ]
            ],
            "type": "histogram2dcontour"
           }
          ],
          "mesh3d": [
           {
            "colorbar": {
             "outlinewidth": 0,
             "ticks": ""
            },
            "type": "mesh3d"
           }
          ],
          "parcoords": [
           {
            "line": {
             "colorbar": {
              "outlinewidth": 0,
              "ticks": ""
             }
            },
            "type": "parcoords"
           }
          ],
          "pie": [
           {
            "automargin": true,
            "type": "pie"
           }
          ],
          "scatter": [
           {
            "marker": {
             "colorbar": {
              "outlinewidth": 0,
              "ticks": ""
             }
            },
            "type": "scatter"
           }
          ],
          "scatter3d": [
           {
            "line": {
             "colorbar": {
              "outlinewidth": 0,
              "ticks": ""
             }
            },
            "marker": {
             "colorbar": {
              "outlinewidth": 0,
              "ticks": ""
             }
            },
            "type": "scatter3d"
           }
          ],
          "scattercarpet": [
           {
            "marker": {
             "colorbar": {
              "outlinewidth": 0,
              "ticks": ""
             }
            },
            "type": "scattercarpet"
           }
          ],
          "scattergeo": [
           {
            "marker": {
             "colorbar": {
              "outlinewidth": 0,
              "ticks": ""
             }
            },
            "type": "scattergeo"
           }
          ],
          "scattergl": [
           {
            "marker": {
             "colorbar": {
              "outlinewidth": 0,
              "ticks": ""
             }
            },
            "type": "scattergl"
           }
          ],
          "scattermapbox": [
           {
            "marker": {
             "colorbar": {
              "outlinewidth": 0,
              "ticks": ""
             }
            },
            "type": "scattermapbox"
           }
          ],
          "scatterpolar": [
           {
            "marker": {
             "colorbar": {
              "outlinewidth": 0,
              "ticks": ""
             }
            },
            "type": "scatterpolar"
           }
          ],
          "scatterpolargl": [
           {
            "marker": {
             "colorbar": {
              "outlinewidth": 0,
              "ticks": ""
             }
            },
            "type": "scatterpolargl"
           }
          ],
          "scatterternary": [
           {
            "marker": {
             "colorbar": {
              "outlinewidth": 0,
              "ticks": ""
             }
            },
            "type": "scatterternary"
           }
          ],
          "surface": [
           {
            "colorbar": {
             "outlinewidth": 0,
             "ticks": ""
            },
            "colorscale": [
             [
              0.0,
              "#0d0887"
             ],
             [
              0.1111111111111111,
              "#46039f"
             ],
             [
              0.2222222222222222,
              "#7201a8"
             ],
             [
              0.3333333333333333,
              "#9c179e"
             ],
             [
              0.4444444444444444,
              "#bd3786"
             ],
             [
              0.5555555555555556,
              "#d8576b"
             ],
             [
              0.6666666666666666,
              "#ed7953"
             ],
             [
              0.7777777777777778,
              "#fb9f3a"
             ],
             [
              0.8888888888888888,
              "#fdca26"
             ],
             [
              1.0,
              "#f0f921"
             ]
            ],
            "type": "surface"
           }
          ],
          "table": [
           {
            "cells": {
             "fill": {
              "color": "#EBF0F8"
             },
             "line": {
              "color": "white"
             }
            },
            "header": {
             "fill": {
              "color": "#C8D4E3"
             },
             "line": {
              "color": "white"
             }
            },
            "type": "table"
           }
          ]
         },
         "layout": {
          "annotationdefaults": {
           "arrowcolor": "#2a3f5f",
           "arrowhead": 0,
           "arrowwidth": 1
          },
          "autotypenumbers": "strict",
          "coloraxis": {
           "colorbar": {
            "outlinewidth": 0,
            "ticks": ""
           }
          },
          "colorscale": {
           "diverging": [
            [
             0,
             "#8e0152"
            ],
            [
             0.1,
             "#c51b7d"
            ],
            [
             0.2,
             "#de77ae"
            ],
            [
             0.3,
             "#f1b6da"
            ],
            [
             0.4,
             "#fde0ef"
            ],
            [
             0.5,
             "#f7f7f7"
            ],
            [
             0.6,
             "#e6f5d0"
            ],
            [
             0.7,
             "#b8e186"
            ],
            [
             0.8,
             "#7fbc41"
            ],
            [
             0.9,
             "#4d9221"
            ],
            [
             1,
             "#276419"
            ]
           ],
           "sequential": [
            [
             0.0,
             "#0d0887"
            ],
            [
             0.1111111111111111,
             "#46039f"
            ],
            [
             0.2222222222222222,
             "#7201a8"
            ],
            [
             0.3333333333333333,
             "#9c179e"
            ],
            [
             0.4444444444444444,
             "#bd3786"
            ],
            [
             0.5555555555555556,
             "#d8576b"
            ],
            [
             0.6666666666666666,
             "#ed7953"
            ],
            [
             0.7777777777777778,
             "#fb9f3a"
            ],
            [
             0.8888888888888888,
             "#fdca26"
            ],
            [
             1.0,
             "#f0f921"
            ]
           ],
           "sequentialminus": [
            [
             0.0,
             "#0d0887"
            ],
            [
             0.1111111111111111,
             "#46039f"
            ],
            [
             0.2222222222222222,
             "#7201a8"
            ],
            [
             0.3333333333333333,
             "#9c179e"
            ],
            [
             0.4444444444444444,
             "#bd3786"
            ],
            [
             0.5555555555555556,
             "#d8576b"
            ],
            [
             0.6666666666666666,
             "#ed7953"
            ],
            [
             0.7777777777777778,
             "#fb9f3a"
            ],
            [
             0.8888888888888888,
             "#fdca26"
            ],
            [
             1.0,
             "#f0f921"
            ]
           ]
          },
          "colorway": [
           "#636efa",
           "#EF553B",
           "#00cc96",
           "#ab63fa",
           "#FFA15A",
           "#19d3f3",
           "#FF6692",
           "#B6E880",
           "#FF97FF",
           "#FECB52"
          ],
          "font": {
           "color": "#2a3f5f"
          },
          "geo": {
           "bgcolor": "white",
           "lakecolor": "white",
           "landcolor": "#E5ECF6",
           "showlakes": true,
           "showland": true,
           "subunitcolor": "white"
          },
          "hoverlabel": {
           "align": "left"
          },
          "hovermode": "closest",
          "mapbox": {
           "style": "light"
          },
          "paper_bgcolor": "white",
          "plot_bgcolor": "#E5ECF6",
          "polar": {
           "angularaxis": {
            "gridcolor": "white",
            "linecolor": "white",
            "ticks": ""
           },
           "bgcolor": "#E5ECF6",
           "radialaxis": {
            "gridcolor": "white",
            "linecolor": "white",
            "ticks": ""
           }
          },
          "scene": {
           "xaxis": {
            "backgroundcolor": "#E5ECF6",
            "gridcolor": "white",
            "gridwidth": 2,
            "linecolor": "white",
            "showbackground": true,
            "ticks": "",
            "zerolinecolor": "white"
           },
           "yaxis": {
            "backgroundcolor": "#E5ECF6",
            "gridcolor": "white",
            "gridwidth": 2,
            "linecolor": "white",
            "showbackground": true,
            "ticks": "",
            "zerolinecolor": "white"
           },
           "zaxis": {
            "backgroundcolor": "#E5ECF6",
            "gridcolor": "white",
            "gridwidth": 2,
            "linecolor": "white",
            "showbackground": true,
            "ticks": "",
            "zerolinecolor": "white"
           }
          },
          "shapedefaults": {
           "line": {
            "color": "#2a3f5f"
           }
          },
          "ternary": {
           "aaxis": {
            "gridcolor": "white",
            "linecolor": "white",
            "ticks": ""
           },
           "baxis": {
            "gridcolor": "white",
            "linecolor": "white",
            "ticks": ""
           },
           "bgcolor": "#E5ECF6",
           "caxis": {
            "gridcolor": "white",
            "linecolor": "white",
            "ticks": ""
           }
          },
          "title": {
           "x": 0.05
          },
          "xaxis": {
           "automargin": true,
           "gridcolor": "white",
           "linecolor": "white",
           "ticks": "",
           "title": {
            "standoff": 15
           },
           "zerolinecolor": "white",
           "zerolinewidth": 2
          },
          "yaxis": {
           "automargin": true,
           "gridcolor": "white",
           "linecolor": "white",
           "ticks": "",
           "title": {
            "standoff": 15
           },
           "zerolinecolor": "white",
           "zerolinewidth": 2
          }
         }
        },
        "xaxis": {
         "anchor": "y",
         "domain": [
          0.0,
          1.0
         ],
         "title": {
          "text": "year"
         }
        },
        "yaxis": {
         "anchor": "x",
         "domain": [
          0.0,
          1.0
         ],
         "title": {
          "text": "lifeExp"
         }
        }
       }
      },
      "text/html": "<div>                            <div id=\"ee725395-032c-4ff0-ad32-abf3251b5a13\" class=\"plotly-graph-div\" style=\"height:525px; width:100%;\"></div>            <script type=\"text/javascript\">                require([\"plotly\"], function(Plotly) {                    window.PLOTLYENV=window.PLOTLYENV || {};                                    if (document.getElementById(\"ee725395-032c-4ff0-ad32-abf3251b5a13\")) {                    Plotly.newPlot(                        \"ee725395-032c-4ff0-ad32-abf3251b5a13\",                        [{\"hovertemplate\": \"<b>%{hovertext}</b><br><br>continent=Europe<br>country=Albania<br>year=%{x}<br>lifeExp=%{y}<extra></extra>\", \"hovertext\": [\"Albania\", \"Albania\", \"Albania\", \"Albania\", \"Albania\", \"Albania\", \"Albania\", \"Albania\", \"Albania\", \"Albania\", \"Albania\", \"Albania\"], \"legendgroup\": \"Europe\", \"line\": {\"color\": \"#636efa\", \"dash\": \"solid\"}, \"mode\": \"lines\", \"name\": \"Europe\", \"showlegend\": true, \"type\": \"scattergl\", \"x\": [1952, 1957, 1962, 1967, 1972, 1977, 1982, 1987, 1992, 1997, 2002, 2007], \"xaxis\": \"x\", \"y\": [55.23, 59.28, 64.82, 66.22, 67.69, 68.93, 70.42, 72.0, 71.581, 72.95, 75.651, 76.423], \"yaxis\": \"y\"}, {\"hovertemplate\": \"<b>%{hovertext}</b><br><br>continent=Europe<br>country=Austria<br>year=%{x}<br>lifeExp=%{y}<extra></extra>\", \"hovertext\": [\"Austria\", \"Austria\", \"Austria\", \"Austria\", \"Austria\", \"Austria\", \"Austria\", \"Austria\", \"Austria\", \"Austria\", \"Austria\", \"Austria\"], \"legendgroup\": \"Europe\", \"line\": {\"color\": \"#636efa\", \"dash\": \"solid\"}, \"mode\": \"lines\", \"name\": \"Europe\", \"showlegend\": false, \"type\": \"scattergl\", \"x\": [1952, 1957, 1962, 1967, 1972, 1977, 1982, 1987, 1992, 1997, 2002, 2007], \"xaxis\": \"x\", \"y\": [66.8, 67.48, 69.54, 70.14, 70.63, 72.17, 73.18, 74.94, 76.04, 77.51, 78.98, 79.829], \"yaxis\": \"y\"}, {\"hovertemplate\": \"<b>%{hovertext}</b><br><br>continent=Europe<br>country=Belgium<br>year=%{x}<br>lifeExp=%{y}<extra></extra>\", \"hovertext\": [\"Belgium\", \"Belgium\", \"Belgium\", \"Belgium\", \"Belgium\", \"Belgium\", \"Belgium\", \"Belgium\", \"Belgium\", \"Belgium\", \"Belgium\", \"Belgium\"], \"legendgroup\": \"Europe\", \"line\": {\"color\": \"#636efa\", \"dash\": \"solid\"}, \"mode\": \"lines\", \"name\": \"Europe\", \"showlegend\": false, \"type\": \"scattergl\", \"x\": [1952, 1957, 1962, 1967, 1972, 1977, 1982, 1987, 1992, 1997, 2002, 2007], \"xaxis\": \"x\", \"y\": [68.0, 69.24, 70.25, 70.94, 71.44, 72.8, 73.93, 75.35, 76.46, 77.53, 78.32, 79.441], \"yaxis\": \"y\"}, {\"hovertemplate\": \"<b>%{hovertext}</b><br><br>continent=Europe<br>country=Bosnia and Herzegovina<br>year=%{x}<br>lifeExp=%{y}<extra></extra>\", \"hovertext\": [\"Bosnia and Herzegovina\", \"Bosnia and Herzegovina\", \"Bosnia and Herzegovina\", \"Bosnia and Herzegovina\", \"Bosnia and Herzegovina\", \"Bosnia and Herzegovina\", \"Bosnia and Herzegovina\", \"Bosnia and Herzegovina\", \"Bosnia and Herzegovina\", \"Bosnia and Herzegovina\", \"Bosnia and Herzegovina\", \"Bosnia and Herzegovina\"], \"legendgroup\": \"Europe\", \"line\": {\"color\": \"#636efa\", \"dash\": \"solid\"}, \"mode\": \"lines\", \"name\": \"Europe\", \"showlegend\": false, \"type\": \"scattergl\", \"x\": [1952, 1957, 1962, 1967, 1972, 1977, 1982, 1987, 1992, 1997, 2002, 2007], \"xaxis\": \"x\", \"y\": [53.82, 58.45, 61.93, 64.79, 67.45, 69.86, 70.69, 71.14, 72.178, 73.244, 74.09, 74.852], \"yaxis\": \"y\"}, {\"hovertemplate\": \"<b>%{hovertext}</b><br><br>continent=Europe<br>country=Bulgaria<br>year=%{x}<br>lifeExp=%{y}<extra></extra>\", \"hovertext\": [\"Bulgaria\", \"Bulgaria\", \"Bulgaria\", \"Bulgaria\", \"Bulgaria\", \"Bulgaria\", \"Bulgaria\", \"Bulgaria\", \"Bulgaria\", \"Bulgaria\", \"Bulgaria\", \"Bulgaria\"], \"legendgroup\": \"Europe\", \"line\": {\"color\": \"#636efa\", \"dash\": \"solid\"}, \"mode\": \"lines\", \"name\": \"Europe\", \"showlegend\": false, \"type\": \"scattergl\", \"x\": [1952, 1957, 1962, 1967, 1972, 1977, 1982, 1987, 1992, 1997, 2002, 2007], \"xaxis\": \"x\", \"y\": [59.6, 66.61, 69.51, 70.42, 70.9, 70.81, 71.08, 71.34, 71.19, 70.32, 72.14, 73.005], \"yaxis\": \"y\"}, {\"hovertemplate\": \"<b>%{hovertext}</b><br><br>continent=Europe<br>country=Croatia<br>year=%{x}<br>lifeExp=%{y}<extra></extra>\", \"hovertext\": [\"Croatia\", \"Croatia\", \"Croatia\", \"Croatia\", \"Croatia\", \"Croatia\", \"Croatia\", \"Croatia\", \"Croatia\", \"Croatia\", \"Croatia\", \"Croatia\"], \"legendgroup\": \"Europe\", \"line\": {\"color\": \"#636efa\", \"dash\": \"solid\"}, \"mode\": \"lines\", \"name\": \"Europe\", \"showlegend\": false, \"type\": \"scattergl\", \"x\": [1952, 1957, 1962, 1967, 1972, 1977, 1982, 1987, 1992, 1997, 2002, 2007], \"xaxis\": \"x\", \"y\": [61.21, 64.77, 67.13, 68.5, 69.61, 70.64, 70.46, 71.52, 72.527, 73.68, 74.876, 75.748], \"yaxis\": \"y\"}, {\"hovertemplate\": \"<b>%{hovertext}</b><br><br>continent=Europe<br>country=Czech Republic<br>year=%{x}<br>lifeExp=%{y}<extra></extra>\", \"hovertext\": [\"Czech Republic\", \"Czech Republic\", \"Czech Republic\", \"Czech Republic\", \"Czech Republic\", \"Czech Republic\", \"Czech Republic\", \"Czech Republic\", \"Czech Republic\", \"Czech Republic\", \"Czech Republic\", \"Czech Republic\"], \"legendgroup\": \"Europe\", \"line\": {\"color\": \"#636efa\", \"dash\": \"solid\"}, \"mode\": \"lines\", \"name\": \"Europe\", \"showlegend\": false, \"type\": \"scattergl\", \"x\": [1952, 1957, 1962, 1967, 1972, 1977, 1982, 1987, 1992, 1997, 2002, 2007], \"xaxis\": \"x\", \"y\": [66.87, 69.03, 69.9, 70.38, 70.29, 70.71, 70.96, 71.58, 72.4, 74.01, 75.51, 76.486], \"yaxis\": \"y\"}, {\"hovertemplate\": \"<b>%{hovertext}</b><br><br>continent=Europe<br>country=Denmark<br>year=%{x}<br>lifeExp=%{y}<extra></extra>\", \"hovertext\": [\"Denmark\", \"Denmark\", \"Denmark\", \"Denmark\", \"Denmark\", \"Denmark\", \"Denmark\", \"Denmark\", \"Denmark\", \"Denmark\", \"Denmark\", \"Denmark\"], \"legendgroup\": \"Europe\", \"line\": {\"color\": \"#636efa\", \"dash\": \"solid\"}, \"mode\": \"lines\", \"name\": \"Europe\", \"showlegend\": false, \"type\": \"scattergl\", \"x\": [1952, 1957, 1962, 1967, 1972, 1977, 1982, 1987, 1992, 1997, 2002, 2007], \"xaxis\": \"x\", \"y\": [70.78, 71.81, 72.35, 72.96, 73.47, 74.69, 74.63, 74.8, 75.33, 76.11, 77.18, 78.332], \"yaxis\": \"y\"}, {\"hovertemplate\": \"<b>%{hovertext}</b><br><br>continent=Europe<br>country=Finland<br>year=%{x}<br>lifeExp=%{y}<extra></extra>\", \"hovertext\": [\"Finland\", \"Finland\", \"Finland\", \"Finland\", \"Finland\", \"Finland\", \"Finland\", \"Finland\", \"Finland\", \"Finland\", \"Finland\", \"Finland\"], \"legendgroup\": \"Europe\", \"line\": {\"color\": \"#636efa\", \"dash\": \"solid\"}, \"mode\": \"lines\", \"name\": \"Europe\", \"showlegend\": false, \"type\": \"scattergl\", \"x\": [1952, 1957, 1962, 1967, 1972, 1977, 1982, 1987, 1992, 1997, 2002, 2007], \"xaxis\": \"x\", \"y\": [66.55, 67.49, 68.75, 69.83, 70.87, 72.52, 74.55, 74.83, 75.7, 77.13, 78.37, 79.313], \"yaxis\": \"y\"}, {\"hovertemplate\": \"<b>%{hovertext}</b><br><br>continent=Europe<br>country=France<br>year=%{x}<br>lifeExp=%{y}<extra></extra>\", \"hovertext\": [\"France\", \"France\", \"France\", \"France\", \"France\", \"France\", \"France\", \"France\", \"France\", \"France\", \"France\", \"France\"], \"legendgroup\": \"Europe\", \"line\": {\"color\": \"#636efa\", \"dash\": \"solid\"}, \"mode\": \"lines\", \"name\": \"Europe\", \"showlegend\": false, \"type\": \"scattergl\", \"x\": [1952, 1957, 1962, 1967, 1972, 1977, 1982, 1987, 1992, 1997, 2002, 2007], \"xaxis\": \"x\", \"y\": [67.41, 68.93, 70.51, 71.55, 72.38, 73.83, 74.89, 76.34, 77.46, 78.64, 79.59, 80.657], \"yaxis\": \"y\"}, {\"hovertemplate\": \"<b>%{hovertext}</b><br><br>continent=Europe<br>country=Germany<br>year=%{x}<br>lifeExp=%{y}<extra></extra>\", \"hovertext\": [\"Germany\", \"Germany\", \"Germany\", \"Germany\", \"Germany\", \"Germany\", \"Germany\", \"Germany\", \"Germany\", \"Germany\", \"Germany\", \"Germany\"], \"legendgroup\": \"Europe\", \"line\": {\"color\": \"#636efa\", \"dash\": \"solid\"}, \"mode\": \"lines\", \"name\": \"Europe\", \"showlegend\": false, \"type\": \"scattergl\", \"x\": [1952, 1957, 1962, 1967, 1972, 1977, 1982, 1987, 1992, 1997, 2002, 2007], \"xaxis\": \"x\", \"y\": [67.5, 69.1, 70.3, 70.8, 71.0, 72.5, 73.8, 74.847, 76.07, 77.34, 78.67, 79.406], \"yaxis\": \"y\"}, {\"hovertemplate\": \"<b>%{hovertext}</b><br><br>continent=Europe<br>country=Greece<br>year=%{x}<br>lifeExp=%{y}<extra></extra>\", \"hovertext\": [\"Greece\", \"Greece\", \"Greece\", \"Greece\", \"Greece\", \"Greece\", \"Greece\", \"Greece\", \"Greece\", \"Greece\", \"Greece\", \"Greece\"], \"legendgroup\": \"Europe\", \"line\": {\"color\": \"#636efa\", \"dash\": \"solid\"}, \"mode\": \"lines\", \"name\": \"Europe\", \"showlegend\": false, \"type\": \"scattergl\", \"x\": [1952, 1957, 1962, 1967, 1972, 1977, 1982, 1987, 1992, 1997, 2002, 2007], \"xaxis\": \"x\", \"y\": [65.86, 67.86, 69.51, 71.0, 72.34, 73.68, 75.24, 76.67, 77.03, 77.869, 78.256, 79.483], \"yaxis\": \"y\"}, {\"hovertemplate\": \"<b>%{hovertext}</b><br><br>continent=Europe<br>country=Hungary<br>year=%{x}<br>lifeExp=%{y}<extra></extra>\", \"hovertext\": [\"Hungary\", \"Hungary\", \"Hungary\", \"Hungary\", \"Hungary\", \"Hungary\", \"Hungary\", \"Hungary\", \"Hungary\", \"Hungary\", \"Hungary\", \"Hungary\"], \"legendgroup\": \"Europe\", \"line\": {\"color\": \"#636efa\", \"dash\": \"solid\"}, \"mode\": \"lines\", \"name\": \"Europe\", \"showlegend\": false, \"type\": \"scattergl\", \"x\": [1952, 1957, 1962, 1967, 1972, 1977, 1982, 1987, 1992, 1997, 2002, 2007], \"xaxis\": \"x\", \"y\": [64.03, 66.41, 67.96, 69.5, 69.76, 69.95, 69.39, 69.58, 69.17, 71.04, 72.59, 73.338], \"yaxis\": \"y\"}, {\"hovertemplate\": \"<b>%{hovertext}</b><br><br>continent=Europe<br>country=Iceland<br>year=%{x}<br>lifeExp=%{y}<extra></extra>\", \"hovertext\": [\"Iceland\", \"Iceland\", \"Iceland\", \"Iceland\", \"Iceland\", \"Iceland\", \"Iceland\", \"Iceland\", \"Iceland\", \"Iceland\", \"Iceland\", \"Iceland\"], \"legendgroup\": \"Europe\", \"line\": {\"color\": \"#636efa\", \"dash\": \"solid\"}, \"mode\": \"lines\", \"name\": \"Europe\", \"showlegend\": false, \"type\": \"scattergl\", \"x\": [1952, 1957, 1962, 1967, 1972, 1977, 1982, 1987, 1992, 1997, 2002, 2007], \"xaxis\": \"x\", \"y\": [72.49, 73.47, 73.68, 73.73, 74.46, 76.11, 76.99, 77.23, 78.77, 78.95, 80.5, 81.757], \"yaxis\": \"y\"}, {\"hovertemplate\": \"<b>%{hovertext}</b><br><br>continent=Europe<br>country=Ireland<br>year=%{x}<br>lifeExp=%{y}<extra></extra>\", \"hovertext\": [\"Ireland\", \"Ireland\", \"Ireland\", \"Ireland\", \"Ireland\", \"Ireland\", \"Ireland\", \"Ireland\", \"Ireland\", \"Ireland\", \"Ireland\", \"Ireland\"], \"legendgroup\": \"Europe\", \"line\": {\"color\": \"#636efa\", \"dash\": \"solid\"}, \"mode\": \"lines\", \"name\": \"Europe\", \"showlegend\": false, \"type\": \"scattergl\", \"x\": [1952, 1957, 1962, 1967, 1972, 1977, 1982, 1987, 1992, 1997, 2002, 2007], \"xaxis\": \"x\", \"y\": [66.91, 68.9, 70.29, 71.08, 71.28, 72.03, 73.1, 74.36, 75.467, 76.122, 77.783, 78.885], \"yaxis\": \"y\"}, {\"hovertemplate\": \"<b>%{hovertext}</b><br><br>continent=Europe<br>country=Italy<br>year=%{x}<br>lifeExp=%{y}<extra></extra>\", \"hovertext\": [\"Italy\", \"Italy\", \"Italy\", \"Italy\", \"Italy\", \"Italy\", \"Italy\", \"Italy\", \"Italy\", \"Italy\", \"Italy\", \"Italy\"], \"legendgroup\": \"Europe\", \"line\": {\"color\": \"#636efa\", \"dash\": \"solid\"}, \"mode\": \"lines\", \"name\": \"Europe\", \"showlegend\": false, \"type\": \"scattergl\", \"x\": [1952, 1957, 1962, 1967, 1972, 1977, 1982, 1987, 1992, 1997, 2002, 2007], \"xaxis\": \"x\", \"y\": [65.94, 67.81, 69.24, 71.06, 72.19, 73.48, 74.98, 76.42, 77.44, 78.82, 80.24, 80.546], \"yaxis\": \"y\"}, {\"hovertemplate\": \"<b>%{hovertext}</b><br><br>continent=Europe<br>country=Montenegro<br>year=%{x}<br>lifeExp=%{y}<extra></extra>\", \"hovertext\": [\"Montenegro\", \"Montenegro\", \"Montenegro\", \"Montenegro\", \"Montenegro\", \"Montenegro\", \"Montenegro\", \"Montenegro\", \"Montenegro\", \"Montenegro\", \"Montenegro\", \"Montenegro\"], \"legendgroup\": \"Europe\", \"line\": {\"color\": \"#636efa\", \"dash\": \"solid\"}, \"mode\": \"lines\", \"name\": \"Europe\", \"showlegend\": false, \"type\": \"scattergl\", \"x\": [1952, 1957, 1962, 1967, 1972, 1977, 1982, 1987, 1992, 1997, 2002, 2007], \"xaxis\": \"x\", \"y\": [59.164, 61.448, 63.728, 67.178, 70.636, 73.066, 74.101, 74.865, 75.435, 75.445, 73.981, 74.543], \"yaxis\": \"y\"}, {\"hovertemplate\": \"<b>%{hovertext}</b><br><br>continent=Europe<br>country=Netherlands<br>year=%{x}<br>lifeExp=%{y}<extra></extra>\", \"hovertext\": [\"Netherlands\", \"Netherlands\", \"Netherlands\", \"Netherlands\", \"Netherlands\", \"Netherlands\", \"Netherlands\", \"Netherlands\", \"Netherlands\", \"Netherlands\", \"Netherlands\", \"Netherlands\"], \"legendgroup\": \"Europe\", \"line\": {\"color\": \"#636efa\", \"dash\": \"solid\"}, \"mode\": \"lines\", \"name\": \"Europe\", \"showlegend\": false, \"type\": \"scattergl\", \"x\": [1952, 1957, 1962, 1967, 1972, 1977, 1982, 1987, 1992, 1997, 2002, 2007], \"xaxis\": \"x\", \"y\": [72.13, 72.99, 73.23, 73.82, 73.75, 75.24, 76.05, 76.83, 77.42, 78.03, 78.53, 79.762], \"yaxis\": \"y\"}, {\"hovertemplate\": \"<b>%{hovertext}</b><br><br>continent=Europe<br>country=Norway<br>year=%{x}<br>lifeExp=%{y}<extra></extra>\", \"hovertext\": [\"Norway\", \"Norway\", \"Norway\", \"Norway\", \"Norway\", \"Norway\", \"Norway\", \"Norway\", \"Norway\", \"Norway\", \"Norway\", \"Norway\"], \"legendgroup\": \"Europe\", \"line\": {\"color\": \"#636efa\", \"dash\": \"solid\"}, \"mode\": \"lines\", \"name\": \"Europe\", \"showlegend\": false, \"type\": \"scattergl\", \"x\": [1952, 1957, 1962, 1967, 1972, 1977, 1982, 1987, 1992, 1997, 2002, 2007], \"xaxis\": \"x\", \"y\": [72.67, 73.44, 73.47, 74.08, 74.34, 75.37, 75.97, 75.89, 77.32, 78.32, 79.05, 80.196], \"yaxis\": \"y\"}, {\"hovertemplate\": \"<b>%{hovertext}</b><br><br>continent=Europe<br>country=Poland<br>year=%{x}<br>lifeExp=%{y}<extra></extra>\", \"hovertext\": [\"Poland\", \"Poland\", \"Poland\", \"Poland\", \"Poland\", \"Poland\", \"Poland\", \"Poland\", \"Poland\", \"Poland\", \"Poland\", \"Poland\"], \"legendgroup\": \"Europe\", \"line\": {\"color\": \"#636efa\", \"dash\": \"solid\"}, \"mode\": \"lines\", \"name\": \"Europe\", \"showlegend\": false, \"type\": \"scattergl\", \"x\": [1952, 1957, 1962, 1967, 1972, 1977, 1982, 1987, 1992, 1997, 2002, 2007], \"xaxis\": \"x\", \"y\": [61.31, 65.77, 67.64, 69.61, 70.85, 70.67, 71.32, 70.98, 70.99, 72.75, 74.67, 75.563], \"yaxis\": \"y\"}, {\"hovertemplate\": \"<b>%{hovertext}</b><br><br>continent=Europe<br>country=Portugal<br>year=%{x}<br>lifeExp=%{y}<extra></extra>\", \"hovertext\": [\"Portugal\", \"Portugal\", \"Portugal\", \"Portugal\", \"Portugal\", \"Portugal\", \"Portugal\", \"Portugal\", \"Portugal\", \"Portugal\", \"Portugal\", \"Portugal\"], \"legendgroup\": \"Europe\", \"line\": {\"color\": \"#636efa\", \"dash\": \"solid\"}, \"mode\": \"lines\", \"name\": \"Europe\", \"showlegend\": false, \"type\": \"scattergl\", \"x\": [1952, 1957, 1962, 1967, 1972, 1977, 1982, 1987, 1992, 1997, 2002, 2007], \"xaxis\": \"x\", \"y\": [59.82, 61.51, 64.39, 66.6, 69.26, 70.41, 72.77, 74.06, 74.86, 75.97, 77.29, 78.098], \"yaxis\": \"y\"}, {\"hovertemplate\": \"<b>%{hovertext}</b><br><br>continent=Europe<br>country=Romania<br>year=%{x}<br>lifeExp=%{y}<extra></extra>\", \"hovertext\": [\"Romania\", \"Romania\", \"Romania\", \"Romania\", \"Romania\", \"Romania\", \"Romania\", \"Romania\", \"Romania\", \"Romania\", \"Romania\", \"Romania\"], \"legendgroup\": \"Europe\", \"line\": {\"color\": \"#636efa\", \"dash\": \"solid\"}, \"mode\": \"lines\", \"name\": \"Europe\", \"showlegend\": false, \"type\": \"scattergl\", \"x\": [1952, 1957, 1962, 1967, 1972, 1977, 1982, 1987, 1992, 1997, 2002, 2007], \"xaxis\": \"x\", \"y\": [61.05, 64.1, 66.8, 66.8, 69.21, 69.46, 69.66, 69.53, 69.36, 69.72, 71.322, 72.476], \"yaxis\": \"y\"}, {\"hovertemplate\": \"<b>%{hovertext}</b><br><br>continent=Europe<br>country=Serbia<br>year=%{x}<br>lifeExp=%{y}<extra></extra>\", \"hovertext\": [\"Serbia\", \"Serbia\", \"Serbia\", \"Serbia\", \"Serbia\", \"Serbia\", \"Serbia\", \"Serbia\", \"Serbia\", \"Serbia\", \"Serbia\", \"Serbia\"], \"legendgroup\": \"Europe\", \"line\": {\"color\": \"#636efa\", \"dash\": \"solid\"}, \"mode\": \"lines\", \"name\": \"Europe\", \"showlegend\": false, \"type\": \"scattergl\", \"x\": [1952, 1957, 1962, 1967, 1972, 1977, 1982, 1987, 1992, 1997, 2002, 2007], \"xaxis\": \"x\", \"y\": [57.996, 61.685, 64.531, 66.914, 68.7, 70.3, 70.162, 71.218, 71.659, 72.232, 73.213, 74.002], \"yaxis\": \"y\"}, {\"hovertemplate\": \"<b>%{hovertext}</b><br><br>continent=Europe<br>country=Slovak Republic<br>year=%{x}<br>lifeExp=%{y}<extra></extra>\", \"hovertext\": [\"Slovak Republic\", \"Slovak Republic\", \"Slovak Republic\", \"Slovak Republic\", \"Slovak Republic\", \"Slovak Republic\", \"Slovak Republic\", \"Slovak Republic\", \"Slovak Republic\", \"Slovak Republic\", \"Slovak Republic\", \"Slovak Republic\"], \"legendgroup\": \"Europe\", \"line\": {\"color\": \"#636efa\", \"dash\": \"solid\"}, \"mode\": \"lines\", \"name\": \"Europe\", \"showlegend\": false, \"type\": \"scattergl\", \"x\": [1952, 1957, 1962, 1967, 1972, 1977, 1982, 1987, 1992, 1997, 2002, 2007], \"xaxis\": \"x\", \"y\": [64.36, 67.45, 70.33, 70.98, 70.35, 70.45, 70.8, 71.08, 71.38, 72.71, 73.8, 74.663], \"yaxis\": \"y\"}, {\"hovertemplate\": \"<b>%{hovertext}</b><br><br>continent=Europe<br>country=Slovenia<br>year=%{x}<br>lifeExp=%{y}<extra></extra>\", \"hovertext\": [\"Slovenia\", \"Slovenia\", \"Slovenia\", \"Slovenia\", \"Slovenia\", \"Slovenia\", \"Slovenia\", \"Slovenia\", \"Slovenia\", \"Slovenia\", \"Slovenia\", \"Slovenia\"], \"legendgroup\": \"Europe\", \"line\": {\"color\": \"#636efa\", \"dash\": \"solid\"}, \"mode\": \"lines\", \"name\": \"Europe\", \"showlegend\": false, \"type\": \"scattergl\", \"x\": [1952, 1957, 1962, 1967, 1972, 1977, 1982, 1987, 1992, 1997, 2002, 2007], \"xaxis\": \"x\", \"y\": [65.57, 67.85, 69.15, 69.18, 69.82, 70.97, 71.063, 72.25, 73.64, 75.13, 76.66, 77.926], \"yaxis\": \"y\"}, {\"hovertemplate\": \"<b>%{hovertext}</b><br><br>continent=Europe<br>country=Spain<br>year=%{x}<br>lifeExp=%{y}<extra></extra>\", \"hovertext\": [\"Spain\", \"Spain\", \"Spain\", \"Spain\", \"Spain\", \"Spain\", \"Spain\", \"Spain\", \"Spain\", \"Spain\", \"Spain\", \"Spain\"], \"legendgroup\": \"Europe\", \"line\": {\"color\": \"#636efa\", \"dash\": \"solid\"}, \"mode\": \"lines\", \"name\": \"Europe\", \"showlegend\": false, \"type\": \"scattergl\", \"x\": [1952, 1957, 1962, 1967, 1972, 1977, 1982, 1987, 1992, 1997, 2002, 2007], \"xaxis\": \"x\", \"y\": [64.94, 66.66, 69.69, 71.44, 73.06, 74.39, 76.3, 76.9, 77.57, 78.77, 79.78, 80.941], \"yaxis\": \"y\"}, {\"hovertemplate\": \"<b>%{hovertext}</b><br><br>continent=Europe<br>country=Sweden<br>year=%{x}<br>lifeExp=%{y}<extra></extra>\", \"hovertext\": [\"Sweden\", \"Sweden\", \"Sweden\", \"Sweden\", \"Sweden\", \"Sweden\", \"Sweden\", \"Sweden\", \"Sweden\", \"Sweden\", \"Sweden\", \"Sweden\"], \"legendgroup\": \"Europe\", \"line\": {\"color\": \"#636efa\", \"dash\": \"solid\"}, \"mode\": \"lines\", \"name\": \"Europe\", \"showlegend\": false, \"type\": \"scattergl\", \"x\": [1952, 1957, 1962, 1967, 1972, 1977, 1982, 1987, 1992, 1997, 2002, 2007], \"xaxis\": \"x\", \"y\": [71.86, 72.49, 73.37, 74.16, 74.72, 75.44, 76.42, 77.19, 78.16, 79.39, 80.04, 80.884], \"yaxis\": \"y\"}, {\"hovertemplate\": \"<b>%{hovertext}</b><br><br>continent=Europe<br>country=Switzerland<br>year=%{x}<br>lifeExp=%{y}<extra></extra>\", \"hovertext\": [\"Switzerland\", \"Switzerland\", \"Switzerland\", \"Switzerland\", \"Switzerland\", \"Switzerland\", \"Switzerland\", \"Switzerland\", \"Switzerland\", \"Switzerland\", \"Switzerland\", \"Switzerland\"], \"legendgroup\": \"Europe\", \"line\": {\"color\": \"#636efa\", \"dash\": \"solid\"}, \"mode\": \"lines\", \"name\": \"Europe\", \"showlegend\": false, \"type\": \"scattergl\", \"x\": [1952, 1957, 1962, 1967, 1972, 1977, 1982, 1987, 1992, 1997, 2002, 2007], \"xaxis\": \"x\", \"y\": [69.62, 70.56, 71.32, 72.77, 73.78, 75.39, 76.21, 77.41, 78.03, 79.37, 80.62, 81.701], \"yaxis\": \"y\"}, {\"hovertemplate\": \"<b>%{hovertext}</b><br><br>continent=Europe<br>country=Turkey<br>year=%{x}<br>lifeExp=%{y}<extra></extra>\", \"hovertext\": [\"Turkey\", \"Turkey\", \"Turkey\", \"Turkey\", \"Turkey\", \"Turkey\", \"Turkey\", \"Turkey\", \"Turkey\", \"Turkey\", \"Turkey\", \"Turkey\"], \"legendgroup\": \"Europe\", \"line\": {\"color\": \"#636efa\", \"dash\": \"solid\"}, \"mode\": \"lines\", \"name\": \"Europe\", \"showlegend\": false, \"type\": \"scattergl\", \"x\": [1952, 1957, 1962, 1967, 1972, 1977, 1982, 1987, 1992, 1997, 2002, 2007], \"xaxis\": \"x\", \"y\": [43.585, 48.079, 52.098, 54.336, 57.005, 59.507, 61.036, 63.108, 66.146, 68.835, 70.845, 71.777], \"yaxis\": \"y\"}, {\"hovertemplate\": \"<b>%{hovertext}</b><br><br>continent=Europe<br>country=United Kingdom<br>year=%{x}<br>lifeExp=%{y}<extra></extra>\", \"hovertext\": [\"United Kingdom\", \"United Kingdom\", \"United Kingdom\", \"United Kingdom\", \"United Kingdom\", \"United Kingdom\", \"United Kingdom\", \"United Kingdom\", \"United Kingdom\", \"United Kingdom\", \"United Kingdom\", \"United Kingdom\"], \"legendgroup\": \"Europe\", \"line\": {\"color\": \"#636efa\", \"dash\": \"solid\"}, \"mode\": \"lines\", \"name\": \"Europe\", \"showlegend\": false, \"type\": \"scattergl\", \"x\": [1952, 1957, 1962, 1967, 1972, 1977, 1982, 1987, 1992, 1997, 2002, 2007], \"xaxis\": \"x\", \"y\": [69.18, 70.42, 70.76, 71.36, 72.01, 72.76, 74.04, 75.007, 76.42, 77.218, 78.471, 79.425], \"yaxis\": \"y\"}, {\"hovertemplate\": \"<b>%{hovertext}</b><br><br>continent=Africa<br>country=Algeria<br>year=%{x}<br>lifeExp=%{y}<extra></extra>\", \"hovertext\": [\"Algeria\", \"Algeria\", \"Algeria\", \"Algeria\", \"Algeria\", \"Algeria\", \"Algeria\", \"Algeria\", \"Algeria\", \"Algeria\", \"Algeria\", \"Algeria\"], \"legendgroup\": \"Africa\", \"line\": {\"color\": \"#EF553B\", \"dash\": \"solid\"}, \"mode\": \"lines\", \"name\": \"Africa\", \"showlegend\": true, \"type\": \"scattergl\", \"x\": [1952, 1957, 1962, 1967, 1972, 1977, 1982, 1987, 1992, 1997, 2002, 2007], \"xaxis\": \"x\", \"y\": [43.077, 45.685, 48.303, 51.407, 54.518, 58.014, 61.368, 65.799, 67.744, 69.152, 70.994, 72.301], \"yaxis\": \"y\"}, {\"hovertemplate\": \"<b>%{hovertext}</b><br><br>continent=Africa<br>country=Angola<br>year=%{x}<br>lifeExp=%{y}<extra></extra>\", \"hovertext\": [\"Angola\", \"Angola\", \"Angola\", \"Angola\", \"Angola\", \"Angola\", \"Angola\", \"Angola\", \"Angola\", \"Angola\", \"Angola\", \"Angola\"], \"legendgroup\": \"Africa\", \"line\": {\"color\": \"#EF553B\", \"dash\": \"solid\"}, \"mode\": \"lines\", \"name\": \"Africa\", \"showlegend\": false, \"type\": \"scattergl\", \"x\": [1952, 1957, 1962, 1967, 1972, 1977, 1982, 1987, 1992, 1997, 2002, 2007], \"xaxis\": \"x\", \"y\": [30.015, 31.999, 34.0, 35.985, 37.928, 39.483, 39.942, 39.906, 40.647, 40.963, 41.003, 42.731], \"yaxis\": \"y\"}, {\"hovertemplate\": \"<b>%{hovertext}</b><br><br>continent=Africa<br>country=Benin<br>year=%{x}<br>lifeExp=%{y}<extra></extra>\", \"hovertext\": [\"Benin\", \"Benin\", \"Benin\", \"Benin\", \"Benin\", \"Benin\", \"Benin\", \"Benin\", \"Benin\", \"Benin\", \"Benin\", \"Benin\"], \"legendgroup\": \"Africa\", \"line\": {\"color\": \"#EF553B\", \"dash\": \"solid\"}, \"mode\": \"lines\", \"name\": \"Africa\", \"showlegend\": false, \"type\": \"scattergl\", \"x\": [1952, 1957, 1962, 1967, 1972, 1977, 1982, 1987, 1992, 1997, 2002, 2007], \"xaxis\": \"x\", \"y\": [38.223, 40.358, 42.618, 44.885, 47.014, 49.19, 50.904, 52.337, 53.919, 54.777, 54.406, 56.728], \"yaxis\": \"y\"}, {\"hovertemplate\": \"<b>%{hovertext}</b><br><br>continent=Africa<br>country=Botswana<br>year=%{x}<br>lifeExp=%{y}<extra></extra>\", \"hovertext\": [\"Botswana\", \"Botswana\", \"Botswana\", \"Botswana\", \"Botswana\", \"Botswana\", \"Botswana\", \"Botswana\", \"Botswana\", \"Botswana\", \"Botswana\", \"Botswana\"], \"legendgroup\": \"Africa\", \"line\": {\"color\": \"#EF553B\", \"dash\": \"solid\"}, \"mode\": \"lines\", \"name\": \"Africa\", \"showlegend\": false, \"type\": \"scattergl\", \"x\": [1952, 1957, 1962, 1967, 1972, 1977, 1982, 1987, 1992, 1997, 2002, 2007], \"xaxis\": \"x\", \"y\": [47.622, 49.618, 51.52, 53.298, 56.024, 59.319, 61.484, 63.622, 62.745, 52.556, 46.634, 50.728], \"yaxis\": \"y\"}, {\"hovertemplate\": \"<b>%{hovertext}</b><br><br>continent=Africa<br>country=Burkina Faso<br>year=%{x}<br>lifeExp=%{y}<extra></extra>\", \"hovertext\": [\"Burkina Faso\", \"Burkina Faso\", \"Burkina Faso\", \"Burkina Faso\", \"Burkina Faso\", \"Burkina Faso\", \"Burkina Faso\", \"Burkina Faso\", \"Burkina Faso\", \"Burkina Faso\", \"Burkina Faso\", \"Burkina Faso\"], \"legendgroup\": \"Africa\", \"line\": {\"color\": \"#EF553B\", \"dash\": \"solid\"}, \"mode\": \"lines\", \"name\": \"Africa\", \"showlegend\": false, \"type\": \"scattergl\", \"x\": [1952, 1957, 1962, 1967, 1972, 1977, 1982, 1987, 1992, 1997, 2002, 2007], \"xaxis\": \"x\", \"y\": [31.975, 34.906, 37.814, 40.697, 43.591, 46.137, 48.122, 49.557, 50.26, 50.324, 50.65, 52.295], \"yaxis\": \"y\"}, {\"hovertemplate\": \"<b>%{hovertext}</b><br><br>continent=Africa<br>country=Burundi<br>year=%{x}<br>lifeExp=%{y}<extra></extra>\", \"hovertext\": [\"Burundi\", \"Burundi\", \"Burundi\", \"Burundi\", \"Burundi\", \"Burundi\", \"Burundi\", \"Burundi\", \"Burundi\", \"Burundi\", \"Burundi\", \"Burundi\"], \"legendgroup\": \"Africa\", \"line\": {\"color\": \"#EF553B\", \"dash\": \"solid\"}, \"mode\": \"lines\", \"name\": \"Africa\", \"showlegend\": false, \"type\": \"scattergl\", \"x\": [1952, 1957, 1962, 1967, 1972, 1977, 1982, 1987, 1992, 1997, 2002, 2007], \"xaxis\": \"x\", \"y\": [39.031, 40.533, 42.045, 43.548, 44.057, 45.91, 47.471, 48.211, 44.736, 45.326, 47.36, 49.58], \"yaxis\": \"y\"}, {\"hovertemplate\": \"<b>%{hovertext}</b><br><br>continent=Africa<br>country=Cameroon<br>year=%{x}<br>lifeExp=%{y}<extra></extra>\", \"hovertext\": [\"Cameroon\", \"Cameroon\", \"Cameroon\", \"Cameroon\", \"Cameroon\", \"Cameroon\", \"Cameroon\", \"Cameroon\", \"Cameroon\", \"Cameroon\", \"Cameroon\", \"Cameroon\"], \"legendgroup\": \"Africa\", \"line\": {\"color\": \"#EF553B\", \"dash\": \"solid\"}, \"mode\": \"lines\", \"name\": \"Africa\", \"showlegend\": false, \"type\": \"scattergl\", \"x\": [1952, 1957, 1962, 1967, 1972, 1977, 1982, 1987, 1992, 1997, 2002, 2007], \"xaxis\": \"x\", \"y\": [38.523, 40.428, 42.643, 44.799, 47.049, 49.355, 52.961, 54.985, 54.314, 52.199, 49.856, 50.43], \"yaxis\": \"y\"}, {\"hovertemplate\": \"<b>%{hovertext}</b><br><br>continent=Africa<br>country=Central African Republic<br>year=%{x}<br>lifeExp=%{y}<extra></extra>\", \"hovertext\": [\"Central African Republic\", \"Central African Republic\", \"Central African Republic\", \"Central African Republic\", \"Central African Republic\", \"Central African Republic\", \"Central African Republic\", \"Central African Republic\", \"Central African Republic\", \"Central African Republic\", \"Central African Republic\", \"Central African Republic\"], \"legendgroup\": \"Africa\", \"line\": {\"color\": \"#EF553B\", \"dash\": \"solid\"}, \"mode\": \"lines\", \"name\": \"Africa\", \"showlegend\": false, \"type\": \"scattergl\", \"x\": [1952, 1957, 1962, 1967, 1972, 1977, 1982, 1987, 1992, 1997, 2002, 2007], \"xaxis\": \"x\", \"y\": [35.463, 37.464, 39.475, 41.478, 43.457, 46.775, 48.295, 50.485, 49.396, 46.066, 43.308, 44.741], \"yaxis\": \"y\"}, {\"hovertemplate\": \"<b>%{hovertext}</b><br><br>continent=Africa<br>country=Chad<br>year=%{x}<br>lifeExp=%{y}<extra></extra>\", \"hovertext\": [\"Chad\", \"Chad\", \"Chad\", \"Chad\", \"Chad\", \"Chad\", \"Chad\", \"Chad\", \"Chad\", \"Chad\", \"Chad\", \"Chad\"], \"legendgroup\": \"Africa\", \"line\": {\"color\": \"#EF553B\", \"dash\": \"solid\"}, \"mode\": \"lines\", \"name\": \"Africa\", \"showlegend\": false, \"type\": \"scattergl\", \"x\": [1952, 1957, 1962, 1967, 1972, 1977, 1982, 1987, 1992, 1997, 2002, 2007], \"xaxis\": \"x\", \"y\": [38.092, 39.881, 41.716, 43.601, 45.569, 47.383, 49.517, 51.051, 51.724, 51.573, 50.525, 50.651], \"yaxis\": \"y\"}, {\"hovertemplate\": \"<b>%{hovertext}</b><br><br>continent=Africa<br>country=Comoros<br>year=%{x}<br>lifeExp=%{y}<extra></extra>\", \"hovertext\": [\"Comoros\", \"Comoros\", \"Comoros\", \"Comoros\", \"Comoros\", \"Comoros\", \"Comoros\", \"Comoros\", \"Comoros\", \"Comoros\", \"Comoros\", \"Comoros\"], \"legendgroup\": \"Africa\", \"line\": {\"color\": \"#EF553B\", \"dash\": \"solid\"}, \"mode\": \"lines\", \"name\": \"Africa\", \"showlegend\": false, \"type\": \"scattergl\", \"x\": [1952, 1957, 1962, 1967, 1972, 1977, 1982, 1987, 1992, 1997, 2002, 2007], \"xaxis\": \"x\", \"y\": [40.715, 42.46, 44.467, 46.472, 48.944, 50.939, 52.933, 54.926, 57.939, 60.66, 62.974, 65.152], \"yaxis\": \"y\"}, {\"hovertemplate\": \"<b>%{hovertext}</b><br><br>continent=Africa<br>country=Congo, Dem. Rep.<br>year=%{x}<br>lifeExp=%{y}<extra></extra>\", \"hovertext\": [\"Congo, Dem. Rep.\", \"Congo, Dem. Rep.\", \"Congo, Dem. Rep.\", \"Congo, Dem. Rep.\", \"Congo, Dem. Rep.\", \"Congo, Dem. Rep.\", \"Congo, Dem. Rep.\", \"Congo, Dem. Rep.\", \"Congo, Dem. Rep.\", \"Congo, Dem. Rep.\", \"Congo, Dem. Rep.\", \"Congo, Dem. Rep.\"], \"legendgroup\": \"Africa\", \"line\": {\"color\": \"#EF553B\", \"dash\": \"solid\"}, \"mode\": \"lines\", \"name\": \"Africa\", \"showlegend\": false, \"type\": \"scattergl\", \"x\": [1952, 1957, 1962, 1967, 1972, 1977, 1982, 1987, 1992, 1997, 2002, 2007], \"xaxis\": \"x\", \"y\": [39.143, 40.652, 42.122, 44.056, 45.989, 47.804, 47.784, 47.412, 45.548, 42.587, 44.966, 46.462], \"yaxis\": \"y\"}, {\"hovertemplate\": \"<b>%{hovertext}</b><br><br>continent=Africa<br>country=Congo, Rep.<br>year=%{x}<br>lifeExp=%{y}<extra></extra>\", \"hovertext\": [\"Congo, Rep.\", \"Congo, Rep.\", \"Congo, Rep.\", \"Congo, Rep.\", \"Congo, Rep.\", \"Congo, Rep.\", \"Congo, Rep.\", \"Congo, Rep.\", \"Congo, Rep.\", \"Congo, Rep.\", \"Congo, Rep.\", \"Congo, Rep.\"], \"legendgroup\": \"Africa\", \"line\": {\"color\": \"#EF553B\", \"dash\": \"solid\"}, \"mode\": \"lines\", \"name\": \"Africa\", \"showlegend\": false, \"type\": \"scattergl\", \"x\": [1952, 1957, 1962, 1967, 1972, 1977, 1982, 1987, 1992, 1997, 2002, 2007], \"xaxis\": \"x\", \"y\": [42.111, 45.053, 48.435, 52.04, 54.907, 55.625, 56.695, 57.47, 56.433, 52.962, 52.97, 55.322], \"yaxis\": \"y\"}, {\"hovertemplate\": \"<b>%{hovertext}</b><br><br>continent=Africa<br>country=Cote d'Ivoire<br>year=%{x}<br>lifeExp=%{y}<extra></extra>\", \"hovertext\": [\"Cote d'Ivoire\", \"Cote d'Ivoire\", \"Cote d'Ivoire\", \"Cote d'Ivoire\", \"Cote d'Ivoire\", \"Cote d'Ivoire\", \"Cote d'Ivoire\", \"Cote d'Ivoire\", \"Cote d'Ivoire\", \"Cote d'Ivoire\", \"Cote d'Ivoire\", \"Cote d'Ivoire\"], \"legendgroup\": \"Africa\", \"line\": {\"color\": \"#EF553B\", \"dash\": \"solid\"}, \"mode\": \"lines\", \"name\": \"Africa\", \"showlegend\": false, \"type\": \"scattergl\", \"x\": [1952, 1957, 1962, 1967, 1972, 1977, 1982, 1987, 1992, 1997, 2002, 2007], \"xaxis\": \"x\", \"y\": [40.477, 42.469, 44.93, 47.35, 49.801, 52.374, 53.983, 54.655, 52.044, 47.991, 46.832, 48.328], \"yaxis\": \"y\"}, {\"hovertemplate\": \"<b>%{hovertext}</b><br><br>continent=Africa<br>country=Djibouti<br>year=%{x}<br>lifeExp=%{y}<extra></extra>\", \"hovertext\": [\"Djibouti\", \"Djibouti\", \"Djibouti\", \"Djibouti\", \"Djibouti\", \"Djibouti\", \"Djibouti\", \"Djibouti\", \"Djibouti\", \"Djibouti\", \"Djibouti\", \"Djibouti\"], \"legendgroup\": \"Africa\", \"line\": {\"color\": \"#EF553B\", \"dash\": \"solid\"}, \"mode\": \"lines\", \"name\": \"Africa\", \"showlegend\": false, \"type\": \"scattergl\", \"x\": [1952, 1957, 1962, 1967, 1972, 1977, 1982, 1987, 1992, 1997, 2002, 2007], \"xaxis\": \"x\", \"y\": [34.812, 37.328, 39.693, 42.074, 44.366, 46.519, 48.812, 50.04, 51.604, 53.157, 53.373, 54.791], \"yaxis\": \"y\"}, {\"hovertemplate\": \"<b>%{hovertext}</b><br><br>continent=Africa<br>country=Egypt<br>year=%{x}<br>lifeExp=%{y}<extra></extra>\", \"hovertext\": [\"Egypt\", \"Egypt\", \"Egypt\", \"Egypt\", \"Egypt\", \"Egypt\", \"Egypt\", \"Egypt\", \"Egypt\", \"Egypt\", \"Egypt\", \"Egypt\"], \"legendgroup\": \"Africa\", \"line\": {\"color\": \"#EF553B\", \"dash\": \"solid\"}, \"mode\": \"lines\", \"name\": \"Africa\", \"showlegend\": false, \"type\": \"scattergl\", \"x\": [1952, 1957, 1962, 1967, 1972, 1977, 1982, 1987, 1992, 1997, 2002, 2007], \"xaxis\": \"x\", \"y\": [41.893, 44.444, 46.992, 49.293, 51.137, 53.319, 56.006, 59.797, 63.674, 67.217, 69.806, 71.338], \"yaxis\": \"y\"}, {\"hovertemplate\": \"<b>%{hovertext}</b><br><br>continent=Africa<br>country=Equatorial Guinea<br>year=%{x}<br>lifeExp=%{y}<extra></extra>\", \"hovertext\": [\"Equatorial Guinea\", \"Equatorial Guinea\", \"Equatorial Guinea\", \"Equatorial Guinea\", \"Equatorial Guinea\", \"Equatorial Guinea\", \"Equatorial Guinea\", \"Equatorial Guinea\", \"Equatorial Guinea\", \"Equatorial Guinea\", \"Equatorial Guinea\", \"Equatorial Guinea\"], \"legendgroup\": \"Africa\", \"line\": {\"color\": \"#EF553B\", \"dash\": \"solid\"}, \"mode\": \"lines\", \"name\": \"Africa\", \"showlegend\": false, \"type\": \"scattergl\", \"x\": [1952, 1957, 1962, 1967, 1972, 1977, 1982, 1987, 1992, 1997, 2002, 2007], \"xaxis\": \"x\", \"y\": [34.482, 35.983, 37.485, 38.987, 40.516, 42.024, 43.662, 45.664, 47.545, 48.245, 49.348, 51.579], \"yaxis\": \"y\"}, {\"hovertemplate\": \"<b>%{hovertext}</b><br><br>continent=Africa<br>country=Eritrea<br>year=%{x}<br>lifeExp=%{y}<extra></extra>\", \"hovertext\": [\"Eritrea\", \"Eritrea\", \"Eritrea\", \"Eritrea\", \"Eritrea\", \"Eritrea\", \"Eritrea\", \"Eritrea\", \"Eritrea\", \"Eritrea\", \"Eritrea\", \"Eritrea\"], \"legendgroup\": \"Africa\", \"line\": {\"color\": \"#EF553B\", \"dash\": \"solid\"}, \"mode\": \"lines\", \"name\": \"Africa\", \"showlegend\": false, \"type\": \"scattergl\", \"x\": [1952, 1957, 1962, 1967, 1972, 1977, 1982, 1987, 1992, 1997, 2002, 2007], \"xaxis\": \"x\", \"y\": [35.928, 38.047, 40.158, 42.189, 44.142, 44.535, 43.89, 46.453, 49.991, 53.378, 55.24, 58.04], \"yaxis\": \"y\"}, {\"hovertemplate\": \"<b>%{hovertext}</b><br><br>continent=Africa<br>country=Ethiopia<br>year=%{x}<br>lifeExp=%{y}<extra></extra>\", \"hovertext\": [\"Ethiopia\", \"Ethiopia\", \"Ethiopia\", \"Ethiopia\", \"Ethiopia\", \"Ethiopia\", \"Ethiopia\", \"Ethiopia\", \"Ethiopia\", \"Ethiopia\", \"Ethiopia\", \"Ethiopia\"], \"legendgroup\": \"Africa\", \"line\": {\"color\": \"#EF553B\", \"dash\": \"solid\"}, \"mode\": \"lines\", \"name\": \"Africa\", \"showlegend\": false, \"type\": \"scattergl\", \"x\": [1952, 1957, 1962, 1967, 1972, 1977, 1982, 1987, 1992, 1997, 2002, 2007], \"xaxis\": \"x\", \"y\": [34.078, 36.667, 40.059, 42.115, 43.515, 44.51, 44.916, 46.684, 48.091, 49.402, 50.725, 52.947], \"yaxis\": \"y\"}, {\"hovertemplate\": \"<b>%{hovertext}</b><br><br>continent=Africa<br>country=Gabon<br>year=%{x}<br>lifeExp=%{y}<extra></extra>\", \"hovertext\": [\"Gabon\", \"Gabon\", \"Gabon\", \"Gabon\", \"Gabon\", \"Gabon\", \"Gabon\", \"Gabon\", \"Gabon\", \"Gabon\", \"Gabon\", \"Gabon\"], \"legendgroup\": \"Africa\", \"line\": {\"color\": \"#EF553B\", \"dash\": \"solid\"}, \"mode\": \"lines\", \"name\": \"Africa\", \"showlegend\": false, \"type\": \"scattergl\", \"x\": [1952, 1957, 1962, 1967, 1972, 1977, 1982, 1987, 1992, 1997, 2002, 2007], \"xaxis\": \"x\", \"y\": [37.003, 38.999, 40.489, 44.598, 48.69, 52.79, 56.564, 60.19, 61.366, 60.461, 56.761, 56.735], \"yaxis\": \"y\"}, {\"hovertemplate\": \"<b>%{hovertext}</b><br><br>continent=Africa<br>country=Gambia<br>year=%{x}<br>lifeExp=%{y}<extra></extra>\", \"hovertext\": [\"Gambia\", \"Gambia\", \"Gambia\", \"Gambia\", \"Gambia\", \"Gambia\", \"Gambia\", \"Gambia\", \"Gambia\", \"Gambia\", \"Gambia\", \"Gambia\"], \"legendgroup\": \"Africa\", \"line\": {\"color\": \"#EF553B\", \"dash\": \"solid\"}, \"mode\": \"lines\", \"name\": \"Africa\", \"showlegend\": false, \"type\": \"scattergl\", \"x\": [1952, 1957, 1962, 1967, 1972, 1977, 1982, 1987, 1992, 1997, 2002, 2007], \"xaxis\": \"x\", \"y\": [30.0, 32.065, 33.896, 35.857, 38.308, 41.842, 45.58, 49.265, 52.644, 55.861, 58.041, 59.448], \"yaxis\": \"y\"}, {\"hovertemplate\": \"<b>%{hovertext}</b><br><br>continent=Africa<br>country=Ghana<br>year=%{x}<br>lifeExp=%{y}<extra></extra>\", \"hovertext\": [\"Ghana\", \"Ghana\", \"Ghana\", \"Ghana\", \"Ghana\", \"Ghana\", \"Ghana\", \"Ghana\", \"Ghana\", \"Ghana\", \"Ghana\", \"Ghana\"], \"legendgroup\": \"Africa\", \"line\": {\"color\": \"#EF553B\", \"dash\": \"solid\"}, \"mode\": \"lines\", \"name\": \"Africa\", \"showlegend\": false, \"type\": \"scattergl\", \"x\": [1952, 1957, 1962, 1967, 1972, 1977, 1982, 1987, 1992, 1997, 2002, 2007], \"xaxis\": \"x\", \"y\": [43.149, 44.779, 46.452, 48.072, 49.875, 51.756, 53.744, 55.729, 57.501, 58.556, 58.453, 60.022], \"yaxis\": \"y\"}, {\"hovertemplate\": \"<b>%{hovertext}</b><br><br>continent=Africa<br>country=Guinea<br>year=%{x}<br>lifeExp=%{y}<extra></extra>\", \"hovertext\": [\"Guinea\", \"Guinea\", \"Guinea\", \"Guinea\", \"Guinea\", \"Guinea\", \"Guinea\", \"Guinea\", \"Guinea\", \"Guinea\", \"Guinea\", \"Guinea\"], \"legendgroup\": \"Africa\", \"line\": {\"color\": \"#EF553B\", \"dash\": \"solid\"}, \"mode\": \"lines\", \"name\": \"Africa\", \"showlegend\": false, \"type\": \"scattergl\", \"x\": [1952, 1957, 1962, 1967, 1972, 1977, 1982, 1987, 1992, 1997, 2002, 2007], \"xaxis\": \"x\", \"y\": [33.609, 34.558, 35.753, 37.197, 38.842, 40.762, 42.891, 45.552, 48.576, 51.455, 53.676, 56.007], \"yaxis\": \"y\"}, {\"hovertemplate\": \"<b>%{hovertext}</b><br><br>continent=Africa<br>country=Guinea-Bissau<br>year=%{x}<br>lifeExp=%{y}<extra></extra>\", \"hovertext\": [\"Guinea-Bissau\", \"Guinea-Bissau\", \"Guinea-Bissau\", \"Guinea-Bissau\", \"Guinea-Bissau\", \"Guinea-Bissau\", \"Guinea-Bissau\", \"Guinea-Bissau\", \"Guinea-Bissau\", \"Guinea-Bissau\", \"Guinea-Bissau\", \"Guinea-Bissau\"], \"legendgroup\": \"Africa\", \"line\": {\"color\": \"#EF553B\", \"dash\": \"solid\"}, \"mode\": \"lines\", \"name\": \"Africa\", \"showlegend\": false, \"type\": \"scattergl\", \"x\": [1952, 1957, 1962, 1967, 1972, 1977, 1982, 1987, 1992, 1997, 2002, 2007], \"xaxis\": \"x\", \"y\": [32.5, 33.489, 34.488, 35.492, 36.486, 37.465, 39.327, 41.245, 43.266, 44.873, 45.504, 46.388], \"yaxis\": \"y\"}, {\"hovertemplate\": \"<b>%{hovertext}</b><br><br>continent=Africa<br>country=Kenya<br>year=%{x}<br>lifeExp=%{y}<extra></extra>\", \"hovertext\": [\"Kenya\", \"Kenya\", \"Kenya\", \"Kenya\", \"Kenya\", \"Kenya\", \"Kenya\", \"Kenya\", \"Kenya\", \"Kenya\", \"Kenya\", \"Kenya\"], \"legendgroup\": \"Africa\", \"line\": {\"color\": \"#EF553B\", \"dash\": \"solid\"}, \"mode\": \"lines\", \"name\": \"Africa\", \"showlegend\": false, \"type\": \"scattergl\", \"x\": [1952, 1957, 1962, 1967, 1972, 1977, 1982, 1987, 1992, 1997, 2002, 2007], \"xaxis\": \"x\", \"y\": [42.27, 44.686, 47.949, 50.654, 53.559, 56.155, 58.766, 59.339, 59.285, 54.407, 50.992, 54.11], \"yaxis\": \"y\"}, {\"hovertemplate\": \"<b>%{hovertext}</b><br><br>continent=Africa<br>country=Lesotho<br>year=%{x}<br>lifeExp=%{y}<extra></extra>\", \"hovertext\": [\"Lesotho\", \"Lesotho\", \"Lesotho\", \"Lesotho\", \"Lesotho\", \"Lesotho\", \"Lesotho\", \"Lesotho\", \"Lesotho\", \"Lesotho\", \"Lesotho\", \"Lesotho\"], \"legendgroup\": \"Africa\", \"line\": {\"color\": \"#EF553B\", \"dash\": \"solid\"}, \"mode\": \"lines\", \"name\": \"Africa\", \"showlegend\": false, \"type\": \"scattergl\", \"x\": [1952, 1957, 1962, 1967, 1972, 1977, 1982, 1987, 1992, 1997, 2002, 2007], \"xaxis\": \"x\", \"y\": [42.138, 45.047, 47.747, 48.492, 49.767, 52.208, 55.078, 57.18, 59.685, 55.558, 44.593, 42.592], \"yaxis\": \"y\"}, {\"hovertemplate\": \"<b>%{hovertext}</b><br><br>continent=Africa<br>country=Liberia<br>year=%{x}<br>lifeExp=%{y}<extra></extra>\", \"hovertext\": [\"Liberia\", \"Liberia\", \"Liberia\", \"Liberia\", \"Liberia\", \"Liberia\", \"Liberia\", \"Liberia\", \"Liberia\", \"Liberia\", \"Liberia\", \"Liberia\"], \"legendgroup\": \"Africa\", \"line\": {\"color\": \"#EF553B\", \"dash\": \"solid\"}, \"mode\": \"lines\", \"name\": \"Africa\", \"showlegend\": false, \"type\": \"scattergl\", \"x\": [1952, 1957, 1962, 1967, 1972, 1977, 1982, 1987, 1992, 1997, 2002, 2007], \"xaxis\": \"x\", \"y\": [38.48, 39.486, 40.502, 41.536, 42.614, 43.764, 44.852, 46.027, 40.802, 42.221, 43.753, 45.678], \"yaxis\": \"y\"}, {\"hovertemplate\": \"<b>%{hovertext}</b><br><br>continent=Africa<br>country=Libya<br>year=%{x}<br>lifeExp=%{y}<extra></extra>\", \"hovertext\": [\"Libya\", \"Libya\", \"Libya\", \"Libya\", \"Libya\", \"Libya\", \"Libya\", \"Libya\", \"Libya\", \"Libya\", \"Libya\", \"Libya\"], \"legendgroup\": \"Africa\", \"line\": {\"color\": \"#EF553B\", \"dash\": \"solid\"}, \"mode\": \"lines\", \"name\": \"Africa\", \"showlegend\": false, \"type\": \"scattergl\", \"x\": [1952, 1957, 1962, 1967, 1972, 1977, 1982, 1987, 1992, 1997, 2002, 2007], \"xaxis\": \"x\", \"y\": [42.723, 45.289, 47.808, 50.227, 52.773, 57.442, 62.155, 66.234, 68.755, 71.555, 72.737, 73.952], \"yaxis\": \"y\"}, {\"hovertemplate\": \"<b>%{hovertext}</b><br><br>continent=Africa<br>country=Madagascar<br>year=%{x}<br>lifeExp=%{y}<extra></extra>\", \"hovertext\": [\"Madagascar\", \"Madagascar\", \"Madagascar\", \"Madagascar\", \"Madagascar\", \"Madagascar\", \"Madagascar\", \"Madagascar\", \"Madagascar\", \"Madagascar\", \"Madagascar\", \"Madagascar\"], \"legendgroup\": \"Africa\", \"line\": {\"color\": \"#EF553B\", \"dash\": \"solid\"}, \"mode\": \"lines\", \"name\": \"Africa\", \"showlegend\": false, \"type\": \"scattergl\", \"x\": [1952, 1957, 1962, 1967, 1972, 1977, 1982, 1987, 1992, 1997, 2002, 2007], \"xaxis\": \"x\", \"y\": [36.681, 38.865, 40.848, 42.881, 44.851, 46.881, 48.969, 49.35, 52.214, 54.978, 57.286, 59.443], \"yaxis\": \"y\"}, {\"hovertemplate\": \"<b>%{hovertext}</b><br><br>continent=Africa<br>country=Malawi<br>year=%{x}<br>lifeExp=%{y}<extra></extra>\", \"hovertext\": [\"Malawi\", \"Malawi\", \"Malawi\", \"Malawi\", \"Malawi\", \"Malawi\", \"Malawi\", \"Malawi\", \"Malawi\", \"Malawi\", \"Malawi\", \"Malawi\"], \"legendgroup\": \"Africa\", \"line\": {\"color\": \"#EF553B\", \"dash\": \"solid\"}, \"mode\": \"lines\", \"name\": \"Africa\", \"showlegend\": false, \"type\": \"scattergl\", \"x\": [1952, 1957, 1962, 1967, 1972, 1977, 1982, 1987, 1992, 1997, 2002, 2007], \"xaxis\": \"x\", \"y\": [36.256, 37.207, 38.41, 39.487, 41.766, 43.767, 45.642, 47.457, 49.42, 47.495, 45.009, 48.303], \"yaxis\": \"y\"}, {\"hovertemplate\": \"<b>%{hovertext}</b><br><br>continent=Africa<br>country=Mali<br>year=%{x}<br>lifeExp=%{y}<extra></extra>\", \"hovertext\": [\"Mali\", \"Mali\", \"Mali\", \"Mali\", \"Mali\", \"Mali\", \"Mali\", \"Mali\", \"Mali\", \"Mali\", \"Mali\", \"Mali\"], \"legendgroup\": \"Africa\", \"line\": {\"color\": \"#EF553B\", \"dash\": \"solid\"}, \"mode\": \"lines\", \"name\": \"Africa\", \"showlegend\": false, \"type\": \"scattergl\", \"x\": [1952, 1957, 1962, 1967, 1972, 1977, 1982, 1987, 1992, 1997, 2002, 2007], \"xaxis\": \"x\", \"y\": [33.685, 35.307, 36.936, 38.487, 39.977, 41.714, 43.916, 46.364, 48.388, 49.903, 51.818, 54.467], \"yaxis\": \"y\"}, {\"hovertemplate\": \"<b>%{hovertext}</b><br><br>continent=Africa<br>country=Mauritania<br>year=%{x}<br>lifeExp=%{y}<extra></extra>\", \"hovertext\": [\"Mauritania\", \"Mauritania\", \"Mauritania\", \"Mauritania\", \"Mauritania\", \"Mauritania\", \"Mauritania\", \"Mauritania\", \"Mauritania\", \"Mauritania\", \"Mauritania\", \"Mauritania\"], \"legendgroup\": \"Africa\", \"line\": {\"color\": \"#EF553B\", \"dash\": \"solid\"}, \"mode\": \"lines\", \"name\": \"Africa\", \"showlegend\": false, \"type\": \"scattergl\", \"x\": [1952, 1957, 1962, 1967, 1972, 1977, 1982, 1987, 1992, 1997, 2002, 2007], \"xaxis\": \"x\", \"y\": [40.543, 42.338, 44.248, 46.289, 48.437, 50.852, 53.599, 56.145, 58.333, 60.43, 62.247, 64.164], \"yaxis\": \"y\"}, {\"hovertemplate\": \"<b>%{hovertext}</b><br><br>continent=Africa<br>country=Mauritius<br>year=%{x}<br>lifeExp=%{y}<extra></extra>\", \"hovertext\": [\"Mauritius\", \"Mauritius\", \"Mauritius\", \"Mauritius\", \"Mauritius\", \"Mauritius\", \"Mauritius\", \"Mauritius\", \"Mauritius\", \"Mauritius\", \"Mauritius\", \"Mauritius\"], \"legendgroup\": \"Africa\", \"line\": {\"color\": \"#EF553B\", \"dash\": \"solid\"}, \"mode\": \"lines\", \"name\": \"Africa\", \"showlegend\": false, \"type\": \"scattergl\", \"x\": [1952, 1957, 1962, 1967, 1972, 1977, 1982, 1987, 1992, 1997, 2002, 2007], \"xaxis\": \"x\", \"y\": [50.986, 58.089, 60.246, 61.557, 62.944, 64.93, 66.711, 68.74, 69.745, 70.736, 71.954, 72.801], \"yaxis\": \"y\"}, {\"hovertemplate\": \"<b>%{hovertext}</b><br><br>continent=Africa<br>country=Morocco<br>year=%{x}<br>lifeExp=%{y}<extra></extra>\", \"hovertext\": [\"Morocco\", \"Morocco\", \"Morocco\", \"Morocco\", \"Morocco\", \"Morocco\", \"Morocco\", \"Morocco\", \"Morocco\", \"Morocco\", \"Morocco\", \"Morocco\"], \"legendgroup\": \"Africa\", \"line\": {\"color\": \"#EF553B\", \"dash\": \"solid\"}, \"mode\": \"lines\", \"name\": \"Africa\", \"showlegend\": false, \"type\": \"scattergl\", \"x\": [1952, 1957, 1962, 1967, 1972, 1977, 1982, 1987, 1992, 1997, 2002, 2007], \"xaxis\": \"x\", \"y\": [42.873, 45.423, 47.924, 50.335, 52.862, 55.73, 59.65, 62.677, 65.393, 67.66, 69.615, 71.164], \"yaxis\": \"y\"}, {\"hovertemplate\": \"<b>%{hovertext}</b><br><br>continent=Africa<br>country=Mozambique<br>year=%{x}<br>lifeExp=%{y}<extra></extra>\", \"hovertext\": [\"Mozambique\", \"Mozambique\", \"Mozambique\", \"Mozambique\", \"Mozambique\", \"Mozambique\", \"Mozambique\", \"Mozambique\", \"Mozambique\", \"Mozambique\", \"Mozambique\", \"Mozambique\"], \"legendgroup\": \"Africa\", \"line\": {\"color\": \"#EF553B\", \"dash\": \"solid\"}, \"mode\": \"lines\", \"name\": \"Africa\", \"showlegend\": false, \"type\": \"scattergl\", \"x\": [1952, 1957, 1962, 1967, 1972, 1977, 1982, 1987, 1992, 1997, 2002, 2007], \"xaxis\": \"x\", \"y\": [31.286, 33.779, 36.161, 38.113, 40.328, 42.495, 42.795, 42.861, 44.284, 46.344, 44.026, 42.082], \"yaxis\": \"y\"}, {\"hovertemplate\": \"<b>%{hovertext}</b><br><br>continent=Africa<br>country=Namibia<br>year=%{x}<br>lifeExp=%{y}<extra></extra>\", \"hovertext\": [\"Namibia\", \"Namibia\", \"Namibia\", \"Namibia\", \"Namibia\", \"Namibia\", \"Namibia\", \"Namibia\", \"Namibia\", \"Namibia\", \"Namibia\", \"Namibia\"], \"legendgroup\": \"Africa\", \"line\": {\"color\": \"#EF553B\", \"dash\": \"solid\"}, \"mode\": \"lines\", \"name\": \"Africa\", \"showlegend\": false, \"type\": \"scattergl\", \"x\": [1952, 1957, 1962, 1967, 1972, 1977, 1982, 1987, 1992, 1997, 2002, 2007], \"xaxis\": \"x\", \"y\": [41.725, 45.226, 48.386, 51.159, 53.867, 56.437, 58.968, 60.835, 61.999, 58.909, 51.479, 52.906], \"yaxis\": \"y\"}, {\"hovertemplate\": \"<b>%{hovertext}</b><br><br>continent=Africa<br>country=Niger<br>year=%{x}<br>lifeExp=%{y}<extra></extra>\", \"hovertext\": [\"Niger\", \"Niger\", \"Niger\", \"Niger\", \"Niger\", \"Niger\", \"Niger\", \"Niger\", \"Niger\", \"Niger\", \"Niger\", \"Niger\"], \"legendgroup\": \"Africa\", \"line\": {\"color\": \"#EF553B\", \"dash\": \"solid\"}, \"mode\": \"lines\", \"name\": \"Africa\", \"showlegend\": false, \"type\": \"scattergl\", \"x\": [1952, 1957, 1962, 1967, 1972, 1977, 1982, 1987, 1992, 1997, 2002, 2007], \"xaxis\": \"x\", \"y\": [37.444, 38.598, 39.487, 40.118, 40.546, 41.291, 42.598, 44.555, 47.391, 51.313, 54.496, 56.867], \"yaxis\": \"y\"}, {\"hovertemplate\": \"<b>%{hovertext}</b><br><br>continent=Africa<br>country=Nigeria<br>year=%{x}<br>lifeExp=%{y}<extra></extra>\", \"hovertext\": [\"Nigeria\", \"Nigeria\", \"Nigeria\", \"Nigeria\", \"Nigeria\", \"Nigeria\", \"Nigeria\", \"Nigeria\", \"Nigeria\", \"Nigeria\", \"Nigeria\", \"Nigeria\"], \"legendgroup\": \"Africa\", \"line\": {\"color\": \"#EF553B\", \"dash\": \"solid\"}, \"mode\": \"lines\", \"name\": \"Africa\", \"showlegend\": false, \"type\": \"scattergl\", \"x\": [1952, 1957, 1962, 1967, 1972, 1977, 1982, 1987, 1992, 1997, 2002, 2007], \"xaxis\": \"x\", \"y\": [36.324, 37.802, 39.36, 41.04, 42.821, 44.514, 45.826, 46.886, 47.472, 47.464, 46.608, 46.859], \"yaxis\": \"y\"}, {\"hovertemplate\": \"<b>%{hovertext}</b><br><br>continent=Africa<br>country=Reunion<br>year=%{x}<br>lifeExp=%{y}<extra></extra>\", \"hovertext\": [\"Reunion\", \"Reunion\", \"Reunion\", \"Reunion\", \"Reunion\", \"Reunion\", \"Reunion\", \"Reunion\", \"Reunion\", \"Reunion\", \"Reunion\", \"Reunion\"], \"legendgroup\": \"Africa\", \"line\": {\"color\": \"#EF553B\", \"dash\": \"solid\"}, \"mode\": \"lines\", \"name\": \"Africa\", \"showlegend\": false, \"type\": \"scattergl\", \"x\": [1952, 1957, 1962, 1967, 1972, 1977, 1982, 1987, 1992, 1997, 2002, 2007], \"xaxis\": \"x\", \"y\": [52.724, 55.09, 57.666, 60.542, 64.274, 67.064, 69.885, 71.913, 73.615, 74.772, 75.744, 76.442], \"yaxis\": \"y\"}, {\"hovertemplate\": \"<b>%{hovertext}</b><br><br>continent=Africa<br>country=Rwanda<br>year=%{x}<br>lifeExp=%{y}<extra></extra>\", \"hovertext\": [\"Rwanda\", \"Rwanda\", \"Rwanda\", \"Rwanda\", \"Rwanda\", \"Rwanda\", \"Rwanda\", \"Rwanda\", \"Rwanda\", \"Rwanda\", \"Rwanda\", \"Rwanda\"], \"legendgroup\": \"Africa\", \"line\": {\"color\": \"#EF553B\", \"dash\": \"solid\"}, \"mode\": \"lines\", \"name\": \"Africa\", \"showlegend\": false, \"type\": \"scattergl\", \"x\": [1952, 1957, 1962, 1967, 1972, 1977, 1982, 1987, 1992, 1997, 2002, 2007], \"xaxis\": \"x\", \"y\": [40.0, 41.5, 43.0, 44.1, 44.6, 45.0, 46.218, 44.02, 23.599, 36.087, 43.413, 46.242], \"yaxis\": \"y\"}, {\"hovertemplate\": \"<b>%{hovertext}</b><br><br>continent=Africa<br>country=Sao Tome and Principe<br>year=%{x}<br>lifeExp=%{y}<extra></extra>\", \"hovertext\": [\"Sao Tome and Principe\", \"Sao Tome and Principe\", \"Sao Tome and Principe\", \"Sao Tome and Principe\", \"Sao Tome and Principe\", \"Sao Tome and Principe\", \"Sao Tome and Principe\", \"Sao Tome and Principe\", \"Sao Tome and Principe\", \"Sao Tome and Principe\", \"Sao Tome and Principe\", \"Sao Tome and Principe\"], \"legendgroup\": \"Africa\", \"line\": {\"color\": \"#EF553B\", \"dash\": \"solid\"}, \"mode\": \"lines\", \"name\": \"Africa\", \"showlegend\": false, \"type\": \"scattergl\", \"x\": [1952, 1957, 1962, 1967, 1972, 1977, 1982, 1987, 1992, 1997, 2002, 2007], \"xaxis\": \"x\", \"y\": [46.471, 48.945, 51.893, 54.425, 56.48, 58.55, 60.351, 61.728, 62.742, 63.306, 64.337, 65.528], \"yaxis\": \"y\"}, {\"hovertemplate\": \"<b>%{hovertext}</b><br><br>continent=Africa<br>country=Senegal<br>year=%{x}<br>lifeExp=%{y}<extra></extra>\", \"hovertext\": [\"Senegal\", \"Senegal\", \"Senegal\", \"Senegal\", \"Senegal\", \"Senegal\", \"Senegal\", \"Senegal\", \"Senegal\", \"Senegal\", \"Senegal\", \"Senegal\"], \"legendgroup\": \"Africa\", \"line\": {\"color\": \"#EF553B\", \"dash\": \"solid\"}, \"mode\": \"lines\", \"name\": \"Africa\", \"showlegend\": false, \"type\": \"scattergl\", \"x\": [1952, 1957, 1962, 1967, 1972, 1977, 1982, 1987, 1992, 1997, 2002, 2007], \"xaxis\": \"x\", \"y\": [37.278, 39.329, 41.454, 43.563, 45.815, 48.879, 52.379, 55.769, 58.196, 60.187, 61.6, 63.062], \"yaxis\": \"y\"}, {\"hovertemplate\": \"<b>%{hovertext}</b><br><br>continent=Africa<br>country=Sierra Leone<br>year=%{x}<br>lifeExp=%{y}<extra></extra>\", \"hovertext\": [\"Sierra Leone\", \"Sierra Leone\", \"Sierra Leone\", \"Sierra Leone\", \"Sierra Leone\", \"Sierra Leone\", \"Sierra Leone\", \"Sierra Leone\", \"Sierra Leone\", \"Sierra Leone\", \"Sierra Leone\", \"Sierra Leone\"], \"legendgroup\": \"Africa\", \"line\": {\"color\": \"#EF553B\", \"dash\": \"solid\"}, \"mode\": \"lines\", \"name\": \"Africa\", \"showlegend\": false, \"type\": \"scattergl\", \"x\": [1952, 1957, 1962, 1967, 1972, 1977, 1982, 1987, 1992, 1997, 2002, 2007], \"xaxis\": \"x\", \"y\": [30.331, 31.57, 32.767, 34.113, 35.4, 36.788, 38.445, 40.006, 38.333, 39.897, 41.012, 42.568], \"yaxis\": \"y\"}, {\"hovertemplate\": \"<b>%{hovertext}</b><br><br>continent=Africa<br>country=Somalia<br>year=%{x}<br>lifeExp=%{y}<extra></extra>\", \"hovertext\": [\"Somalia\", \"Somalia\", \"Somalia\", \"Somalia\", \"Somalia\", \"Somalia\", \"Somalia\", \"Somalia\", \"Somalia\", \"Somalia\", \"Somalia\", \"Somalia\"], \"legendgroup\": \"Africa\", \"line\": {\"color\": \"#EF553B\", \"dash\": \"solid\"}, \"mode\": \"lines\", \"name\": \"Africa\", \"showlegend\": false, \"type\": \"scattergl\", \"x\": [1952, 1957, 1962, 1967, 1972, 1977, 1982, 1987, 1992, 1997, 2002, 2007], \"xaxis\": \"x\", \"y\": [32.978, 34.977, 36.981, 38.977, 40.973, 41.974, 42.955, 44.501, 39.658, 43.795, 45.936, 48.159], \"yaxis\": \"y\"}, {\"hovertemplate\": \"<b>%{hovertext}</b><br><br>continent=Africa<br>country=South Africa<br>year=%{x}<br>lifeExp=%{y}<extra></extra>\", \"hovertext\": [\"South Africa\", \"South Africa\", \"South Africa\", \"South Africa\", \"South Africa\", \"South Africa\", \"South Africa\", \"South Africa\", \"South Africa\", \"South Africa\", \"South Africa\", \"South Africa\"], \"legendgroup\": \"Africa\", \"line\": {\"color\": \"#EF553B\", \"dash\": \"solid\"}, \"mode\": \"lines\", \"name\": \"Africa\", \"showlegend\": false, \"type\": \"scattergl\", \"x\": [1952, 1957, 1962, 1967, 1972, 1977, 1982, 1987, 1992, 1997, 2002, 2007], \"xaxis\": \"x\", \"y\": [45.009, 47.985, 49.951, 51.927, 53.696, 55.527, 58.161, 60.834, 61.888, 60.236, 53.365, 49.339], \"yaxis\": \"y\"}, {\"hovertemplate\": \"<b>%{hovertext}</b><br><br>continent=Africa<br>country=Sudan<br>year=%{x}<br>lifeExp=%{y}<extra></extra>\", \"hovertext\": [\"Sudan\", \"Sudan\", \"Sudan\", \"Sudan\", \"Sudan\", \"Sudan\", \"Sudan\", \"Sudan\", \"Sudan\", \"Sudan\", \"Sudan\", \"Sudan\"], \"legendgroup\": \"Africa\", \"line\": {\"color\": \"#EF553B\", \"dash\": \"solid\"}, \"mode\": \"lines\", \"name\": \"Africa\", \"showlegend\": false, \"type\": \"scattergl\", \"x\": [1952, 1957, 1962, 1967, 1972, 1977, 1982, 1987, 1992, 1997, 2002, 2007], \"xaxis\": \"x\", \"y\": [38.635, 39.624, 40.87, 42.858, 45.083, 47.8, 50.338, 51.744, 53.556, 55.373, 56.369, 58.556], \"yaxis\": \"y\"}, {\"hovertemplate\": \"<b>%{hovertext}</b><br><br>continent=Africa<br>country=Swaziland<br>year=%{x}<br>lifeExp=%{y}<extra></extra>\", \"hovertext\": [\"Swaziland\", \"Swaziland\", \"Swaziland\", \"Swaziland\", \"Swaziland\", \"Swaziland\", \"Swaziland\", \"Swaziland\", \"Swaziland\", \"Swaziland\", \"Swaziland\", \"Swaziland\"], \"legendgroup\": \"Africa\", \"line\": {\"color\": \"#EF553B\", \"dash\": \"solid\"}, \"mode\": \"lines\", \"name\": \"Africa\", \"showlegend\": false, \"type\": \"scattergl\", \"x\": [1952, 1957, 1962, 1967, 1972, 1977, 1982, 1987, 1992, 1997, 2002, 2007], \"xaxis\": \"x\", \"y\": [41.407, 43.424, 44.992, 46.633, 49.552, 52.537, 55.561, 57.678, 58.474, 54.289, 43.869, 39.613], \"yaxis\": \"y\"}, {\"hovertemplate\": \"<b>%{hovertext}</b><br><br>continent=Africa<br>country=Tanzania<br>year=%{x}<br>lifeExp=%{y}<extra></extra>\", \"hovertext\": [\"Tanzania\", \"Tanzania\", \"Tanzania\", \"Tanzania\", \"Tanzania\", \"Tanzania\", \"Tanzania\", \"Tanzania\", \"Tanzania\", \"Tanzania\", \"Tanzania\", \"Tanzania\"], \"legendgroup\": \"Africa\", \"line\": {\"color\": \"#EF553B\", \"dash\": \"solid\"}, \"mode\": \"lines\", \"name\": \"Africa\", \"showlegend\": false, \"type\": \"scattergl\", \"x\": [1952, 1957, 1962, 1967, 1972, 1977, 1982, 1987, 1992, 1997, 2002, 2007], \"xaxis\": \"x\", \"y\": [41.215, 42.974, 44.246, 45.757, 47.62, 49.919, 50.608, 51.535, 50.44, 48.466, 49.651, 52.517], \"yaxis\": \"y\"}, {\"hovertemplate\": \"<b>%{hovertext}</b><br><br>continent=Africa<br>country=Togo<br>year=%{x}<br>lifeExp=%{y}<extra></extra>\", \"hovertext\": [\"Togo\", \"Togo\", \"Togo\", \"Togo\", \"Togo\", \"Togo\", \"Togo\", \"Togo\", \"Togo\", \"Togo\", \"Togo\", \"Togo\"], \"legendgroup\": \"Africa\", \"line\": {\"color\": \"#EF553B\", \"dash\": \"solid\"}, \"mode\": \"lines\", \"name\": \"Africa\", \"showlegend\": false, \"type\": \"scattergl\", \"x\": [1952, 1957, 1962, 1967, 1972, 1977, 1982, 1987, 1992, 1997, 2002, 2007], \"xaxis\": \"x\", \"y\": [38.596, 41.208, 43.922, 46.769, 49.759, 52.887, 55.471, 56.941, 58.061, 58.39, 57.561, 58.42], \"yaxis\": \"y\"}, {\"hovertemplate\": \"<b>%{hovertext}</b><br><br>continent=Africa<br>country=Tunisia<br>year=%{x}<br>lifeExp=%{y}<extra></extra>\", \"hovertext\": [\"Tunisia\", \"Tunisia\", \"Tunisia\", \"Tunisia\", \"Tunisia\", \"Tunisia\", \"Tunisia\", \"Tunisia\", \"Tunisia\", \"Tunisia\", \"Tunisia\", \"Tunisia\"], \"legendgroup\": \"Africa\", \"line\": {\"color\": \"#EF553B\", \"dash\": \"solid\"}, \"mode\": \"lines\", \"name\": \"Africa\", \"showlegend\": false, \"type\": \"scattergl\", \"x\": [1952, 1957, 1962, 1967, 1972, 1977, 1982, 1987, 1992, 1997, 2002, 2007], \"xaxis\": \"x\", \"y\": [44.6, 47.1, 49.579, 52.053, 55.602, 59.837, 64.048, 66.894, 70.001, 71.973, 73.042, 73.923], \"yaxis\": \"y\"}, {\"hovertemplate\": \"<b>%{hovertext}</b><br><br>continent=Africa<br>country=Uganda<br>year=%{x}<br>lifeExp=%{y}<extra></extra>\", \"hovertext\": [\"Uganda\", \"Uganda\", \"Uganda\", \"Uganda\", \"Uganda\", \"Uganda\", \"Uganda\", \"Uganda\", \"Uganda\", \"Uganda\", \"Uganda\", \"Uganda\"], \"legendgroup\": \"Africa\", \"line\": {\"color\": \"#EF553B\", \"dash\": \"solid\"}, \"mode\": \"lines\", \"name\": \"Africa\", \"showlegend\": false, \"type\": \"scattergl\", \"x\": [1952, 1957, 1962, 1967, 1972, 1977, 1982, 1987, 1992, 1997, 2002, 2007], \"xaxis\": \"x\", \"y\": [39.978, 42.571, 45.344, 48.051, 51.016, 50.35, 49.849, 51.509, 48.825, 44.578, 47.813, 51.542], \"yaxis\": \"y\"}, {\"hovertemplate\": \"<b>%{hovertext}</b><br><br>continent=Africa<br>country=Zambia<br>year=%{x}<br>lifeExp=%{y}<extra></extra>\", \"hovertext\": [\"Zambia\", \"Zambia\", \"Zambia\", \"Zambia\", \"Zambia\", \"Zambia\", \"Zambia\", \"Zambia\", \"Zambia\", \"Zambia\", \"Zambia\", \"Zambia\"], \"legendgroup\": \"Africa\", \"line\": {\"color\": \"#EF553B\", \"dash\": \"solid\"}, \"mode\": \"lines\", \"name\": \"Africa\", \"showlegend\": false, \"type\": \"scattergl\", \"x\": [1952, 1957, 1962, 1967, 1972, 1977, 1982, 1987, 1992, 1997, 2002, 2007], \"xaxis\": \"x\", \"y\": [42.038, 44.077, 46.023, 47.768, 50.107, 51.386, 51.821, 50.821, 46.1, 40.238, 39.193, 42.384], \"yaxis\": \"y\"}, {\"hovertemplate\": \"<b>%{hovertext}</b><br><br>continent=Africa<br>country=Zimbabwe<br>year=%{x}<br>lifeExp=%{y}<extra></extra>\", \"hovertext\": [\"Zimbabwe\", \"Zimbabwe\", \"Zimbabwe\", \"Zimbabwe\", \"Zimbabwe\", \"Zimbabwe\", \"Zimbabwe\", \"Zimbabwe\", \"Zimbabwe\", \"Zimbabwe\", \"Zimbabwe\", \"Zimbabwe\"], \"legendgroup\": \"Africa\", \"line\": {\"color\": \"#EF553B\", \"dash\": \"solid\"}, \"mode\": \"lines\", \"name\": \"Africa\", \"showlegend\": false, \"type\": \"scattergl\", \"x\": [1952, 1957, 1962, 1967, 1972, 1977, 1982, 1987, 1992, 1997, 2002, 2007], \"xaxis\": \"x\", \"y\": [48.451, 50.469, 52.358, 53.995, 55.635, 57.674, 60.363, 62.351, 60.377, 46.809, 39.989, 43.487], \"yaxis\": \"y\"}, {\"hovertemplate\": \"<b>%{hovertext}</b><br><br>continent=Americas<br>country=Argentina<br>year=%{x}<br>lifeExp=%{y}<extra></extra>\", \"hovertext\": [\"Argentina\", \"Argentina\", \"Argentina\", \"Argentina\", \"Argentina\", \"Argentina\", \"Argentina\", \"Argentina\", \"Argentina\", \"Argentina\", \"Argentina\", \"Argentina\"], \"legendgroup\": \"Americas\", \"line\": {\"color\": \"#00cc96\", \"dash\": \"solid\"}, \"mode\": \"lines\", \"name\": \"Americas\", \"showlegend\": true, \"type\": \"scattergl\", \"x\": [1952, 1957, 1962, 1967, 1972, 1977, 1982, 1987, 1992, 1997, 2002, 2007], \"xaxis\": \"x\", \"y\": [62.485, 64.399, 65.142, 65.634, 67.065, 68.481, 69.942, 70.774, 71.868, 73.275, 74.34, 75.32], \"yaxis\": \"y\"}, {\"hovertemplate\": \"<b>%{hovertext}</b><br><br>continent=Americas<br>country=Bolivia<br>year=%{x}<br>lifeExp=%{y}<extra></extra>\", \"hovertext\": [\"Bolivia\", \"Bolivia\", \"Bolivia\", \"Bolivia\", \"Bolivia\", \"Bolivia\", \"Bolivia\", \"Bolivia\", \"Bolivia\", \"Bolivia\", \"Bolivia\", \"Bolivia\"], \"legendgroup\": \"Americas\", \"line\": {\"color\": \"#00cc96\", \"dash\": \"solid\"}, \"mode\": \"lines\", \"name\": \"Americas\", \"showlegend\": false, \"type\": \"scattergl\", \"x\": [1952, 1957, 1962, 1967, 1972, 1977, 1982, 1987, 1992, 1997, 2002, 2007], \"xaxis\": \"x\", \"y\": [40.414, 41.89, 43.428, 45.032, 46.714, 50.023, 53.859, 57.251, 59.957, 62.05, 63.883, 65.554], \"yaxis\": \"y\"}, {\"hovertemplate\": \"<b>%{hovertext}</b><br><br>continent=Americas<br>country=Brazil<br>year=%{x}<br>lifeExp=%{y}<extra></extra>\", \"hovertext\": [\"Brazil\", \"Brazil\", \"Brazil\", \"Brazil\", \"Brazil\", \"Brazil\", \"Brazil\", \"Brazil\", \"Brazil\", \"Brazil\", \"Brazil\", \"Brazil\"], \"legendgroup\": \"Americas\", \"line\": {\"color\": \"#00cc96\", \"dash\": \"solid\"}, \"mode\": \"lines\", \"name\": \"Americas\", \"showlegend\": false, \"type\": \"scattergl\", \"x\": [1952, 1957, 1962, 1967, 1972, 1977, 1982, 1987, 1992, 1997, 2002, 2007], \"xaxis\": \"x\", \"y\": [50.917, 53.285, 55.665, 57.632, 59.504, 61.489, 63.336, 65.205, 67.057, 69.388, 71.006, 72.39], \"yaxis\": \"y\"}, {\"hovertemplate\": \"<b>%{hovertext}</b><br><br>continent=Americas<br>country=Canada<br>year=%{x}<br>lifeExp=%{y}<extra></extra>\", \"hovertext\": [\"Canada\", \"Canada\", \"Canada\", \"Canada\", \"Canada\", \"Canada\", \"Canada\", \"Canada\", \"Canada\", \"Canada\", \"Canada\", \"Canada\"], \"legendgroup\": \"Americas\", \"line\": {\"color\": \"#00cc96\", \"dash\": \"solid\"}, \"mode\": \"lines\", \"name\": \"Americas\", \"showlegend\": false, \"type\": \"scattergl\", \"x\": [1952, 1957, 1962, 1967, 1972, 1977, 1982, 1987, 1992, 1997, 2002, 2007], \"xaxis\": \"x\", \"y\": [68.75, 69.96, 71.3, 72.13, 72.88, 74.21, 75.76, 76.86, 77.95, 78.61, 79.77, 80.653], \"yaxis\": \"y\"}, {\"hovertemplate\": \"<b>%{hovertext}</b><br><br>continent=Americas<br>country=Chile<br>year=%{x}<br>lifeExp=%{y}<extra></extra>\", \"hovertext\": [\"Chile\", \"Chile\", \"Chile\", \"Chile\", \"Chile\", \"Chile\", \"Chile\", \"Chile\", \"Chile\", \"Chile\", \"Chile\", \"Chile\"], \"legendgroup\": \"Americas\", \"line\": {\"color\": \"#00cc96\", \"dash\": \"solid\"}, \"mode\": \"lines\", \"name\": \"Americas\", \"showlegend\": false, \"type\": \"scattergl\", \"x\": [1952, 1957, 1962, 1967, 1972, 1977, 1982, 1987, 1992, 1997, 2002, 2007], \"xaxis\": \"x\", \"y\": [54.745, 56.074, 57.924, 60.523, 63.441, 67.052, 70.565, 72.492, 74.126, 75.816, 77.86, 78.553], \"yaxis\": \"y\"}, {\"hovertemplate\": \"<b>%{hovertext}</b><br><br>continent=Americas<br>country=Colombia<br>year=%{x}<br>lifeExp=%{y}<extra></extra>\", \"hovertext\": [\"Colombia\", \"Colombia\", \"Colombia\", \"Colombia\", \"Colombia\", \"Colombia\", \"Colombia\", \"Colombia\", \"Colombia\", \"Colombia\", \"Colombia\", \"Colombia\"], \"legendgroup\": \"Americas\", \"line\": {\"color\": \"#00cc96\", \"dash\": \"solid\"}, \"mode\": \"lines\", \"name\": \"Americas\", \"showlegend\": false, \"type\": \"scattergl\", \"x\": [1952, 1957, 1962, 1967, 1972, 1977, 1982, 1987, 1992, 1997, 2002, 2007], \"xaxis\": \"x\", \"y\": [50.643, 55.118, 57.863, 59.963, 61.623, 63.837, 66.653, 67.768, 68.421, 70.313, 71.682, 72.889], \"yaxis\": \"y\"}, {\"hovertemplate\": \"<b>%{hovertext}</b><br><br>continent=Americas<br>country=Costa Rica<br>year=%{x}<br>lifeExp=%{y}<extra></extra>\", \"hovertext\": [\"Costa Rica\", \"Costa Rica\", \"Costa Rica\", \"Costa Rica\", \"Costa Rica\", \"Costa Rica\", \"Costa Rica\", \"Costa Rica\", \"Costa Rica\", \"Costa Rica\", \"Costa Rica\", \"Costa Rica\"], \"legendgroup\": \"Americas\", \"line\": {\"color\": \"#00cc96\", \"dash\": \"solid\"}, \"mode\": \"lines\", \"name\": \"Americas\", \"showlegend\": false, \"type\": \"scattergl\", \"x\": [1952, 1957, 1962, 1967, 1972, 1977, 1982, 1987, 1992, 1997, 2002, 2007], \"xaxis\": \"x\", \"y\": [57.206, 60.026, 62.842, 65.424, 67.849, 70.75, 73.45, 74.752, 75.713, 77.26, 78.123, 78.782], \"yaxis\": \"y\"}, {\"hovertemplate\": \"<b>%{hovertext}</b><br><br>continent=Americas<br>country=Cuba<br>year=%{x}<br>lifeExp=%{y}<extra></extra>\", \"hovertext\": [\"Cuba\", \"Cuba\", \"Cuba\", \"Cuba\", \"Cuba\", \"Cuba\", \"Cuba\", \"Cuba\", \"Cuba\", \"Cuba\", \"Cuba\", \"Cuba\"], \"legendgroup\": \"Americas\", \"line\": {\"color\": \"#00cc96\", \"dash\": \"solid\"}, \"mode\": \"lines\", \"name\": \"Americas\", \"showlegend\": false, \"type\": \"scattergl\", \"x\": [1952, 1957, 1962, 1967, 1972, 1977, 1982, 1987, 1992, 1997, 2002, 2007], \"xaxis\": \"x\", \"y\": [59.421, 62.325, 65.246, 68.29, 70.723, 72.649, 73.717, 74.174, 74.414, 76.151, 77.158, 78.273], \"yaxis\": \"y\"}, {\"hovertemplate\": \"<b>%{hovertext}</b><br><br>continent=Americas<br>country=Dominican Republic<br>year=%{x}<br>lifeExp=%{y}<extra></extra>\", \"hovertext\": [\"Dominican Republic\", \"Dominican Republic\", \"Dominican Republic\", \"Dominican Republic\", \"Dominican Republic\", \"Dominican Republic\", \"Dominican Republic\", \"Dominican Republic\", \"Dominican Republic\", \"Dominican Republic\", \"Dominican Republic\", \"Dominican Republic\"], \"legendgroup\": \"Americas\", \"line\": {\"color\": \"#00cc96\", \"dash\": \"solid\"}, \"mode\": \"lines\", \"name\": \"Americas\", \"showlegend\": false, \"type\": \"scattergl\", \"x\": [1952, 1957, 1962, 1967, 1972, 1977, 1982, 1987, 1992, 1997, 2002, 2007], \"xaxis\": \"x\", \"y\": [45.928, 49.828, 53.459, 56.751, 59.631, 61.788, 63.727, 66.046, 68.457, 69.957, 70.847, 72.235], \"yaxis\": \"y\"}, {\"hovertemplate\": \"<b>%{hovertext}</b><br><br>continent=Americas<br>country=Ecuador<br>year=%{x}<br>lifeExp=%{y}<extra></extra>\", \"hovertext\": [\"Ecuador\", \"Ecuador\", \"Ecuador\", \"Ecuador\", \"Ecuador\", \"Ecuador\", \"Ecuador\", \"Ecuador\", \"Ecuador\", \"Ecuador\", \"Ecuador\", \"Ecuador\"], \"legendgroup\": \"Americas\", \"line\": {\"color\": \"#00cc96\", \"dash\": \"solid\"}, \"mode\": \"lines\", \"name\": \"Americas\", \"showlegend\": false, \"type\": \"scattergl\", \"x\": [1952, 1957, 1962, 1967, 1972, 1977, 1982, 1987, 1992, 1997, 2002, 2007], \"xaxis\": \"x\", \"y\": [48.357, 51.356, 54.64, 56.678, 58.796, 61.31, 64.342, 67.231, 69.613, 72.312, 74.173, 74.994], \"yaxis\": \"y\"}, {\"hovertemplate\": \"<b>%{hovertext}</b><br><br>continent=Americas<br>country=El Salvador<br>year=%{x}<br>lifeExp=%{y}<extra></extra>\", \"hovertext\": [\"El Salvador\", \"El Salvador\", \"El Salvador\", \"El Salvador\", \"El Salvador\", \"El Salvador\", \"El Salvador\", \"El Salvador\", \"El Salvador\", \"El Salvador\", \"El Salvador\", \"El Salvador\"], \"legendgroup\": \"Americas\", \"line\": {\"color\": \"#00cc96\", \"dash\": \"solid\"}, \"mode\": \"lines\", \"name\": \"Americas\", \"showlegend\": false, \"type\": \"scattergl\", \"x\": [1952, 1957, 1962, 1967, 1972, 1977, 1982, 1987, 1992, 1997, 2002, 2007], \"xaxis\": \"x\", \"y\": [45.262, 48.57, 52.307, 55.855, 58.207, 56.696, 56.604, 63.154, 66.798, 69.535, 70.734, 71.878], \"yaxis\": \"y\"}, {\"hovertemplate\": \"<b>%{hovertext}</b><br><br>continent=Americas<br>country=Guatemala<br>year=%{x}<br>lifeExp=%{y}<extra></extra>\", \"hovertext\": [\"Guatemala\", \"Guatemala\", \"Guatemala\", \"Guatemala\", \"Guatemala\", \"Guatemala\", \"Guatemala\", \"Guatemala\", \"Guatemala\", \"Guatemala\", \"Guatemala\", \"Guatemala\"], \"legendgroup\": \"Americas\", \"line\": {\"color\": \"#00cc96\", \"dash\": \"solid\"}, \"mode\": \"lines\", \"name\": \"Americas\", \"showlegend\": false, \"type\": \"scattergl\", \"x\": [1952, 1957, 1962, 1967, 1972, 1977, 1982, 1987, 1992, 1997, 2002, 2007], \"xaxis\": \"x\", \"y\": [42.023, 44.142, 46.954, 50.016, 53.738, 56.029, 58.137, 60.782, 63.373, 66.322, 68.978, 70.259], \"yaxis\": \"y\"}, {\"hovertemplate\": \"<b>%{hovertext}</b><br><br>continent=Americas<br>country=Haiti<br>year=%{x}<br>lifeExp=%{y}<extra></extra>\", \"hovertext\": [\"Haiti\", \"Haiti\", \"Haiti\", \"Haiti\", \"Haiti\", \"Haiti\", \"Haiti\", \"Haiti\", \"Haiti\", \"Haiti\", \"Haiti\", \"Haiti\"], \"legendgroup\": \"Americas\", \"line\": {\"color\": \"#00cc96\", \"dash\": \"solid\"}, \"mode\": \"lines\", \"name\": \"Americas\", \"showlegend\": false, \"type\": \"scattergl\", \"x\": [1952, 1957, 1962, 1967, 1972, 1977, 1982, 1987, 1992, 1997, 2002, 2007], \"xaxis\": \"x\", \"y\": [37.579, 40.696, 43.59, 46.243, 48.042, 49.923, 51.461, 53.636, 55.089, 56.671, 58.137, 60.916], \"yaxis\": \"y\"}, {\"hovertemplate\": \"<b>%{hovertext}</b><br><br>continent=Americas<br>country=Honduras<br>year=%{x}<br>lifeExp=%{y}<extra></extra>\", \"hovertext\": [\"Honduras\", \"Honduras\", \"Honduras\", \"Honduras\", \"Honduras\", \"Honduras\", \"Honduras\", \"Honduras\", \"Honduras\", \"Honduras\", \"Honduras\", \"Honduras\"], \"legendgroup\": \"Americas\", \"line\": {\"color\": \"#00cc96\", \"dash\": \"solid\"}, \"mode\": \"lines\", \"name\": \"Americas\", \"showlegend\": false, \"type\": \"scattergl\", \"x\": [1952, 1957, 1962, 1967, 1972, 1977, 1982, 1987, 1992, 1997, 2002, 2007], \"xaxis\": \"x\", \"y\": [41.912, 44.665, 48.041, 50.924, 53.884, 57.402, 60.909, 64.492, 66.399, 67.659, 68.565, 70.198], \"yaxis\": \"y\"}, {\"hovertemplate\": \"<b>%{hovertext}</b><br><br>continent=Americas<br>country=Jamaica<br>year=%{x}<br>lifeExp=%{y}<extra></extra>\", \"hovertext\": [\"Jamaica\", \"Jamaica\", \"Jamaica\", \"Jamaica\", \"Jamaica\", \"Jamaica\", \"Jamaica\", \"Jamaica\", \"Jamaica\", \"Jamaica\", \"Jamaica\", \"Jamaica\"], \"legendgroup\": \"Americas\", \"line\": {\"color\": \"#00cc96\", \"dash\": \"solid\"}, \"mode\": \"lines\", \"name\": \"Americas\", \"showlegend\": false, \"type\": \"scattergl\", \"x\": [1952, 1957, 1962, 1967, 1972, 1977, 1982, 1987, 1992, 1997, 2002, 2007], \"xaxis\": \"x\", \"y\": [58.53, 62.61, 65.61, 67.51, 69.0, 70.11, 71.21, 71.77, 71.766, 72.262, 72.047, 72.567], \"yaxis\": \"y\"}, {\"hovertemplate\": \"<b>%{hovertext}</b><br><br>continent=Americas<br>country=Mexico<br>year=%{x}<br>lifeExp=%{y}<extra></extra>\", \"hovertext\": [\"Mexico\", \"Mexico\", \"Mexico\", \"Mexico\", \"Mexico\", \"Mexico\", \"Mexico\", \"Mexico\", \"Mexico\", \"Mexico\", \"Mexico\", \"Mexico\"], \"legendgroup\": \"Americas\", \"line\": {\"color\": \"#00cc96\", \"dash\": \"solid\"}, \"mode\": \"lines\", \"name\": \"Americas\", \"showlegend\": false, \"type\": \"scattergl\", \"x\": [1952, 1957, 1962, 1967, 1972, 1977, 1982, 1987, 1992, 1997, 2002, 2007], \"xaxis\": \"x\", \"y\": [50.789, 55.19, 58.299, 60.11, 62.361, 65.032, 67.405, 69.498, 71.455, 73.67, 74.902, 76.195], \"yaxis\": \"y\"}, {\"hovertemplate\": \"<b>%{hovertext}</b><br><br>continent=Americas<br>country=Nicaragua<br>year=%{x}<br>lifeExp=%{y}<extra></extra>\", \"hovertext\": [\"Nicaragua\", \"Nicaragua\", \"Nicaragua\", \"Nicaragua\", \"Nicaragua\", \"Nicaragua\", \"Nicaragua\", \"Nicaragua\", \"Nicaragua\", \"Nicaragua\", \"Nicaragua\", \"Nicaragua\"], \"legendgroup\": \"Americas\", \"line\": {\"color\": \"#00cc96\", \"dash\": \"solid\"}, \"mode\": \"lines\", \"name\": \"Americas\", \"showlegend\": false, \"type\": \"scattergl\", \"x\": [1952, 1957, 1962, 1967, 1972, 1977, 1982, 1987, 1992, 1997, 2002, 2007], \"xaxis\": \"x\", \"y\": [42.314, 45.432, 48.632, 51.884, 55.151, 57.47, 59.298, 62.008, 65.843, 68.426, 70.836, 72.899], \"yaxis\": \"y\"}, {\"hovertemplate\": \"<b>%{hovertext}</b><br><br>continent=Americas<br>country=Panama<br>year=%{x}<br>lifeExp=%{y}<extra></extra>\", \"hovertext\": [\"Panama\", \"Panama\", \"Panama\", \"Panama\", \"Panama\", \"Panama\", \"Panama\", \"Panama\", \"Panama\", \"Panama\", \"Panama\", \"Panama\"], \"legendgroup\": \"Americas\", \"line\": {\"color\": \"#00cc96\", \"dash\": \"solid\"}, \"mode\": \"lines\", \"name\": \"Americas\", \"showlegend\": false, \"type\": \"scattergl\", \"x\": [1952, 1957, 1962, 1967, 1972, 1977, 1982, 1987, 1992, 1997, 2002, 2007], \"xaxis\": \"x\", \"y\": [55.191, 59.201, 61.817, 64.071, 66.216, 68.681, 70.472, 71.523, 72.462, 73.738, 74.712, 75.537], \"yaxis\": \"y\"}, {\"hovertemplate\": \"<b>%{hovertext}</b><br><br>continent=Americas<br>country=Paraguay<br>year=%{x}<br>lifeExp=%{y}<extra></extra>\", \"hovertext\": [\"Paraguay\", \"Paraguay\", \"Paraguay\", \"Paraguay\", \"Paraguay\", \"Paraguay\", \"Paraguay\", \"Paraguay\", \"Paraguay\", \"Paraguay\", \"Paraguay\", \"Paraguay\"], \"legendgroup\": \"Americas\", \"line\": {\"color\": \"#00cc96\", \"dash\": \"solid\"}, \"mode\": \"lines\", \"name\": \"Americas\", \"showlegend\": false, \"type\": \"scattergl\", \"x\": [1952, 1957, 1962, 1967, 1972, 1977, 1982, 1987, 1992, 1997, 2002, 2007], \"xaxis\": \"x\", \"y\": [62.649, 63.196, 64.361, 64.951, 65.815, 66.353, 66.874, 67.378, 68.225, 69.4, 70.755, 71.752], \"yaxis\": \"y\"}, {\"hovertemplate\": \"<b>%{hovertext}</b><br><br>continent=Americas<br>country=Peru<br>year=%{x}<br>lifeExp=%{y}<extra></extra>\", \"hovertext\": [\"Peru\", \"Peru\", \"Peru\", \"Peru\", \"Peru\", \"Peru\", \"Peru\", \"Peru\", \"Peru\", \"Peru\", \"Peru\", \"Peru\"], \"legendgroup\": \"Americas\", \"line\": {\"color\": \"#00cc96\", \"dash\": \"solid\"}, \"mode\": \"lines\", \"name\": \"Americas\", \"showlegend\": false, \"type\": \"scattergl\", \"x\": [1952, 1957, 1962, 1967, 1972, 1977, 1982, 1987, 1992, 1997, 2002, 2007], \"xaxis\": \"x\", \"y\": [43.902, 46.263, 49.096, 51.445, 55.448, 58.447, 61.406, 64.134, 66.458, 68.386, 69.906, 71.421], \"yaxis\": \"y\"}, {\"hovertemplate\": \"<b>%{hovertext}</b><br><br>continent=Americas<br>country=Puerto Rico<br>year=%{x}<br>lifeExp=%{y}<extra></extra>\", \"hovertext\": [\"Puerto Rico\", \"Puerto Rico\", \"Puerto Rico\", \"Puerto Rico\", \"Puerto Rico\", \"Puerto Rico\", \"Puerto Rico\", \"Puerto Rico\", \"Puerto Rico\", \"Puerto Rico\", \"Puerto Rico\", \"Puerto Rico\"], \"legendgroup\": \"Americas\", \"line\": {\"color\": \"#00cc96\", \"dash\": \"solid\"}, \"mode\": \"lines\", \"name\": \"Americas\", \"showlegend\": false, \"type\": \"scattergl\", \"x\": [1952, 1957, 1962, 1967, 1972, 1977, 1982, 1987, 1992, 1997, 2002, 2007], \"xaxis\": \"x\", \"y\": [64.28, 68.54, 69.62, 71.1, 72.16, 73.44, 73.75, 74.63, 73.911, 74.917, 77.778, 78.746], \"yaxis\": \"y\"}, {\"hovertemplate\": \"<b>%{hovertext}</b><br><br>continent=Americas<br>country=Trinidad and Tobago<br>year=%{x}<br>lifeExp=%{y}<extra></extra>\", \"hovertext\": [\"Trinidad and Tobago\", \"Trinidad and Tobago\", \"Trinidad and Tobago\", \"Trinidad and Tobago\", \"Trinidad and Tobago\", \"Trinidad and Tobago\", \"Trinidad and Tobago\", \"Trinidad and Tobago\", \"Trinidad and Tobago\", \"Trinidad and Tobago\", \"Trinidad and Tobago\", \"Trinidad and Tobago\"], \"legendgroup\": \"Americas\", \"line\": {\"color\": \"#00cc96\", \"dash\": \"solid\"}, \"mode\": \"lines\", \"name\": \"Americas\", \"showlegend\": false, \"type\": \"scattergl\", \"x\": [1952, 1957, 1962, 1967, 1972, 1977, 1982, 1987, 1992, 1997, 2002, 2007], \"xaxis\": \"x\", \"y\": [59.1, 61.8, 64.9, 65.4, 65.9, 68.3, 68.832, 69.582, 69.862, 69.465, 68.976, 69.819], \"yaxis\": \"y\"}, {\"hovertemplate\": \"<b>%{hovertext}</b><br><br>continent=Americas<br>country=United States<br>year=%{x}<br>lifeExp=%{y}<extra></extra>\", \"hovertext\": [\"United States\", \"United States\", \"United States\", \"United States\", \"United States\", \"United States\", \"United States\", \"United States\", \"United States\", \"United States\", \"United States\", \"United States\"], \"legendgroup\": \"Americas\", \"line\": {\"color\": \"#00cc96\", \"dash\": \"solid\"}, \"mode\": \"lines\", \"name\": \"Americas\", \"showlegend\": false, \"type\": \"scattergl\", \"x\": [1952, 1957, 1962, 1967, 1972, 1977, 1982, 1987, 1992, 1997, 2002, 2007], \"xaxis\": \"x\", \"y\": [68.44, 69.49, 70.21, 70.76, 71.34, 73.38, 74.65, 75.02, 76.09, 76.81, 77.31, 78.242], \"yaxis\": \"y\"}, {\"hovertemplate\": \"<b>%{hovertext}</b><br><br>continent=Americas<br>country=Uruguay<br>year=%{x}<br>lifeExp=%{y}<extra></extra>\", \"hovertext\": [\"Uruguay\", \"Uruguay\", \"Uruguay\", \"Uruguay\", \"Uruguay\", \"Uruguay\", \"Uruguay\", \"Uruguay\", \"Uruguay\", \"Uruguay\", \"Uruguay\", \"Uruguay\"], \"legendgroup\": \"Americas\", \"line\": {\"color\": \"#00cc96\", \"dash\": \"solid\"}, \"mode\": \"lines\", \"name\": \"Americas\", \"showlegend\": false, \"type\": \"scattergl\", \"x\": [1952, 1957, 1962, 1967, 1972, 1977, 1982, 1987, 1992, 1997, 2002, 2007], \"xaxis\": \"x\", \"y\": [66.071, 67.044, 68.253, 68.468, 68.673, 69.481, 70.805, 71.918, 72.752, 74.223, 75.307, 76.384], \"yaxis\": \"y\"}, {\"hovertemplate\": \"<b>%{hovertext}</b><br><br>continent=Americas<br>country=Venezuela<br>year=%{x}<br>lifeExp=%{y}<extra></extra>\", \"hovertext\": [\"Venezuela\", \"Venezuela\", \"Venezuela\", \"Venezuela\", \"Venezuela\", \"Venezuela\", \"Venezuela\", \"Venezuela\", \"Venezuela\", \"Venezuela\", \"Venezuela\", \"Venezuela\"], \"legendgroup\": \"Americas\", \"line\": {\"color\": \"#00cc96\", \"dash\": \"solid\"}, \"mode\": \"lines\", \"name\": \"Americas\", \"showlegend\": false, \"type\": \"scattergl\", \"x\": [1952, 1957, 1962, 1967, 1972, 1977, 1982, 1987, 1992, 1997, 2002, 2007], \"xaxis\": \"x\", \"y\": [55.088, 57.907, 60.77, 63.479, 65.712, 67.456, 68.557, 70.19, 71.15, 72.146, 72.766, 73.747], \"yaxis\": \"y\"}, {\"hovertemplate\": \"<b>%{hovertext}</b><br><br>continent=Oceania<br>country=Australia<br>year=%{x}<br>lifeExp=%{y}<extra></extra>\", \"hovertext\": [\"Australia\", \"Australia\", \"Australia\", \"Australia\", \"Australia\", \"Australia\", \"Australia\", \"Australia\", \"Australia\", \"Australia\", \"Australia\", \"Australia\"], \"legendgroup\": \"Oceania\", \"line\": {\"color\": \"#ab63fa\", \"dash\": \"solid\"}, \"mode\": \"lines\", \"name\": \"Oceania\", \"showlegend\": true, \"type\": \"scattergl\", \"x\": [1952, 1957, 1962, 1967, 1972, 1977, 1982, 1987, 1992, 1997, 2002, 2007], \"xaxis\": \"x\", \"y\": [69.12, 70.33, 70.93, 71.1, 71.93, 73.49, 74.74, 76.32, 77.56, 78.83, 80.37, 81.235], \"yaxis\": \"y\"}, {\"hovertemplate\": \"<b>%{hovertext}</b><br><br>continent=Oceania<br>country=New Zealand<br>year=%{x}<br>lifeExp=%{y}<extra></extra>\", \"hovertext\": [\"New Zealand\", \"New Zealand\", \"New Zealand\", \"New Zealand\", \"New Zealand\", \"New Zealand\", \"New Zealand\", \"New Zealand\", \"New Zealand\", \"New Zealand\", \"New Zealand\", \"New Zealand\"], \"legendgroup\": \"Oceania\", \"line\": {\"color\": \"#ab63fa\", \"dash\": \"solid\"}, \"mode\": \"lines\", \"name\": \"Oceania\", \"showlegend\": false, \"type\": \"scattergl\", \"x\": [1952, 1957, 1962, 1967, 1972, 1977, 1982, 1987, 1992, 1997, 2002, 2007], \"xaxis\": \"x\", \"y\": [69.39, 70.26, 71.24, 71.52, 71.89, 72.22, 73.84, 74.32, 76.33, 77.55, 79.11, 80.204], \"yaxis\": \"y\"}],                        {\"legend\": {\"title\": {\"text\": \"continent\"}, \"tracegroupgap\": 0}, \"margin\": {\"t\": 60}, \"template\": {\"data\": {\"bar\": [{\"error_x\": {\"color\": \"#2a3f5f\"}, \"error_y\": {\"color\": \"#2a3f5f\"}, \"marker\": {\"line\": {\"color\": \"#E5ECF6\", \"width\": 0.5}}, \"type\": \"bar\"}], \"barpolar\": [{\"marker\": {\"line\": {\"color\": \"#E5ECF6\", \"width\": 0.5}}, \"type\": \"barpolar\"}], \"carpet\": [{\"aaxis\": {\"endlinecolor\": \"#2a3f5f\", \"gridcolor\": \"white\", \"linecolor\": \"white\", \"minorgridcolor\": \"white\", \"startlinecolor\": \"#2a3f5f\"}, \"baxis\": {\"endlinecolor\": \"#2a3f5f\", \"gridcolor\": \"white\", \"linecolor\": \"white\", \"minorgridcolor\": \"white\", \"startlinecolor\": \"#2a3f5f\"}, \"type\": \"carpet\"}], \"choropleth\": [{\"colorbar\": {\"outlinewidth\": 0, \"ticks\": \"\"}, \"type\": \"choropleth\"}], \"contour\": [{\"colorbar\": {\"outlinewidth\": 0, \"ticks\": \"\"}, \"colorscale\": [[0.0, \"#0d0887\"], [0.1111111111111111, \"#46039f\"], [0.2222222222222222, \"#7201a8\"], [0.3333333333333333, \"#9c179e\"], [0.4444444444444444, \"#bd3786\"], [0.5555555555555556, \"#d8576b\"], [0.6666666666666666, \"#ed7953\"], [0.7777777777777778, \"#fb9f3a\"], [0.8888888888888888, \"#fdca26\"], [1.0, \"#f0f921\"]], \"type\": \"contour\"}], \"contourcarpet\": [{\"colorbar\": {\"outlinewidth\": 0, \"ticks\": \"\"}, \"type\": \"contourcarpet\"}], \"heatmap\": [{\"colorbar\": {\"outlinewidth\": 0, \"ticks\": \"\"}, \"colorscale\": [[0.0, \"#0d0887\"], [0.1111111111111111, \"#46039f\"], [0.2222222222222222, \"#7201a8\"], [0.3333333333333333, \"#9c179e\"], [0.4444444444444444, \"#bd3786\"], [0.5555555555555556, \"#d8576b\"], [0.6666666666666666, \"#ed7953\"], [0.7777777777777778, \"#fb9f3a\"], [0.8888888888888888, \"#fdca26\"], [1.0, \"#f0f921\"]], \"type\": \"heatmap\"}], \"heatmapgl\": [{\"colorbar\": {\"outlinewidth\": 0, \"ticks\": \"\"}, \"colorscale\": [[0.0, \"#0d0887\"], [0.1111111111111111, \"#46039f\"], [0.2222222222222222, \"#7201a8\"], [0.3333333333333333, \"#9c179e\"], [0.4444444444444444, \"#bd3786\"], [0.5555555555555556, \"#d8576b\"], [0.6666666666666666, \"#ed7953\"], [0.7777777777777778, \"#fb9f3a\"], [0.8888888888888888, \"#fdca26\"], [1.0, \"#f0f921\"]], \"type\": \"heatmapgl\"}], \"histogram\": [{\"marker\": {\"colorbar\": {\"outlinewidth\": 0, \"ticks\": \"\"}}, \"type\": \"histogram\"}], \"histogram2d\": [{\"colorbar\": {\"outlinewidth\": 0, \"ticks\": \"\"}, \"colorscale\": [[0.0, \"#0d0887\"], [0.1111111111111111, \"#46039f\"], [0.2222222222222222, \"#7201a8\"], [0.3333333333333333, \"#9c179e\"], [0.4444444444444444, \"#bd3786\"], [0.5555555555555556, \"#d8576b\"], [0.6666666666666666, \"#ed7953\"], [0.7777777777777778, \"#fb9f3a\"], [0.8888888888888888, \"#fdca26\"], [1.0, \"#f0f921\"]], \"type\": \"histogram2d\"}], \"histogram2dcontour\": [{\"colorbar\": {\"outlinewidth\": 0, \"ticks\": \"\"}, \"colorscale\": [[0.0, \"#0d0887\"], [0.1111111111111111, \"#46039f\"], [0.2222222222222222, \"#7201a8\"], [0.3333333333333333, \"#9c179e\"], [0.4444444444444444, \"#bd3786\"], [0.5555555555555556, \"#d8576b\"], [0.6666666666666666, \"#ed7953\"], [0.7777777777777778, \"#fb9f3a\"], [0.8888888888888888, \"#fdca26\"], [1.0, \"#f0f921\"]], \"type\": \"histogram2dcontour\"}], \"mesh3d\": [{\"colorbar\": {\"outlinewidth\": 0, \"ticks\": \"\"}, \"type\": \"mesh3d\"}], \"parcoords\": [{\"line\": {\"colorbar\": {\"outlinewidth\": 0, \"ticks\": \"\"}}, \"type\": \"parcoords\"}], \"pie\": [{\"automargin\": true, \"type\": \"pie\"}], \"scatter\": [{\"marker\": {\"colorbar\": {\"outlinewidth\": 0, \"ticks\": \"\"}}, \"type\": \"scatter\"}], \"scatter3d\": [{\"line\": {\"colorbar\": {\"outlinewidth\": 0, \"ticks\": \"\"}}, \"marker\": {\"colorbar\": {\"outlinewidth\": 0, \"ticks\": \"\"}}, \"type\": \"scatter3d\"}], \"scattercarpet\": [{\"marker\": {\"colorbar\": {\"outlinewidth\": 0, \"ticks\": \"\"}}, \"type\": \"scattercarpet\"}], \"scattergeo\": [{\"marker\": {\"colorbar\": {\"outlinewidth\": 0, \"ticks\": \"\"}}, \"type\": \"scattergeo\"}], \"scattergl\": [{\"marker\": {\"colorbar\": {\"outlinewidth\": 0, \"ticks\": \"\"}}, \"type\": \"scattergl\"}], \"scattermapbox\": [{\"marker\": {\"colorbar\": {\"outlinewidth\": 0, \"ticks\": \"\"}}, \"type\": \"scattermapbox\"}], \"scatterpolar\": [{\"marker\": {\"colorbar\": {\"outlinewidth\": 0, \"ticks\": \"\"}}, \"type\": \"scatterpolar\"}], \"scatterpolargl\": [{\"marker\": {\"colorbar\": {\"outlinewidth\": 0, \"ticks\": \"\"}}, \"type\": \"scatterpolargl\"}], \"scatterternary\": [{\"marker\": {\"colorbar\": {\"outlinewidth\": 0, \"ticks\": \"\"}}, \"type\": \"scatterternary\"}], \"surface\": [{\"colorbar\": {\"outlinewidth\": 0, \"ticks\": \"\"}, \"colorscale\": [[0.0, \"#0d0887\"], [0.1111111111111111, \"#46039f\"], [0.2222222222222222, \"#7201a8\"], [0.3333333333333333, \"#9c179e\"], [0.4444444444444444, \"#bd3786\"], [0.5555555555555556, \"#d8576b\"], [0.6666666666666666, \"#ed7953\"], [0.7777777777777778, \"#fb9f3a\"], [0.8888888888888888, \"#fdca26\"], [1.0, \"#f0f921\"]], \"type\": \"surface\"}], \"table\": [{\"cells\": {\"fill\": {\"color\": \"#EBF0F8\"}, \"line\": {\"color\": \"white\"}}, \"header\": {\"fill\": {\"color\": \"#C8D4E3\"}, \"line\": {\"color\": \"white\"}}, \"type\": \"table\"}]}, \"layout\": {\"annotationdefaults\": {\"arrowcolor\": \"#2a3f5f\", \"arrowhead\": 0, \"arrowwidth\": 1}, \"autotypenumbers\": \"strict\", \"coloraxis\": {\"colorbar\": {\"outlinewidth\": 0, \"ticks\": \"\"}}, \"colorscale\": {\"diverging\": [[0, \"#8e0152\"], [0.1, \"#c51b7d\"], [0.2, \"#de77ae\"], [0.3, \"#f1b6da\"], [0.4, \"#fde0ef\"], [0.5, \"#f7f7f7\"], [0.6, \"#e6f5d0\"], [0.7, \"#b8e186\"], [0.8, \"#7fbc41\"], [0.9, \"#4d9221\"], [1, \"#276419\"]], \"sequential\": [[0.0, \"#0d0887\"], [0.1111111111111111, \"#46039f\"], [0.2222222222222222, \"#7201a8\"], [0.3333333333333333, \"#9c179e\"], [0.4444444444444444, \"#bd3786\"], [0.5555555555555556, \"#d8576b\"], [0.6666666666666666, \"#ed7953\"], [0.7777777777777778, \"#fb9f3a\"], [0.8888888888888888, \"#fdca26\"], [1.0, \"#f0f921\"]], \"sequentialminus\": [[0.0, \"#0d0887\"], [0.1111111111111111, \"#46039f\"], [0.2222222222222222, \"#7201a8\"], [0.3333333333333333, \"#9c179e\"], [0.4444444444444444, \"#bd3786\"], [0.5555555555555556, \"#d8576b\"], [0.6666666666666666, \"#ed7953\"], [0.7777777777777778, \"#fb9f3a\"], [0.8888888888888888, \"#fdca26\"], [1.0, \"#f0f921\"]]}, \"colorway\": [\"#636efa\", \"#EF553B\", \"#00cc96\", \"#ab63fa\", \"#FFA15A\", \"#19d3f3\", \"#FF6692\", \"#B6E880\", \"#FF97FF\", \"#FECB52\"], \"font\": {\"color\": \"#2a3f5f\"}, \"geo\": {\"bgcolor\": \"white\", \"lakecolor\": \"white\", \"landcolor\": \"#E5ECF6\", \"showlakes\": true, \"showland\": true, \"subunitcolor\": \"white\"}, \"hoverlabel\": {\"align\": \"left\"}, \"hovermode\": \"closest\", \"mapbox\": {\"style\": \"light\"}, \"paper_bgcolor\": \"white\", \"plot_bgcolor\": \"#E5ECF6\", \"polar\": {\"angularaxis\": {\"gridcolor\": \"white\", \"linecolor\": \"white\", \"ticks\": \"\"}, \"bgcolor\": \"#E5ECF6\", \"radialaxis\": {\"gridcolor\": \"white\", \"linecolor\": \"white\", \"ticks\": \"\"}}, \"scene\": {\"xaxis\": {\"backgroundcolor\": \"#E5ECF6\", \"gridcolor\": \"white\", \"gridwidth\": 2, \"linecolor\": \"white\", \"showbackground\": true, \"ticks\": \"\", \"zerolinecolor\": \"white\"}, \"yaxis\": {\"backgroundcolor\": \"#E5ECF6\", \"gridcolor\": \"white\", \"gridwidth\": 2, \"linecolor\": \"white\", \"showbackground\": true, \"ticks\": \"\", \"zerolinecolor\": \"white\"}, \"zaxis\": {\"backgroundcolor\": \"#E5ECF6\", \"gridcolor\": \"white\", \"gridwidth\": 2, \"linecolor\": \"white\", \"showbackground\": true, \"ticks\": \"\", \"zerolinecolor\": \"white\"}}, \"shapedefaults\": {\"line\": {\"color\": \"#2a3f5f\"}}, \"ternary\": {\"aaxis\": {\"gridcolor\": \"white\", \"linecolor\": \"white\", \"ticks\": \"\"}, \"baxis\": {\"gridcolor\": \"white\", \"linecolor\": \"white\", \"ticks\": \"\"}, \"bgcolor\": \"#E5ECF6\", \"caxis\": {\"gridcolor\": \"white\", \"linecolor\": \"white\", \"ticks\": \"\"}}, \"title\": {\"x\": 0.05}, \"xaxis\": {\"automargin\": true, \"gridcolor\": \"white\", \"linecolor\": \"white\", \"ticks\": \"\", \"title\": {\"standoff\": 15}, \"zerolinecolor\": \"white\", \"zerolinewidth\": 2}, \"yaxis\": {\"automargin\": true, \"gridcolor\": \"white\", \"linecolor\": \"white\", \"ticks\": \"\", \"title\": {\"standoff\": 15}, \"zerolinecolor\": \"white\", \"zerolinewidth\": 2}}}, \"xaxis\": {\"anchor\": \"y\", \"domain\": [0.0, 1.0], \"title\": {\"text\": \"year\"}}, \"yaxis\": {\"anchor\": \"x\", \"domain\": [0.0, 1.0], \"title\": {\"text\": \"lifeExp\"}}},                        {\"responsive\": true}                    ).then(function(){\n                            \nvar gd = document.getElementById('ee725395-032c-4ff0-ad32-abf3251b5a13');\nvar x = new MutationObserver(function (mutations, observer) {{\n        var display = window.getComputedStyle(gd).display;\n        if (!display || display === 'none') {{\n            console.log([gd, 'removed!']);\n            Plotly.purge(gd);\n            observer.disconnect();\n        }}\n}});\n\n// Listen for the removal of the full notebook cells\nvar notebookContainer = gd.closest('#notebook-container');\nif (notebookContainer) {{\n    x.observe(notebookContainer, {childList: true});\n}}\n\n// Listen for the clearing of the current output cell\nvar outputEl = gd.closest('.output');\nif (outputEl) {{\n    x.observe(outputEl, {childList: true});\n}}\n\n                        })                };                });            </script>        </div>"
     },
     "metadata": {},
     "output_type": "display_data"
    }
   ],
   "source": [
    "import plotly.express as px\n",
    "\n",
    "df = px.data.gapminder().query(\"continent != 'Asia'\") # remove Asia for visibility\n",
    "fig = px.line(df, x=\"year\", y=\"lifeExp\", color=\"continent\",\n",
    "              line_group=\"country\", hover_name=\"country\")\n",
    "fig.show()"
   ],
   "metadata": {
    "collapsed": false,
    "pycharm": {
     "name": "#%%\n"
    }
   }
  },
  {
   "cell_type": "code",
   "execution_count": 7,
   "outputs": [],
   "source": [
    "file1 = files[\"1M\"][0]\n",
    "file2 = files[\"10M\"][0]\n",
    "candles, df1, df2, time_match_df1, time_match_df2 = da.compare_candles_frequencies(file1, file2)\n",
    "output = da.format_df_candles(df1, time_match_df1, candles, candle_type=1)\n"
   ],
   "metadata": {
    "collapsed": false,
    "pycharm": {
     "name": "#%%\n"
    }
   }
  },
  {
   "cell_type": "code",
   "execution_count": 21,
   "outputs": [
    {
     "data": {
      "text/plain": "Index(['date', 'hour', 'open', 'high', 'low', 'close', 'real_volume',\n       'tick_volume', 'id', 'match', 'candle'],\n      dtype='object')"
     },
     "execution_count": 21,
     "metadata": {},
     "output_type": "execute_result"
    }
   ],
   "source": [
    "df1.head()\n",
    "df1.columns"
   ],
   "metadata": {
    "collapsed": false,
    "pycharm": {
     "name": "#%%\n"
    }
   }
  },
  {
   "cell_type": "code",
   "execution_count": 28,
   "outputs": [
    {
     "data": {
      "application/vnd.plotly.v1+json": {
       "config": {
        "plotlyServerURL": "https://plot.ly"
       },
       "data": [
        {
         "hovertemplate": "id=%{x}<br>value=%{y}<extra></extra>",
         "legendgroup": "",
         "line": {
          "color": "#636efa",
          "dash": "solid"
         },
         "mode": "lines",
         "name": "",
         "showlegend": false,
         "type": "scattergl",
         "x": [
          0,
          1,
          2,
          3,
          4,
          5,
          6,
          7,
          8,
          9,
          0,
          1,
          2,
          3,
          4,
          0,
          1,
          2,
          3,
          4,
          5,
          6,
          7,
          8,
          9,
          0,
          1,
          2,
          3,
          4,
          5,
          6,
          7,
          8,
          9,
          0,
          1,
          2,
          3,
          4,
          5,
          6,
          7,
          8,
          9,
          0,
          1,
          2,
          3,
          4,
          5,
          6,
          7,
          8,
          9,
          0,
          1,
          2,
          3,
          4,
          5,
          6,
          7,
          8,
          9,
          0,
          1,
          2,
          3,
          4,
          5,
          6,
          7,
          8,
          9,
          0,
          1,
          2,
          3,
          4,
          5,
          6,
          7,
          8,
          9,
          0,
          1,
          2,
          3,
          4,
          5,
          6,
          7,
          8,
          9,
          0,
          1,
          2,
          3,
          4,
          5,
          6,
          7,
          8,
          9,
          0,
          1,
          2,
          3,
          4,
          5,
          6,
          7,
          8,
          9,
          0,
          1,
          2,
          3,
          4,
          5,
          6,
          7,
          8,
          9,
          0,
          1,
          2,
          3,
          4,
          5,
          6,
          7,
          8,
          9,
          0,
          1,
          2,
          3,
          4,
          5,
          6,
          7,
          8,
          9,
          0,
          1,
          2,
          3,
          4,
          5,
          6,
          7,
          8,
          9,
          0,
          1,
          2,
          3,
          4,
          5,
          6,
          7,
          8,
          9,
          0,
          1,
          2,
          3,
          4,
          0,
          1,
          2,
          3,
          4,
          5,
          6,
          7,
          8,
          9,
          0,
          1,
          2,
          3,
          4,
          5,
          6,
          7,
          8,
          9,
          0,
          1,
          2,
          3,
          4,
          5,
          6,
          7,
          8,
          9,
          0,
          1,
          2,
          3,
          4,
          5,
          6,
          7,
          8,
          9,
          0,
          1,
          2,
          3,
          4,
          5,
          6,
          7,
          8,
          9,
          0,
          1,
          2,
          3,
          4,
          5,
          6,
          7,
          8,
          9,
          0,
          1,
          2,
          3,
          4,
          5,
          6,
          7,
          8,
          9,
          0,
          1,
          2,
          3,
          4,
          5,
          6,
          7,
          8,
          9,
          0,
          1,
          2,
          3,
          4,
          5,
          6,
          7,
          8,
          9,
          0,
          1,
          2,
          3,
          4,
          5,
          6,
          7,
          8,
          9,
          0,
          1,
          2,
          3,
          4,
          5,
          6,
          7,
          8,
          9,
          0,
          1,
          2,
          3,
          4,
          5,
          6,
          7,
          8,
          9,
          0,
          1,
          2,
          3,
          4,
          5,
          6,
          7,
          8,
          9,
          0,
          1,
          2,
          3,
          4,
          5,
          6,
          7,
          8,
          9,
          0,
          1,
          2,
          3,
          4,
          5,
          6,
          7,
          8,
          9,
          0,
          1,
          2,
          3,
          4,
          5,
          6,
          7,
          8,
          9,
          0,
          1,
          2,
          3,
          4,
          5,
          6,
          7,
          8,
          9,
          0,
          1,
          2,
          3,
          4,
          5,
          6,
          7,
          8,
          9,
          0,
          1,
          2,
          3,
          4,
          5,
          6,
          7,
          8,
          9,
          0,
          1,
          2,
          3,
          4,
          5,
          6,
          7,
          8,
          9,
          0,
          1,
          2,
          3,
          4,
          5,
          6,
          7,
          8,
          9,
          0,
          1,
          2,
          3,
          4,
          5,
          6,
          7,
          8,
          9,
          0,
          1,
          2,
          3,
          4,
          5,
          6,
          7,
          8,
          9,
          0,
          1,
          2,
          3,
          4,
          5,
          6,
          7,
          8,
          9,
          0,
          1,
          2,
          3,
          4,
          5,
          6,
          7,
          8,
          9,
          0,
          1,
          2,
          3,
          4,
          5,
          6,
          7,
          8,
          9,
          0,
          1,
          2,
          3,
          4,
          5,
          6,
          7,
          8,
          9,
          0,
          1,
          2,
          3,
          4,
          5,
          6,
          7,
          8,
          9,
          0,
          1,
          2,
          3,
          4,
          5,
          6,
          7,
          8,
          9,
          0,
          1,
          2,
          3,
          4,
          5,
          6,
          7,
          8,
          9,
          0,
          1,
          2,
          3,
          4,
          5,
          6,
          7,
          8,
          9,
          0,
          1,
          2,
          3,
          4,
          5,
          6,
          7,
          8,
          9,
          0,
          1,
          2,
          3,
          4,
          0,
          1,
          2,
          3,
          4,
          5,
          6,
          7,
          8,
          9,
          0,
          1,
          2,
          3,
          4,
          5,
          6,
          7,
          8,
          9,
          0,
          1,
          2,
          3,
          4,
          5,
          6,
          7,
          8,
          9,
          0,
          1,
          2,
          3,
          4,
          5,
          6,
          7,
          8,
          9,
          0,
          1,
          2,
          3,
          4,
          5,
          6,
          7,
          8,
          9,
          0,
          1,
          2,
          3,
          4,
          5,
          6,
          7,
          8,
          9,
          0,
          1,
          2,
          3,
          4,
          5,
          6,
          7,
          8,
          9,
          0,
          1,
          2,
          3,
          4,
          5,
          6,
          7,
          8,
          9,
          0,
          1,
          2,
          3,
          4,
          5,
          6,
          7,
          8,
          9,
          0,
          1,
          2,
          3,
          4,
          5,
          6,
          7,
          8,
          9,
          0,
          1,
          2,
          3,
          4,
          5,
          6,
          7,
          8,
          9,
          0,
          1,
          2,
          3,
          4,
          5,
          6,
          7,
          8,
          9,
          0,
          1,
          2,
          3,
          4,
          5,
          6,
          7,
          8,
          9,
          0,
          1,
          2,
          3,
          4,
          5,
          6,
          7,
          8,
          9,
          0,
          1,
          2,
          3,
          4,
          5,
          6,
          7,
          8,
          9,
          0,
          1,
          2,
          3,
          4,
          0,
          1,
          2,
          3,
          4,
          5,
          6,
          7,
          8,
          9,
          0,
          1,
          2,
          3,
          4,
          5,
          6,
          7,
          8,
          9,
          0,
          1,
          2,
          3,
          4,
          5,
          6,
          7,
          8,
          9,
          0,
          1,
          2,
          3,
          4,
          5,
          6,
          7,
          8,
          9,
          0,
          1,
          2,
          3,
          4,
          0,
          1,
          2,
          3,
          4,
          0,
          1,
          2,
          3,
          4,
          5,
          6,
          7,
          8,
          9,
          0,
          1,
          2,
          3,
          4,
          0,
          1,
          2,
          3,
          4,
          5,
          6,
          7,
          8,
          9,
          0,
          1,
          2,
          3,
          4,
          5,
          6,
          7,
          8,
          9,
          0,
          1,
          2,
          3,
          4,
          5,
          6,
          7,
          8,
          9,
          0,
          1,
          2,
          3,
          4,
          5,
          6,
          7,
          8,
          9,
          0,
          1,
          2,
          3,
          4,
          5,
          6,
          7,
          8,
          9,
          0,
          1,
          2,
          3,
          4,
          5,
          6,
          7,
          8,
          9,
          0,
          1,
          2,
          3,
          4,
          5,
          6,
          7,
          8,
          9,
          0,
          1,
          2,
          3,
          4,
          5,
          6,
          7,
          8,
          9,
          0,
          1,
          2,
          3,
          4,
          5,
          6,
          7,
          8,
          9,
          0,
          1,
          2,
          3,
          4,
          5,
          6,
          7,
          8,
          9,
          0,
          1,
          2,
          3,
          4,
          5,
          6,
          7,
          8,
          9,
          0,
          1,
          2,
          3,
          4,
          5,
          6,
          7,
          8,
          9,
          0,
          1,
          2,
          3,
          4,
          5,
          6,
          7,
          8,
          9,
          0,
          1,
          2,
          3,
          4,
          5,
          6,
          7,
          8,
          9,
          0,
          1,
          2,
          3,
          4,
          5,
          6,
          7,
          8,
          9,
          0,
          1,
          2,
          3,
          4,
          5,
          6,
          7,
          8,
          9,
          0,
          1,
          2,
          3,
          4,
          5,
          6,
          7,
          8,
          9,
          0,
          1,
          2,
          3,
          4,
          5,
          6,
          7,
          8,
          9,
          0,
          1,
          2,
          3,
          4,
          5,
          6,
          7,
          8,
          9,
          0,
          1,
          2,
          3,
          4,
          5,
          6,
          7,
          8,
          9,
          0,
          1,
          2,
          3,
          4,
          5,
          6,
          7,
          8,
          9,
          0,
          1,
          2,
          3,
          4,
          5,
          6,
          7,
          8,
          9,
          0,
          1,
          2,
          3,
          4,
          5,
          6,
          7,
          8,
          9,
          0,
          1,
          2,
          3,
          4,
          5,
          6,
          7,
          8,
          9,
          0,
          1,
          2,
          3,
          4,
          5,
          6,
          7,
          8,
          9,
          0,
          1,
          2,
          3,
          4,
          5,
          6,
          7,
          8,
          9,
          0,
          1,
          2,
          3,
          4,
          5,
          6,
          7,
          8,
          9,
          0,
          1,
          2,
          3,
          4,
          5,
          6,
          7,
          8,
          9,
          0,
          1,
          2,
          3,
          4,
          5,
          6,
          7,
          8,
          9,
          0,
          1,
          2,
          3,
          4,
          5,
          6,
          7,
          8,
          9,
          0,
          1,
          2,
          3,
          4,
          5,
          6,
          7,
          8,
          9,
          0,
          1,
          2,
          3,
          4,
          0,
          1,
          2,
          3,
          4,
          5,
          6,
          7,
          8,
          9,
          0,
          1,
          2,
          3,
          4,
          5,
          6,
          7,
          8,
          9,
          0,
          1,
          2,
          3,
          4,
          5,
          6,
          7,
          8,
          9,
          0,
          1,
          2,
          3,
          4,
          5,
          6,
          7,
          8,
          9,
          0,
          1,
          2,
          3,
          4,
          5,
          6,
          7,
          8,
          9,
          0,
          1,
          2,
          3,
          4,
          5,
          6,
          7,
          8,
          9,
          0,
          1,
          2,
          3,
          4,
          5,
          6,
          7,
          8,
          9,
          0,
          1,
          2,
          3,
          4,
          5,
          6,
          7,
          8,
          9,
          0,
          1,
          2,
          3,
          4,
          5,
          6,
          7,
          8,
          9,
          0,
          1,
          2,
          3,
          4,
          5,
          6,
          7,
          8,
          9,
          0,
          1,
          2,
          3,
          4,
          5,
          6,
          7,
          8,
          9,
          0,
          1,
          2,
          3,
          4,
          5,
          6,
          7,
          8,
          9,
          0,
          1,
          2,
          3,
          4,
          5,
          6,
          7,
          8,
          9,
          0,
          1,
          2,
          3,
          4,
          5,
          6,
          7,
          8,
          9,
          0,
          1,
          2,
          3,
          4,
          5,
          6,
          7,
          8,
          9,
          0,
          1,
          2,
          3,
          4,
          5,
          6,
          7,
          8,
          9,
          0,
          1,
          2,
          3,
          4,
          0,
          1,
          2,
          3,
          4,
          5,
          6,
          7,
          8,
          9,
          0,
          1,
          2,
          3,
          4,
          5,
          6,
          7,
          8,
          9,
          0,
          1,
          2,
          3,
          4,
          5,
          6,
          7,
          8,
          9,
          0,
          1,
          2,
          3,
          4,
          5,
          6,
          7,
          8,
          9,
          0,
          1,
          2,
          3,
          4,
          5,
          6,
          7,
          8,
          9,
          0,
          1,
          2,
          3,
          4,
          0,
          1,
          2,
          3,
          4,
          5,
          6,
          7,
          8,
          9,
          0,
          1,
          2,
          3,
          4,
          5,
          6,
          7,
          8,
          9,
          0,
          1,
          2,
          3,
          4,
          0,
          1,
          2,
          3,
          4,
          5,
          6,
          7,
          8,
          9,
          0,
          1,
          2,
          3,
          4,
          5,
          6,
          7,
          8,
          9,
          0,
          1,
          2,
          3,
          4,
          0,
          1,
          2,
          3,
          4,
          5,
          6,
          7,
          8,
          9,
          0,
          1,
          2,
          3,
          4,
          5,
          6,
          7,
          8,
          9,
          0,
          1,
          2,
          3,
          4,
          5,
          6,
          7,
          8,
          9,
          0,
          1,
          2,
          3,
          4,
          5,
          6,
          7,
          8,
          9,
          0,
          1,
          2,
          3,
          4,
          5,
          6,
          7,
          8,
          9,
          0,
          1,
          2,
          3,
          4,
          5,
          6,
          7,
          8,
          9,
          0,
          1,
          2,
          3,
          4,
          5,
          6,
          7,
          8,
          9,
          0,
          1,
          2,
          3,
          4,
          5,
          6,
          7,
          8,
          9,
          0,
          1,
          2,
          3,
          4,
          5,
          6,
          7,
          8,
          9,
          0,
          1,
          2,
          3,
          4,
          5,
          6,
          7,
          8,
          9,
          0,
          1,
          2,
          3,
          4,
          5,
          6,
          7,
          8,
          9,
          0,
          1,
          2,
          3,
          4,
          5,
          6,
          7,
          8,
          9,
          0,
          1,
          2,
          3,
          4,
          5,
          6,
          7,
          8,
          9,
          0,
          1,
          2,
          3,
          4,
          5,
          6,
          7,
          8,
          9,
          0,
          1,
          2,
          3,
          4,
          5,
          6,
          7,
          8,
          9,
          0,
          1,
          2,
          3,
          4,
          5,
          6,
          7,
          8,
          9,
          0,
          1,
          2,
          3,
          4,
          5,
          6,
          7,
          8,
          9,
          0,
          1,
          2,
          3,
          4,
          5,
          6,
          7,
          8,
          9,
          0,
          1,
          2,
          3,
          4,
          5,
          6,
          7,
          8,
          9
         ],
         "xaxis": "x",
         "y": [
          50310,
          50335,
          50320,
          50270,
          50240,
          50250,
          50270,
          50265,
          50275,
          50260,
          49425,
          49395,
          49400,
          49405,
          49435,
          48910,
          48890,
          48945,
          48995,
          49000,
          49000,
          48970,
          48930,
          48940,
          48925,
          48950,
          48935,
          48955,
          48955,
          48950,
          49010,
          48990,
          48965,
          48970,
          48930,
          48825,
          48820,
          48825,
          48815,
          48810,
          48830,
          48825,
          48810,
          48800,
          48795,
          48550,
          48555,
          48595,
          48600,
          48610,
          48625,
          48675,
          48575,
          48550,
          48520,
          48350,
          48360,
          48365,
          48360,
          48355,
          48350,
          48365,
          48335,
          48340,
          48340,
          47590,
          47595,
          47595,
          47610,
          47615,
          47580,
          47595,
          47635,
          47620,
          47615,
          47595,
          47580,
          47585,
          47575,
          47590,
          47580,
          47570,
          47575,
          47590,
          47580,
          47715,
          47715,
          47700,
          47680,
          47675,
          47680,
          47700,
          47730,
          47730,
          47720,
          48580,
          48575,
          48555,
          48590,
          48580,
          48565,
          48565,
          48560,
          48560,
          48540,
          47160,
          47150,
          47120,
          47145,
          47180,
          47195,
          47175,
          47160,
          47120,
          47175,
          46890,
          46865,
          46865,
          46865,
          46840,
          46850,
          46840,
          46855,
          46840,
          46840,
          46715,
          46745,
          46740,
          46775,
          46720,
          46710,
          46700,
          46700,
          46710,
          46705,
          44125,
          44155,
          44140,
          44105,
          44090,
          44065,
          44100,
          44060,
          44085,
          44130,
          45725,
          45700,
          45715,
          45715,
          45715,
          45720,
          45740,
          45700,
          45685,
          45715,
          45425,
          45380,
          45405,
          45485,
          45385,
          45390,
          45410,
          45450,
          45490,
          45465,
          46805,
          46785,
          46800,
          46800,
          46800,
          47860,
          47860,
          47865,
          47805,
          47800,
          47835,
          47775,
          47820,
          47840,
          47895,
          48380,
          48435,
          48495,
          48480,
          48515,
          48520,
          48450,
          48440,
          48455,
          48450,
          48180,
          48190,
          48255,
          48230,
          48265,
          48240,
          48245,
          48195,
          48210,
          48145,
          47615,
          47630,
          47580,
          47575,
          47570,
          47520,
          47505,
          47525,
          47535,
          47570,
          47015,
          47040,
          46965,
          46985,
          47020,
          47100,
          47155,
          47130,
          47095,
          47055,
          46990,
          47010,
          46985,
          47000,
          46985,
          47000,
          47045,
          47045,
          47030,
          47015,
          46925,
          46940,
          46890,
          46915,
          46905,
          46865,
          46850,
          46885,
          46940,
          46985,
          45990,
          45950,
          45965,
          46000,
          45930,
          45970,
          45980,
          45985,
          46015,
          45975,
          46805,
          46820,
          46865,
          46845,
          46790,
          46740,
          46730,
          46750,
          46790,
          46790,
          47460,
          47435,
          47410,
          47425,
          47405,
          47410,
          47405,
          47445,
          47480,
          47480,
          48000,
          47965,
          47990,
          48000,
          47985,
          48020,
          48040,
          47990,
          47970,
          48015,
          47830,
          47850,
          47840,
          47835,
          47820,
          47815,
          47805,
          47860,
          47830,
          47875,
          47225,
          47165,
          47140,
          47165,
          47170,
          47220,
          47315,
          47255,
          47200,
          47220,
          47410,
          47400,
          47445,
          47360,
          47425,
          47515,
          47505,
          47520,
          47455,
          47430,
          47750,
          47740,
          47710,
          47695,
          47660,
          47645,
          47655,
          47665,
          47660,
          47715,
          46810,
          46865,
          46850,
          46805,
          46820,
          46805,
          46795,
          46820,
          46805,
          46835,
          47305,
          47285,
          47300,
          47305,
          47300,
          47290,
          47330,
          47310,
          47295,
          47320,
          48005,
          48005,
          48050,
          48075,
          48070,
          48045,
          48025,
          48035,
          47990,
          48025,
          45980,
          46030,
          46035,
          46000,
          46015,
          46100,
          46095,
          46065,
          46100,
          46060,
          47020,
          46960,
          46960,
          46980,
          46930,
          46955,
          46990,
          46950,
          46940,
          46980,
          46675,
          46650,
          46700,
          46685,
          46680,
          46635,
          46635,
          46645,
          46640,
          46690,
          46715,
          46710,
          46740,
          46735,
          46745,
          46715,
          46700,
          46685,
          46685,
          46655,
          46715,
          46715,
          46735,
          46710,
          46715,
          46745,
          46725,
          46700,
          46700,
          46710,
          46790,
          46775,
          46795,
          46810,
          46805,
          46825,
          46805,
          46820,
          46805,
          46780,
          46910,
          46875,
          46890,
          46895,
          46935,
          46915,
          46910,
          46905,
          46905,
          46905,
          47005,
          46965,
          46960,
          46950,
          46960,
          46965,
          46955,
          46980,
          46975,
          47000,
          47720,
          47745,
          47805,
          47810,
          47800,
          47790,
          47735,
          47715,
          47700,
          47735,
          47205,
          47135,
          47175,
          47245,
          47245,
          47295,
          47305,
          47295,
          47315,
          47280,
          48875,
          48875,
          48865,
          48890,
          48900,
          48885,
          48880,
          48855,
          48860,
          48870,
          47765,
          47750,
          47750,
          47750,
          47745,
          47730,
          47770,
          47815,
          47765,
          47745,
          45705,
          45730,
          45715,
          45755,
          45750,
          45755,
          45755,
          45765,
          45720,
          45680,
          45650,
          45645,
          45615,
          45625,
          45665,
          45670,
          45680,
          45685,
          45675,
          45700,
          45260,
          45270,
          45275,
          45255,
          45350,
          45365,
          45380,
          45365,
          45385,
          45385,
          45390,
          45370,
          45385,
          45390,
          45420,
          44115,
          44150,
          44125,
          44140,
          44155,
          44145,
          44130,
          44120,
          44095,
          44105,
          44390,
          44350,
          44375,
          44395,
          44370,
          44355,
          44410,
          44400,
          44385,
          44400,
          44155,
          44160,
          44210,
          44235,
          44210,
          44240,
          44230,
          44255,
          44265,
          44245,
          44190,
          44210,
          44190,
          44195,
          44200,
          44280,
          44265,
          44270,
          44270,
          44225,
          44375,
          44375,
          44375,
          44370,
          44375,
          44365,
          44375,
          44370,
          44370,
          44365,
          45145,
          45135,
          45145,
          45120,
          45160,
          45150,
          45180,
          45160,
          45180,
          45190,
          45615,
          45580,
          45535,
          45495,
          45520,
          45505,
          45545,
          45535,
          45530,
          45550,
          45540,
          45550,
          45560,
          45580,
          45565,
          45545,
          45540,
          45570,
          45545,
          45520,
          45110,
          45065,
          45200,
          45185,
          45190,
          45190,
          45180,
          45205,
          45185,
          45180,
          45285,
          45325,
          45390,
          45320,
          45370,
          45345,
          45255,
          45145,
          45205,
          45225,
          47795,
          47820,
          47805,
          47795,
          47750,
          47730,
          47740,
          47765,
          47780,
          47775,
          48970,
          48930,
          48940,
          48930,
          49040,
          49060,
          49045,
          49040,
          49065,
          49020,
          48890,
          48885,
          48840,
          48910,
          48915,
          48900,
          48870,
          48870,
          48850,
          48835,
          48885,
          48870,
          48860,
          48850,
          48815,
          48805,
          48880,
          48895,
          48900,
          48885,
          49130,
          49100,
          49095,
          49070,
          49055,
          49190,
          49200,
          49225,
          49235,
          49255,
          49250,
          49265,
          49225,
          49225,
          49220,
          48520,
          48515,
          48490,
          48520,
          48515,
          48515,
          48520,
          48520,
          48525,
          48530,
          47380,
          47390,
          47370,
          47375,
          47380,
          47380,
          47380,
          47375,
          47375,
          47380,
          48270,
          48235,
          48260,
          48220,
          48190,
          48155,
          48155,
          48165,
          48170,
          48245,
          47445,
          47445,
          47435,
          47430,
          47435,
          47950,
          47955,
          47945,
          47930,
          47870,
          47995,
          48085,
          48125,
          48115,
          48135,
          48115,
          48100,
          48130,
          48125,
          48090,
          48060,
          48065,
          48055,
          48035,
          48100,
          47780,
          47790,
          47805,
          47775,
          47785,
          47750,
          47745,
          47780,
          47790,
          47790,
          47635,
          47635,
          47625,
          47610,
          47585,
          47595,
          47610,
          47615,
          47655,
          47645,
          47890,
          47885,
          47870,
          47885,
          47865,
          47820,
          47825,
          47840,
          47875,
          47895,
          48395,
          48390,
          48390,
          48420,
          48420,
          48425,
          48400,
          48405,
          48405,
          48410,
          49385,
          49395,
          49380,
          49345,
          49375,
          49350,
          49340,
          49335,
          49360,
          49400,
          49330,
          49345,
          49365,
          49365,
          49360,
          49345,
          49360,
          49305,
          49295,
          49270,
          49155,
          49140,
          49130,
          49130,
          49145,
          49200,
          49130,
          49145,
          49150,
          49130,
          48480,
          48440,
          48475,
          48475,
          48470,
          48475,
          48475,
          48515,
          48480,
          48460,
          47960,
          47880,
          47925,
          47895,
          47945,
          47880,
          47890,
          47895,
          47940,
          47945,
          47825,
          47815,
          47815,
          47805,
          47815,
          47785,
          47820,
          47835,
          47840,
          47840,
          47905,
          47890,
          47900,
          47880,
          47875,
          47885,
          47840,
          47860,
          47905,
          47920,
          47545,
          47550,
          47585,
          47610,
          47595,
          47590,
          47565,
          47545,
          47545,
          47555,
          47490,
          47525,
          47505,
          47515,
          47505,
          47510,
          47505,
          47520,
          47500,
          47515,
          47640,
          47615,
          47605,
          47610,
          47610,
          47610,
          47615,
          47605,
          47610,
          47605,
          47450,
          47405,
          47390,
          47365,
          47405,
          47400,
          47405,
          47430,
          47460,
          47455,
          47560,
          47555,
          47585,
          47560,
          47555,
          47550,
          47555,
          47555,
          47550,
          47555,
          47880,
          47850,
          47820,
          47830,
          47845,
          47830,
          47830,
          47835,
          47845,
          47880,
          46520,
          46535,
          46510,
          46520,
          46520,
          46530,
          46515,
          46540,
          46530,
          46510,
          46260,
          46270,
          46275,
          46305,
          46290,
          46310,
          46300,
          46295,
          46310,
          46275,
          48050,
          48025,
          48025,
          48050,
          48045,
          48055,
          48055,
          48070,
          48035,
          48060,
          48265,
          48250,
          48255,
          48285,
          48305,
          48290,
          48250,
          48290,
          48245,
          48235,
          47845,
          47910,
          47980,
          48005,
          47985,
          47925,
          47870,
          47895,
          47935,
          47930,
          47330,
          47325,
          47330,
          47300,
          47355,
          47330,
          47325,
          47310,
          47325,
          47335,
          47360,
          47355,
          47340,
          47345,
          47365,
          47365,
          47385,
          47375,
          47365,
          47360,
          46235,
          46250,
          46255,
          46255,
          46275,
          46295,
          46280,
          46295,
          46285,
          46305,
          46305,
          46315,
          46300,
          46310,
          46330,
          46320,
          46330,
          46320,
          46315,
          46300,
          47550,
          47525,
          47495,
          47500,
          47495,
          47515,
          47520,
          47535,
          47525,
          47525,
          47410,
          47415,
          47405,
          47390,
          47350,
          47345,
          47360,
          47380,
          47385,
          47390,
          47160,
          47190,
          47235,
          47220,
          47170,
          47195,
          47185,
          47205,
          47190,
          47170,
          46805,
          46800,
          46810,
          46860,
          46845,
          46800,
          46795,
          46780,
          46780,
          46795,
          46940,
          46945,
          46930,
          46925,
          46965,
          46970,
          46955,
          46935,
          46935,
          46920,
          46865,
          46875,
          46850,
          46840,
          46995,
          46900,
          46845,
          46850,
          46840,
          46850,
          46850,
          46870,
          46855,
          46870,
          46885,
          47540,
          47560,
          47620,
          47605,
          47605,
          47580,
          47575,
          47560,
          47550,
          47555,
          48125,
          48135,
          48155,
          48170,
          48150,
          48145,
          48115,
          48140,
          48155,
          48150,
          48365,
          48355,
          48350,
          48350,
          48345,
          48355,
          48350,
          48335,
          48360,
          48375,
          48270,
          48265,
          48245,
          48265,
          48235,
          48245,
          48255,
          48265,
          48225,
          48245,
          48205,
          48230,
          48240,
          48240,
          48250,
          48250,
          48245,
          48235,
          48225,
          48240,
          47530,
          47530,
          47545,
          47515,
          47535,
          47515,
          47510,
          47465,
          47500,
          47520,
          47365,
          47470,
          47425,
          47420,
          47435,
          47410,
          47430,
          47400,
          47450,
          47395,
          47610,
          47585,
          47620,
          47595,
          47560,
          47545,
          47565,
          47545,
          47585,
          47575,
          47210,
          47215,
          47205,
          47215,
          47210,
          47215,
          47215,
          47200,
          47205,
          47200,
          46990,
          46990,
          46975,
          46980,
          46990,
          46960,
          46970,
          46975,
          47000,
          47010,
          45765,
          45825,
          45765,
          45745,
          45755,
          45730,
          45695,
          45650,
          45680,
          45705,
          45250,
          45245,
          45265,
          45295,
          45275,
          45265,
          45280,
          45280,
          45290,
          45280,
          45235,
          45210,
          45255,
          45245,
          45255,
          45245,
          45220,
          45190,
          45195,
          45215,
          45195,
          45225,
          45245,
          45230,
          45165,
          45215,
          45205,
          45235,
          45235,
          45210,
          45000,
          44990,
          45005,
          45005,
          44995,
          44995,
          44995,
          45010,
          45020,
          44990,
          44865,
          44875,
          44850,
          44845,
          44925,
          46190,
          46165,
          46190,
          46205,
          46190,
          46185,
          46190,
          46180,
          46170,
          46180,
          45365,
          45395,
          45400,
          45390,
          45375,
          45380,
          45415,
          45425,
          45410,
          45390,
          45415,
          45405,
          45410,
          45390,
          45410,
          45375,
          45410,
          45400,
          45400,
          45395,
          45565,
          45545,
          45535,
          45520,
          45505,
          45570,
          45600,
          45570,
          45555,
          45545,
          46350,
          46335,
          46310,
          46285,
          46275,
          46285,
          46290,
          46340,
          46310,
          46345,
          46280,
          46275,
          46295,
          46300,
          46390,
          46150,
          46140,
          46135,
          46120,
          46125,
          46120,
          46095,
          46105,
          46130,
          46135,
          46220,
          46235,
          46230,
          46220,
          46220,
          46265,
          46225,
          46200,
          46245,
          46280,
          45765,
          45770,
          45775,
          45750,
          45790,
          45285,
          45255,
          45230,
          45205,
          45170,
          45220,
          45200,
          45225,
          45270,
          45280,
          45325,
          45305,
          45290,
          45305,
          45315,
          45320,
          45320,
          45345,
          45335,
          45345,
          45300,
          45295,
          45305,
          45295,
          45350,
          45035,
          45030,
          45040,
          45030,
          45020,
          45040,
          45045,
          45020,
          45025,
          45025,
          45540,
          45550,
          45610,
          45715,
          45695,
          45780,
          45780,
          45790,
          45705,
          45730,
          44945,
          44930,
          44945,
          44935,
          44950,
          44935,
          44940,
          44920,
          44915,
          44940,
          45145,
          45160,
          45105,
          45090,
          45150,
          45120,
          45135,
          45130,
          45135,
          45095,
          45080,
          45110,
          45140,
          45150,
          45110,
          45135,
          45125,
          45120,
          45110,
          45090,
          45100,
          45070,
          45075,
          45105,
          45100,
          45115,
          45110,
          45125,
          45110,
          45110,
          44105,
          44140,
          44140,
          44135,
          44155,
          44170,
          44135,
          44145,
          44150,
          44130,
          43870,
          43875,
          43875,
          43910,
          43915,
          43895,
          43890,
          43910,
          43920,
          43900,
          44615,
          44710,
          44710,
          44705,
          44680,
          44665,
          44660,
          44635,
          44640,
          44625,
          44440,
          44430,
          44430,
          44410,
          44420,
          44435,
          44445,
          44430,
          44440,
          44435,
          44415,
          44415,
          44430,
          44430,
          44425,
          44435,
          44425,
          44430,
          44425,
          44435,
          44405,
          44440,
          44435,
          44410,
          44430,
          44430,
          44430,
          44425,
          44430,
          44410,
          44485,
          44515,
          44505,
          44520,
          44535,
          44535,
          44500,
          44495,
          44485,
          44495,
          44330,
          44350,
          44365,
          44360,
          44330,
          44330,
          44335,
          44335,
          44335,
          44350,
          44375,
          44365,
          44375,
          44395,
          44395,
          44410,
          44360,
          44365,
          44355,
          44350,
          44355,
          44365,
          44360,
          44345,
          44360,
          44375,
          44380,
          44385,
          44385,
          44380,
          43880,
          43870,
          43880,
          43875,
          43870,
          43870,
          43880,
          43875,
          43880,
          43880,
          43895,
          43910,
          43905,
          43890,
          43895,
          43890,
          43885,
          43895,
          43900,
          43905,
          43895,
          43905,
          43900,
          43920,
          43925,
          43910,
          43905,
          43930,
          43910,
          43905
         ],
         "yaxis": "y"
        }
       ],
       "layout": {
        "legend": {
         "tracegroupgap": 0
        },
        "margin": {
         "t": 60
        },
        "template": {
         "data": {
          "bar": [
           {
            "error_x": {
             "color": "#2a3f5f"
            },
            "error_y": {
             "color": "#2a3f5f"
            },
            "marker": {
             "line": {
              "color": "#E5ECF6",
              "width": 0.5
             }
            },
            "type": "bar"
           }
          ],
          "barpolar": [
           {
            "marker": {
             "line": {
              "color": "#E5ECF6",
              "width": 0.5
             }
            },
            "type": "barpolar"
           }
          ],
          "carpet": [
           {
            "aaxis": {
             "endlinecolor": "#2a3f5f",
             "gridcolor": "white",
             "linecolor": "white",
             "minorgridcolor": "white",
             "startlinecolor": "#2a3f5f"
            },
            "baxis": {
             "endlinecolor": "#2a3f5f",
             "gridcolor": "white",
             "linecolor": "white",
             "minorgridcolor": "white",
             "startlinecolor": "#2a3f5f"
            },
            "type": "carpet"
           }
          ],
          "choropleth": [
           {
            "colorbar": {
             "outlinewidth": 0,
             "ticks": ""
            },
            "type": "choropleth"
           }
          ],
          "contour": [
           {
            "colorbar": {
             "outlinewidth": 0,
             "ticks": ""
            },
            "colorscale": [
             [
              0.0,
              "#0d0887"
             ],
             [
              0.1111111111111111,
              "#46039f"
             ],
             [
              0.2222222222222222,
              "#7201a8"
             ],
             [
              0.3333333333333333,
              "#9c179e"
             ],
             [
              0.4444444444444444,
              "#bd3786"
             ],
             [
              0.5555555555555556,
              "#d8576b"
             ],
             [
              0.6666666666666666,
              "#ed7953"
             ],
             [
              0.7777777777777778,
              "#fb9f3a"
             ],
             [
              0.8888888888888888,
              "#fdca26"
             ],
             [
              1.0,
              "#f0f921"
             ]
            ],
            "type": "contour"
           }
          ],
          "contourcarpet": [
           {
            "colorbar": {
             "outlinewidth": 0,
             "ticks": ""
            },
            "type": "contourcarpet"
           }
          ],
          "heatmap": [
           {
            "colorbar": {
             "outlinewidth": 0,
             "ticks": ""
            },
            "colorscale": [
             [
              0.0,
              "#0d0887"
             ],
             [
              0.1111111111111111,
              "#46039f"
             ],
             [
              0.2222222222222222,
              "#7201a8"
             ],
             [
              0.3333333333333333,
              "#9c179e"
             ],
             [
              0.4444444444444444,
              "#bd3786"
             ],
             [
              0.5555555555555556,
              "#d8576b"
             ],
             [
              0.6666666666666666,
              "#ed7953"
             ],
             [
              0.7777777777777778,
              "#fb9f3a"
             ],
             [
              0.8888888888888888,
              "#fdca26"
             ],
             [
              1.0,
              "#f0f921"
             ]
            ],
            "type": "heatmap"
           }
          ],
          "heatmapgl": [
           {
            "colorbar": {
             "outlinewidth": 0,
             "ticks": ""
            },
            "colorscale": [
             [
              0.0,
              "#0d0887"
             ],
             [
              0.1111111111111111,
              "#46039f"
             ],
             [
              0.2222222222222222,
              "#7201a8"
             ],
             [
              0.3333333333333333,
              "#9c179e"
             ],
             [
              0.4444444444444444,
              "#bd3786"
             ],
             [
              0.5555555555555556,
              "#d8576b"
             ],
             [
              0.6666666666666666,
              "#ed7953"
             ],
             [
              0.7777777777777778,
              "#fb9f3a"
             ],
             [
              0.8888888888888888,
              "#fdca26"
             ],
             [
              1.0,
              "#f0f921"
             ]
            ],
            "type": "heatmapgl"
           }
          ],
          "histogram": [
           {
            "marker": {
             "colorbar": {
              "outlinewidth": 0,
              "ticks": ""
             }
            },
            "type": "histogram"
           }
          ],
          "histogram2d": [
           {
            "colorbar": {
             "outlinewidth": 0,
             "ticks": ""
            },
            "colorscale": [
             [
              0.0,
              "#0d0887"
             ],
             [
              0.1111111111111111,
              "#46039f"
             ],
             [
              0.2222222222222222,
              "#7201a8"
             ],
             [
              0.3333333333333333,
              "#9c179e"
             ],
             [
              0.4444444444444444,
              "#bd3786"
             ],
             [
              0.5555555555555556,
              "#d8576b"
             ],
             [
              0.6666666666666666,
              "#ed7953"
             ],
             [
              0.7777777777777778,
              "#fb9f3a"
             ],
             [
              0.8888888888888888,
              "#fdca26"
             ],
             [
              1.0,
              "#f0f921"
             ]
            ],
            "type": "histogram2d"
           }
          ],
          "histogram2dcontour": [
           {
            "colorbar": {
             "outlinewidth": 0,
             "ticks": ""
            },
            "colorscale": [
             [
              0.0,
              "#0d0887"
             ],
             [
              0.1111111111111111,
              "#46039f"
             ],
             [
              0.2222222222222222,
              "#7201a8"
             ],
             [
              0.3333333333333333,
              "#9c179e"
             ],
             [
              0.4444444444444444,
              "#bd3786"
             ],
             [
              0.5555555555555556,
              "#d8576b"
             ],
             [
              0.6666666666666666,
              "#ed7953"
             ],
             [
              0.7777777777777778,
              "#fb9f3a"
             ],
             [
              0.8888888888888888,
              "#fdca26"
             ],
             [
              1.0,
              "#f0f921"
             ]
            ],
            "type": "histogram2dcontour"
           }
          ],
          "mesh3d": [
           {
            "colorbar": {
             "outlinewidth": 0,
             "ticks": ""
            },
            "type": "mesh3d"
           }
          ],
          "parcoords": [
           {
            "line": {
             "colorbar": {
              "outlinewidth": 0,
              "ticks": ""
             }
            },
            "type": "parcoords"
           }
          ],
          "pie": [
           {
            "automargin": true,
            "type": "pie"
           }
          ],
          "scatter": [
           {
            "marker": {
             "colorbar": {
              "outlinewidth": 0,
              "ticks": ""
             }
            },
            "type": "scatter"
           }
          ],
          "scatter3d": [
           {
            "line": {
             "colorbar": {
              "outlinewidth": 0,
              "ticks": ""
             }
            },
            "marker": {
             "colorbar": {
              "outlinewidth": 0,
              "ticks": ""
             }
            },
            "type": "scatter3d"
           }
          ],
          "scattercarpet": [
           {
            "marker": {
             "colorbar": {
              "outlinewidth": 0,
              "ticks": ""
             }
            },
            "type": "scattercarpet"
           }
          ],
          "scattergeo": [
           {
            "marker": {
             "colorbar": {
              "outlinewidth": 0,
              "ticks": ""
             }
            },
            "type": "scattergeo"
           }
          ],
          "scattergl": [
           {
            "marker": {
             "colorbar": {
              "outlinewidth": 0,
              "ticks": ""
             }
            },
            "type": "scattergl"
           }
          ],
          "scattermapbox": [
           {
            "marker": {
             "colorbar": {
              "outlinewidth": 0,
              "ticks": ""
             }
            },
            "type": "scattermapbox"
           }
          ],
          "scatterpolar": [
           {
            "marker": {
             "colorbar": {
              "outlinewidth": 0,
              "ticks": ""
             }
            },
            "type": "scatterpolar"
           }
          ],
          "scatterpolargl": [
           {
            "marker": {
             "colorbar": {
              "outlinewidth": 0,
              "ticks": ""
             }
            },
            "type": "scatterpolargl"
           }
          ],
          "scatterternary": [
           {
            "marker": {
             "colorbar": {
              "outlinewidth": 0,
              "ticks": ""
             }
            },
            "type": "scatterternary"
           }
          ],
          "surface": [
           {
            "colorbar": {
             "outlinewidth": 0,
             "ticks": ""
            },
            "colorscale": [
             [
              0.0,
              "#0d0887"
             ],
             [
              0.1111111111111111,
              "#46039f"
             ],
             [
              0.2222222222222222,
              "#7201a8"
             ],
             [
              0.3333333333333333,
              "#9c179e"
             ],
             [
              0.4444444444444444,
              "#bd3786"
             ],
             [
              0.5555555555555556,
              "#d8576b"
             ],
             [
              0.6666666666666666,
              "#ed7953"
             ],
             [
              0.7777777777777778,
              "#fb9f3a"
             ],
             [
              0.8888888888888888,
              "#fdca26"
             ],
             [
              1.0,
              "#f0f921"
             ]
            ],
            "type": "surface"
           }
          ],
          "table": [
           {
            "cells": {
             "fill": {
              "color": "#EBF0F8"
             },
             "line": {
              "color": "white"
             }
            },
            "header": {
             "fill": {
              "color": "#C8D4E3"
             },
             "line": {
              "color": "white"
             }
            },
            "type": "table"
           }
          ]
         },
         "layout": {
          "annotationdefaults": {
           "arrowcolor": "#2a3f5f",
           "arrowhead": 0,
           "arrowwidth": 1
          },
          "autotypenumbers": "strict",
          "coloraxis": {
           "colorbar": {
            "outlinewidth": 0,
            "ticks": ""
           }
          },
          "colorscale": {
           "diverging": [
            [
             0,
             "#8e0152"
            ],
            [
             0.1,
             "#c51b7d"
            ],
            [
             0.2,
             "#de77ae"
            ],
            [
             0.3,
             "#f1b6da"
            ],
            [
             0.4,
             "#fde0ef"
            ],
            [
             0.5,
             "#f7f7f7"
            ],
            [
             0.6,
             "#e6f5d0"
            ],
            [
             0.7,
             "#b8e186"
            ],
            [
             0.8,
             "#7fbc41"
            ],
            [
             0.9,
             "#4d9221"
            ],
            [
             1,
             "#276419"
            ]
           ],
           "sequential": [
            [
             0.0,
             "#0d0887"
            ],
            [
             0.1111111111111111,
             "#46039f"
            ],
            [
             0.2222222222222222,
             "#7201a8"
            ],
            [
             0.3333333333333333,
             "#9c179e"
            ],
            [
             0.4444444444444444,
             "#bd3786"
            ],
            [
             0.5555555555555556,
             "#d8576b"
            ],
            [
             0.6666666666666666,
             "#ed7953"
            ],
            [
             0.7777777777777778,
             "#fb9f3a"
            ],
            [
             0.8888888888888888,
             "#fdca26"
            ],
            [
             1.0,
             "#f0f921"
            ]
           ],
           "sequentialminus": [
            [
             0.0,
             "#0d0887"
            ],
            [
             0.1111111111111111,
             "#46039f"
            ],
            [
             0.2222222222222222,
             "#7201a8"
            ],
            [
             0.3333333333333333,
             "#9c179e"
            ],
            [
             0.4444444444444444,
             "#bd3786"
            ],
            [
             0.5555555555555556,
             "#d8576b"
            ],
            [
             0.6666666666666666,
             "#ed7953"
            ],
            [
             0.7777777777777778,
             "#fb9f3a"
            ],
            [
             0.8888888888888888,
             "#fdca26"
            ],
            [
             1.0,
             "#f0f921"
            ]
           ]
          },
          "colorway": [
           "#636efa",
           "#EF553B",
           "#00cc96",
           "#ab63fa",
           "#FFA15A",
           "#19d3f3",
           "#FF6692",
           "#B6E880",
           "#FF97FF",
           "#FECB52"
          ],
          "font": {
           "color": "#2a3f5f"
          },
          "geo": {
           "bgcolor": "white",
           "lakecolor": "white",
           "landcolor": "#E5ECF6",
           "showlakes": true,
           "showland": true,
           "subunitcolor": "white"
          },
          "hoverlabel": {
           "align": "left"
          },
          "hovermode": "closest",
          "mapbox": {
           "style": "light"
          },
          "paper_bgcolor": "white",
          "plot_bgcolor": "#E5ECF6",
          "polar": {
           "angularaxis": {
            "gridcolor": "white",
            "linecolor": "white",
            "ticks": ""
           },
           "bgcolor": "#E5ECF6",
           "radialaxis": {
            "gridcolor": "white",
            "linecolor": "white",
            "ticks": ""
           }
          },
          "scene": {
           "xaxis": {
            "backgroundcolor": "#E5ECF6",
            "gridcolor": "white",
            "gridwidth": 2,
            "linecolor": "white",
            "showbackground": true,
            "ticks": "",
            "zerolinecolor": "white"
           },
           "yaxis": {
            "backgroundcolor": "#E5ECF6",
            "gridcolor": "white",
            "gridwidth": 2,
            "linecolor": "white",
            "showbackground": true,
            "ticks": "",
            "zerolinecolor": "white"
           },
           "zaxis": {
            "backgroundcolor": "#E5ECF6",
            "gridcolor": "white",
            "gridwidth": 2,
            "linecolor": "white",
            "showbackground": true,
            "ticks": "",
            "zerolinecolor": "white"
           }
          },
          "shapedefaults": {
           "line": {
            "color": "#2a3f5f"
           }
          },
          "ternary": {
           "aaxis": {
            "gridcolor": "white",
            "linecolor": "white",
            "ticks": ""
           },
           "baxis": {
            "gridcolor": "white",
            "linecolor": "white",
            "ticks": ""
           },
           "bgcolor": "#E5ECF6",
           "caxis": {
            "gridcolor": "white",
            "linecolor": "white",
            "ticks": ""
           }
          },
          "title": {
           "x": 0.05
          },
          "xaxis": {
           "automargin": true,
           "gridcolor": "white",
           "linecolor": "white",
           "ticks": "",
           "title": {
            "standoff": 15
           },
           "zerolinecolor": "white",
           "zerolinewidth": 2
          },
          "yaxis": {
           "automargin": true,
           "gridcolor": "white",
           "linecolor": "white",
           "ticks": "",
           "title": {
            "standoff": 15
           },
           "zerolinecolor": "white",
           "zerolinewidth": 2
          }
         }
        },
        "xaxis": {
         "anchor": "y",
         "domain": [
          0.0,
          1.0
         ],
         "title": {
          "text": "id"
         }
        },
        "yaxis": {
         "anchor": "x",
         "domain": [
          0.0,
          1.0
         ],
         "title": {
          "text": "value"
         }
        }
       }
      },
      "text/html": "<div>                            <div id=\"d7058f3b-0d29-4862-aa47-2b11ccd1a6dc\" class=\"plotly-graph-div\" style=\"height:525px; width:100%;\"></div>            <script type=\"text/javascript\">                require([\"plotly\"], function(Plotly) {                    window.PLOTLYENV=window.PLOTLYENV || {};                                    if (document.getElementById(\"d7058f3b-0d29-4862-aa47-2b11ccd1a6dc\")) {                    Plotly.newPlot(                        \"d7058f3b-0d29-4862-aa47-2b11ccd1a6dc\",                        [{\"hovertemplate\": \"id=%{x}<br>value=%{y}<extra></extra>\", \"legendgroup\": \"\", \"line\": {\"color\": \"#636efa\", \"dash\": \"solid\"}, \"mode\": \"lines\", \"name\": \"\", \"showlegend\": false, \"type\": \"scattergl\", \"x\": [0, 1, 2, 3, 4, 5, 6, 7, 8, 9, 0, 1, 2, 3, 4, 0, 1, 2, 3, 4, 5, 6, 7, 8, 9, 0, 1, 2, 3, 4, 5, 6, 7, 8, 9, 0, 1, 2, 3, 4, 5, 6, 7, 8, 9, 0, 1, 2, 3, 4, 5, 6, 7, 8, 9, 0, 1, 2, 3, 4, 5, 6, 7, 8, 9, 0, 1, 2, 3, 4, 5, 6, 7, 8, 9, 0, 1, 2, 3, 4, 5, 6, 7, 8, 9, 0, 1, 2, 3, 4, 5, 6, 7, 8, 9, 0, 1, 2, 3, 4, 5, 6, 7, 8, 9, 0, 1, 2, 3, 4, 5, 6, 7, 8, 9, 0, 1, 2, 3, 4, 5, 6, 7, 8, 9, 0, 1, 2, 3, 4, 5, 6, 7, 8, 9, 0, 1, 2, 3, 4, 5, 6, 7, 8, 9, 0, 1, 2, 3, 4, 5, 6, 7, 8, 9, 0, 1, 2, 3, 4, 5, 6, 7, 8, 9, 0, 1, 2, 3, 4, 0, 1, 2, 3, 4, 5, 6, 7, 8, 9, 0, 1, 2, 3, 4, 5, 6, 7, 8, 9, 0, 1, 2, 3, 4, 5, 6, 7, 8, 9, 0, 1, 2, 3, 4, 5, 6, 7, 8, 9, 0, 1, 2, 3, 4, 5, 6, 7, 8, 9, 0, 1, 2, 3, 4, 5, 6, 7, 8, 9, 0, 1, 2, 3, 4, 5, 6, 7, 8, 9, 0, 1, 2, 3, 4, 5, 6, 7, 8, 9, 0, 1, 2, 3, 4, 5, 6, 7, 8, 9, 0, 1, 2, 3, 4, 5, 6, 7, 8, 9, 0, 1, 2, 3, 4, 5, 6, 7, 8, 9, 0, 1, 2, 3, 4, 5, 6, 7, 8, 9, 0, 1, 2, 3, 4, 5, 6, 7, 8, 9, 0, 1, 2, 3, 4, 5, 6, 7, 8, 9, 0, 1, 2, 3, 4, 5, 6, 7, 8, 9, 0, 1, 2, 3, 4, 5, 6, 7, 8, 9, 0, 1, 2, 3, 4, 5, 6, 7, 8, 9, 0, 1, 2, 3, 4, 5, 6, 7, 8, 9, 0, 1, 2, 3, 4, 5, 6, 7, 8, 9, 0, 1, 2, 3, 4, 5, 6, 7, 8, 9, 0, 1, 2, 3, 4, 5, 6, 7, 8, 9, 0, 1, 2, 3, 4, 5, 6, 7, 8, 9, 0, 1, 2, 3, 4, 5, 6, 7, 8, 9, 0, 1, 2, 3, 4, 5, 6, 7, 8, 9, 0, 1, 2, 3, 4, 5, 6, 7, 8, 9, 0, 1, 2, 3, 4, 5, 6, 7, 8, 9, 0, 1, 2, 3, 4, 5, 6, 7, 8, 9, 0, 1, 2, 3, 4, 5, 6, 7, 8, 9, 0, 1, 2, 3, 4, 5, 6, 7, 8, 9, 0, 1, 2, 3, 4, 5, 6, 7, 8, 9, 0, 1, 2, 3, 4, 5, 6, 7, 8, 9, 0, 1, 2, 3, 4, 5, 6, 7, 8, 9, 0, 1, 2, 3, 4, 0, 1, 2, 3, 4, 5, 6, 7, 8, 9, 0, 1, 2, 3, 4, 5, 6, 7, 8, 9, 0, 1, 2, 3, 4, 5, 6, 7, 8, 9, 0, 1, 2, 3, 4, 5, 6, 7, 8, 9, 0, 1, 2, 3, 4, 5, 6, 7, 8, 9, 0, 1, 2, 3, 4, 5, 6, 7, 8, 9, 0, 1, 2, 3, 4, 5, 6, 7, 8, 9, 0, 1, 2, 3, 4, 5, 6, 7, 8, 9, 0, 1, 2, 3, 4, 5, 6, 7, 8, 9, 0, 1, 2, 3, 4, 5, 6, 7, 8, 9, 0, 1, 2, 3, 4, 5, 6, 7, 8, 9, 0, 1, 2, 3, 4, 5, 6, 7, 8, 9, 0, 1, 2, 3, 4, 5, 6, 7, 8, 9, 0, 1, 2, 3, 4, 5, 6, 7, 8, 9, 0, 1, 2, 3, 4, 5, 6, 7, 8, 9, 0, 1, 2, 3, 4, 0, 1, 2, 3, 4, 5, 6, 7, 8, 9, 0, 1, 2, 3, 4, 5, 6, 7, 8, 9, 0, 1, 2, 3, 4, 5, 6, 7, 8, 9, 0, 1, 2, 3, 4, 5, 6, 7, 8, 9, 0, 1, 2, 3, 4, 0, 1, 2, 3, 4, 0, 1, 2, 3, 4, 5, 6, 7, 8, 9, 0, 1, 2, 3, 4, 0, 1, 2, 3, 4, 5, 6, 7, 8, 9, 0, 1, 2, 3, 4, 5, 6, 7, 8, 9, 0, 1, 2, 3, 4, 5, 6, 7, 8, 9, 0, 1, 2, 3, 4, 5, 6, 7, 8, 9, 0, 1, 2, 3, 4, 5, 6, 7, 8, 9, 0, 1, 2, 3, 4, 5, 6, 7, 8, 9, 0, 1, 2, 3, 4, 5, 6, 7, 8, 9, 0, 1, 2, 3, 4, 5, 6, 7, 8, 9, 0, 1, 2, 3, 4, 5, 6, 7, 8, 9, 0, 1, 2, 3, 4, 5, 6, 7, 8, 9, 0, 1, 2, 3, 4, 5, 6, 7, 8, 9, 0, 1, 2, 3, 4, 5, 6, 7, 8, 9, 0, 1, 2, 3, 4, 5, 6, 7, 8, 9, 0, 1, 2, 3, 4, 5, 6, 7, 8, 9, 0, 1, 2, 3, 4, 5, 6, 7, 8, 9, 0, 1, 2, 3, 4, 5, 6, 7, 8, 9, 0, 1, 2, 3, 4, 5, 6, 7, 8, 9, 0, 1, 2, 3, 4, 5, 6, 7, 8, 9, 0, 1, 2, 3, 4, 5, 6, 7, 8, 9, 0, 1, 2, 3, 4, 5, 6, 7, 8, 9, 0, 1, 2, 3, 4, 5, 6, 7, 8, 9, 0, 1, 2, 3, 4, 5, 6, 7, 8, 9, 0, 1, 2, 3, 4, 5, 6, 7, 8, 9, 0, 1, 2, 3, 4, 5, 6, 7, 8, 9, 0, 1, 2, 3, 4, 5, 6, 7, 8, 9, 0, 1, 2, 3, 4, 5, 6, 7, 8, 9, 0, 1, 2, 3, 4, 5, 6, 7, 8, 9, 0, 1, 2, 3, 4, 5, 6, 7, 8, 9, 0, 1, 2, 3, 4, 5, 6, 7, 8, 9, 0, 1, 2, 3, 4, 5, 6, 7, 8, 9, 0, 1, 2, 3, 4, 5, 6, 7, 8, 9, 0, 1, 2, 3, 4, 0, 1, 2, 3, 4, 5, 6, 7, 8, 9, 0, 1, 2, 3, 4, 5, 6, 7, 8, 9, 0, 1, 2, 3, 4, 5, 6, 7, 8, 9, 0, 1, 2, 3, 4, 5, 6, 7, 8, 9, 0, 1, 2, 3, 4, 5, 6, 7, 8, 9, 0, 1, 2, 3, 4, 5, 6, 7, 8, 9, 0, 1, 2, 3, 4, 5, 6, 7, 8, 9, 0, 1, 2, 3, 4, 5, 6, 7, 8, 9, 0, 1, 2, 3, 4, 5, 6, 7, 8, 9, 0, 1, 2, 3, 4, 5, 6, 7, 8, 9, 0, 1, 2, 3, 4, 5, 6, 7, 8, 9, 0, 1, 2, 3, 4, 5, 6, 7, 8, 9, 0, 1, 2, 3, 4, 5, 6, 7, 8, 9, 0, 1, 2, 3, 4, 5, 6, 7, 8, 9, 0, 1, 2, 3, 4, 5, 6, 7, 8, 9, 0, 1, 2, 3, 4, 5, 6, 7, 8, 9, 0, 1, 2, 3, 4, 0, 1, 2, 3, 4, 5, 6, 7, 8, 9, 0, 1, 2, 3, 4, 5, 6, 7, 8, 9, 0, 1, 2, 3, 4, 5, 6, 7, 8, 9, 0, 1, 2, 3, 4, 5, 6, 7, 8, 9, 0, 1, 2, 3, 4, 5, 6, 7, 8, 9, 0, 1, 2, 3, 4, 0, 1, 2, 3, 4, 5, 6, 7, 8, 9, 0, 1, 2, 3, 4, 5, 6, 7, 8, 9, 0, 1, 2, 3, 4, 0, 1, 2, 3, 4, 5, 6, 7, 8, 9, 0, 1, 2, 3, 4, 5, 6, 7, 8, 9, 0, 1, 2, 3, 4, 0, 1, 2, 3, 4, 5, 6, 7, 8, 9, 0, 1, 2, 3, 4, 5, 6, 7, 8, 9, 0, 1, 2, 3, 4, 5, 6, 7, 8, 9, 0, 1, 2, 3, 4, 5, 6, 7, 8, 9, 0, 1, 2, 3, 4, 5, 6, 7, 8, 9, 0, 1, 2, 3, 4, 5, 6, 7, 8, 9, 0, 1, 2, 3, 4, 5, 6, 7, 8, 9, 0, 1, 2, 3, 4, 5, 6, 7, 8, 9, 0, 1, 2, 3, 4, 5, 6, 7, 8, 9, 0, 1, 2, 3, 4, 5, 6, 7, 8, 9, 0, 1, 2, 3, 4, 5, 6, 7, 8, 9, 0, 1, 2, 3, 4, 5, 6, 7, 8, 9, 0, 1, 2, 3, 4, 5, 6, 7, 8, 9, 0, 1, 2, 3, 4, 5, 6, 7, 8, 9, 0, 1, 2, 3, 4, 5, 6, 7, 8, 9, 0, 1, 2, 3, 4, 5, 6, 7, 8, 9, 0, 1, 2, 3, 4, 5, 6, 7, 8, 9, 0, 1, 2, 3, 4, 5, 6, 7, 8, 9, 0, 1, 2, 3, 4, 5, 6, 7, 8, 9], \"xaxis\": \"x\", \"y\": [50310, 50335, 50320, 50270, 50240, 50250, 50270, 50265, 50275, 50260, 49425, 49395, 49400, 49405, 49435, 48910, 48890, 48945, 48995, 49000, 49000, 48970, 48930, 48940, 48925, 48950, 48935, 48955, 48955, 48950, 49010, 48990, 48965, 48970, 48930, 48825, 48820, 48825, 48815, 48810, 48830, 48825, 48810, 48800, 48795, 48550, 48555, 48595, 48600, 48610, 48625, 48675, 48575, 48550, 48520, 48350, 48360, 48365, 48360, 48355, 48350, 48365, 48335, 48340, 48340, 47590, 47595, 47595, 47610, 47615, 47580, 47595, 47635, 47620, 47615, 47595, 47580, 47585, 47575, 47590, 47580, 47570, 47575, 47590, 47580, 47715, 47715, 47700, 47680, 47675, 47680, 47700, 47730, 47730, 47720, 48580, 48575, 48555, 48590, 48580, 48565, 48565, 48560, 48560, 48540, 47160, 47150, 47120, 47145, 47180, 47195, 47175, 47160, 47120, 47175, 46890, 46865, 46865, 46865, 46840, 46850, 46840, 46855, 46840, 46840, 46715, 46745, 46740, 46775, 46720, 46710, 46700, 46700, 46710, 46705, 44125, 44155, 44140, 44105, 44090, 44065, 44100, 44060, 44085, 44130, 45725, 45700, 45715, 45715, 45715, 45720, 45740, 45700, 45685, 45715, 45425, 45380, 45405, 45485, 45385, 45390, 45410, 45450, 45490, 45465, 46805, 46785, 46800, 46800, 46800, 47860, 47860, 47865, 47805, 47800, 47835, 47775, 47820, 47840, 47895, 48380, 48435, 48495, 48480, 48515, 48520, 48450, 48440, 48455, 48450, 48180, 48190, 48255, 48230, 48265, 48240, 48245, 48195, 48210, 48145, 47615, 47630, 47580, 47575, 47570, 47520, 47505, 47525, 47535, 47570, 47015, 47040, 46965, 46985, 47020, 47100, 47155, 47130, 47095, 47055, 46990, 47010, 46985, 47000, 46985, 47000, 47045, 47045, 47030, 47015, 46925, 46940, 46890, 46915, 46905, 46865, 46850, 46885, 46940, 46985, 45990, 45950, 45965, 46000, 45930, 45970, 45980, 45985, 46015, 45975, 46805, 46820, 46865, 46845, 46790, 46740, 46730, 46750, 46790, 46790, 47460, 47435, 47410, 47425, 47405, 47410, 47405, 47445, 47480, 47480, 48000, 47965, 47990, 48000, 47985, 48020, 48040, 47990, 47970, 48015, 47830, 47850, 47840, 47835, 47820, 47815, 47805, 47860, 47830, 47875, 47225, 47165, 47140, 47165, 47170, 47220, 47315, 47255, 47200, 47220, 47410, 47400, 47445, 47360, 47425, 47515, 47505, 47520, 47455, 47430, 47750, 47740, 47710, 47695, 47660, 47645, 47655, 47665, 47660, 47715, 46810, 46865, 46850, 46805, 46820, 46805, 46795, 46820, 46805, 46835, 47305, 47285, 47300, 47305, 47300, 47290, 47330, 47310, 47295, 47320, 48005, 48005, 48050, 48075, 48070, 48045, 48025, 48035, 47990, 48025, 45980, 46030, 46035, 46000, 46015, 46100, 46095, 46065, 46100, 46060, 47020, 46960, 46960, 46980, 46930, 46955, 46990, 46950, 46940, 46980, 46675, 46650, 46700, 46685, 46680, 46635, 46635, 46645, 46640, 46690, 46715, 46710, 46740, 46735, 46745, 46715, 46700, 46685, 46685, 46655, 46715, 46715, 46735, 46710, 46715, 46745, 46725, 46700, 46700, 46710, 46790, 46775, 46795, 46810, 46805, 46825, 46805, 46820, 46805, 46780, 46910, 46875, 46890, 46895, 46935, 46915, 46910, 46905, 46905, 46905, 47005, 46965, 46960, 46950, 46960, 46965, 46955, 46980, 46975, 47000, 47720, 47745, 47805, 47810, 47800, 47790, 47735, 47715, 47700, 47735, 47205, 47135, 47175, 47245, 47245, 47295, 47305, 47295, 47315, 47280, 48875, 48875, 48865, 48890, 48900, 48885, 48880, 48855, 48860, 48870, 47765, 47750, 47750, 47750, 47745, 47730, 47770, 47815, 47765, 47745, 45705, 45730, 45715, 45755, 45750, 45755, 45755, 45765, 45720, 45680, 45650, 45645, 45615, 45625, 45665, 45670, 45680, 45685, 45675, 45700, 45260, 45270, 45275, 45255, 45350, 45365, 45380, 45365, 45385, 45385, 45390, 45370, 45385, 45390, 45420, 44115, 44150, 44125, 44140, 44155, 44145, 44130, 44120, 44095, 44105, 44390, 44350, 44375, 44395, 44370, 44355, 44410, 44400, 44385, 44400, 44155, 44160, 44210, 44235, 44210, 44240, 44230, 44255, 44265, 44245, 44190, 44210, 44190, 44195, 44200, 44280, 44265, 44270, 44270, 44225, 44375, 44375, 44375, 44370, 44375, 44365, 44375, 44370, 44370, 44365, 45145, 45135, 45145, 45120, 45160, 45150, 45180, 45160, 45180, 45190, 45615, 45580, 45535, 45495, 45520, 45505, 45545, 45535, 45530, 45550, 45540, 45550, 45560, 45580, 45565, 45545, 45540, 45570, 45545, 45520, 45110, 45065, 45200, 45185, 45190, 45190, 45180, 45205, 45185, 45180, 45285, 45325, 45390, 45320, 45370, 45345, 45255, 45145, 45205, 45225, 47795, 47820, 47805, 47795, 47750, 47730, 47740, 47765, 47780, 47775, 48970, 48930, 48940, 48930, 49040, 49060, 49045, 49040, 49065, 49020, 48890, 48885, 48840, 48910, 48915, 48900, 48870, 48870, 48850, 48835, 48885, 48870, 48860, 48850, 48815, 48805, 48880, 48895, 48900, 48885, 49130, 49100, 49095, 49070, 49055, 49190, 49200, 49225, 49235, 49255, 49250, 49265, 49225, 49225, 49220, 48520, 48515, 48490, 48520, 48515, 48515, 48520, 48520, 48525, 48530, 47380, 47390, 47370, 47375, 47380, 47380, 47380, 47375, 47375, 47380, 48270, 48235, 48260, 48220, 48190, 48155, 48155, 48165, 48170, 48245, 47445, 47445, 47435, 47430, 47435, 47950, 47955, 47945, 47930, 47870, 47995, 48085, 48125, 48115, 48135, 48115, 48100, 48130, 48125, 48090, 48060, 48065, 48055, 48035, 48100, 47780, 47790, 47805, 47775, 47785, 47750, 47745, 47780, 47790, 47790, 47635, 47635, 47625, 47610, 47585, 47595, 47610, 47615, 47655, 47645, 47890, 47885, 47870, 47885, 47865, 47820, 47825, 47840, 47875, 47895, 48395, 48390, 48390, 48420, 48420, 48425, 48400, 48405, 48405, 48410, 49385, 49395, 49380, 49345, 49375, 49350, 49340, 49335, 49360, 49400, 49330, 49345, 49365, 49365, 49360, 49345, 49360, 49305, 49295, 49270, 49155, 49140, 49130, 49130, 49145, 49200, 49130, 49145, 49150, 49130, 48480, 48440, 48475, 48475, 48470, 48475, 48475, 48515, 48480, 48460, 47960, 47880, 47925, 47895, 47945, 47880, 47890, 47895, 47940, 47945, 47825, 47815, 47815, 47805, 47815, 47785, 47820, 47835, 47840, 47840, 47905, 47890, 47900, 47880, 47875, 47885, 47840, 47860, 47905, 47920, 47545, 47550, 47585, 47610, 47595, 47590, 47565, 47545, 47545, 47555, 47490, 47525, 47505, 47515, 47505, 47510, 47505, 47520, 47500, 47515, 47640, 47615, 47605, 47610, 47610, 47610, 47615, 47605, 47610, 47605, 47450, 47405, 47390, 47365, 47405, 47400, 47405, 47430, 47460, 47455, 47560, 47555, 47585, 47560, 47555, 47550, 47555, 47555, 47550, 47555, 47880, 47850, 47820, 47830, 47845, 47830, 47830, 47835, 47845, 47880, 46520, 46535, 46510, 46520, 46520, 46530, 46515, 46540, 46530, 46510, 46260, 46270, 46275, 46305, 46290, 46310, 46300, 46295, 46310, 46275, 48050, 48025, 48025, 48050, 48045, 48055, 48055, 48070, 48035, 48060, 48265, 48250, 48255, 48285, 48305, 48290, 48250, 48290, 48245, 48235, 47845, 47910, 47980, 48005, 47985, 47925, 47870, 47895, 47935, 47930, 47330, 47325, 47330, 47300, 47355, 47330, 47325, 47310, 47325, 47335, 47360, 47355, 47340, 47345, 47365, 47365, 47385, 47375, 47365, 47360, 46235, 46250, 46255, 46255, 46275, 46295, 46280, 46295, 46285, 46305, 46305, 46315, 46300, 46310, 46330, 46320, 46330, 46320, 46315, 46300, 47550, 47525, 47495, 47500, 47495, 47515, 47520, 47535, 47525, 47525, 47410, 47415, 47405, 47390, 47350, 47345, 47360, 47380, 47385, 47390, 47160, 47190, 47235, 47220, 47170, 47195, 47185, 47205, 47190, 47170, 46805, 46800, 46810, 46860, 46845, 46800, 46795, 46780, 46780, 46795, 46940, 46945, 46930, 46925, 46965, 46970, 46955, 46935, 46935, 46920, 46865, 46875, 46850, 46840, 46995, 46900, 46845, 46850, 46840, 46850, 46850, 46870, 46855, 46870, 46885, 47540, 47560, 47620, 47605, 47605, 47580, 47575, 47560, 47550, 47555, 48125, 48135, 48155, 48170, 48150, 48145, 48115, 48140, 48155, 48150, 48365, 48355, 48350, 48350, 48345, 48355, 48350, 48335, 48360, 48375, 48270, 48265, 48245, 48265, 48235, 48245, 48255, 48265, 48225, 48245, 48205, 48230, 48240, 48240, 48250, 48250, 48245, 48235, 48225, 48240, 47530, 47530, 47545, 47515, 47535, 47515, 47510, 47465, 47500, 47520, 47365, 47470, 47425, 47420, 47435, 47410, 47430, 47400, 47450, 47395, 47610, 47585, 47620, 47595, 47560, 47545, 47565, 47545, 47585, 47575, 47210, 47215, 47205, 47215, 47210, 47215, 47215, 47200, 47205, 47200, 46990, 46990, 46975, 46980, 46990, 46960, 46970, 46975, 47000, 47010, 45765, 45825, 45765, 45745, 45755, 45730, 45695, 45650, 45680, 45705, 45250, 45245, 45265, 45295, 45275, 45265, 45280, 45280, 45290, 45280, 45235, 45210, 45255, 45245, 45255, 45245, 45220, 45190, 45195, 45215, 45195, 45225, 45245, 45230, 45165, 45215, 45205, 45235, 45235, 45210, 45000, 44990, 45005, 45005, 44995, 44995, 44995, 45010, 45020, 44990, 44865, 44875, 44850, 44845, 44925, 46190, 46165, 46190, 46205, 46190, 46185, 46190, 46180, 46170, 46180, 45365, 45395, 45400, 45390, 45375, 45380, 45415, 45425, 45410, 45390, 45415, 45405, 45410, 45390, 45410, 45375, 45410, 45400, 45400, 45395, 45565, 45545, 45535, 45520, 45505, 45570, 45600, 45570, 45555, 45545, 46350, 46335, 46310, 46285, 46275, 46285, 46290, 46340, 46310, 46345, 46280, 46275, 46295, 46300, 46390, 46150, 46140, 46135, 46120, 46125, 46120, 46095, 46105, 46130, 46135, 46220, 46235, 46230, 46220, 46220, 46265, 46225, 46200, 46245, 46280, 45765, 45770, 45775, 45750, 45790, 45285, 45255, 45230, 45205, 45170, 45220, 45200, 45225, 45270, 45280, 45325, 45305, 45290, 45305, 45315, 45320, 45320, 45345, 45335, 45345, 45300, 45295, 45305, 45295, 45350, 45035, 45030, 45040, 45030, 45020, 45040, 45045, 45020, 45025, 45025, 45540, 45550, 45610, 45715, 45695, 45780, 45780, 45790, 45705, 45730, 44945, 44930, 44945, 44935, 44950, 44935, 44940, 44920, 44915, 44940, 45145, 45160, 45105, 45090, 45150, 45120, 45135, 45130, 45135, 45095, 45080, 45110, 45140, 45150, 45110, 45135, 45125, 45120, 45110, 45090, 45100, 45070, 45075, 45105, 45100, 45115, 45110, 45125, 45110, 45110, 44105, 44140, 44140, 44135, 44155, 44170, 44135, 44145, 44150, 44130, 43870, 43875, 43875, 43910, 43915, 43895, 43890, 43910, 43920, 43900, 44615, 44710, 44710, 44705, 44680, 44665, 44660, 44635, 44640, 44625, 44440, 44430, 44430, 44410, 44420, 44435, 44445, 44430, 44440, 44435, 44415, 44415, 44430, 44430, 44425, 44435, 44425, 44430, 44425, 44435, 44405, 44440, 44435, 44410, 44430, 44430, 44430, 44425, 44430, 44410, 44485, 44515, 44505, 44520, 44535, 44535, 44500, 44495, 44485, 44495, 44330, 44350, 44365, 44360, 44330, 44330, 44335, 44335, 44335, 44350, 44375, 44365, 44375, 44395, 44395, 44410, 44360, 44365, 44355, 44350, 44355, 44365, 44360, 44345, 44360, 44375, 44380, 44385, 44385, 44380, 43880, 43870, 43880, 43875, 43870, 43870, 43880, 43875, 43880, 43880, 43895, 43910, 43905, 43890, 43895, 43890, 43885, 43895, 43900, 43905, 43895, 43905, 43900, 43920, 43925, 43910, 43905, 43930, 43910, 43905], \"yaxis\": \"y\"}],                        {\"legend\": {\"tracegroupgap\": 0}, \"margin\": {\"t\": 60}, \"template\": {\"data\": {\"bar\": [{\"error_x\": {\"color\": \"#2a3f5f\"}, \"error_y\": {\"color\": \"#2a3f5f\"}, \"marker\": {\"line\": {\"color\": \"#E5ECF6\", \"width\": 0.5}}, \"type\": \"bar\"}], \"barpolar\": [{\"marker\": {\"line\": {\"color\": \"#E5ECF6\", \"width\": 0.5}}, \"type\": \"barpolar\"}], \"carpet\": [{\"aaxis\": {\"endlinecolor\": \"#2a3f5f\", \"gridcolor\": \"white\", \"linecolor\": \"white\", \"minorgridcolor\": \"white\", \"startlinecolor\": \"#2a3f5f\"}, \"baxis\": {\"endlinecolor\": \"#2a3f5f\", \"gridcolor\": \"white\", \"linecolor\": \"white\", \"minorgridcolor\": \"white\", \"startlinecolor\": \"#2a3f5f\"}, \"type\": \"carpet\"}], \"choropleth\": [{\"colorbar\": {\"outlinewidth\": 0, \"ticks\": \"\"}, \"type\": \"choropleth\"}], \"contour\": [{\"colorbar\": {\"outlinewidth\": 0, \"ticks\": \"\"}, \"colorscale\": [[0.0, \"#0d0887\"], [0.1111111111111111, \"#46039f\"], [0.2222222222222222, \"#7201a8\"], [0.3333333333333333, \"#9c179e\"], [0.4444444444444444, \"#bd3786\"], [0.5555555555555556, \"#d8576b\"], [0.6666666666666666, \"#ed7953\"], [0.7777777777777778, \"#fb9f3a\"], [0.8888888888888888, \"#fdca26\"], [1.0, \"#f0f921\"]], \"type\": \"contour\"}], \"contourcarpet\": [{\"colorbar\": {\"outlinewidth\": 0, \"ticks\": \"\"}, \"type\": \"contourcarpet\"}], \"heatmap\": [{\"colorbar\": {\"outlinewidth\": 0, \"ticks\": \"\"}, \"colorscale\": [[0.0, \"#0d0887\"], [0.1111111111111111, \"#46039f\"], [0.2222222222222222, \"#7201a8\"], [0.3333333333333333, \"#9c179e\"], [0.4444444444444444, \"#bd3786\"], [0.5555555555555556, \"#d8576b\"], [0.6666666666666666, \"#ed7953\"], [0.7777777777777778, \"#fb9f3a\"], [0.8888888888888888, \"#fdca26\"], [1.0, \"#f0f921\"]], \"type\": \"heatmap\"}], \"heatmapgl\": [{\"colorbar\": {\"outlinewidth\": 0, \"ticks\": \"\"}, \"colorscale\": [[0.0, \"#0d0887\"], [0.1111111111111111, \"#46039f\"], [0.2222222222222222, \"#7201a8\"], [0.3333333333333333, \"#9c179e\"], [0.4444444444444444, \"#bd3786\"], [0.5555555555555556, \"#d8576b\"], [0.6666666666666666, \"#ed7953\"], [0.7777777777777778, \"#fb9f3a\"], [0.8888888888888888, \"#fdca26\"], [1.0, \"#f0f921\"]], \"type\": \"heatmapgl\"}], \"histogram\": [{\"marker\": {\"colorbar\": {\"outlinewidth\": 0, \"ticks\": \"\"}}, \"type\": \"histogram\"}], \"histogram2d\": [{\"colorbar\": {\"outlinewidth\": 0, \"ticks\": \"\"}, \"colorscale\": [[0.0, \"#0d0887\"], [0.1111111111111111, \"#46039f\"], [0.2222222222222222, \"#7201a8\"], [0.3333333333333333, \"#9c179e\"], [0.4444444444444444, \"#bd3786\"], [0.5555555555555556, \"#d8576b\"], [0.6666666666666666, \"#ed7953\"], [0.7777777777777778, \"#fb9f3a\"], [0.8888888888888888, \"#fdca26\"], [1.0, \"#f0f921\"]], \"type\": \"histogram2d\"}], \"histogram2dcontour\": [{\"colorbar\": {\"outlinewidth\": 0, \"ticks\": \"\"}, \"colorscale\": [[0.0, \"#0d0887\"], [0.1111111111111111, \"#46039f\"], [0.2222222222222222, \"#7201a8\"], [0.3333333333333333, \"#9c179e\"], [0.4444444444444444, \"#bd3786\"], [0.5555555555555556, \"#d8576b\"], [0.6666666666666666, \"#ed7953\"], [0.7777777777777778, \"#fb9f3a\"], [0.8888888888888888, \"#fdca26\"], [1.0, \"#f0f921\"]], \"type\": \"histogram2dcontour\"}], \"mesh3d\": [{\"colorbar\": {\"outlinewidth\": 0, \"ticks\": \"\"}, \"type\": \"mesh3d\"}], \"parcoords\": [{\"line\": {\"colorbar\": {\"outlinewidth\": 0, \"ticks\": \"\"}}, \"type\": \"parcoords\"}], \"pie\": [{\"automargin\": true, \"type\": \"pie\"}], \"scatter\": [{\"marker\": {\"colorbar\": {\"outlinewidth\": 0, \"ticks\": \"\"}}, \"type\": \"scatter\"}], \"scatter3d\": [{\"line\": {\"colorbar\": {\"outlinewidth\": 0, \"ticks\": \"\"}}, \"marker\": {\"colorbar\": {\"outlinewidth\": 0, \"ticks\": \"\"}}, \"type\": \"scatter3d\"}], \"scattercarpet\": [{\"marker\": {\"colorbar\": {\"outlinewidth\": 0, \"ticks\": \"\"}}, \"type\": \"scattercarpet\"}], \"scattergeo\": [{\"marker\": {\"colorbar\": {\"outlinewidth\": 0, \"ticks\": \"\"}}, \"type\": \"scattergeo\"}], \"scattergl\": [{\"marker\": {\"colorbar\": {\"outlinewidth\": 0, \"ticks\": \"\"}}, \"type\": \"scattergl\"}], \"scattermapbox\": [{\"marker\": {\"colorbar\": {\"outlinewidth\": 0, \"ticks\": \"\"}}, \"type\": \"scattermapbox\"}], \"scatterpolar\": [{\"marker\": {\"colorbar\": {\"outlinewidth\": 0, \"ticks\": \"\"}}, \"type\": \"scatterpolar\"}], \"scatterpolargl\": [{\"marker\": {\"colorbar\": {\"outlinewidth\": 0, \"ticks\": \"\"}}, \"type\": \"scatterpolargl\"}], \"scatterternary\": [{\"marker\": {\"colorbar\": {\"outlinewidth\": 0, \"ticks\": \"\"}}, \"type\": \"scatterternary\"}], \"surface\": [{\"colorbar\": {\"outlinewidth\": 0, \"ticks\": \"\"}, \"colorscale\": [[0.0, \"#0d0887\"], [0.1111111111111111, \"#46039f\"], [0.2222222222222222, \"#7201a8\"], [0.3333333333333333, \"#9c179e\"], [0.4444444444444444, \"#bd3786\"], [0.5555555555555556, \"#d8576b\"], [0.6666666666666666, \"#ed7953\"], [0.7777777777777778, \"#fb9f3a\"], [0.8888888888888888, \"#fdca26\"], [1.0, \"#f0f921\"]], \"type\": \"surface\"}], \"table\": [{\"cells\": {\"fill\": {\"color\": \"#EBF0F8\"}, \"line\": {\"color\": \"white\"}}, \"header\": {\"fill\": {\"color\": \"#C8D4E3\"}, \"line\": {\"color\": \"white\"}}, \"type\": \"table\"}]}, \"layout\": {\"annotationdefaults\": {\"arrowcolor\": \"#2a3f5f\", \"arrowhead\": 0, \"arrowwidth\": 1}, \"autotypenumbers\": \"strict\", \"coloraxis\": {\"colorbar\": {\"outlinewidth\": 0, \"ticks\": \"\"}}, \"colorscale\": {\"diverging\": [[0, \"#8e0152\"], [0.1, \"#c51b7d\"], [0.2, \"#de77ae\"], [0.3, \"#f1b6da\"], [0.4, \"#fde0ef\"], [0.5, \"#f7f7f7\"], [0.6, \"#e6f5d0\"], [0.7, \"#b8e186\"], [0.8, \"#7fbc41\"], [0.9, \"#4d9221\"], [1, \"#276419\"]], \"sequential\": [[0.0, \"#0d0887\"], [0.1111111111111111, \"#46039f\"], [0.2222222222222222, \"#7201a8\"], [0.3333333333333333, \"#9c179e\"], [0.4444444444444444, \"#bd3786\"], [0.5555555555555556, \"#d8576b\"], [0.6666666666666666, \"#ed7953\"], [0.7777777777777778, \"#fb9f3a\"], [0.8888888888888888, \"#fdca26\"], [1.0, \"#f0f921\"]], \"sequentialminus\": [[0.0, \"#0d0887\"], [0.1111111111111111, \"#46039f\"], [0.2222222222222222, \"#7201a8\"], [0.3333333333333333, \"#9c179e\"], [0.4444444444444444, \"#bd3786\"], [0.5555555555555556, \"#d8576b\"], [0.6666666666666666, \"#ed7953\"], [0.7777777777777778, \"#fb9f3a\"], [0.8888888888888888, \"#fdca26\"], [1.0, \"#f0f921\"]]}, \"colorway\": [\"#636efa\", \"#EF553B\", \"#00cc96\", \"#ab63fa\", \"#FFA15A\", \"#19d3f3\", \"#FF6692\", \"#B6E880\", \"#FF97FF\", \"#FECB52\"], \"font\": {\"color\": \"#2a3f5f\"}, \"geo\": {\"bgcolor\": \"white\", \"lakecolor\": \"white\", \"landcolor\": \"#E5ECF6\", \"showlakes\": true, \"showland\": true, \"subunitcolor\": \"white\"}, \"hoverlabel\": {\"align\": \"left\"}, \"hovermode\": \"closest\", \"mapbox\": {\"style\": \"light\"}, \"paper_bgcolor\": \"white\", \"plot_bgcolor\": \"#E5ECF6\", \"polar\": {\"angularaxis\": {\"gridcolor\": \"white\", \"linecolor\": \"white\", \"ticks\": \"\"}, \"bgcolor\": \"#E5ECF6\", \"radialaxis\": {\"gridcolor\": \"white\", \"linecolor\": \"white\", \"ticks\": \"\"}}, \"scene\": {\"xaxis\": {\"backgroundcolor\": \"#E5ECF6\", \"gridcolor\": \"white\", \"gridwidth\": 2, \"linecolor\": \"white\", \"showbackground\": true, \"ticks\": \"\", \"zerolinecolor\": \"white\"}, \"yaxis\": {\"backgroundcolor\": \"#E5ECF6\", \"gridcolor\": \"white\", \"gridwidth\": 2, \"linecolor\": \"white\", \"showbackground\": true, \"ticks\": \"\", \"zerolinecolor\": \"white\"}, \"zaxis\": {\"backgroundcolor\": \"#E5ECF6\", \"gridcolor\": \"white\", \"gridwidth\": 2, \"linecolor\": \"white\", \"showbackground\": true, \"ticks\": \"\", \"zerolinecolor\": \"white\"}}, \"shapedefaults\": {\"line\": {\"color\": \"#2a3f5f\"}}, \"ternary\": {\"aaxis\": {\"gridcolor\": \"white\", \"linecolor\": \"white\", \"ticks\": \"\"}, \"baxis\": {\"gridcolor\": \"white\", \"linecolor\": \"white\", \"ticks\": \"\"}, \"bgcolor\": \"#E5ECF6\", \"caxis\": {\"gridcolor\": \"white\", \"linecolor\": \"white\", \"ticks\": \"\"}}, \"title\": {\"x\": 0.05}, \"xaxis\": {\"automargin\": true, \"gridcolor\": \"white\", \"linecolor\": \"white\", \"ticks\": \"\", \"title\": {\"standoff\": 15}, \"zerolinecolor\": \"white\", \"zerolinewidth\": 2}, \"yaxis\": {\"automargin\": true, \"gridcolor\": \"white\", \"linecolor\": \"white\", \"ticks\": \"\", \"title\": {\"standoff\": 15}, \"zerolinecolor\": \"white\", \"zerolinewidth\": 2}}}, \"xaxis\": {\"anchor\": \"y\", \"domain\": [0.0, 1.0], \"title\": {\"text\": \"id\"}}, \"yaxis\": {\"anchor\": \"x\", \"domain\": [0.0, 1.0], \"title\": {\"text\": \"value\"}}},                        {\"responsive\": true}                    ).then(function(){\n                            \nvar gd = document.getElementById('d7058f3b-0d29-4862-aa47-2b11ccd1a6dc');\nvar x = new MutationObserver(function (mutations, observer) {{\n        var display = window.getComputedStyle(gd).display;\n        if (!display || display === 'none') {{\n            console.log([gd, 'removed!']);\n            Plotly.purge(gd);\n            observer.disconnect();\n        }}\n}});\n\n// Listen for the removal of the full notebook cells\nvar notebookContainer = gd.closest('#notebook-container');\nif (notebookContainer) {{\n    x.observe(notebookContainer, {childList: true});\n}}\n\n// Listen for the clearing of the current output cell\nvar outputEl = gd.closest('.output');\nif (outputEl) {{\n    x.observe(outputEl, {childList: true});\n}}\n\n                        })                };                });            </script>        </div>"
     },
     "metadata": {},
     "output_type": "display_data"
    }
   ],
   "source": [
    "import plotly.express as px\n",
    "\n",
    "df = df1.query(\"candle == 0\").loc[:,:]\n",
    "df = pandas.melt(df, id_vars=['id'], value_vars='close')\n",
    "\n",
    "fig = px.line(df, x=\"id\", y=\"value\")\n",
    "fig.show()"
   ],
   "metadata": {
    "collapsed": false,
    "pycharm": {
     "name": "#%%\n"
    }
   }
  },
  {
   "cell_type": "markdown",
   "source": [
    "For each time frame combination (ex 1min and 5 min) can have multiple datasets combination\n",
    "\n",
    "for a given dataset combination (ex 1min and 5 min) we should be able to filter the dates on each dataframe and compare\n",
    "the highs and lows\n"
   ],
   "metadata": {
    "collapsed": false,
    "pycharm": {
     "name": "#%% md\n"
    }
   }
  },
  {
   "cell_type": "markdown",
   "source": [
    "# fazer um estudo dos horarios de maior volatilidade\n",
    "# fazer um estudo dos horarios com maiores altas e quedas"
   ],
   "metadata": {
    "collapsed": false,
    "pycharm": {
     "name": "#%% md\n"
    }
   }
  }
 ],
 "metadata": {
  "kernelspec": {
   "display_name": "Python 3",
   "language": "python",
   "name": "python3"
  },
  "language_info": {
   "codemirror_mode": {
    "name": "ipython",
    "version": 2
   },
   "file_extension": ".py",
   "mimetype": "text/x-python",
   "name": "python",
   "nbconvert_exporter": "python",
   "pygments_lexer": "ipython2",
   "version": "2.7.6"
  }
 },
 "nbformat": 4,
 "nbformat_minor": 0
}