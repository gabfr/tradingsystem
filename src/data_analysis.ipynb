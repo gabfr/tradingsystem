{
 "cells": [
  {
   "cell_type": "markdown",
   "source": [
    "# Analise Exploratória de Dados\n",
    "\n"
   ],
   "metadata": {
    "collapsed": false
   }
  },
  {
   "cell_type": "markdown",
   "source": [
    "## Leitura de dados\n",
    "\n",
    "- function: list_data_files"
   ],
   "metadata": {
    "collapsed": false
   }
  },
  {
   "cell_type": "code",
   "execution_count": 1,
   "outputs": [
    {
     "name": "stdout",
     "output_type": "stream",
     "text": [
      "D:\\Google Drive\\education\\engenharia UFMG\\UFMG MESTRADO PAULO C\\CÓDIGOS\\tradingsystem\n"
     ]
    }
   ],
   "source": [
    "import os\n",
    "import glob\n",
    "import pandas\n",
    "\n",
    "# confirmar local de execução do código\n",
    "os.chdir('..')\n",
    "print(os.getcwd())"
   ],
   "metadata": {
    "collapsed": false,
    "pycharm": {
     "name": "#%%\n"
    }
   }
  },
  {
   "cell_type": "code",
   "execution_count": 2,
   "metadata": {
    "collapsed": true,
    "pycharm": {
     "name": "#%%\n"
    }
   },
   "outputs": [],
   "source": [
    "def list_data_files():\n",
    "    dict_files = {}\n",
    "    files = glob.glob(\"./data/*.csv\")\n",
    "    for file in files:\n",
    "        freq = file.split(\".\")[1].split(\"_\")[1]\n",
    "        if freq in list(dict_files.keys()):\n",
    "            dict_files[freq].append(file)\n",
    "        else:\n",
    "            dict_files[freq] = [file]\n",
    "    return dict_files"
   ]
  },
  {
   "cell_type": "code",
   "execution_count": 3,
   "outputs": [],
   "source": [
    "files = list_data_files()"
   ],
   "metadata": {
    "collapsed": false,
    "pycharm": {
     "name": "#%%\n"
    }
   }
  },
  {
   "cell_type": "markdown",
   "source": [
    "## Hipótese da ordem de execução no *Candle*\n",
    "\n",
    "- se tem 3 series de 1M\n",
    "\n",
    "Comparar com:\n",
    "- Series de 1M com serie de 10M\n",
    "- Series de 1M com serie de 15M\n",
    "- Series de 1M com serie de 30M\n",
    "\n",
    "Filter overlapping series:\n",
    "- function:"
   ],
   "metadata": {
    "collapsed": false,
    "pycharm": {
     "name": "#%% md\n"
    }
   }
  },
  {
   "cell_type": "code",
   "execution_count": null,
   "outputs": [],
   "source": [
    "def filter_overlapping_dfs(df1, df2):\n",
    "    dates_df1 = df1[\"date\"].drop_duplicates()\n",
    "    dates_df2 = df2[\"date\"].drop_duplicates()\n",
    "    "
   ],
   "metadata": {
    "collapsed": false,
    "pycharm": {
     "name": "#%%\n"
    }
   }
  },
  {
   "cell_type": "code",
   "execution_count": 4,
   "outputs": [
    {
     "data": {
      "text/plain": "['./data\\\\WIN$N_1M_2015.08.12_2015.12.30_.csv',\n './data\\\\WIN$N_1M_2016.08.02_2016.11.18_.csv',\n './data\\\\WIN$N_1M_2019.11.21_2021.01.20_.csv']"
     },
     "execution_count": 4,
     "metadata": {},
     "output_type": "execute_result"
    }
   ],
   "source": [
    "#series de 1M\n",
    "files[\"1M\"]\n"
   ],
   "metadata": {
    "collapsed": false,
    "pycharm": {
     "name": "#%%\n"
    }
   }
  },
  {
   "cell_type": "code",
   "execution_count": 5,
   "outputs": [
    {
     "data": {
      "text/plain": "['./data\\\\WIN$N_10M_2013.11.08_2021.01.22_.csv']"
     },
     "execution_count": 5,
     "metadata": {},
     "output_type": "execute_result"
    }
   ],
   "source": [
    "#series de 10M\n",
    "files[\"10M\"]\n"
   ],
   "metadata": {
    "collapsed": false,
    "pycharm": {
     "name": "#%%\n"
    }
   }
  },
  {
   "cell_type": "code",
   "execution_count": 7,
   "outputs": [
    {
     "data": {
      "text/plain": "0        2015.08.12\n535      2015.08.13\n1070     2015.08.14\n1605     2015.08.17\n2140     2015.08.18\n            ...    \n48161    2015.12.22\n48711    2015.12.23\n49261    2015.12.28\n49811    2015.12.29\n50361    2015.12.30\nName: date, Length: 95, dtype: object"
     },
     "execution_count": 7,
     "metadata": {},
     "output_type": "execute_result"
    }
   ],
   "source": [
    "df1 = pandas.read_csv(files[\"1M\"][0])\n",
    "df1[\"date\"].drop_duplicates()"
   ],
   "metadata": {
    "collapsed": false,
    "pycharm": {
     "name": "#%%\n"
    }
   }
  }
 ],
 "metadata": {
  "kernelspec": {
   "display_name": "Python 3",
   "language": "python",
   "name": "python3"
  },
  "language_info": {
   "codemirror_mode": {
    "name": "ipython",
    "version": 2
   },
   "file_extension": ".py",
   "mimetype": "text/x-python",
   "name": "python",
   "nbconvert_exporter": "python",
   "pygments_lexer": "ipython2",
   "version": "2.7.6"
  }
 },
 "nbformat": 4,
 "nbformat_minor": 0
}